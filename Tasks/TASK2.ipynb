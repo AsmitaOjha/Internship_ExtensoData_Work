{
 "cells": [
  {
   "cell_type": "markdown",
   "metadata": {
    "id": "6gKmK9glD4FS"
   },
   "source": [
    "## TASK 2\n",
    "\n",
    " \"I want to design a **Core Banking System** that facilitates seamless transactions while also ensuring that analytical data is preserved for reporting and insights. The system should be designed with a robust database structure using **MySQL** and implemented in **Python**.\n",
    "\n",
    "The system should include:\n",
    "\n",
    "1. **Transactional Capabilities:**\n",
    "   - Handling deposits, withdrawals, transfers, and payments.\n",
    "   - Maintaining account balances and ensuring data consistency.\n",
    "   - Implementing security and authorization mechanisms(as simple as you can).\n",
    "2. **Analytical Data Storage:**\n",
    "   - Storing historical transaction data for trend analysis.\n",
    "   - Capturing customer behavior for insights and reporting.\n",
    "   - Designing optimized tables for efficient querying.\n",
    "3. **System Design Requirements:**\n",
    "   - **Entity-Relationship Diagram (ERD)** to represent the database structure.\n",
    "   - **Data Flow Diagram (DFD)** to show the flow of transactions and data processing.\n",
    "   - **Prototype Implementation** using **MySQL database** and **Python** for backend processing.\n",
    "\n",
    "Deliverables should include:\n",
    "\n",
    "- ERD and DFD representations.\n",
    "- SQL database schema for MySQL.\n",
    "- Python implementation with basic workflow for transactions.\n",
    "- A sample dashboard or reporting module for analytics."
   ]
  },
  {
   "cell_type": "markdown",
   "metadata": {
    "id": "6EDvkdgZFLsV"
   },
   "source": [
    "You are allowed to Assume as per your knowledge and your research for the things that are necessary"
   ]
  },
  {
   "cell_type": "markdown",
   "metadata": {
    "id": "cCunac-4FWIe"
   },
   "source": [
    "please attach your drive link on the day of your completion on th excel sheet that is provided\n"
   ]
  },
  {
   "cell_type": "markdown",
   "metadata": {
    "id": "KGe6djurIJEc"
   },
   "source": [
    "We Assume while doing the above you will have\n",
    "- Basic understanding of money flow in financing domain.\n",
    "- Data Toolkit - Getting started with Files, Finance Management System with Files, Finance Management System with Database, Mastering Numpy Arrays, Getting Started with OS , Jupyter Notebook Setup, OS with Python, DataBase , System Design etc.\n",
    "- Libraries - Numpy, Pandas, Matplotlib, Streamlit, SqlAlchemy, pymysql etc."
   ]
  },
  {
   "cell_type": "code",
   "execution_count": null,
   "metadata": {
    "id": "qjbjWInXFTqK"
   },
   "outputs": [],
   "source": []
  }
 ],
 "metadata": {
  "colab": {
   "provenance": []
  },
  "kernelspec": {
   "display_name": "Python 3 (ipykernel)",
   "language": "python",
   "name": "python3"
  },
  "language_info": {
   "codemirror_mode": {
    "name": "ipython",
    "version": 3
   },
   "file_extension": ".py",
   "mimetype": "text/x-python",
   "name": "python",
   "nbconvert_exporter": "python",
   "pygments_lexer": "ipython3",
   "version": "3.12.6"
  }
 },
 "nbformat": 4,
 "nbformat_minor": 4
}
