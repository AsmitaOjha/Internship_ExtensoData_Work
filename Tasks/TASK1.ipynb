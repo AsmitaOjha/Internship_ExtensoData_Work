{
 "cells": [
  {
   "cell_type": "markdown",
   "metadata": {},
   "source": [
    "## Task 1:\n",
    "Create a Tic Tac Toe game. You are free to use any IDE you like.\n",
    "Console or Gui, your choice of preference.\n",
    "Best to use OOP Practices but not mandatory.\n",
    "Just use plain Python and it's Standard Libraries only\n",
    "\n",
    "Here are the requirements:\n",
    "\n",
    "* 2 players should be able to play the game (both sitting at the same computer)\n",
    "* The board should be printed out every time a player makes a move\n",
    "* You should be able to accept input of the player position and then place a symbol on the board"
   ]
  },
  {
   "cell_type": "markdown",
   "metadata": {},
   "source": [
    "1. create board (3*3)\n",
    "2. take input from user\n",
    "3. define win conditions\n",
    "4. define draw conditions\n",
    "5. main function"
   ]
  },
  {
   "cell_type": "code",
   "execution_count": 1,
   "metadata": {},
   "outputs": [
    {
     "name": "stdout",
     "output_type": "stream",
     "text": [
      "\n",
      "\n",
      "1  |  2  |  3\n",
      "---+-----+----\n",
      "4  |  5  |  6\n",
      "---+-----+----\n",
      "7  |  8  |  9\n",
      "\n",
      "\n"
     ]
    }
   ],
   "source": [
    "#creating board\n",
    "def display_board(board):\n",
    "    print(\"\\n\")\n",
    "    print(f\"{board[0]}  |  {board[1]}  |  {board[2]}\")\n",
    "    print(\"---+-----+----\")\n",
    "    print(f\"{board[3]}  |  {board[4]}  |  {board[5]}\")\n",
    "    print(\"---+-----+----\")\n",
    "    print(f\"{board[6]}  |  {board[7]}  |  {board[8]}\")\n",
    "    print(\"\\n\")\n",
    "\n",
    "board = ['1','2','3','4','5','6','7','8','9']\n",
    "\n",
    "display_board(board)\n",
    "\n",
    "\n"
   ]
  },
  {
   "cell_type": "code",
   "execution_count": 2,
   "metadata": {},
   "outputs": [],
   "source": [
    "\n",
    "def get_input(board, player):\n",
    "    while True:\n",
    "        position = int(input(f\"{player}'s turn to choose a position (1-9): \")) - 1\n",
    "        if position in range(10) and board[position] not in ['X','O']:\n",
    "            board[position] = player\n",
    "        \n",
    "            break\n",
    "        else:\n",
    "            print(\"Invalid position. Please choose a valid position.\")\n",
    "            \n",
    "\n",
    "get_input(board, \"X\")\n",
    "\n"
   ]
  },
  {
   "cell_type": "code",
   "execution_count": 3,
   "metadata": {},
   "outputs": [
    {
     "name": "stdout",
     "output_type": "stream",
     "text": [
      "no winner yet\n"
     ]
    }
   ],
   "source": [
    "def winning_conditions(board, player):\n",
    "    win_conditions = [[0,1,2], [3,4,5], [6,7,8], # row\n",
    "                  [0,3,6],[1,4,7],[2,3,8], #column\n",
    "                  [0,4,8],[2,4,6]] #diagonal\n",
    "    \n",
    "    for conditions in win_conditions:\n",
    "        if board[conditions[0]] == board[conditions[1]] == board[conditions[2]] == player:\n",
    "            return True\n",
    "    return False\n",
    "\n",
    "\n",
    "if winning_conditions(board, 'X'):\n",
    "    print(\"Player X wins !\")\n",
    "elif winning_conditions(board, 'O'):\n",
    "    print(\"Player 0 wins !\")   \n",
    "else:\n",
    "    print(\"no winner yet\")           "
   ]
  },
  {
   "cell_type": "code",
   "execution_count": 4,
   "metadata": {},
   "outputs": [
    {
     "name": "stdout",
     "output_type": "stream",
     "text": [
      "It's a draw\n"
     ]
    }
   ],
   "source": [
    "def check_draw(board):\n",
    "    for row in board:\n",
    "        for cell in row:\n",
    "            if cell == ' ':\n",
    "                return False\n",
    "    return True\n",
    "\n",
    "if check_draw(board):\n",
    "    print(\"It's a draw\")"
   ]
  },
  {
   "cell_type": "code",
   "execution_count": 5,
   "metadata": {},
   "outputs": [
    {
     "name": "stdout",
     "output_type": "stream",
     "text": [
      "\n",
      "\n",
      "   |     |   \n",
      "---+-----+----\n",
      "   |     |   \n",
      "---+-----+----\n",
      "   |     |   \n",
      "\n",
      "\n",
      "\n",
      "\n",
      "X  |     |   \n",
      "---+-----+----\n",
      "   |     |   \n",
      "---+-----+----\n",
      "   |     |   \n",
      "\n",
      "\n",
      "\n",
      "\n",
      "X  |  0  |   \n",
      "---+-----+----\n",
      "   |     |   \n",
      "---+-----+----\n",
      "   |     |   \n",
      "\n",
      "\n",
      "\n",
      "\n",
      "X  |  X  |   \n",
      "---+-----+----\n",
      "   |     |   \n",
      "---+-----+----\n",
      "   |     |   \n",
      "\n",
      "\n"
     ]
    },
    {
     "ename": "ValueError",
     "evalue": "invalid literal for int() with base 10: ''",
     "output_type": "error",
     "traceback": [
      "\u001b[1;31m---------------------------------------------------------------------------\u001b[0m",
      "\u001b[1;31mValueError\u001b[0m                                Traceback (most recent call last)",
      "Cell \u001b[1;32mIn[5], line 19\u001b[0m\n\u001b[0;32m     16\u001b[0m             \u001b[38;5;28;01mbreak\u001b[39;00m\n\u001b[0;32m     17\u001b[0m         player \u001b[38;5;241m=\u001b[39m \u001b[38;5;124m'\u001b[39m\u001b[38;5;124m0\u001b[39m\u001b[38;5;124m'\u001b[39m \u001b[38;5;28;01mif\u001b[39;00m player \u001b[38;5;241m==\u001b[39m \u001b[38;5;124m'\u001b[39m\u001b[38;5;124mX\u001b[39m\u001b[38;5;124m'\u001b[39m \u001b[38;5;28;01melse\u001b[39;00m \u001b[38;5;124m'\u001b[39m\u001b[38;5;124mX\u001b[39m\u001b[38;5;124m'\u001b[39m\n\u001b[1;32m---> 19\u001b[0m \u001b[43mtic_tac_toe\u001b[49m\u001b[43m(\u001b[49m\u001b[43m)\u001b[49m\n",
      "Cell \u001b[1;32mIn[5], line 7\u001b[0m, in \u001b[0;36mtic_tac_toe\u001b[1;34m()\u001b[0m\n\u001b[0;32m      5\u001b[0m \u001b[38;5;28;01mwhile\u001b[39;00m \u001b[38;5;28;01mTrue\u001b[39;00m:\n\u001b[0;32m      6\u001b[0m     display_board(board)\n\u001b[1;32m----> 7\u001b[0m     \u001b[43mget_input\u001b[49m\u001b[43m(\u001b[49m\u001b[43mboard\u001b[49m\u001b[43m,\u001b[49m\u001b[43mplayer\u001b[49m\u001b[43m)\u001b[49m\n\u001b[0;32m      8\u001b[0m     \u001b[38;5;28;01mif\u001b[39;00m winning_conditions(board, player):\n\u001b[0;32m      9\u001b[0m         display_board(board)\n",
      "Cell \u001b[1;32mIn[2], line 3\u001b[0m, in \u001b[0;36mget_input\u001b[1;34m(board, player)\u001b[0m\n\u001b[0;32m      1\u001b[0m \u001b[38;5;28;01mdef\u001b[39;00m\u001b[38;5;250m \u001b[39m\u001b[38;5;21mget_input\u001b[39m(board, player):\n\u001b[0;32m      2\u001b[0m     \u001b[38;5;28;01mwhile\u001b[39;00m \u001b[38;5;28;01mTrue\u001b[39;00m:\n\u001b[1;32m----> 3\u001b[0m         position \u001b[38;5;241m=\u001b[39m \u001b[38;5;28;43mint\u001b[39;49m\u001b[43m(\u001b[49m\u001b[38;5;28;43minput\u001b[39;49m\u001b[43m(\u001b[49m\u001b[38;5;124;43mf\u001b[39;49m\u001b[38;5;124;43m\"\u001b[39;49m\u001b[38;5;132;43;01m{\u001b[39;49;00m\u001b[43mplayer\u001b[49m\u001b[38;5;132;43;01m}\u001b[39;49;00m\u001b[38;5;124;43m'\u001b[39;49m\u001b[38;5;124;43ms turn to choose a position (1-9): \u001b[39;49m\u001b[38;5;124;43m\"\u001b[39;49m\u001b[43m)\u001b[49m\u001b[43m)\u001b[49m \u001b[38;5;241m-\u001b[39m \u001b[38;5;241m1\u001b[39m\n\u001b[0;32m      4\u001b[0m         \u001b[38;5;28;01mif\u001b[39;00m position \u001b[38;5;129;01min\u001b[39;00m \u001b[38;5;28mrange\u001b[39m(\u001b[38;5;241m10\u001b[39m) \u001b[38;5;129;01mand\u001b[39;00m board[position] \u001b[38;5;129;01mnot\u001b[39;00m \u001b[38;5;129;01min\u001b[39;00m [\u001b[38;5;124m'\u001b[39m\u001b[38;5;124mX\u001b[39m\u001b[38;5;124m'\u001b[39m,\u001b[38;5;124m'\u001b[39m\u001b[38;5;124mO\u001b[39m\u001b[38;5;124m'\u001b[39m]:\n\u001b[0;32m      5\u001b[0m             board[position] \u001b[38;5;241m=\u001b[39m player\n",
      "\u001b[1;31mValueError\u001b[0m: invalid literal for int() with base 10: ''"
     ]
    }
   ],
   "source": [
    "def tic_tac_toe():\n",
    "    board = [' ' for _ in range(9)] \n",
    "    player = 'X'\n",
    "\n",
    "    while True:\n",
    "        display_board(board)\n",
    "        get_input(board,player)\n",
    "        if winning_conditions(board, player):\n",
    "            display_board(board)\n",
    "            print(f\"Player {player} wins!\")\n",
    "            break\n",
    "\n",
    "        if check_draw(board):\n",
    "            display_board(board)\n",
    "            print(\"It's a draw!\")\n",
    "            break\n",
    "        player = '0' if player == 'X' else 'X'\n",
    "\n",
    "tic_tac_toe()\n"
   ]
  }
 ],
 "metadata": {
  "kernelspec": {
   "display_name": "Python 3",
   "language": "python",
   "name": "python3"
  },
  "language_info": {
   "codemirror_mode": {
    "name": "ipython",
    "version": 3
   },
   "file_extension": ".py",
   "mimetype": "text/x-python",
   "name": "python",
   "nbconvert_exporter": "python",
   "pygments_lexer": "ipython3",
   "version": "3.12.6"
  }
 },
 "nbformat": 4,
 "nbformat_minor": 2
}
