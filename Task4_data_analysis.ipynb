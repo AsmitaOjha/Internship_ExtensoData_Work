{
  "cells": [
    {
      "cell_type": "markdown",
      "metadata": {
        "id": "view-in-github",
        "colab_type": "text"
      },
      "source": [
        "<a href=\"https://colab.research.google.com/github/AsmitaOjha/Internship_ExtensoData_Work/blob/main/Task4_data_analysis.ipynb\" target=\"_parent\"><img src=\"https://colab.research.google.com/assets/colab-badge.svg\" alt=\"Open In Colab\"/></a>"
      ]
    },
    {
      "cell_type": "code",
      "execution_count": null,
      "metadata": {
        "id": "S6JDiqw0WF3O"
      },
      "outputs": [],
      "source": []
    },
    {
      "cell_type": "markdown",
      "metadata": {
        "id": "toDlBT-CWH2W"
      },
      "source": [
        "# New Section"
      ]
    },
    {
      "cell_type": "code",
      "execution_count": null,
      "metadata": {
        "colab": {
          "base_uri": "https://localhost:8080/"
        },
        "id": "3jF2GnH9Wk5D",
        "outputId": "223ffa4e-0aaa-47a3-f7f5-ccb6d4cd02ce"
      },
      "outputs": [
        {
          "name": "stdout",
          "output_type": "stream",
          "text": [
            "Requirement already satisfied: pyspark in /usr/local/lib/python3.11/dist-packages (3.5.1)\n",
            "Requirement already satisfied: py4j==0.10.9.7 in /usr/local/lib/python3.11/dist-packages (from pyspark) (0.10.9.7)\n"
          ]
        }
      ],
      "source": [
        "!pip install pyspark"
      ]
    },
    {
      "cell_type": "code",
      "execution_count": null,
      "metadata": {
        "id": "h1GOiUWhWoM5"
      },
      "outputs": [],
      "source": [
        "from pyspark.sql import SparkSession"
      ]
    },
    {
      "cell_type": "code",
      "execution_count": null,
      "metadata": {
        "id": "eWTDmOEWWylQ"
      },
      "outputs": [],
      "source": [
        "spark = SparkSession.builder.appName('Task4').getOrCreate()"
      ]
    },
    {
      "cell_type": "code",
      "execution_count": null,
      "metadata": {
        "colab": {
          "base_uri": "https://localhost:8080/"
        },
        "id": "0yAtdqQaX8B6",
        "outputId": "1d52a948-887a-4536-828c-0c04ec43c1e1"
      },
      "outputs": [
        {
          "name": "stdout",
          "output_type": "stream",
          "text": [
            "Drive already mounted at /content/drive; to attempt to forcibly remount, call drive.mount(\"/content/drive\", force_remount=True).\n"
          ]
        }
      ],
      "source": [
        "from google.colab import drive\n",
        "drive.mount('/content/drive')"
      ]
    },
    {
      "cell_type": "code",
      "execution_count": null,
      "metadata": {
        "colab": {
          "base_uri": "https://localhost:8080/"
        },
        "id": "kpmHeRsWdTsD",
        "outputId": "428ef522-dd4e-4abf-e7d2-84bba2052036"
      },
      "outputs": [
        {
          "name": "stdout",
          "output_type": "stream",
          "text": [
            "+---+-------------------+---------------+-------------+-------+\n",
            "|_c0|          Date/Time|From_Account_id|To_Account_id| amount|\n",
            "+---+-------------------+---------------+-------------+-------+\n",
            "|  0|2024-06-15 00:00:02|        9410161|      1191872| 1000.0|\n",
            "|  1|2024-06-15 00:00:02|        9781224|      5590231|10000.0|\n",
            "|  2|2024-06-15 00:00:02|        4231628|      2677870|  140.0|\n",
            "|  3|2024-06-15 00:00:05|        1339396|       869200| 1000.0|\n",
            "|  4|2024-06-15 00:00:07|        3531317|      9053549| 5000.0|\n",
            "+---+-------------------+---------------+-------------+-------+\n",
            "only showing top 5 rows\n",
            "\n",
            "root\n",
            " |-- _c0: integer (nullable = true)\n",
            " |-- Date/Time: timestamp (nullable = true)\n",
            " |-- From_Account_id: string (nullable = true)\n",
            " |-- To_Account_id: string (nullable = true)\n",
            " |-- amount: double (nullable = true)\n",
            "\n"
          ]
        }
      ],
      "source": [
        "file_path = '/content/drive/My Drive/ExtensoInternship/Txn_data.csv'\n",
        "\n",
        "df = spark.read.csv(file_path, header=True, inferSchema=True)\n",
        "\n",
        "df.show(5)  # Show first 5 rows\n",
        "df.printSchema()  # Print schema to verify data types\n"
      ]
    },
    {
      "cell_type": "code",
      "execution_count": null,
      "metadata": {
        "colab": {
          "base_uri": "https://localhost:8080/"
        },
        "id": "4wnzt2UZeYfj",
        "outputId": "d5728dbd-a0ec-4536-dca2-fd3df9e29b0d"
      },
      "outputs": [
        {
          "name": "stdout",
          "output_type": "stream",
          "text": [
            "+-------+--------------------+-----------------+------------------+------------------+\n",
            "|summary|                 _c0|  From_Account_id|     To_Account_id|            amount|\n",
            "+-------+--------------------+-----------------+------------------+------------------+\n",
            "|  count|            63690622|         63690622|          63690622|          63690622|\n",
            "|   mean|3.1845250500056524E7|5499325.684672919| 5502083.598508284|1444.1673131794812|\n",
            "| stddev|1.8385899022516806E7|3123135.499884011|3163919.6020803107| 4281.398229109791|\n",
            "|    min|                   0|         10000002|          10000002|               1.0|\n",
            "|    max|            63690561|          9999994|           9999998|       1.1394027E7|\n",
            "+-------+--------------------+-----------------+------------------+------------------+\n",
            "\n"
          ]
        }
      ],
      "source": [
        "df.describe().show()"
      ]
    },
    {
      "cell_type": "code",
      "execution_count": null,
      "metadata": {
        "id": "w1VxcEfPgUZ4"
      },
      "outputs": [],
      "source": [
        "df = df.drop('_c0')\n"
      ]
    },
    {
      "cell_type": "code",
      "execution_count": null,
      "metadata": {
        "colab": {
          "base_uri": "https://localhost:8080/"
        },
        "id": "FUhy_UlNgXnx",
        "outputId": "3b1f204a-67e0-43ce-fd8d-77cc240628eb"
      },
      "outputs": [
        {
          "name": "stdout",
          "output_type": "stream",
          "text": [
            "root\n",
            " |-- Date/Time: timestamp (nullable = true)\n",
            " |-- From_Account_id: string (nullable = true)\n",
            " |-- To_Account_id: string (nullable = true)\n",
            " |-- amount: double (nullable = true)\n",
            "\n"
          ]
        }
      ],
      "source": [
        "df.printSchema()"
      ]
    },
    {
      "cell_type": "code",
      "execution_count": null,
      "metadata": {
        "colab": {
          "base_uri": "https://localhost:8080/"
        },
        "id": "CsmTQVTsgq_e",
        "outputId": "6f20408f-3ae5-4a52-b585-93245f515cd6"
      },
      "outputs": [
        {
          "name": "stdout",
          "output_type": "stream",
          "text": [
            "Transaction data ranges from 2024-06-15 00:00:02 to 2025-11-19 09:12:12\n"
          ]
        }
      ],
      "source": [
        "from pyspark.sql.functions import min, max\n",
        "\n",
        "time_range = df.agg(\n",
        "    min(\"Date/Time\").alias(\"Min_DateTime\"),\n",
        "    max(\"Date/Time\").alias(\"Max_DateTime\")\n",
        ").collect()[0]\n",
        "\n",
        "print(f\"Transaction data ranges from {time_range['Min_DateTime']} to {time_range['Max_DateTime']}\")\n"
      ]
    },
    {
      "cell_type": "code",
      "execution_count": null,
      "metadata": {
        "id": "jm478JuwhMpz"
      },
      "outputs": [],
      "source": [
        "from pyspark.sql.functions import month, dayofmonth, hour, dayofweek\n",
        "\n",
        "df_time = df.withColumn(\"Month\", month(\"Date/Time\")) \\\n",
        "            .withColumn(\"Day\", dayofmonth(\"Date/Time\")) \\\n",
        "            .withColumn(\"Hour\", hour(\"Date/Time\")) \\\n",
        "            .withColumn(\"DayOfWeek\", dayofweek(\"Date/Time\"))\n"
      ]
    },
    {
      "cell_type": "code",
      "execution_count": null,
      "metadata": {
        "colab": {
          "base_uri": "https://localhost:8080/"
        },
        "id": "bsmDCDx2hjeB",
        "outputId": "963cf499-dde2-4274-fb76-42670f7e344b"
      },
      "outputs": [
        {
          "name": "stdout",
          "output_type": "stream",
          "text": [
            "Most transactions in month: 9 with 10820506 transactions\n",
            "Least transactions in month: 6 with 4961951 transactions\n",
            "Most transactions on day: 5 with 2261142 transactions\n",
            "Least transactions on day: 31 with 942036 transactions\n",
            "Most transactions in hour: 18 with 5950631 transactions\n",
            "Least transactions in hour: 4 with 103695 transactions\n",
            "Most transactions on day of week: 6 with 9267286 transactions\n",
            "Least transactions on day of week: 7 with 8705421 transactions\n"
          ]
        }
      ],
      "source": [
        "from pyspark.sql.functions import desc, asc\n",
        "\n",
        "# Function to find max and min transaction counts for a given column\n",
        "def max_min_transactions(df, col_name):\n",
        "    agg_df = df.groupBy(col_name).count()\n",
        "    max_row = agg_df.orderBy(desc(\"count\")).first()\n",
        "    min_row = agg_df.orderBy(asc(\"count\")).first()\n",
        "    return max_row, min_row\n",
        "\n",
        "# Month\n",
        "max_month, min_month = max_min_transactions(df_time, \"Month\")\n",
        "print(f\"Most transactions in month: {max_month['Month']} with {max_month['count']} transactions\")\n",
        "print(f\"Least transactions in month: {min_month['Month']} with {min_month['count']} transactions\")\n",
        "\n",
        "# Day of month\n",
        "max_day, min_day = max_min_transactions(df_time, \"Day\")\n",
        "print(f\"Most transactions on day: {max_day['Day']} with {max_day['count']} transactions\")\n",
        "print(f\"Least transactions on day: {min_day['Day']} with {min_day['count']} transactions\")\n",
        "\n",
        "# Hour\n",
        "max_hour, min_hour = max_min_transactions(df_time, \"Hour\")\n",
        "print(f\"Most transactions in hour: {max_hour['Hour']} with {max_hour['count']} transactions\")\n",
        "print(f\"Least transactions in hour: {min_hour['Hour']} with {min_hour['count']} transactions\")\n",
        "\n",
        "# Day of week\n",
        "max_dow, min_dow = max_min_transactions(df_time, \"DayOfWeek\")\n",
        "print(f\"Most transactions on day of week: {max_dow['DayOfWeek']} with {max_dow['count']} transactions\")\n",
        "print(f\"Least transactions on day of week: {min_dow['DayOfWeek']} with {min_dow['count']} transactions\")\n"
      ]
    },
    {
      "cell_type": "markdown",
      "metadata": {
        "id": "djSNNkE2cjK4"
      },
      "source": []
    },
    {
      "cell_type": "code",
      "execution_count": null,
      "metadata": {
        "colab": {
          "base_uri": "https://localhost:8080/"
        },
        "id": "M_SrWd65i5Zk",
        "outputId": "03575105-dc99-4f44-9bf9-c39a7585c07f"
      },
      "outputs": [
        {
          "name": "stdout",
          "output_type": "stream",
          "text": [
            "Number of accounts appearing both as sender and receiver: 2312086\n"
          ]
        }
      ],
      "source": [
        "senders = df.select(\"From_Account_id\").distinct()\n",
        "receivers = df.select(\"To_Account_id\").distinct()\n",
        "\n",
        "both = senders.join(receivers, senders.From_Account_id == receivers.To_Account_id, \"inner\")\n",
        "\n",
        "print(f\"Number of accounts appearing both as sender and receiver: {both.count()}\")\n"
      ]
    },
    {
      "cell_type": "code",
      "execution_count": null,
      "metadata": {
        "colab": {
          "base_uri": "https://localhost:8080/"
        },
        "id": "rqWhiODJjK6Y",
        "outputId": "7a5dbd4f-d771-4c62-b049-dd6d20edc7c5"
      },
      "outputs": [
        {
          "name": "stdout",
          "output_type": "stream",
          "text": [
            "Total unique accounts in dataset: 3111701\n"
          ]
        }
      ],
      "source": [
        "all_accounts = senders.union(receivers).distinct()\n",
        "\n",
        "# Count total unique accounts\n",
        "total_unique_accounts = all_accounts.count()\n",
        "\n",
        "print(f\"Total unique accounts in dataset: {total_unique_accounts}\")"
      ]
    },
    {
      "cell_type": "code",
      "execution_count": null,
      "metadata": {
        "colab": {
          "base_uri": "https://localhost:8080/"
        },
        "id": "_d7r3GzGjC9W",
        "outputId": "88e9c3ef-0fa6-4297-f3d9-d0ca2a944abb"
      },
      "outputs": [
        {
          "name": "stdout",
          "output_type": "stream",
          "text": [
            "Number of accounts appearing only as sender: 314332\n"
          ]
        }
      ],
      "source": [
        "only_senders = senders.join(receivers, senders.From_Account_id == receivers.To_Account_id, \"left_anti\")\n",
        "\n",
        "print(f\"Number of accounts appearing only as sender: {only_senders.count()}\")\n"
      ]
    },
    {
      "cell_type": "code",
      "execution_count": null,
      "metadata": {
        "colab": {
          "base_uri": "https://localhost:8080/"
        },
        "id": "1fzjPFZDjWSr",
        "outputId": "9289039d-1e92-4835-917b-f05c5b48488f"
      },
      "outputs": [
        {
          "name": "stdout",
          "output_type": "stream",
          "text": [
            "Number of accounts appearing only as receiver: 485283\n"
          ]
        }
      ],
      "source": [
        "only_receivers = receivers.join(senders, receivers.To_Account_id == senders.From_Account_id, \"left_anti\")\n",
        "\n",
        "print(f\"Number of accounts appearing only as receiver: {only_receivers.count()}\")\n"
      ]
    },
    {
      "cell_type": "code",
      "execution_count": null,
      "metadata": {
        "colab": {
          "base_uri": "https://localhost:8080/"
        },
        "id": "gjZSFalJk9Cb",
        "outputId": "eca9b7ec-fde1-4c67-aa94-636fd3e3c56b"
      },
      "outputs": [
        {
          "name": "stdout",
          "output_type": "stream",
          "text": [
            "+-------+------------------+\n",
            "|summary|            amount|\n",
            "+-------+------------------+\n",
            "|  count|          63690622|\n",
            "|   mean|1444.1673131794812|\n",
            "| stddev| 4281.398229109791|\n",
            "|    min|               1.0|\n",
            "|    max|       1.1394027E7|\n",
            "+-------+------------------+\n",
            "\n"
          ]
        }
      ],
      "source": [
        "df.describe(\"amount\").show()\n"
      ]
    },
    {
      "cell_type": "markdown",
      "metadata": {
        "id": "CwxFaY1Ajh1E"
      },
      "source": [
        "Average transaction amount sent per account"
      ]
    },
    {
      "cell_type": "code",
      "execution_count": null,
      "metadata": {
        "colab": {
          "base_uri": "https://localhost:8080/"
        },
        "id": "dNqiGplvjafn",
        "outputId": "fbbe0365-2dc2-4bad-e3c7-0701458e1b01"
      },
      "outputs": [
        {
          "name": "stdout",
          "output_type": "stream",
          "text": [
            "+---------------+------------------+\n",
            "|From_Account_id|   Avg_Amount_Sent|\n",
            "+---------------+------------------+\n",
            "|              5|3251502.9483333332|\n",
            "|         615L21|         1500000.0|\n",
            "|         625L21|         1000000.0|\n",
            "|         435L21|          800000.0|\n",
            "|         565L21|          575000.0|\n",
            "+---------------+------------------+\n",
            "only showing top 5 rows\n",
            "\n"
          ]
        }
      ],
      "source": [
        "from pyspark.sql.functions import avg\n",
        "\n",
        "avg_sent = df.groupBy(\"From_Account_id\") \\\n",
        "             .agg(avg(\"amount\").alias(\"Avg_Amount_Sent\")) \\\n",
        "             .orderBy(\"Avg_Amount_Sent\", ascending=False)\n",
        "\n",
        "avg_sent.show(5)\n"
      ]
    },
    {
      "cell_type": "markdown",
      "metadata": {
        "id": "ug3W6gUQjmLH"
      },
      "source": [
        "Total amount sent per account"
      ]
    },
    {
      "cell_type": "code",
      "execution_count": null,
      "metadata": {
        "colab": {
          "base_uri": "https://localhost:8080/"
        },
        "id": "cEW_JVNRjrdT",
        "outputId": "11aca0cb-b692-4945-a2e8-fe9e4c0026fc"
      },
      "outputs": [
        {
          "name": "stdout",
          "output_type": "stream",
          "text": [
            "+---------------+--------------------+\n",
            "|From_Account_id|   Total_Amount_Sent|\n",
            "+---------------+--------------------+\n",
            "|        4248684|3.5398504735999995E8|\n",
            "|              5|       5.852705307E7|\n",
            "|         337555|         3.5915678E7|\n",
            "|        6879977|       3.034232922E7|\n",
            "|         227824|         3.0078477E7|\n",
            "+---------------+--------------------+\n",
            "only showing top 5 rows\n",
            "\n"
          ]
        }
      ],
      "source": [
        "from pyspark.sql.functions import sum\n",
        "\n",
        "total_sent = df.groupBy(\"From_Account_id\") \\\n",
        "               .agg(sum(\"amount\").alias(\"Total_Amount_Sent\")) \\\n",
        "               .orderBy(\"Total_Amount_Sent\", ascending=False)\n",
        "\n",
        "total_sent.show(5)\n"
      ]
    },
    {
      "cell_type": "code",
      "execution_count": null,
      "metadata": {
        "id": "YNM57p_mj4r7"
      },
      "outputs": [],
      "source": []
    },
    {
      "cell_type": "markdown",
      "metadata": {
        "id": "L-U8wv-1jxyK"
      },
      "source": [
        "Total amount received per account"
      ]
    },
    {
      "cell_type": "code",
      "execution_count": null,
      "metadata": {
        "colab": {
          "background_save": true
        },
        "id": "msLgWxfMj1Ul",
        "outputId": "312a2c22-322b-4889-a0ac-f2260fb0c602"
      },
      "outputs": [
        {
          "name": "stdout",
          "output_type": "stream",
          "text": [
            "+-------------+---------------------+\n",
            "|To_Account_id|Total_Amount_Received|\n",
            "+-------------+---------------------+\n",
            "|       513553|       2.1818730096E8|\n",
            "|       165607|          5.4755214E7|\n",
            "|      6879977|         4.27353813E7|\n",
            "|     10583578|          2.8461452E7|\n",
            "|      4890069|         2.72169795E7|\n",
            "+-------------+---------------------+\n",
            "only showing top 5 rows\n",
            "\n"
          ]
        }
      ],
      "source": [
        "total_received = df.groupBy(\"To_Account_id\") \\\n",
        "                   .agg(sum(\"amount\").alias(\"Total_Amount_Received\")) \\\n",
        "                   .orderBy(\"Total_Amount_Received\", ascending=False)\n",
        "\n",
        "total_received.show(5)\n"
      ]
    },
    {
      "cell_type": "markdown",
      "metadata": {
        "id": "4rIMDhjSkA24"
      },
      "source": [
        "Top accounts with most transactions"
      ]
    },
    {
      "cell_type": "code",
      "execution_count": 28,
      "metadata": {
        "colab": {
          "base_uri": "https://localhost:8080/"
        },
        "id": "1wAwSSnWkC8J",
        "outputId": "5f366e14-e385-4421-cf21-1129354d8935"
      },
      "outputs": [
        {
          "output_type": "stream",
          "name": "stdout",
          "text": [
            "+-------+----------+--------------+------------------+\n",
            "|Account|Sent_Count|Received_Count|Total_Transactions|\n",
            "+-------+----------+--------------+------------------+\n",
            "|4248684|     15798|           395|             16193|\n",
            "| 513553|       298|          8934|              9232|\n",
            "|6879977|      3023|          4289|              7312|\n",
            "| 227824|      3908|          2546|              6454|\n",
            "| 686464|      1263|          4771|              6034|\n",
            "+-------+----------+--------------+------------------+\n",
            "only showing top 5 rows\n",
            "\n"
          ]
        }
      ],
      "source": [
        "from pyspark.sql.functions import count, col\n",
        "\n",
        "# Count sent transactions\n",
        "sent_counts = df.groupBy(\"From_Account_id\") \\\n",
        "                .agg(count(\"*\").alias(\"Sent_Count\"))\n",
        "\n",
        "# Count received transactions\n",
        "received_counts = df.groupBy(\"To_Account_id\") \\\n",
        "                    .agg(count(\"*\").alias(\"Received_Count\"))\n",
        "\n",
        "# Rename columns for union\n",
        "sent_counts = sent_counts.withColumnRenamed(\"From_Account_id\", \"Account\")\n",
        "received_counts = received_counts.withColumnRenamed(\"To_Account_id\", \"Account\")\n",
        "\n",
        "# Join and sum counts per account\n",
        "all_counts = sent_counts.join(received_counts, \"Account\", \"full_outer\") \\\n",
        "                        .na.fill(0) \\\n",
        "                        .withColumn(\"Total_Transactions\",\n",
        "                                    col(\"Sent_Count\") + col(\"Received_Count\")) \\\n",
        "                        .orderBy(col(\"Total_Transactions\").desc())\n",
        "\n",
        "all_counts.show(5)\n"
      ]
    },
    {
      "cell_type": "markdown",
      "metadata": {
        "id": "XkOA8qcCkgAa"
      },
      "source": [
        "Most frequent occuring transaction amount"
      ]
    },
    {
      "cell_type": "code",
      "execution_count": 29,
      "metadata": {
        "colab": {
          "base_uri": "https://localhost:8080/"
        },
        "id": "vBe1hdZakEjy",
        "outputId": "60b58484-4571-42da-9c36-9480b22fbb07"
      },
      "outputs": [
        {
          "output_type": "stream",
          "name": "stdout",
          "text": [
            "+--------------------+\n",
            "|Most_Frequent_Amount|\n",
            "+--------------------+\n",
            "|               100.0|\n",
            "+--------------------+\n",
            "\n"
          ]
        }
      ],
      "source": [
        "from pyspark.sql.functions import mode\n",
        "\n",
        "# Compute the mode of the 'amount' column\n",
        "mode_df = df.select(mode(\"amount\").alias(\"Most_Frequent_Amount\"))\n",
        "\n",
        "mode_df.show()\n"
      ]
    }
  ],
  "metadata": {
    "colab": {
      "toc_visible": true,
      "provenance": [],
      "mount_file_id": "1swrpolZwExRwwjJK4ScziJ2Y27EzrjRN",
      "authorship_tag": "ABX9TyNuyqJwd+x7jhQ2JiW1/fVe",
      "include_colab_link": true
    },
    "kernelspec": {
      "display_name": "Python 3",
      "name": "python3"
    },
    "language_info": {
      "name": "python"
    }
  },
  "nbformat": 4,
  "nbformat_minor": 0
}