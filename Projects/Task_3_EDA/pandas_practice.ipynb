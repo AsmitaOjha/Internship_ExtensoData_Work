{
 "cells": [
  {
   "cell_type": "code",
   "execution_count": 1,
   "id": "022327d4",
   "metadata": {},
   "outputs": [
    {
     "name": "stdout",
     "output_type": "stream",
     "text": [
      "    cars  passings\n",
      "0    BMW         3\n",
      "1  Volvo         7\n",
      "2   Ford         2\n"
     ]
    }
   ],
   "source": [
    "import pandas as pd\n",
    "mydataset = {\n",
    "    'cars': ['BMW','Volvo','Ford'],\n",
    "    'passings': [3,7,2]\n",
    "}\n",
    "\n",
    "myvar = pd.DataFrame(mydataset)\n",
    "\n",
    "print(myvar)"
   ]
  },
  {
   "cell_type": "markdown",
   "id": "657ed2ba",
   "metadata": {},
   "source": [
    "What is a Series?\n",
    "A Pandas Series is like a column in a table.\n",
    "It is a one-dimensional array holding data of any type."
   ]
  },
  {
   "cell_type": "code",
   "execution_count": 3,
   "id": "a2ab6759",
   "metadata": {},
   "outputs": [
    {
     "name": "stdout",
     "output_type": "stream",
     "text": [
      "0     1\n",
      "1     2\n",
      "2     3\n",
      "3     6\n",
      "4     9\n",
      "5    10\n",
      "dtype: int64\n",
      "3\n"
     ]
    }
   ],
   "source": [
    "import pandas as pd\n",
    "a = [1,2,3,6,9,10]\n",
    "myvar = pd.Series(a)\n",
    "\n",
    "print(myvar)\n",
    "\n",
    "print(myvar[2])"
   ]
  },
  {
   "cell_type": "code",
   "execution_count": 5,
   "id": "8464fd31",
   "metadata": {},
   "outputs": [
    {
     "name": "stdout",
     "output_type": "stream",
     "text": [
      "x    1\n",
      "y    7\n",
      "z    2\n",
      "dtype: int64\n",
      "7\n"
     ]
    }
   ],
   "source": [
    "import pandas as pd \n",
    "a = [1,7,2]\n",
    "myvar = pd.Series(a, index = ['x','y','z'])\n",
    "\n",
    "print(myvar)\n",
    "print(myvar['y'])"
   ]
  },
  {
   "cell_type": "markdown",
   "id": "da90ddf2",
   "metadata": {},
   "source": [
    "**Create a simple Pandas Series from a dictionary**"
   ]
  },
  {
   "cell_type": "code",
   "execution_count": 7,
   "id": "816ae976",
   "metadata": {},
   "outputs": [
    {
     "name": "stdout",
     "output_type": "stream",
     "text": [
      "day1    420\n",
      "day2    380\n",
      "day3    390\n",
      "dtype: int64\n",
      "Asmita    971239\n",
      "Raj       971235\n",
      "dtype: int64\n"
     ]
    }
   ],
   "source": [
    "import pandas as pd\n",
    "calories = {'day1': 420, 'day2': 380, 'day3': 390}\n",
    "myvar = pd.Series(calories)\n",
    "print(myvar)\n",
    "\n",
    "contact = {'Asmita': 971239, 'Sindhu': 971234, 'Raj': 971235}\n",
    "myvar1 = pd.Series(contact, index = ['Asmita','Raj'])\n",
    "print(myvar1)"
   ]
  },
  {
   "cell_type": "markdown",
   "id": "10bbb064",
   "metadata": {},
   "source": [
    "**Dataframes**"
   ]
  },
  {
   "cell_type": "markdown",
   "id": "55d25b81",
   "metadata": {},
   "source": [
    "Data sets in Pandas are usually multi-dimensional tables, called DataFrames. Series is like a column, a DataFrame is the whole table."
   ]
  },
  {
   "cell_type": "code",
   "execution_count": 8,
   "id": "cb4c4d8b",
   "metadata": {},
   "outputs": [
    {
     "name": "stdout",
     "output_type": "stream",
     "text": [
      "   calories  duration\n",
      "0       423        40\n",
      "1       333        23\n",
      "2       122        12\n"
     ]
    }
   ],
   "source": [
    "data = { \n",
    "    \"calories\" : [423,333,122],\n",
    "    \"duration\" : [40,23,12]\n",
    "}\n",
    "\n",
    "myvar2 = pd.DataFrame(data)\n",
    "\n",
    "print(myvar2)"
   ]
  },
  {
   "cell_type": "markdown",
   "id": "9e76bf14",
   "metadata": {},
   "source": [
    "A Pandas DataFrame is a 2-dimensional data structure, like a 2 dimensional array, or a table with rows and columns"
   ]
  },
  {
   "cell_type": "markdown",
   "id": "2716e986",
   "metadata": {},
   "source": [
    "**Locate Row**\n",
    "Pandas us the **loc** attribute to return one or more specified rows(s)"
   ]
  },
  {
   "cell_type": "code",
   "execution_count": 9,
   "id": "4bfb0e8d",
   "metadata": {},
   "outputs": [
    {
     "name": "stdout",
     "output_type": "stream",
     "text": [
      "calories    423\n",
      "duration     40\n",
      "Name: 0, dtype: int64\n"
     ]
    }
   ],
   "source": [
    "print(myvar2.loc[0])"
   ]
  },
  {
   "cell_type": "code",
   "execution_count": 10,
   "id": "2e9ab18b",
   "metadata": {},
   "outputs": [
    {
     "name": "stdout",
     "output_type": "stream",
     "text": [
      "   calories  duration\n",
      "0       423        40\n",
      "1       333        23\n"
     ]
    }
   ],
   "source": [
    "# to return row 0 and 1:\n",
    "print(myvar2.loc[[0,1]])"
   ]
  },
  {
   "cell_type": "markdown",
   "id": "f7d759b5",
   "metadata": {},
   "source": [
    "Note: when using [], the result is a Pandas DataFrame"
   ]
  },
  {
   "cell_type": "markdown",
   "id": "ae3df754",
   "metadata": {},
   "source": [
    "**Named indexes**\n",
    "with the **index** argument , you can name your own indexes."
   ]
  },
  {
   "cell_type": "code",
   "execution_count": 11,
   "id": "d572f72d",
   "metadata": {},
   "outputs": [
    {
     "name": "stdout",
     "output_type": "stream",
     "text": [
      "                            name  age                    class\n",
      "Sister/Aunty              Asmita   22                 Bachelor\n",
      "Son                     Anshuman    1  Not going to school yet\n",
      "Son                       Naitik    5                      UKG\n",
      "Brother/Maternal_uncle     Kabir    7                      Six\n"
     ]
    }
   ],
   "source": [
    "Student = {\n",
    "    'name': [\"Asmita\",\"Anshuman\",\"Naitik\",\"Kabir\"],\n",
    "    'age':[22,1,5,7],\n",
    "    'class':[\"Bachelor\",\"Not going to school yet\",\"UKG\",\"Six\"]\n",
    "\n",
    "}\n",
    "\n",
    "myData1 = pd.DataFrame(Student, index = [\"Sister/Aunty\",\"Son\",\"Son\",\"Brother/Maternal_uncle\"])\n",
    "\n",
    "print(myData1)\n"
   ]
  },
  {
   "cell_type": "markdown",
   "id": "e025b1c2",
   "metadata": {},
   "source": [
    "**Locate Named indexes**\n",
    "Use the named index in the loc attribute to return the specified row(s)"
   ]
  },
  {
   "cell_type": "code",
   "execution_count": 12,
   "id": "e1ab8bce",
   "metadata": {},
   "outputs": [
    {
     "name": "stdout",
     "output_type": "stream",
     "text": [
      "                          name  age     class\n",
      "Sister/Aunty            Asmita   22  Bachelor\n",
      "Brother/Maternal_uncle   Kabir    7       Six\n"
     ]
    }
   ],
   "source": [
    "print(myData1.loc[['Sister/Aunty','Brother/Maternal_uncle']])"
   ]
  },
  {
   "cell_type": "markdown",
   "id": "05479f43",
   "metadata": {},
   "source": [
    "**Load files into a dataframe**"
   ]
  },
  {
   "cell_type": "markdown",
   "id": "478a6374",
   "metadata": {},
   "source": []
  }
 ],
 "metadata": {
  "kernelspec": {
   "display_name": "venv",
   "language": "python",
   "name": "python3"
  },
  "language_info": {
   "codemirror_mode": {
    "name": "ipython",
    "version": 3
   },
   "file_extension": ".py",
   "mimetype": "text/x-python",
   "name": "python",
   "nbconvert_exporter": "python",
   "pygments_lexer": "ipython3",
   "version": "3.12.6"
  }
 },
 "nbformat": 4,
 "nbformat_minor": 5
}
