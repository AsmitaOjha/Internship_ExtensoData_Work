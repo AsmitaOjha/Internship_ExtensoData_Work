{
 "cells": [
  {
   "cell_type": "code",
   "execution_count": 4,
   "id": "894793d5",
   "metadata": {},
   "outputs": [],
   "source": [
    "import pandas as pd\n",
    "import numpy as np \n",
    "import matplotlib.pyplot as plt \n",
    "import seaborn as sns \n",
    "import plotly.express as px \n",
    "import scipy\n",
    "from scipy.stats import zscore\n"
   ]
  },
  {
   "cell_type": "code",
   "execution_count": 5,
   "id": "0751b9c3",
   "metadata": {},
   "outputs": [
    {
     "name": "stdout",
     "output_type": "stream",
     "text": [
      "<class 'pandas.core.frame.DataFrame'>\n",
      "RangeIndex: 641914 entries, 0 to 641913\n",
      "Data columns (total 26 columns):\n",
      " #   Column                    Non-Null Count   Dtype  \n",
      "---  ------                    --------------   -----  \n",
      " 0   accountNumber             641914 non-null  int64  \n",
      " 1   customerId                641914 non-null  int64  \n",
      " 2   creditLimit               641914 non-null  int64  \n",
      " 3   availableMoney            641914 non-null  float64\n",
      " 4   transactionDateTime       641914 non-null  object \n",
      " 5   transactionAmount         641914 non-null  float64\n",
      " 6   merchantName              641914 non-null  object \n",
      " 7   acqCountry                641914 non-null  object \n",
      " 8   merchantCountryCode       641914 non-null  object \n",
      " 9   posEntryMode              641914 non-null  float64\n",
      " 10  posConditionCode          641914 non-null  float64\n",
      " 11  merchantCategoryCode      641914 non-null  object \n",
      " 12  currentExpDate            641914 non-null  object \n",
      " 13  accountOpenDate           641914 non-null  object \n",
      " 14  dateOfLastAddressChange   641914 non-null  object \n",
      " 15  cardCVV                   641914 non-null  int64  \n",
      " 16  enteredCVV                641914 non-null  int64  \n",
      " 17  cardLast4Digits           641914 non-null  int64  \n",
      " 18  transactionType           641914 non-null  object \n",
      " 19  isFraud                   641914 non-null  bool   \n",
      " 20  currentBalance            641914 non-null  float64\n",
      " 21  cardPresent               641914 non-null  bool   \n",
      " 22  expirationDateKeyInMatch  641914 non-null  bool   \n",
      " 23  txn_hour                  641914 non-null  int64  \n",
      " 24  txn_month                 641914 non-null  int64  \n",
      " 25  txn_day                   641914 non-null  int64  \n",
      "dtypes: bool(3), float64(5), int64(9), object(9)\n",
      "memory usage: 114.5+ MB\n",
      "None\n"
     ]
    }
   ],
   "source": [
    "df1 = pd.read_csv(\"e:/2025/ExtensoData_Internship_Work/Projects/Task_3_EDA/data/cleaned_transactions.csv\")\n",
    "print(df1.info())"
   ]
  },
  {
   "cell_type": "markdown",
   "id": "68c51053",
   "metadata": {},
   "source": [
    "## Summary Statistics for Numeric Columns"
   ]
  },
  {
   "cell_type": "markdown",
   "id": "97973e3b",
   "metadata": {},
   "source": [
    "1. What are the min, max, mean, median, and standard deviation of:\n",
    "    - transactionAmount\n",
    "    - availableMoney\n",
    "    - creditLimit\n",
    "    - currentBalance\n",
    "\n",
    "2. Are there outliers or unusually high/low values"
   ]
  },
  {
   "cell_type": "markdown",
   "id": "26a3a073",
   "metadata": {},
   "source": [
    "## Exploring Categorical Columns"
   ]
  },
  {
   "cell_type": "markdown",
   "id": "12d4148c",
   "metadata": {},
   "source": [
    "3. What are the unique values in:\n",
    "    - merchantCategoryCode\n",
    "    - transactionType\n",
    "    - acqCountry\n",
    "    - merchantCountryCode\n",
    "    - merchantName\n",
    "2. What are the most frequet values in those columns?"
   ]
  },
  {
   "cell_type": "markdown",
   "id": "b6c4f139",
   "metadata": {},
   "source": [
    "## Understanding variable (isFraud)"
   ]
  },
  {
   "cell_type": "markdown",
   "id": "ef62b642",
   "metadata": {},
   "source": [
    "5. How many transactions are marked as fraud vs not fraud?\n",
    "6. What is the percentage of fradulent transactions?"
   ]
  },
  {
   "cell_type": "code",
   "execution_count": 6,
   "id": "0d7d8310",
   "metadata": {},
   "outputs": [
    {
     "data": {
      "text/html": [
       "<div>\n",
       "<style scoped>\n",
       "    .dataframe tbody tr th:only-of-type {\n",
       "        vertical-align: middle;\n",
       "    }\n",
       "\n",
       "    .dataframe tbody tr th {\n",
       "        vertical-align: top;\n",
       "    }\n",
       "\n",
       "    .dataframe thead th {\n",
       "        text-align: right;\n",
       "    }\n",
       "</style>\n",
       "<table border=\"1\" class=\"dataframe\">\n",
       "  <thead>\n",
       "    <tr style=\"text-align: right;\">\n",
       "      <th></th>\n",
       "      <th>accountNumber</th>\n",
       "      <th>customerId</th>\n",
       "      <th>creditLimit</th>\n",
       "      <th>availableMoney</th>\n",
       "      <th>transactionDateTime</th>\n",
       "      <th>transactionAmount</th>\n",
       "      <th>merchantName</th>\n",
       "      <th>acqCountry</th>\n",
       "      <th>merchantCountryCode</th>\n",
       "      <th>posEntryMode</th>\n",
       "      <th>...</th>\n",
       "      <th>enteredCVV</th>\n",
       "      <th>cardLast4Digits</th>\n",
       "      <th>transactionType</th>\n",
       "      <th>isFraud</th>\n",
       "      <th>currentBalance</th>\n",
       "      <th>cardPresent</th>\n",
       "      <th>expirationDateKeyInMatch</th>\n",
       "      <th>txn_hour</th>\n",
       "      <th>txn_month</th>\n",
       "      <th>txn_day</th>\n",
       "    </tr>\n",
       "  </thead>\n",
       "  <tbody>\n",
       "    <tr>\n",
       "      <th>0</th>\n",
       "      <td>733493772</td>\n",
       "      <td>733493772</td>\n",
       "      <td>5000</td>\n",
       "      <td>5000.00</td>\n",
       "      <td>2016-01-08 19:04:50</td>\n",
       "      <td>111.33</td>\n",
       "      <td>Lyft</td>\n",
       "      <td>US</td>\n",
       "      <td>US</td>\n",
       "      <td>5.0</td>\n",
       "      <td>...</td>\n",
       "      <td>492</td>\n",
       "      <td>9184</td>\n",
       "      <td>PURCHASE</td>\n",
       "      <td>True</td>\n",
       "      <td>0.00</td>\n",
       "      <td>False</td>\n",
       "      <td>False</td>\n",
       "      <td>19</td>\n",
       "      <td>1</td>\n",
       "      <td>8</td>\n",
       "    </tr>\n",
       "    <tr>\n",
       "      <th>1</th>\n",
       "      <td>733493772</td>\n",
       "      <td>733493772</td>\n",
       "      <td>5000</td>\n",
       "      <td>4888.67</td>\n",
       "      <td>2016-01-09 22:32:39</td>\n",
       "      <td>24.75</td>\n",
       "      <td>Uber</td>\n",
       "      <td>US</td>\n",
       "      <td>US</td>\n",
       "      <td>9.0</td>\n",
       "      <td>...</td>\n",
       "      <td>492</td>\n",
       "      <td>9184</td>\n",
       "      <td>PURCHASE</td>\n",
       "      <td>False</td>\n",
       "      <td>111.33</td>\n",
       "      <td>False</td>\n",
       "      <td>False</td>\n",
       "      <td>22</td>\n",
       "      <td>1</td>\n",
       "      <td>9</td>\n",
       "    </tr>\n",
       "    <tr>\n",
       "      <th>2</th>\n",
       "      <td>733493772</td>\n",
       "      <td>733493772</td>\n",
       "      <td>5000</td>\n",
       "      <td>4863.92</td>\n",
       "      <td>2016-01-11 13:36:55</td>\n",
       "      <td>187.40</td>\n",
       "      <td>Lyft</td>\n",
       "      <td>US</td>\n",
       "      <td>US</td>\n",
       "      <td>5.0</td>\n",
       "      <td>...</td>\n",
       "      <td>492</td>\n",
       "      <td>9184</td>\n",
       "      <td>PURCHASE</td>\n",
       "      <td>False</td>\n",
       "      <td>136.08</td>\n",
       "      <td>False</td>\n",
       "      <td>False</td>\n",
       "      <td>13</td>\n",
       "      <td>1</td>\n",
       "      <td>11</td>\n",
       "    </tr>\n",
       "    <tr>\n",
       "      <th>3</th>\n",
       "      <td>733493772</td>\n",
       "      <td>733493772</td>\n",
       "      <td>5000</td>\n",
       "      <td>4676.52</td>\n",
       "      <td>2016-01-11 22:47:46</td>\n",
       "      <td>227.34</td>\n",
       "      <td>Lyft</td>\n",
       "      <td>US</td>\n",
       "      <td>US</td>\n",
       "      <td>2.0</td>\n",
       "      <td>...</td>\n",
       "      <td>492</td>\n",
       "      <td>9184</td>\n",
       "      <td>PURCHASE</td>\n",
       "      <td>True</td>\n",
       "      <td>323.48</td>\n",
       "      <td>False</td>\n",
       "      <td>False</td>\n",
       "      <td>22</td>\n",
       "      <td>1</td>\n",
       "      <td>11</td>\n",
       "    </tr>\n",
       "    <tr>\n",
       "      <th>4</th>\n",
       "      <td>733493772</td>\n",
       "      <td>733493772</td>\n",
       "      <td>5000</td>\n",
       "      <td>4449.18</td>\n",
       "      <td>2016-01-16 01:41:11</td>\n",
       "      <td>0.00</td>\n",
       "      <td>Lyft</td>\n",
       "      <td>US</td>\n",
       "      <td>US</td>\n",
       "      <td>2.0</td>\n",
       "      <td>...</td>\n",
       "      <td>492</td>\n",
       "      <td>9184</td>\n",
       "      <td>ADDRESS_VERIFICATION</td>\n",
       "      <td>False</td>\n",
       "      <td>550.82</td>\n",
       "      <td>False</td>\n",
       "      <td>False</td>\n",
       "      <td>1</td>\n",
       "      <td>1</td>\n",
       "      <td>16</td>\n",
       "    </tr>\n",
       "  </tbody>\n",
       "</table>\n",
       "<p>5 rows × 26 columns</p>\n",
       "</div>"
      ],
      "text/plain": [
       "   accountNumber  customerId  creditLimit  availableMoney  \\\n",
       "0      733493772   733493772         5000         5000.00   \n",
       "1      733493772   733493772         5000         4888.67   \n",
       "2      733493772   733493772         5000         4863.92   \n",
       "3      733493772   733493772         5000         4676.52   \n",
       "4      733493772   733493772         5000         4449.18   \n",
       "\n",
       "   transactionDateTime  transactionAmount merchantName acqCountry  \\\n",
       "0  2016-01-08 19:04:50             111.33         Lyft         US   \n",
       "1  2016-01-09 22:32:39              24.75         Uber         US   \n",
       "2  2016-01-11 13:36:55             187.40         Lyft         US   \n",
       "3  2016-01-11 22:47:46             227.34         Lyft         US   \n",
       "4  2016-01-16 01:41:11               0.00         Lyft         US   \n",
       "\n",
       "  merchantCountryCode  posEntryMode  ...  enteredCVV cardLast4Digits  \\\n",
       "0                  US           5.0  ...         492            9184   \n",
       "1                  US           9.0  ...         492            9184   \n",
       "2                  US           5.0  ...         492            9184   \n",
       "3                  US           2.0  ...         492            9184   \n",
       "4                  US           2.0  ...         492            9184   \n",
       "\n",
       "        transactionType isFraud currentBalance  cardPresent  \\\n",
       "0              PURCHASE    True           0.00        False   \n",
       "1              PURCHASE   False         111.33        False   \n",
       "2              PURCHASE   False         136.08        False   \n",
       "3              PURCHASE    True         323.48        False   \n",
       "4  ADDRESS_VERIFICATION   False         550.82        False   \n",
       "\n",
       "   expirationDateKeyInMatch  txn_hour txn_month  txn_day  \n",
       "0                     False        19         1        8  \n",
       "1                     False        22         1        9  \n",
       "2                     False        13         1       11  \n",
       "3                     False        22         1       11  \n",
       "4                     False         1         1       16  \n",
       "\n",
       "[5 rows x 26 columns]"
      ]
     },
     "execution_count": 6,
     "metadata": {},
     "output_type": "execute_result"
    }
   ],
   "source": [
    "df1.head(5)"
   ]
  },
  {
   "cell_type": "markdown",
   "id": "5235f482",
   "metadata": {},
   "source": [
    "## Customer ID and Account Information"
   ]
  },
  {
   "cell_type": "markdown",
   "id": "28c6037a",
   "metadata": {},
   "source": [
    "7. How many unique customers are there, and how many accounts per customer?\n",
    "8. Are there customers with multiple accounts showing unusual activity?\n",
    "9. Which customers have the highest number of transactions?\n",
    "10. Do certain customers/accounts have a higher rate of fradulent transactions?"
   ]
  },
  {
   "cell_type": "markdown",
   "id": "9e6962b2",
   "metadata": {},
   "source": [
    "## posEntryMode and posConditionCode Information"
   ]
  },
  {
   "cell_type": "markdown",
   "id": "866ea282",
   "metadata": {},
   "source": [
    "11. What are the most frequent POS entry modes?\n",
    "12. Is fraud more common in any particular entry mode?\n",
    "13. Are online (keyed) vs card-present( swiped/tapped) entry modes associated with different transaction amounts?\n",
    "14. What are the most common POS condition codes?\n",
    "15. How to different condition codes relate to fraud?\n",
    "16. Are some condition codes tried to specific merchant categories or regions?"
   ]
  },
  {
   "cell_type": "markdown",
   "id": "4e79c8eb",
   "metadata": {},
   "source": [
    "## Date and time features"
   ]
  },
  {
   "cell_type": "markdown",
   "id": "5da82fee",
   "metadata": {},
   "source": [
    "17. Are there time periods with more fraud?\n",
    "18. Is fraud more common during weekends or weekday?\n",
    "19. What is the age of accounts? (opendate to first transaction date)/ (current date - open date)\n",
    "20. Do newer accounts have more fraud compared to older ones?\n"
   ]
  },
  {
   "cell_type": "markdown",
   "id": "125bb9ef",
   "metadata": {},
   "source": [
    "**date of Last Address Change**\n",
    "<br>\n",
    "21. How many days since the last address change?\n"
   ]
  },
  {
   "cell_type": "markdown",
   "id": "e3202d18",
   "metadata": {},
   "source": [
    "**currentExpDate** <br>\n",
    "22. Are frauds more likely near or after the expiration date?<br>\n",
    "23. How many cards are close to expiration? Is that related to fraud?"
   ]
  }
 ],
 "metadata": {
  "kernelspec": {
   "display_name": "venv",
   "language": "python",
   "name": "python3"
  },
  "language_info": {
   "codemirror_mode": {
    "name": "ipython",
    "version": 3
   },
   "file_extension": ".py",
   "mimetype": "text/x-python",
   "name": "python",
   "nbconvert_exporter": "python",
   "pygments_lexer": "ipython3",
   "version": "3.12.6"
  }
 },
 "nbformat": 4,
 "nbformat_minor": 5
}
