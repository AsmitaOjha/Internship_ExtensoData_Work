{
 "cells": [
  {
   "cell_type": "code",
   "execution_count": null,
   "id": "894793d5",
   "metadata": {},
   "outputs": [],
   "source": [
    "import pandas as pd\n",
    "import numpy as np \n",
    "import matplotlib.pyplot as plt \n",
    "import seaborn as sns \n",
    "import plotly.express as px \n",
    "import scipy\n",
    "from scipy.stats import zscore\n"
   ]
  },
  {
   "cell_type": "code",
   "execution_count": 19,
   "id": "0751b9c3",
   "metadata": {},
   "outputs": [
    {
     "name": "stdout",
     "output_type": "stream",
     "text": [
      "<class 'pandas.core.frame.DataFrame'>\n",
      "RangeIndex: 641914 entries, 0 to 641913\n",
      "Data columns (total 26 columns):\n",
      " #   Column                    Non-Null Count   Dtype  \n",
      "---  ------                    --------------   -----  \n",
      " 0   accountNumber             641914 non-null  int64  \n",
      " 1   customerId                641914 non-null  int64  \n",
      " 2   creditLimit               641914 non-null  int64  \n",
      " 3   availableMoney            641914 non-null  float64\n",
      " 4   transactionDateTime       641914 non-null  object \n",
      " 5   transactionAmount         641914 non-null  float64\n",
      " 6   merchantName              641914 non-null  object \n",
      " 7   acqCountry                641914 non-null  object \n",
      " 8   merchantCountryCode       641914 non-null  object \n",
      " 9   posEntryMode              641914 non-null  float64\n",
      " 10  posConditionCode          641914 non-null  float64\n",
      " 11  merchantCategoryCode      641914 non-null  object \n",
      " 12  currentExpDate            641914 non-null  object \n",
      " 13  accountOpenDate           641914 non-null  object \n",
      " 14  dateOfLastAddressChange   641914 non-null  object \n",
      " 15  cardCVV                   641914 non-null  int64  \n",
      " 16  enteredCVV                641914 non-null  int64  \n",
      " 17  cardLast4Digits           641914 non-null  int64  \n",
      " 18  transactionType           641914 non-null  object \n",
      " 19  isFraud                   641914 non-null  bool   \n",
      " 20  currentBalance            641914 non-null  float64\n",
      " 21  cardPresent               641914 non-null  bool   \n",
      " 22  expirationDateKeyInMatch  641914 non-null  bool   \n",
      " 23  txn_hour                  641914 non-null  int64  \n",
      " 24  txn_month                 641914 non-null  int64  \n",
      " 25  txn_day                   641914 non-null  int64  \n",
      "dtypes: bool(3), float64(5), int64(9), object(9)\n",
      "memory usage: 114.5+ MB\n",
      "None\n",
      "<class 'pandas.core.frame.DataFrame'>\n",
      "RangeIndex: 641914 entries, 0 to 641913\n",
      "Data columns (total 26 columns):\n",
      " #   Column                    Non-Null Count   Dtype         \n",
      "---  ------                    --------------   -----         \n",
      " 0   accountNumber             641914 non-null  int64         \n",
      " 1   customerId                641914 non-null  int64         \n",
      " 2   creditLimit               641914 non-null  int64         \n",
      " 3   availableMoney            641914 non-null  float64       \n",
      " 4   transactionDateTime       641914 non-null  datetime64[ns]\n",
      " 5   transactionAmount         641914 non-null  float64       \n",
      " 6   merchantName              641914 non-null  object        \n",
      " 7   acqCountry                641914 non-null  object        \n",
      " 8   merchantCountryCode       641914 non-null  object        \n",
      " 9   posEntryMode              641914 non-null  float64       \n",
      " 10  posConditionCode          641914 non-null  float64       \n",
      " 11  merchantCategoryCode      641914 non-null  object        \n",
      " 12  currentExpDate            641914 non-null  datetime64[ns]\n",
      " 13  accountOpenDate           641914 non-null  datetime64[ns]\n",
      " 14  dateOfLastAddressChange   641914 non-null  datetime64[ns]\n",
      " 15  cardCVV                   641914 non-null  int64         \n",
      " 16  enteredCVV                641914 non-null  int64         \n",
      " 17  cardLast4Digits           641914 non-null  int64         \n",
      " 18  transactionType           641914 non-null  object        \n",
      " 19  isFraud                   641914 non-null  bool          \n",
      " 20  currentBalance            641914 non-null  float64       \n",
      " 21  cardPresent               641914 non-null  bool          \n",
      " 22  expirationDateKeyInMatch  641914 non-null  bool          \n",
      " 23  txn_hour                  641914 non-null  int64         \n",
      " 24  txn_month                 641914 non-null  int64         \n",
      " 25  txn_day                   641914 non-null  int64         \n",
      "dtypes: bool(3), datetime64[ns](4), float64(5), int64(9), object(5)\n",
      "memory usage: 114.5+ MB\n",
      "None\n"
     ]
    }
   ],
   "source": [
    "df1 = pd.read_csv(\"e:/2025/ExtensoData_Internship_Work/Projects/Task_3_EDA/data/cleaned_transactions.csv\")\n",
    "print(df1.info())\n",
    "\n",
    "# changing datetime columun to datetime format\n",
    "df1['transactionDateTime'] = pd.to_datetime(df1['transactionDateTime'])\n",
    "df1[\"accountOpenDate\"] = pd.to_datetime(df1[\"accountOpenDate\"])\n",
    "df1['currentExpDate'] = pd.to_datetime(df1['currentExpDate'])\n",
    "df1['dateOfLastAddressChange'] = pd.to_datetime(df1['dateOfLastAddressChange'])\n",
    "df1['transactionDateTime'].dtype\n",
    "print(df1.info())\n"
   ]
  },
  {
   "cell_type": "markdown",
   "id": "68c51053",
   "metadata": {},
   "source": [
    "## Summary Statistics for Numeric Columns"
   ]
  },
  {
   "cell_type": "markdown",
   "id": "97973e3b",
   "metadata": {},
   "source": [
    "1. What are the min, max, mean, median, and standard deviation of:\n",
    "    - transactionAmount\n",
    "    - availableMoney\n",
    "    - creditLimit\n",
    "    - currentBalance\n",
    "\n",
    "2. Are there outliers or unusually high/low values"
   ]
  },
  {
   "cell_type": "code",
   "execution_count": 8,
   "id": "55013410",
   "metadata": {},
   "outputs": [
    {
     "data": {
      "text/html": [
       "<div>\n",
       "<style scoped>\n",
       "    .dataframe tbody tr th:only-of-type {\n",
       "        vertical-align: middle;\n",
       "    }\n",
       "\n",
       "    .dataframe tbody tr th {\n",
       "        vertical-align: top;\n",
       "    }\n",
       "\n",
       "    .dataframe thead th {\n",
       "        text-align: right;\n",
       "    }\n",
       "</style>\n",
       "<table border=\"1\" class=\"dataframe\">\n",
       "  <thead>\n",
       "    <tr style=\"text-align: right;\">\n",
       "      <th></th>\n",
       "      <th>creditLimit</th>\n",
       "      <th>availableMoney</th>\n",
       "      <th>transactionAmount</th>\n",
       "      <th>currentBalance</th>\n",
       "    </tr>\n",
       "  </thead>\n",
       "  <tbody>\n",
       "    <tr>\n",
       "      <th>count</th>\n",
       "      <td>641914.000000</td>\n",
       "      <td>641914.000000</td>\n",
       "      <td>641914.000000</td>\n",
       "      <td>641914.000000</td>\n",
       "    </tr>\n",
       "    <tr>\n",
       "      <th>mean</th>\n",
       "      <td>10697.210608</td>\n",
       "      <td>6652.828573</td>\n",
       "      <td>135.162497</td>\n",
       "      <td>4044.382035</td>\n",
       "    </tr>\n",
       "    <tr>\n",
       "      <th>std</th>\n",
       "      <td>11460.359133</td>\n",
       "      <td>9227.132275</td>\n",
       "      <td>147.053302</td>\n",
       "      <td>5945.510224</td>\n",
       "    </tr>\n",
       "    <tr>\n",
       "      <th>min</th>\n",
       "      <td>250.000000</td>\n",
       "      <td>-1244.930000</td>\n",
       "      <td>0.000000</td>\n",
       "      <td>0.000000</td>\n",
       "    </tr>\n",
       "    <tr>\n",
       "      <th>25%</th>\n",
       "      <td>5000.000000</td>\n",
       "      <td>1114.970000</td>\n",
       "      <td>32.320000</td>\n",
       "      <td>502.442500</td>\n",
       "    </tr>\n",
       "    <tr>\n",
       "      <th>50%</th>\n",
       "      <td>7500.000000</td>\n",
       "      <td>3578.165000</td>\n",
       "      <td>85.800000</td>\n",
       "      <td>2151.860000</td>\n",
       "    </tr>\n",
       "    <tr>\n",
       "      <th>75%</th>\n",
       "      <td>15000.000000</td>\n",
       "      <td>8169.185000</td>\n",
       "      <td>189.030000</td>\n",
       "      <td>5005.890000</td>\n",
       "    </tr>\n",
       "    <tr>\n",
       "      <th>max</th>\n",
       "      <td>50000.000000</td>\n",
       "      <td>50000.000000</td>\n",
       "      <td>1825.250000</td>\n",
       "      <td>47496.500000</td>\n",
       "    </tr>\n",
       "  </tbody>\n",
       "</table>\n",
       "</div>"
      ],
      "text/plain": [
       "         creditLimit  availableMoney  transactionAmount  currentBalance\n",
       "count  641914.000000   641914.000000      641914.000000   641914.000000\n",
       "mean    10697.210608     6652.828573         135.162497     4044.382035\n",
       "std     11460.359133     9227.132275         147.053302     5945.510224\n",
       "min       250.000000    -1244.930000           0.000000        0.000000\n",
       "25%      5000.000000     1114.970000          32.320000      502.442500\n",
       "50%      7500.000000     3578.165000          85.800000     2151.860000\n",
       "75%     15000.000000     8169.185000         189.030000     5005.890000\n",
       "max     50000.000000    50000.000000        1825.250000    47496.500000"
      ]
     },
     "execution_count": 8,
     "metadata": {},
     "output_type": "execute_result"
    }
   ],
   "source": [
    "# Question 1 \n",
    "df1[['creditLimit', 'availableMoney', 'transactionAmount', 'currentBalance']].describe()\n",
    "\n"
   ]
  },
  {
   "cell_type": "markdown",
   "id": "b11f83e0",
   "metadata": {},
   "source": [
    "Insights gained\n",
    "1. Based on Std\n",
    "    - creditLimit : High variation. Some customers have very small limits (250) while others go up to 50000.\n",
    "    - availableMoney : Wide spread, including negative balances. Suggest different usuage patterns- some maxing out cards, others preserving credit.\n",
    "    - transactionAmount: Most people spend small amounts , but a few spend a lot in on ego (1825). So the spending pattern is not the same for everyone.\n",
    "    - currentBalance : Again, wide variablility. Some accounts carry very low(0) while some have very high balances (47496.5)\n",
    "\n",
    "2. Based on other statistics\n",
    "    - Most customers have credit limits below 7500, with 75% under 15000. While few premium accounts with 50,000 credit limits.\n",
    "    - Some accounts appear to be overdrawn (negative values), while 75% have available money below 8000\n",
    "    - 75% of transactions are below 189 and likely to be everyday purchases. Some with high value like 1825 in one go.\n",
    "    - Some have large current balance (47,497) while some have zero balance, average is 4,044."
   ]
  },
  {
   "cell_type": "markdown",
   "id": "26a3a073",
   "metadata": {},
   "source": [
    "## Exploring Categorical Columns"
   ]
  },
  {
   "cell_type": "markdown",
   "id": "12d4148c",
   "metadata": {},
   "source": [
    "3. What are the unique values in:\n",
    "    - merchantCategoryCode\n",
    "    - transactionType\n",
    "    - acqCountry\n",
    "    - merchantCountryCode\n",
    "    - merchantName\n",
    "2. What are the most frequet values in those columns?"
   ]
  },
  {
   "cell_type": "code",
   "execution_count": 14,
   "id": "b5191464",
   "metadata": {},
   "outputs": [
    {
     "name": "stdout",
     "output_type": "stream",
     "text": [
      "merchantCategoryCode:  ['rideshare' 'online_gifts' 'personal care' 'fastfood' 'entertainment'\n",
      " 'online_subscriptions' 'mobileapps' 'fuel' 'food' 'online_retail'\n",
      " 'airline' 'hotels' 'food_delivery' 'cable/phone' 'subscriptions' 'auto'\n",
      " 'gym' 'furniture' 'health']\n",
      "\n",
      "transactionType ['PURCHASE' 'ADDRESS_VERIFICATION' 'REVERSAL']\n",
      "\n",
      "acqCountry ['US' 'PR' 'MEX' 'CAN']\n",
      "\n",
      "merchantName ['Lyft' 'Uber' 'Fresh eCards' ... 'Runners #332755' 'Curves #440052'\n",
      " 'Virgin #218063']\n",
      "\n",
      "merchantCountryCode ['US' 'PR' 'MEX' 'CAN']\n",
      "\n",
      "posEntryMode [ 5.  9.  2. 90. 80.]\n",
      "\n",
      "posConditionCode [ 1.  8. 99.]\n",
      "merchantCategoryCode: 19\n",
      "transactionType: 3\n",
      "acqCountry: 4\n",
      "merchantCountryCode: 4\n",
      "merchantName: 2493\n",
      "posEntryMode 5\n",
      "posConditionCode 3\n"
     ]
    }
   ],
   "source": [
    "# unique method for seeing the list of unique values\n",
    "print(\"merchantCategoryCode: \", df1['merchantCategoryCode'].unique())\n",
    "print()\n",
    "print(\"transactionType\", df1['transactionType'].unique())\n",
    "print()\n",
    "print(\"acqCountry\", df1['acqCountry'].unique())\n",
    "print()\n",
    "print(\"merchantName\", df1['merchantName'].unique())\n",
    "print()\n",
    "print(\"merchantCountryCode\", df1['merchantCountryCode'].unique())\n",
    "print()\n",
    "print(\"posEntryMode\",df1['posEntryMode'].unique())\n",
    "print()\n",
    "print(\"posConditionCode\", df1['posConditionCode'].unique()) \n",
    "\n",
    "\n",
    "# nunique method for count value of unique values\n",
    "# Print number of unique values for each\n",
    "print(\"merchantCategoryCode:\", df1['merchantCategoryCode'].nunique())\n",
    "print(\"transactionType:\", df1['transactionType'].nunique())\n",
    "print(\"acqCountry:\", df1['acqCountry'].nunique())\n",
    "print(\"merchantCountryCode:\", df1['merchantCountryCode'].nunique())\n",
    "print(\"merchantName:\", df1['merchantName'].nunique())\n",
    "print('posEntryMode',df1['posEntryMode'].nunique())\n",
    "print('posConditionCode',df1['posConditionCode'].nunique())\n",
    "\n",
    "      \n"
   ]
  },
  {
   "cell_type": "markdown",
   "id": "b6c4f139",
   "metadata": {},
   "source": [
    "## Understanding variable (isFraud)"
   ]
  },
  {
   "cell_type": "markdown",
   "id": "ef62b642",
   "metadata": {},
   "source": [
    "5. How many transactions are marked as fraud vs not fraud?\n",
    "6. What is the percentage of fradulent transactions?"
   ]
  },
  {
   "cell_type": "code",
   "execution_count": 25,
   "id": "0d7d8310",
   "metadata": {},
   "outputs": [
    {
     "name": "stdout",
     "output_type": "stream",
     "text": [
      "isFraud\n",
      "False    630612\n",
      "True      11302\n",
      "Name: count, dtype: int64\n",
      "1.7606719903289225\n"
     ]
    },
    {
     "name": "stderr",
     "output_type": "stream",
     "text": [
      "C:\\Users\\dell\\AppData\\Local\\Temp\\ipykernel_16272\\514022667.py:11: FutureWarning: Series.__getitem__ treating keys as positions is deprecated. In a future version, integer keys will always be treated as labels (consistent with DataFrame behavior). To access a value by position, use `ser.iloc[pos]`\n",
      "  percentage_of_fraud = (fraud_transactions[1]/(fraud_transactions[0]+fraud_transactions[1]))*100\n"
     ]
    }
   ],
   "source": [
    "#sorting by trasnaction time\n",
    "sorted_df = df1.sort_values(by='transactionDateTime', ascending=False)\n",
    "\n",
    "# print(sorted_df.head())\n",
    "\n",
    "#fraud_transactions = sorted_df[sorted_df['isFraud']].value_counts() # this gives dataframe rows\n",
    "fraud_transactions = sorted_df['isFraud'].value_counts()\n",
    "print(fraud_transactions)\n",
    "\n",
    "#percentage of fradulent transactions:\n",
    "percentage_of_fraud = (fraud_transactions[1]/(fraud_transactions[0]+fraud_transactions[1]))*100\n",
    "print(percentage_of_fraud)\n"
   ]
  },
  {
   "cell_type": "markdown",
   "id": "5235f482",
   "metadata": {},
   "source": [
    "## Customer ID and Account Information"
   ]
  },
  {
   "cell_type": "markdown",
   "id": "28c6037a",
   "metadata": {},
   "source": [
    "7. How many unique customers are there, and how many accounts per customer?\n",
    "8. Are there customers with multiple accounts showing unusual activity?\n",
    "9. Which customers have the highest number of transactions?\n",
    "10. Do certain customers/accounts have a higher rate of fradulent transactions?"
   ]
  },
  {
   "cell_type": "code",
   "execution_count": 36,
   "id": "70c5d0be",
   "metadata": {},
   "outputs": [
    {
     "name": "stdout",
     "output_type": "stream",
     "text": [
      "unique_accounts count: 5000\n",
      "<class 'pandas.core.frame.DataFrame'>\n",
      "RangeIndex: 641914 entries, 0 to 641913\n",
      "Data columns (total 25 columns):\n",
      " #   Column                    Non-Null Count   Dtype         \n",
      "---  ------                    --------------   -----         \n",
      " 0   accountNumber             641914 non-null  int64         \n",
      " 1   creditLimit               641914 non-null  int64         \n",
      " 2   availableMoney            641914 non-null  float64       \n",
      " 3   transactionDateTime       641914 non-null  datetime64[ns]\n",
      " 4   transactionAmount         641914 non-null  float64       \n",
      " 5   merchantName              641914 non-null  object        \n",
      " 6   acqCountry                641914 non-null  object        \n",
      " 7   merchantCountryCode       641914 non-null  object        \n",
      " 8   posEntryMode              641914 non-null  float64       \n",
      " 9   posConditionCode          641914 non-null  float64       \n",
      " 10  merchantCategoryCode      641914 non-null  object        \n",
      " 11  currentExpDate            641914 non-null  datetime64[ns]\n",
      " 12  accountOpenDate           641914 non-null  datetime64[ns]\n",
      " 13  dateOfLastAddressChange   641914 non-null  datetime64[ns]\n",
      " 14  cardCVV                   641914 non-null  int64         \n",
      " 15  enteredCVV                641914 non-null  int64         \n",
      " 16  cardLast4Digits           641914 non-null  int64         \n",
      " 17  transactionType           641914 non-null  object        \n",
      " 18  isFraud                   641914 non-null  bool          \n",
      " 19  currentBalance            641914 non-null  float64       \n",
      " 20  cardPresent               641914 non-null  bool          \n",
      " 21  expirationDateKeyInMatch  641914 non-null  bool          \n",
      " 22  txn_hour                  641914 non-null  int64         \n",
      " 23  txn_month                 641914 non-null  int64         \n",
      " 24  txn_day                   641914 non-null  int64         \n",
      "dtypes: bool(3), datetime64[ns](4), float64(5), int64(8), object(5)\n",
      "memory usage: 109.6+ MB\n"
     ]
    }
   ],
   "source": [
    "#Unique customer and accounts count\n",
    "# unique_customers= df1['customerId'].unique()\n",
    "# print(f\"Unique customers count: {len(unique_customers)}\")\n",
    "#output: 5000\n",
    "\n",
    "unique_accounts = df1['accountNumber'].unique()\n",
    "print(f\"unique_accounts count: {len(unique_accounts)}\")\n",
    "#output: 5000\n",
    "\n",
    "#(df1['customerId'] == df1['accountNumber']).all()\n",
    "#checked row by row if both are same and found true\n",
    "\n",
    "#df1 = df1.drop('customerId', axis=1)\n",
    "#dropped the customerID column\n",
    "df1.info()\n"
   ]
  },
  {
   "cell_type": "markdown",
   "id": "0af537de",
   "metadata": {},
   "source": [
    "**Account/Customer with highest number of transactions**"
   ]
  },
  {
   "cell_type": "code",
   "execution_count": 40,
   "id": "09ee6270",
   "metadata": {},
   "outputs": [
    {
     "name": "stdout",
     "output_type": "stream",
     "text": [
      "      accountNumber  transaction_count\n",
      "1205      318001076              10034\n",
      "1978      456044564               8382\n",
      "3945      812328116               5494\n",
      "4101      838085703               5129\n",
      "766       239875038               4705\n",
      "...             ...                ...\n",
      "1703      406722896                  1\n",
      "4600      924628692                  1\n",
      "4903      981518869                  1\n",
      "4901      981286839                  1\n",
      "4500      908337167                  1\n",
      "\n",
      "[5000 rows x 2 columns]\n",
      "Maximum frequency of transactions: 10034\n"
     ]
    }
   ],
   "source": [
    "# Group by 'accountNumber' and count the number of transactions (using 'transactionAmount' as a proxy)\n",
    "transaction_frequency = sorted_df.groupby('accountNumber')['transactionAmount'].count().reset_index()\n",
    "\n",
    "# Rename the count column for clarity\n",
    "transaction_frequency = transaction_frequency.rename(columns={'transactionAmount': 'transaction_count'})\n",
    "\n",
    "# Sort by transaction count in descending order\n",
    "transaction_frequency_sorted = transaction_frequency.sort_values(by='transaction_count', ascending=False)\n",
    "\n",
    "# Get the maximum frequency\n",
    "max_frequency = transaction_frequency_sorted['transaction_count'].max()\n",
    "\n",
    "# Print the sorted transaction frequency and the maximum frequency\n",
    "print(transaction_frequency_sorted)\n",
    "print(\"Maximum frequency of transactions:\", max_frequency)\n"
   ]
  },
  {
   "cell_type": "markdown",
   "id": "c34bc51d",
   "metadata": {},
   "source": [
    "AccountNumber : 318001076 does highest number of transaction in year 2016 i.e. 10,034"
   ]
  },
  {
   "cell_type": "markdown",
   "id": "94260f4e",
   "metadata": {},
   "source": [
    "**Do certain customers/accounts have a higher rate of fradulent transactions?**"
   ]
  },
  {
   "cell_type": "markdown",
   "id": "91851518",
   "metadata": {},
   "source": [
    "Steps\n",
    "1. Find all transactions that a particular account has done\n",
    "2. Among them find how many are fradulent(isFraud = True)\n",
    "3. Then calculate percentage of fradulent transactions for that account"
   ]
  },
  {
   "cell_type": "code",
   "execution_count": 48,
   "id": "daa8a119",
   "metadata": {},
   "outputs": [
    {
     "name": "stdout",
     "output_type": "stream",
     "text": [
      "      accountNumber  transactionAmount\n",
      "0         100547107                 85\n",
      "1         100634414                 24\n",
      "2         100973869                 46\n",
      "3         101192712                 20\n",
      "4         101548993                 29\n",
      "...             ...                ...\n",
      "4995      999273501                  8\n",
      "4996      999275549                230\n",
      "4997      999789077                 72\n",
      "4998      999984515                 32\n",
      "4999      999985343                104\n",
      "\n",
      "[5000 rows x 2 columns]\n",
      "      accountNumber  fraud_count\n",
      "0         100547107            1\n",
      "1         100634414            0\n",
      "2         100973869            0\n",
      "3         101192712            0\n",
      "4         101548993            0\n",
      "...             ...          ...\n",
      "4995      999273501            0\n",
      "4996      999275549            4\n",
      "4997      999789077            1\n",
      "4998      999984515            0\n",
      "4999      999985343            0\n",
      "\n",
      "[5000 rows x 2 columns]\n"
     ]
    }
   ],
   "source": [
    "total_transactions_frequency= sorted_df.groupby('accountNumber').transactionAmount.count().reset_index()\n",
    "print(total_transactions_frequency)\n",
    "\n",
    "fraud_transactions_frequency = sorted_df.groupby(\"accountNumber\")['isFraud'].sum().reset_index().rename(columns ={'isFraud':'fraud_count'})\n",
    "print(fraud_transactions_frequency)\n",
    "\n"
   ]
  },
  {
   "cell_type": "markdown",
   "id": "9e6962b2",
   "metadata": {},
   "source": [
    "## posEntryMode and posConditionCode Information"
   ]
  },
  {
   "cell_type": "markdown",
   "id": "866ea282",
   "metadata": {},
   "source": [
    "11. What are the most frequent POS entry modes?\n",
    "12. Is fraud more common in any particular entry mode?\n",
    "13. Are online (keyed) vs card-present( swiped/tapped) entry modes associated with different transaction amounts?\n",
    "14. What are the most common POS condition codes?\n",
    "15. How to different condition codes relate to fraud?\n",
    "16. Are some condition codes tried to specific merchant categories or regions?"
   ]
  },
  {
   "cell_type": "markdown",
   "id": "4e79c8eb",
   "metadata": {},
   "source": [
    "## Date and time features"
   ]
  },
  {
   "cell_type": "markdown",
   "id": "5da82fee",
   "metadata": {},
   "source": [
    "17. Are there time periods with more fraud?\n",
    "18. Is fraud more common during weekends or weekday?\n",
    "19. What is the age of accounts? (opendate to first transaction date)/ (current date - open date)\n",
    "20. Do newer accounts have more fraud compared to older ones?\n"
   ]
  },
  {
   "cell_type": "markdown",
   "id": "125bb9ef",
   "metadata": {},
   "source": [
    "**date of Last Address Change**\n",
    "<br>\n",
    "21. How many days since the last address change?\n"
   ]
  },
  {
   "cell_type": "markdown",
   "id": "e3202d18",
   "metadata": {},
   "source": [
    "**currentExpDate** <br>\n",
    "22. Are frauds more likely near or after the expiration date?<br>\n",
    "23. How many cards are close to expiration? Is that related to fraud?"
   ]
  }
 ],
 "metadata": {
  "kernelspec": {
   "display_name": "venv",
   "language": "python",
   "name": "python3"
  },
  "language_info": {
   "codemirror_mode": {
    "name": "ipython",
    "version": 3
   },
   "file_extension": ".py",
   "mimetype": "text/x-python",
   "name": "python",
   "nbconvert_exporter": "python",
   "pygments_lexer": "ipython3",
   "version": "3.12.6"
  }
 },
 "nbformat": 4,
 "nbformat_minor": 5
}
