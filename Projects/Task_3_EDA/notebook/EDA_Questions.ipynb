{
 "cells": [
  {
   "cell_type": "code",
   "execution_count": 1,
   "id": "894793d5",
   "metadata": {},
   "outputs": [],
   "source": [
    "import pandas as pd\n",
    "import numpy as np \n",
    "import matplotlib.pyplot as plt \n",
    "import seaborn as sns \n",
    "import plotly.express as px \n",
    "import scipy\n",
    "from scipy.stats import zscore\n"
   ]
  },
  {
   "cell_type": "code",
   "execution_count": 2,
   "id": "0751b9c3",
   "metadata": {},
   "outputs": [
    {
     "name": "stdout",
     "output_type": "stream",
     "text": [
      "<class 'pandas.core.frame.DataFrame'>\n",
      "RangeIndex: 641914 entries, 0 to 641913\n",
      "Data columns (total 26 columns):\n",
      " #   Column                    Non-Null Count   Dtype  \n",
      "---  ------                    --------------   -----  \n",
      " 0   accountNumber             641914 non-null  int64  \n",
      " 1   customerId                641914 non-null  int64  \n",
      " 2   creditLimit               641914 non-null  int64  \n",
      " 3   availableMoney            641914 non-null  float64\n",
      " 4   transactionDateTime       641914 non-null  object \n",
      " 5   transactionAmount         641914 non-null  float64\n",
      " 6   merchantName              641914 non-null  object \n",
      " 7   acqCountry                641914 non-null  object \n",
      " 8   merchantCountryCode       641914 non-null  object \n",
      " 9   posEntryMode              641914 non-null  float64\n",
      " 10  posConditionCode          641914 non-null  float64\n",
      " 11  merchantCategoryCode      641914 non-null  object \n",
      " 12  currentExpDate            641914 non-null  object \n",
      " 13  accountOpenDate           641914 non-null  object \n",
      " 14  dateOfLastAddressChange   641914 non-null  object \n",
      " 15  cardCVV                   641914 non-null  int64  \n",
      " 16  enteredCVV                641914 non-null  int64  \n",
      " 17  cardLast4Digits           641914 non-null  int64  \n",
      " 18  transactionType           641914 non-null  object \n",
      " 19  isFraud                   641914 non-null  bool   \n",
      " 20  currentBalance            641914 non-null  float64\n",
      " 21  cardPresent               641914 non-null  bool   \n",
      " 22  expirationDateKeyInMatch  641914 non-null  bool   \n",
      " 23  txn_hour                  641914 non-null  int64  \n",
      " 24  txn_month                 641914 non-null  int64  \n",
      " 25  txn_day                   641914 non-null  int64  \n",
      "dtypes: bool(3), float64(5), int64(9), object(9)\n",
      "memory usage: 114.5+ MB\n",
      "None\n",
      "<class 'pandas.core.frame.DataFrame'>\n",
      "RangeIndex: 641914 entries, 0 to 641913\n",
      "Data columns (total 26 columns):\n",
      " #   Column                    Non-Null Count   Dtype         \n",
      "---  ------                    --------------   -----         \n",
      " 0   accountNumber             641914 non-null  int64         \n",
      " 1   customerId                641914 non-null  int64         \n",
      " 2   creditLimit               641914 non-null  int64         \n",
      " 3   availableMoney            641914 non-null  float64       \n",
      " 4   transactionDateTime       641914 non-null  datetime64[ns]\n",
      " 5   transactionAmount         641914 non-null  float64       \n",
      " 6   merchantName              641914 non-null  object        \n",
      " 7   acqCountry                641914 non-null  object        \n",
      " 8   merchantCountryCode       641914 non-null  object        \n",
      " 9   posEntryMode              641914 non-null  float64       \n",
      " 10  posConditionCode          641914 non-null  float64       \n",
      " 11  merchantCategoryCode      641914 non-null  object        \n",
      " 12  currentExpDate            641914 non-null  datetime64[ns]\n",
      " 13  accountOpenDate           641914 non-null  datetime64[ns]\n",
      " 14  dateOfLastAddressChange   641914 non-null  datetime64[ns]\n",
      " 15  cardCVV                   641914 non-null  int64         \n",
      " 16  enteredCVV                641914 non-null  int64         \n",
      " 17  cardLast4Digits           641914 non-null  int64         \n",
      " 18  transactionType           641914 non-null  object        \n",
      " 19  isFraud                   641914 non-null  bool          \n",
      " 20  currentBalance            641914 non-null  float64       \n",
      " 21  cardPresent               641914 non-null  bool          \n",
      " 22  expirationDateKeyInMatch  641914 non-null  bool          \n",
      " 23  txn_hour                  641914 non-null  int64         \n",
      " 24  txn_month                 641914 non-null  int64         \n",
      " 25  txn_day                   641914 non-null  int64         \n",
      "dtypes: bool(3), datetime64[ns](4), float64(5), int64(9), object(5)\n",
      "memory usage: 114.5+ MB\n",
      "None\n"
     ]
    }
   ],
   "source": [
    "df1 = pd.read_csv(\"e:/2025/ExtensoData_Internship_Work/Projects/Task_3_EDA/data/cleaned_transactions.csv\")\n",
    "print(df1.info())\n",
    "\n",
    "# changing datetime columun to datetime format\n",
    "df1['transactionDateTime'] = pd.to_datetime(df1['transactionDateTime'])\n",
    "df1[\"accountOpenDate\"] = pd.to_datetime(df1[\"accountOpenDate\"])\n",
    "df1['currentExpDate'] = pd.to_datetime(df1['currentExpDate'])\n",
    "df1['dateOfLastAddressChange'] = pd.to_datetime(df1['dateOfLastAddressChange'])\n",
    "df1['transactionDateTime'].dtype\n",
    "print(df1.info())\n"
   ]
  },
  {
   "cell_type": "markdown",
   "id": "68c51053",
   "metadata": {},
   "source": [
    "## Summary Statistics for Numeric Columns"
   ]
  },
  {
   "cell_type": "markdown",
   "id": "97973e3b",
   "metadata": {},
   "source": [
    "1. What are the min, max, mean, median, and standard deviation of:\n",
    "    - transactionAmount\n",
    "    - availableMoney\n",
    "    - creditLimit\n",
    "    - currentBalance\n",
    "\n",
    "2. Are there outliers or unusually high/low values"
   ]
  },
  {
   "cell_type": "code",
   "execution_count": 3,
   "id": "55013410",
   "metadata": {},
   "outputs": [
    {
     "data": {
      "text/html": [
       "<div>\n",
       "<style scoped>\n",
       "    .dataframe tbody tr th:only-of-type {\n",
       "        vertical-align: middle;\n",
       "    }\n",
       "\n",
       "    .dataframe tbody tr th {\n",
       "        vertical-align: top;\n",
       "    }\n",
       "\n",
       "    .dataframe thead th {\n",
       "        text-align: right;\n",
       "    }\n",
       "</style>\n",
       "<table border=\"1\" class=\"dataframe\">\n",
       "  <thead>\n",
       "    <tr style=\"text-align: right;\">\n",
       "      <th></th>\n",
       "      <th>creditLimit</th>\n",
       "      <th>availableMoney</th>\n",
       "      <th>transactionAmount</th>\n",
       "      <th>currentBalance</th>\n",
       "    </tr>\n",
       "  </thead>\n",
       "  <tbody>\n",
       "    <tr>\n",
       "      <th>count</th>\n",
       "      <td>641914.000000</td>\n",
       "      <td>641914.000000</td>\n",
       "      <td>641914.000000</td>\n",
       "      <td>641914.000000</td>\n",
       "    </tr>\n",
       "    <tr>\n",
       "      <th>mean</th>\n",
       "      <td>10697.210608</td>\n",
       "      <td>6652.828573</td>\n",
       "      <td>135.162497</td>\n",
       "      <td>4044.382035</td>\n",
       "    </tr>\n",
       "    <tr>\n",
       "      <th>std</th>\n",
       "      <td>11460.359133</td>\n",
       "      <td>9227.132275</td>\n",
       "      <td>147.053302</td>\n",
       "      <td>5945.510224</td>\n",
       "    </tr>\n",
       "    <tr>\n",
       "      <th>min</th>\n",
       "      <td>250.000000</td>\n",
       "      <td>-1244.930000</td>\n",
       "      <td>0.000000</td>\n",
       "      <td>0.000000</td>\n",
       "    </tr>\n",
       "    <tr>\n",
       "      <th>25%</th>\n",
       "      <td>5000.000000</td>\n",
       "      <td>1114.970000</td>\n",
       "      <td>32.320000</td>\n",
       "      <td>502.442500</td>\n",
       "    </tr>\n",
       "    <tr>\n",
       "      <th>50%</th>\n",
       "      <td>7500.000000</td>\n",
       "      <td>3578.165000</td>\n",
       "      <td>85.800000</td>\n",
       "      <td>2151.860000</td>\n",
       "    </tr>\n",
       "    <tr>\n",
       "      <th>75%</th>\n",
       "      <td>15000.000000</td>\n",
       "      <td>8169.185000</td>\n",
       "      <td>189.030000</td>\n",
       "      <td>5005.890000</td>\n",
       "    </tr>\n",
       "    <tr>\n",
       "      <th>max</th>\n",
       "      <td>50000.000000</td>\n",
       "      <td>50000.000000</td>\n",
       "      <td>1825.250000</td>\n",
       "      <td>47496.500000</td>\n",
       "    </tr>\n",
       "  </tbody>\n",
       "</table>\n",
       "</div>"
      ],
      "text/plain": [
       "         creditLimit  availableMoney  transactionAmount  currentBalance\n",
       "count  641914.000000   641914.000000      641914.000000   641914.000000\n",
       "mean    10697.210608     6652.828573         135.162497     4044.382035\n",
       "std     11460.359133     9227.132275         147.053302     5945.510224\n",
       "min       250.000000    -1244.930000           0.000000        0.000000\n",
       "25%      5000.000000     1114.970000          32.320000      502.442500\n",
       "50%      7500.000000     3578.165000          85.800000     2151.860000\n",
       "75%     15000.000000     8169.185000         189.030000     5005.890000\n",
       "max     50000.000000    50000.000000        1825.250000    47496.500000"
      ]
     },
     "execution_count": 3,
     "metadata": {},
     "output_type": "execute_result"
    }
   ],
   "source": [
    "# Question 1 \n",
    "df1[['creditLimit', 'availableMoney', 'transactionAmount', 'currentBalance']].describe()\n",
    "\n"
   ]
  },
  {
   "cell_type": "markdown",
   "id": "b11f83e0",
   "metadata": {},
   "source": [
    "Insights gained\n",
    "1. Based on Std\n",
    "    - creditLimit : High variation. Some customers have very small limits (250) while others go up to 50000.\n",
    "    - availableMoney : Wide spread, including negative balances. Suggest different usuage patterns- some maxing out cards, others preserving credit.\n",
    "    - transactionAmount: Most people spend small amounts , but a few spend a lot in on ego (1825). So the spending pattern is not the same for everyone.\n",
    "    - currentBalance : Again, wide variablility. Some accounts carry very low(0) while some have very high balances (47496.5)\n",
    "\n",
    "2. Based on other statistics\n",
    "    - Most customers have credit limits below 7500, with 75% under 15000. While few premium accounts with 50,000 credit limits.\n",
    "    - Some accounts appear to be overdrawn (negative values), while 75% have available money below 8000\n",
    "    - 75% of transactions are below 189 and likely to be everyday purchases. Some with high value like 1825 in one go.\n",
    "    - Some have large current balance (47,497) while some have zero balance, average is 4,044."
   ]
  },
  {
   "cell_type": "markdown",
   "id": "26a3a073",
   "metadata": {},
   "source": [
    "## Exploring Categorical Columns"
   ]
  },
  {
   "cell_type": "markdown",
   "id": "12d4148c",
   "metadata": {},
   "source": [
    "3. What are the unique values in:\n",
    "    - merchantCategoryCode\n",
    "    - transactionType\n",
    "    - acqCountry\n",
    "    - merchantCountryCode\n",
    "    - merchantName\n",
    "2. What are the most frequet values in those columns?"
   ]
  },
  {
   "cell_type": "code",
   "execution_count": 4,
   "id": "b5191464",
   "metadata": {},
   "outputs": [
    {
     "name": "stdout",
     "output_type": "stream",
     "text": [
      "merchantCategoryCode:  ['rideshare' 'online_gifts' 'personal care' 'fastfood' 'entertainment'\n",
      " 'online_subscriptions' 'mobileapps' 'fuel' 'food' 'online_retail'\n",
      " 'airline' 'hotels' 'food_delivery' 'cable/phone' 'subscriptions' 'auto'\n",
      " 'gym' 'furniture' 'health']\n",
      "\n",
      "transactionType ['PURCHASE' 'ADDRESS_VERIFICATION' 'REVERSAL']\n",
      "\n",
      "acqCountry ['US' 'PR' 'MEX' 'CAN']\n",
      "\n",
      "merchantName ['Lyft' 'Uber' 'Fresh eCards' ... 'Runners #332755' 'Curves #440052'\n",
      " 'Virgin #218063']\n",
      "\n",
      "merchantCountryCode ['US' 'PR' 'MEX' 'CAN']\n",
      "\n",
      "posEntryMode [ 5.  9.  2. 90. 80.]\n",
      "\n",
      "posConditionCode [ 1.  8. 99.]\n",
      "merchantCategoryCode: 19\n",
      "transactionType: 3\n",
      "acqCountry: 4\n",
      "merchantCountryCode: 4\n",
      "merchantName: 2493\n",
      "posEntryMode 5\n",
      "posConditionCode 3\n"
     ]
    }
   ],
   "source": [
    "# unique method for seeing the list of unique values\n",
    "print(\"merchantCategoryCode: \", df1['merchantCategoryCode'].unique())\n",
    "print()\n",
    "print(\"transactionType\", df1['transactionType'].unique())\n",
    "print()\n",
    "print(\"acqCountry\", df1['acqCountry'].unique())\n",
    "print()\n",
    "print(\"merchantName\", df1['merchantName'].unique())\n",
    "print()\n",
    "print(\"merchantCountryCode\", df1['merchantCountryCode'].unique())\n",
    "print()\n",
    "print(\"posEntryMode\",df1['posEntryMode'].unique())\n",
    "print()\n",
    "print(\"posConditionCode\", df1['posConditionCode'].unique()) \n",
    "\n",
    "\n",
    "# nunique method for count value of unique values\n",
    "# Print number of unique values for each\n",
    "print(\"merchantCategoryCode:\", df1['merchantCategoryCode'].nunique())\n",
    "print(\"transactionType:\", df1['transactionType'].nunique())\n",
    "print(\"acqCountry:\", df1['acqCountry'].nunique())\n",
    "print(\"merchantCountryCode:\", df1['merchantCountryCode'].nunique())\n",
    "print(\"merchantName:\", df1['merchantName'].nunique())\n",
    "print('posEntryMode',df1['posEntryMode'].nunique())\n",
    "print('posConditionCode',df1['posConditionCode'].nunique())\n",
    "\n",
    "      \n"
   ]
  },
  {
   "cell_type": "markdown",
   "id": "b6c4f139",
   "metadata": {},
   "source": [
    "## Understanding variable (isFraud)"
   ]
  },
  {
   "cell_type": "markdown",
   "id": "ef62b642",
   "metadata": {},
   "source": [
    "5. How many transactions are marked as fraud vs not fraud?\n",
    "6. What is the percentage of fradulent transactions?"
   ]
  },
  {
   "cell_type": "code",
   "execution_count": 5,
   "id": "0d7d8310",
   "metadata": {},
   "outputs": [
    {
     "name": "stdout",
     "output_type": "stream",
     "text": [
      "isFraud\n",
      "False    630612\n",
      "True      11302\n",
      "Name: count, dtype: int64\n",
      "1.7606719903289225\n"
     ]
    },
    {
     "name": "stderr",
     "output_type": "stream",
     "text": [
      "C:\\Users\\dell\\AppData\\Local\\Temp\\ipykernel_7488\\514022667.py:11: FutureWarning: Series.__getitem__ treating keys as positions is deprecated. In a future version, integer keys will always be treated as labels (consistent with DataFrame behavior). To access a value by position, use `ser.iloc[pos]`\n",
      "  percentage_of_fraud = (fraud_transactions[1]/(fraud_transactions[0]+fraud_transactions[1]))*100\n"
     ]
    }
   ],
   "source": [
    "#sorting by trasnaction time\n",
    "sorted_df = df1.sort_values(by='transactionDateTime', ascending=False)\n",
    "\n",
    "# print(sorted_df.head())\n",
    "\n",
    "#fraud_transactions = sorted_df[sorted_df['isFraud']].value_counts() # this gives dataframe rows\n",
    "fraud_transactions = sorted_df['isFraud'].value_counts()\n",
    "print(fraud_transactions)\n",
    "\n",
    "#percentage of fradulent transactions:\n",
    "percentage_of_fraud = (fraud_transactions[1]/(fraud_transactions[0]+fraud_transactions[1]))*100\n",
    "print(percentage_of_fraud)\n"
   ]
  },
  {
   "cell_type": "markdown",
   "id": "5235f482",
   "metadata": {},
   "source": [
    "## Customer ID and Account Information"
   ]
  },
  {
   "cell_type": "markdown",
   "id": "28c6037a",
   "metadata": {},
   "source": [
    "7. How many unique customers are there, and how many accounts per customer?\n",
    "8. Which customers have the highest number of transactions?\n",
    "9. What is total number of transactions?\n",
    "10. Calculate fraudlent transaction frequency for each account\n",
    "11. What is total number of fraudulent transactions?\n",
    "12. Do certain customers/accounts have a higher rate of fradulent transactions?\n",
    "13. What is overall fraud rate ?"
   ]
  },
  {
   "cell_type": "markdown",
   "id": "10ec8b0d",
   "metadata": {},
   "source": [
    "7. How many unique customers are there, and how many accounts per customer?\n"
   ]
  },
  {
   "cell_type": "code",
   "execution_count": 6,
   "id": "70c5d0be",
   "metadata": {},
   "outputs": [
    {
     "name": "stdout",
     "output_type": "stream",
     "text": [
      "unique_accounts count: 5000\n",
      "<class 'pandas.core.frame.DataFrame'>\n",
      "RangeIndex: 641914 entries, 0 to 641913\n",
      "Data columns (total 26 columns):\n",
      " #   Column                    Non-Null Count   Dtype         \n",
      "---  ------                    --------------   -----         \n",
      " 0   accountNumber             641914 non-null  int64         \n",
      " 1   customerId                641914 non-null  int64         \n",
      " 2   creditLimit               641914 non-null  int64         \n",
      " 3   availableMoney            641914 non-null  float64       \n",
      " 4   transactionDateTime       641914 non-null  datetime64[ns]\n",
      " 5   transactionAmount         641914 non-null  float64       \n",
      " 6   merchantName              641914 non-null  object        \n",
      " 7   acqCountry                641914 non-null  object        \n",
      " 8   merchantCountryCode       641914 non-null  object        \n",
      " 9   posEntryMode              641914 non-null  float64       \n",
      " 10  posConditionCode          641914 non-null  float64       \n",
      " 11  merchantCategoryCode      641914 non-null  object        \n",
      " 12  currentExpDate            641914 non-null  datetime64[ns]\n",
      " 13  accountOpenDate           641914 non-null  datetime64[ns]\n",
      " 14  dateOfLastAddressChange   641914 non-null  datetime64[ns]\n",
      " 15  cardCVV                   641914 non-null  int64         \n",
      " 16  enteredCVV                641914 non-null  int64         \n",
      " 17  cardLast4Digits           641914 non-null  int64         \n",
      " 18  transactionType           641914 non-null  object        \n",
      " 19  isFraud                   641914 non-null  bool          \n",
      " 20  currentBalance            641914 non-null  float64       \n",
      " 21  cardPresent               641914 non-null  bool          \n",
      " 22  expirationDateKeyInMatch  641914 non-null  bool          \n",
      " 23  txn_hour                  641914 non-null  int64         \n",
      " 24  txn_month                 641914 non-null  int64         \n",
      " 25  txn_day                   641914 non-null  int64         \n",
      "dtypes: bool(3), datetime64[ns](4), float64(5), int64(9), object(5)\n",
      "memory usage: 114.5+ MB\n"
     ]
    }
   ],
   "source": [
    "#Unique customer and accounts count\n",
    "# unique_customers= df1['customerId'].unique()\n",
    "# print(f\"Unique customers count: {len(unique_customers)}\")\n",
    "#output: 5000\n",
    "\n",
    "unique_accounts = df1['accountNumber'].unique()\n",
    "print(f\"unique_accounts count: {len(unique_accounts)}\")\n",
    "#output: 5000\n",
    "\n",
    "#(df1['customerId'] == df1['accountNumber']).all()\n",
    "#checked row by row if both are same and found true\n",
    "\n",
    "#df1 = df1.drop('customerId', axis=1)\n",
    "#dropped the customerID column\n",
    "df1.info()\n"
   ]
  },
  {
   "cell_type": "markdown",
   "id": "0af537de",
   "metadata": {},
   "source": [
    "8. Which customers have the highest number of transactions?\n",
    "9. What is total number of transactions?"
   ]
  },
  {
   "cell_type": "code",
   "execution_count": 7,
   "id": "09ee6270",
   "metadata": {},
   "outputs": [
    {
     "name": "stdout",
     "output_type": "stream",
     "text": [
      "Total Transactions Frequency:\n",
      "      accountNumber  transaction_count\n",
      "0         100547107                 85\n",
      "1         100634414                 24\n",
      "2         100973869                 46\n",
      "3         101192712                 20\n",
      "4         101548993                 29\n",
      "...             ...                ...\n",
      "4995      999273501                  8\n",
      "4996      999275549                230\n",
      "4997      999789077                 72\n",
      "4998      999984515                 32\n",
      "4999      999985343                104\n",
      "\n",
      "[5000 rows x 2 columns]\n",
      "Top 10 Highest transaction count and account number\n",
      "      accountNumber  transaction_count\n",
      "1205      318001076              10034\n",
      "1978      456044564               8382\n",
      "3945      812328116               5494\n",
      "4101      838085703               5129\n",
      "766       239875038               4705\n",
      "4325      877017103               4435\n",
      "994       278064853               4227\n",
      "1406      353215513               3756\n",
      "1185      314506271               3410\n",
      "4555      917216469               3258\n",
      "\n",
      "🔢 Total number of transactions across all accounts: 641914\n"
     ]
    }
   ],
   "source": [
    "\n",
    "\n",
    "# This counts all rows per account, including those with transactionAmount == 0\n",
    "total_transactions_frequency = sorted_df.groupby('accountNumber').size().reset_index(name='transaction_count')\n",
    "print(\"Total Transactions Frequency:\")\n",
    "print(total_transactions_frequency)\n",
    "\n",
    "print(\"Top 10 Highest transaction count and account number\")\n",
    "print(total_transactions_frequency.sort_values(by='transaction_count', ascending=False).head(10))\n",
    "\n",
    "print(f\"\\n🔢 Total number of transactions across all accounts: {total_transactions_frequency['transaction_count'].sum()}\")\n",
    "\n"
   ]
  },
  {
   "cell_type": "markdown",
   "id": "c34bc51d",
   "metadata": {},
   "source": [
    "AccountNumber : 318001076 does highest number of transaction in year 2016 i.e. 10,034"
   ]
  },
  {
   "cell_type": "markdown",
   "id": "94260f4e",
   "metadata": {},
   "source": [
    "9. Calculate fraudlent transaction frequency for each account\n",
    "10. What is total number of fraudulent transactions?\n",
    "\n"
   ]
  },
  {
   "cell_type": "code",
   "execution_count": 8,
   "id": "daa8a119",
   "metadata": {},
   "outputs": [
    {
     "name": "stdout",
     "output_type": "stream",
     "text": [
      "      accountNumber  fraud_count\n",
      "0         100547107            1\n",
      "1         100634414            0\n",
      "2         100973869            0\n",
      "3         101192712            0\n",
      "4         101548993            0\n",
      "...             ...          ...\n",
      "4995      999273501            0\n",
      "4996      999275549            4\n",
      "4997      999789077            1\n",
      "4998      999984515            0\n",
      "4999      999985343            0\n",
      "\n",
      "[5000 rows x 2 columns]\n",
      "Top 10 Highest fraudulent transaction count and account number\n",
      "      accountNumber  fraud_count\n",
      "1165      311710839          302\n",
      "1205      318001076          291\n",
      "1406      353215513          205\n",
      "840       251625315          142\n",
      "4014      822203001          118\n",
      "1978      456044564           95\n",
      "3405      717128593           81\n",
      "4325      877017103           78\n",
      "512       200778999           76\n",
      "4629      931013168           74\n",
      "🚨 Total number of fraudulent transactions across all accounts: 11302\n"
     ]
    }
   ],
   "source": [
    "\n",
    "# Fraud transactions frequency\n",
    "fraud_transactions_frequency = (\n",
    "    sorted_df.groupby(\"accountNumber\")['isFraud']\n",
    "    .sum()\n",
    "    .reset_index()\n",
    "    .rename(columns={'isFraud': 'fraud_count'})\n",
    ")\n",
    "print(fraud_transactions_frequency)\n",
    "\n",
    "# Now sort the DataFrame by the newly named column\n",
    "print(\"Top 10 Highest fraudulent transaction count and account number\")\n",
    "print(fraud_transactions_frequency.sort_values(by='fraud_count', ascending=False).head(10))\n",
    "\n",
    "print(f\"🚨 Total number of fraudulent transactions across all accounts: {fraud_transactions_frequency['fraud_count'].sum()}\")\n",
    "\n",
    "\n"
   ]
  },
  {
   "cell_type": "markdown",
   "id": "c65679c9",
   "metadata": {},
   "source": [
    "11. What is fraud rate per account?\n",
    "12. Do certain customers/accounts have a higher rate of fradulent transactions?\n",
    "13. What is overall fraud rate ?"
   ]
  },
  {
   "cell_type": "code",
   "execution_count": 9,
   "id": "2ec5cbfb",
   "metadata": {},
   "outputs": [
    {
     "name": "stdout",
     "output_type": "stream",
     "text": [
      "Top 10 Accounts with highest fraud percentage and their fraud percentage\n",
      "      accountNumber  fraud_percentage\n",
      "4901      981286839        100.000000\n",
      "2969      638423733         50.000000\n",
      "3333      704819779         42.682927\n",
      "2262      509442666         33.333333\n",
      "2912      625998940         33.333333\n",
      "4670      938310147         31.606218\n",
      "310       163457367         31.578947\n",
      "1340      340949807         30.769231\n",
      "721       234537883         26.595745\n",
      "4626      930431098         25.352113\n",
      "🚨 Total number of fraudulent transactions across all accounts: 11302\n",
      "⚠️ Overall fraud rate in the dataset: 1.76%\n",
      "<class 'pandas.core.frame.DataFrame'>\n",
      "RangeIndex: 5000 entries, 0 to 4999\n",
      "Data columns (total 4 columns):\n",
      " #   Column             Non-Null Count  Dtype  \n",
      "---  ------             --------------  -----  \n",
      " 0   accountNumber      5000 non-null   int64  \n",
      " 1   transaction_count  5000 non-null   int64  \n",
      " 2   fraud_count        5000 non-null   int64  \n",
      " 3   fraud_percentage   5000 non-null   float64\n",
      "dtypes: float64(1), int64(3)\n",
      "memory usage: 156.4 KB\n",
      "None\n"
     ]
    }
   ],
   "source": [
    "# Merge the two DataFrames on 'accountNumber'\n",
    "merged_data = pd.merge(total_transactions_frequency, fraud_transactions_frequency, on='accountNumber', how='left')\n",
    "\n",
    "# Calculate the percentage of fraudulent transactions per account\n",
    "merged_data['fraud_percentage'] = (merged_data['fraud_count'] / merged_data['transaction_count']) * 100\n",
    "\n",
    "# Handling missing fraud counts: Replace NaN with 0 (if an account has no fraud)\n",
    "merged_data['fraud_percentage'] = merged_data['fraud_percentage'].fillna(0)\n",
    "\n",
    "# Print the percentage of fraudulent transactions for the top 10 accounts, along with accountNumber\n",
    "print(\"Top 10 Accounts with highest fraud percentage and their fraud percentage\")\n",
    "print(merged_data[['accountNumber', 'fraud_percentage']].sort_values(by='fraud_percentage', ascending=False).head(10))\n",
    "\n",
    "# ✅ Total number of transactions in the entire dataset\n",
    "total_transactions = total_transactions_frequency['transaction_count'].sum()\n",
    "\n",
    "# ✅ Total number of fraudulent transactions\n",
    "fraud_transactions_frequency['fraud_count'] = fraud_transactions_frequency['fraud_count'].fillna(0)\n",
    "total_fraud_transactions = fraud_transactions_frequency['fraud_count'].sum()\n",
    "print(f\"🚨 Total number of fraudulent transactions across all accounts: {int(total_fraud_transactions)}\")\n",
    "\n",
    "overall_fraud_rate = (total_fraud_transactions / total_transactions) * 100\n",
    "print(f\"⚠️ Overall fraud rate in the dataset: {overall_fraud_rate:.2f}%\")\n",
    "\n",
    "print(merged_data.info())\n",
    "\n"
   ]
  },
  {
   "cell_type": "markdown",
   "id": "342283e1",
   "metadata": {},
   "source": [
    "Insights\n",
    "1. Highest number of transaction is 10,034 by account number 318001076.\n",
    "2. Highest number of fraudulent transaction is 302 by account number 311710839.\n",
    "3. Fraud_percentage is 100% for account 981286839 , and 50% for account 638423733.\n",
    "4. Total number of transactions acroll all accounts: 641914\n",
    "5. Total number of fraudulent transactions across all accounts: 11302\n",
    "6. Overall fraud rate is 1.76%."
   ]
  },
  {
   "cell_type": "markdown",
   "id": "de68015e",
   "metadata": {},
   "source": [
    "14. Normally after how long time of opening account the address is changed?\n",
    "15. From today's date it we see which are the oldest and newest accounts\n",
    "16. In which day maximum accounts are opened?\n",
    "17. If enteredCVV and cardCVV mismatches, keep those accounts separate (F1)\n",
    "if expirationDateKeyInMatch is also False, keep those accounts separate (F2)\n",
    "\n",
    "So, if card present is false, also falls in F1 and F2 then they can be fraudulent \n",
    "\n",
    "18. Whose customers card expiration date is near?\n"
   ]
  },
  {
   "cell_type": "code",
   "execution_count": 10,
   "id": "727254ae",
   "metadata": {},
   "outputs": [
    {
     "name": "stdout",
     "output_type": "stream",
     "text": [
      "Customer DataFrame:\n",
      "   accountNumber  customerId  creditLimit  availableMoney  cardCVV  \\\n",
      "0      733493772   733493772         5000          5000.0      492   \n",
      "1      578754168   578754168         5000          5000.0      413   \n",
      "2      664577296   664577296         7500          7500.0      741   \n",
      "3      550655231   550655231          250           250.0      631   \n",
      "4      965952336   965952336         7500          7500.0      258   \n",
      "\n",
      "   enteredCVV  cardLast4Digits currentExpDate accountOpenDate  \\\n",
      "0         492             9184     2020-01-04      2014-08-03   \n",
      "1         413             5279     2026-01-10      2015-10-21   \n",
      "2         741             4807     2026-01-08      2015-09-23   \n",
      "3         631             9626     2028-01-07      2013-03-15   \n",
      "4         258             1562     2025-01-02      2013-01-11   \n",
      "\n",
      "  dateOfLastAddressChange  currentBalance  expirationDateKeyInMatch  \\\n",
      "0              2014-08-03             0.0                     False   \n",
      "1              2015-10-21             0.0                     False   \n",
      "2              2015-09-23             0.0                     False   \n",
      "3              2013-03-15             0.0                     False   \n",
      "4              2013-01-11             0.0                     False   \n",
      "\n",
      "   cardPresent  \n",
      "0        False  \n",
      "1         True  \n",
      "2         True  \n",
      "3         True  \n",
      "4         True  \n",
      "<class 'pandas.core.frame.DataFrame'>\n",
      "RangeIndex: 641914 entries, 0 to 641913\n",
      "Data columns (total 26 columns):\n",
      " #   Column                    Non-Null Count   Dtype         \n",
      "---  ------                    --------------   -----         \n",
      " 0   accountNumber             641914 non-null  int64         \n",
      " 1   customerId                641914 non-null  int64         \n",
      " 2   creditLimit               641914 non-null  int64         \n",
      " 3   availableMoney            641914 non-null  float64       \n",
      " 4   transactionDateTime       641914 non-null  datetime64[ns]\n",
      " 5   transactionAmount         641914 non-null  float64       \n",
      " 6   merchantName              641914 non-null  object        \n",
      " 7   acqCountry                641914 non-null  object        \n",
      " 8   merchantCountryCode       641914 non-null  object        \n",
      " 9   posEntryMode              641914 non-null  float64       \n",
      " 10  posConditionCode          641914 non-null  float64       \n",
      " 11  merchantCategoryCode      641914 non-null  object        \n",
      " 12  currentExpDate            641914 non-null  datetime64[ns]\n",
      " 13  accountOpenDate           641914 non-null  datetime64[ns]\n",
      " 14  dateOfLastAddressChange   641914 non-null  datetime64[ns]\n",
      " 15  cardCVV                   641914 non-null  int64         \n",
      " 16  enteredCVV                641914 non-null  int64         \n",
      " 17  cardLast4Digits           641914 non-null  int64         \n",
      " 18  transactionType           641914 non-null  object        \n",
      " 19  isFraud                   641914 non-null  bool          \n",
      " 20  currentBalance            641914 non-null  float64       \n",
      " 21  cardPresent               641914 non-null  bool          \n",
      " 22  expirationDateKeyInMatch  641914 non-null  bool          \n",
      " 23  txn_hour                  641914 non-null  int64         \n",
      " 24  txn_month                 641914 non-null  int64         \n",
      " 25  txn_day                   641914 non-null  int64         \n",
      "dtypes: bool(3), datetime64[ns](4), float64(5), int64(9), object(5)\n",
      "memory usage: 114.5+ MB\n",
      "None\n"
     ]
    }
   ],
   "source": [
    "# List of columns related to customer information\n",
    "customer_columns = [\n",
    "    'accountNumber',\n",
    "    'customerId',\n",
    "    'creditLimit',\n",
    "    'availableMoney',\n",
    "    'cardCVV',\n",
    "    'enteredCVV',\n",
    "    'cardLast4Digits',\n",
    "    'currentExpDate',\n",
    "    'accountOpenDate',\n",
    "    'dateOfLastAddressChange',\n",
    "    'currentBalance',\n",
    "    'expirationDateKeyInMatch',\n",
    "    'cardPresent'\n",
    "]\n",
    "\n",
    "# # Create the customer DataFrame\n",
    "customer_df = df1[customer_columns].drop_duplicates(subset='accountNumber').reset_index(drop=True)\n",
    "\n",
    "\n",
    "# Preview the DataFrame\n",
    "print(\"Customer DataFrame:\")\n",
    "print(customer_df.head())\n",
    "\n",
    "print(df1.info())\n"
   ]
  },
  {
   "cell_type": "markdown",
   "id": "09b26f3a",
   "metadata": {},
   "source": [
    "14. Normally after how long time of opening account the address is changed?"
   ]
  },
  {
   "cell_type": "code",
   "execution_count": 11,
   "id": "60e2bde8",
   "metadata": {},
   "outputs": [
    {
     "name": "stdout",
     "output_type": "stream",
     "text": [
      "   accountNumber  add_change_gap\n",
      "0      424347107            2297\n",
      "1      876565936            2170\n",
      "2      550842881            1654\n",
      "3      936339359             902\n",
      "4      502168963             561\n",
      "5      832864654             550\n",
      "6      212076667             545\n",
      "7      205263030             529\n",
      "8      237591967             473\n",
      "9      646461105             465\n",
      "\n",
      "Overall average address change gap (in days):  2.47\n",
      "After opening account how many customer have changed the address\n",
      "\n",
      "Number of customers who changed the address after opening account: 21 \n",
      "    accountNumber  add_change_gap\n",
      "0       280983864              55\n",
      "1       617179522              59\n",
      "2       247722846              80\n",
      "3       353484467             189\n",
      "4       781053864             212\n",
      "5       917661867             225\n",
      "6       656091817             249\n",
      "7       727407779             260\n",
      "8       975854164             274\n",
      "9       626399878             274\n",
      "10      607003709             310\n",
      "11      646461105             465\n",
      "12      237591967             473\n",
      "13      205263030             529\n",
      "14      212076667             545\n",
      "15      832864654             550\n",
      "16      502168963             561\n",
      "17      936339359             902\n",
      "18      550842881            1654\n",
      "19      876565936            2170\n",
      "20      424347107            2297\n"
     ]
    }
   ],
   "source": [
    "customer_df['add_change_gap'] = (customer_df['dateOfLastAddressChange']- customer_df['accountOpenDate']).dt.days\n",
    "print(customer_df[['accountNumber','add_change_gap']].sort_values(by='add_change_gap', ascending=False).reset_index(drop=True).head(10))\n",
    "\n",
    "average_gap = customer_df['add_change_gap'].mean()\n",
    "print(f\"\\nOverall average address change gap (in days): {average_gap: .2f}\")\n",
    "\n",
    "print(\"After opening account how many customer have changed the address\")\n",
    "changed_after_opening = customer_df[customer_df['add_change_gap']>0]\n",
    "\n",
    "print(f\"\\nNumber of customers who changed the address after opening account: {changed_after_opening.shape[0]} \")\n",
    "print(changed_after_opening[['accountNumber','add_change_gap']].sort_values(by='add_change_gap',ascending=True).reset_index(drop=True))"
   ]
  },
  {
   "cell_type": "markdown",
   "id": "00f116d8",
   "metadata": {},
   "source": [
    "15. From today's date it we see which are the oldest and newest accounts"
   ]
  },
  {
   "cell_type": "code",
   "execution_count": 17,
   "id": "47a1395e",
   "metadata": {},
   "outputs": [
    {
     "name": "stdout",
     "output_type": "stream",
     "text": [
      "\n",
      "Top 5 oldest accounts:\n",
      "   accountNumber accountOpenDate  accountAge\n",
      "0      789836144      1985-12-25       14372\n",
      "1      367184291      2000-09-29        8980\n",
      "2      414475732      2000-11-16        8932\n",
      "3      347596074      2002-08-15        8295\n",
      "4      719425571      2002-10-20        8229\n",
      "\n",
      "Top 5 new accounts\n",
      "   accountNumber accountOpenDate  accountAge\n",
      "0      890796581      2015-12-31        3409\n",
      "1      605704714      2015-12-31        3409\n",
      "2      731926026      2015-12-31        3409\n",
      "3      477081008      2015-12-31        3409\n",
      "4      783343390      2015-12-31        3409\n",
      "\n",
      " The oldest account is:\n",
      "Account Number: 789836144,Opened on: 1985-12-25 , Age: 14372 days \n",
      "\n",
      " The newest account is:\n",
      "Account Number: 731926026,Opened on: 2015-12-31 , Age: 3409 days \n"
     ]
    }
   ],
   "source": [
    "#customer_df = customer_df.drop(columns=['accountAge'])\n",
    "today = pd.Timestamp.today()\n",
    "customer_df['accountAge'] = (today - customer_df['accountOpenDate']).dt.days\n",
    "\n",
    "print(\"\\nTop 5 oldest accounts:\")\n",
    "print(customer_df[['accountNumber','accountOpenDate','accountAge']]\n",
    "      .sort_values(by='accountAge', ascending=False)\n",
    "      .reset_index(drop=True)\n",
    "      .head())\n",
    "\n",
    "print(\"\\nTop 5 new accounts\")\n",
    "print(customer_df[['accountNumber','accountOpenDate','accountAge']]\n",
    "      .sort_values(by='accountAge',ascending=True)\n",
    "      .reset_index(drop=True)\n",
    "      .head())\n",
    "\n",
    "#Oldest account\n",
    "oldest_account = customer_df.loc[customer_df['accountAge'].idxmax()]\n",
    "print(f\"\\n The oldest account is:\\nAccount Number: {oldest_account['accountNumber']},\"\n",
    "      f\"Opened on: {oldest_account['accountOpenDate'].date()} ,\"\n",
    "      f\" Age: {oldest_account['accountAge']} days \")\n",
    "\n",
    "#finding the newest account\n",
    "\n",
    "newest_account = customer_df.loc[customer_df['accountAge'].idxmin()]\n",
    "\n",
    "print(f\"\\n The newest account is:\\nAccount Number: {newest_account['accountNumber']},\"\n",
    "      f\"Opened on: {newest_account['accountOpenDate'].date()} ,\"\n",
    "      f\" Age: {newest_account['accountAge']} days \")"
   ]
  },
  {
   "cell_type": "markdown",
   "id": "152f953d",
   "metadata": {},
   "source": [
    "16. In which day maximum accounts are opened?"
   ]
  },
  {
   "cell_type": "code",
   "execution_count": 13,
   "id": "0f737dc9",
   "metadata": {},
   "outputs": [
    {
     "name": "stdout",
     "output_type": "stream",
     "text": [
      "\n",
      " Top 5 days with most account openings:\n",
      "accountOpenDate\n",
      "2015-11-21    13\n",
      "2015-12-26    13\n",
      "2015-11-01    13\n",
      "2015-09-22    12\n",
      "2015-05-08    12\n",
      "2015-07-26    12\n",
      "2015-11-05    12\n",
      "2015-01-25    11\n",
      "2015-12-09    11\n",
      "2015-11-03    11\n",
      "2015-05-25    11\n",
      "2015-02-11    11\n",
      "2015-11-22    11\n",
      "2015-03-02    11\n",
      "2015-11-27    10\n",
      "2015-06-21    10\n",
      "2014-04-12    10\n",
      "2015-12-22    10\n",
      "2015-09-16    10\n",
      "2015-10-01    10\n",
      "2015-10-17    10\n",
      "2015-08-19     9\n",
      "2015-09-14     9\n",
      "2015-08-12     9\n",
      "2015-11-25     9\n",
      "2015-07-15     9\n",
      "2015-07-21     9\n",
      "2015-07-18     9\n",
      "2015-07-08     9\n",
      "2015-12-18     9\n",
      "2015-12-21     9\n",
      "2015-06-03     9\n",
      "2015-06-10     9\n",
      "2015-08-15     9\n",
      "2015-08-03     9\n",
      "2015-07-23     9\n",
      "2015-08-23     9\n",
      "2015-11-19     9\n",
      "2013-09-25     9\n",
      "2015-07-24     9\n",
      "2015-05-03     9\n",
      "2015-10-04     9\n",
      "2015-10-15     9\n",
      "2014-11-26     8\n",
      "2014-11-30     8\n",
      "2015-09-24     8\n",
      "2015-01-15     8\n",
      "2015-08-26     8\n",
      "2015-08-27     8\n",
      "2015-01-14     8\n",
      "dtype: int64\n",
      "The maximum number of accounts were opened on 2015-11-01, with 13 accounts.\n"
     ]
    }
   ],
   "source": [
    "account_open_day_counts = customer_df.groupby('accountOpenDate').size()\n",
    "\n",
    "max_open_day = account_open_day_counts.idxmax()\n",
    "max_open_count = account_open_day_counts.max()\n",
    "\n",
    "print(\"\\n Top 5 days with most account openings:\")\n",
    "print(account_open_day_counts.sort_values(ascending=False).head(50))\n",
    "\n",
    "print(f\"The maximum number of accounts were opened on {max_open_day.date()}, with {max_open_count} accounts.\")\n",
    "\n"
   ]
  },
  {
   "cell_type": "markdown",
   "id": "9e6962b2",
   "metadata": {},
   "source": [
    "## posEntryMode and posConditionCode Information"
   ]
  },
  {
   "cell_type": "markdown",
   "id": "866ea282",
   "metadata": {},
   "source": [
    "11. What are the most frequent POS entry modes?\n",
    "12. Is fraud more common in any particular entry mode?\n",
    "13. Are online (keyed) vs card-present( swiped/tapped) entry modes associated with different transaction amounts?\n",
    "14. What are the most common POS condition codes?\n",
    "15. How to different condition codes relate to fraud?\n",
    "16. Are some condition codes tried to specific merchant categories or regions?"
   ]
  },
  {
   "cell_type": "markdown",
   "id": "4e79c8eb",
   "metadata": {},
   "source": [
    "## Date and time features"
   ]
  },
  {
   "cell_type": "markdown",
   "id": "5da82fee",
   "metadata": {},
   "source": [
    "17. Are there time periods with more fraud?\n",
    "18. Is fraud more common during weekends or weekday?\n",
    "19. What is the age of accounts? (opendate to first transaction date)/ (current date - open date)\n",
    "20. Do newer accounts have more fraud compared to older ones?\n"
   ]
  },
  {
   "cell_type": "markdown",
   "id": "125bb9ef",
   "metadata": {},
   "source": [
    "**date of Last Address Change**\n",
    "<br>\n",
    "21. How many days since the last address change?\n"
   ]
  },
  {
   "cell_type": "markdown",
   "id": "e3202d18",
   "metadata": {},
   "source": [
    "**currentExpDate** <br>\n",
    "22. Are frauds more likely near or after the expiration date?<br>\n",
    "23. How many cards are close to expiration? Is that related to fraud?"
   ]
  }
 ],
 "metadata": {
  "kernelspec": {
   "display_name": "venv",
   "language": "python",
   "name": "python3"
  },
  "language_info": {
   "codemirror_mode": {
    "name": "ipython",
    "version": 3
   },
   "file_extension": ".py",
   "mimetype": "text/x-python",
   "name": "python",
   "nbconvert_exporter": "python",
   "pygments_lexer": "ipython3",
   "version": "3.12.6"
  }
 },
 "nbformat": 4,
 "nbformat_minor": 5
}
