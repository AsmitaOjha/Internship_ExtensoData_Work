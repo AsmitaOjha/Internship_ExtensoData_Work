{
 "cells": [
  {
   "cell_type": "code",
   "execution_count": 85,
   "id": "894793d5",
   "metadata": {},
   "outputs": [],
   "source": [
    "import pandas as pd\n",
    "import numpy as np \n",
    "import matplotlib.pyplot as plt \n",
    "import seaborn as sns \n",
    "import plotly.express as px \n",
    "import scipy\n",
    "from scipy.stats import zscore\n"
   ]
  },
  {
   "cell_type": "code",
   "execution_count": 86,
   "id": "0751b9c3",
   "metadata": {},
   "outputs": [
    {
     "name": "stdout",
     "output_type": "stream",
     "text": [
      "<class 'pandas.core.frame.DataFrame'>\n",
      "RangeIndex: 641914 entries, 0 to 641913\n",
      "Data columns (total 26 columns):\n",
      " #   Column                    Non-Null Count   Dtype  \n",
      "---  ------                    --------------   -----  \n",
      " 0   accountNumber             641914 non-null  int64  \n",
      " 1   customerId                641914 non-null  int64  \n",
      " 2   creditLimit               641914 non-null  int64  \n",
      " 3   availableMoney            641914 non-null  float64\n",
      " 4   transactionDateTime       641914 non-null  object \n",
      " 5   transactionAmount         641914 non-null  float64\n",
      " 6   merchantName              641914 non-null  object \n",
      " 7   acqCountry                641914 non-null  object \n",
      " 8   merchantCountryCode       641914 non-null  object \n",
      " 9   posEntryMode              641914 non-null  float64\n",
      " 10  posConditionCode          641914 non-null  float64\n",
      " 11  merchantCategoryCode      641914 non-null  object \n",
      " 12  currentExpDate            641914 non-null  object \n",
      " 13  accountOpenDate           641914 non-null  object \n",
      " 14  dateOfLastAddressChange   641914 non-null  object \n",
      " 15  cardCVV                   641914 non-null  int64  \n",
      " 16  enteredCVV                641914 non-null  int64  \n",
      " 17  cardLast4Digits           641914 non-null  int64  \n",
      " 18  transactionType           641914 non-null  object \n",
      " 19  isFraud                   641914 non-null  bool   \n",
      " 20  currentBalance            641914 non-null  float64\n",
      " 21  cardPresent               641914 non-null  bool   \n",
      " 22  expirationDateKeyInMatch  641914 non-null  bool   \n",
      " 23  txn_hour                  641914 non-null  int64  \n",
      " 24  txn_month                 641914 non-null  int64  \n",
      " 25  txn_day                   641914 non-null  int64  \n",
      "dtypes: bool(3), float64(5), int64(9), object(9)\n",
      "memory usage: 114.5+ MB\n",
      "None\n",
      "<class 'pandas.core.frame.DataFrame'>\n",
      "RangeIndex: 641914 entries, 0 to 641913\n",
      "Data columns (total 26 columns):\n",
      " #   Column                    Non-Null Count   Dtype         \n",
      "---  ------                    --------------   -----         \n",
      " 0   accountNumber             641914 non-null  int64         \n",
      " 1   customerId                641914 non-null  int64         \n",
      " 2   creditLimit               641914 non-null  int64         \n",
      " 3   availableMoney            641914 non-null  float64       \n",
      " 4   transactionDateTime       641914 non-null  datetime64[ns]\n",
      " 5   transactionAmount         641914 non-null  float64       \n",
      " 6   merchantName              641914 non-null  object        \n",
      " 7   acqCountry                641914 non-null  object        \n",
      " 8   merchantCountryCode       641914 non-null  object        \n",
      " 9   posEntryMode              641914 non-null  float64       \n",
      " 10  posConditionCode          641914 non-null  float64       \n",
      " 11  merchantCategoryCode      641914 non-null  object        \n",
      " 12  currentExpDate            641914 non-null  datetime64[ns]\n",
      " 13  accountOpenDate           641914 non-null  datetime64[ns]\n",
      " 14  dateOfLastAddressChange   641914 non-null  datetime64[ns]\n",
      " 15  cardCVV                   641914 non-null  int64         \n",
      " 16  enteredCVV                641914 non-null  int64         \n",
      " 17  cardLast4Digits           641914 non-null  int64         \n",
      " 18  transactionType           641914 non-null  object        \n",
      " 19  isFraud                   641914 non-null  bool          \n",
      " 20  currentBalance            641914 non-null  float64       \n",
      " 21  cardPresent               641914 non-null  bool          \n",
      " 22  expirationDateKeyInMatch  641914 non-null  bool          \n",
      " 23  txn_hour                  641914 non-null  int64         \n",
      " 24  txn_month                 641914 non-null  int64         \n",
      " 25  txn_day                   641914 non-null  int64         \n",
      "dtypes: bool(3), datetime64[ns](4), float64(5), int64(9), object(5)\n",
      "memory usage: 114.5+ MB\n",
      "None\n"
     ]
    }
   ],
   "source": [
    "df1 = pd.read_csv(\"e:/2025/ExtensoData_Internship_Work/Projects/Task_3_EDA/data/cleaned_transactions.csv\")\n",
    "print(df1.info())\n",
    "\n",
    "# changing datetime columun to datetime format\n",
    "df1['transactionDateTime'] = pd.to_datetime(df1['transactionDateTime'])\n",
    "df1[\"accountOpenDate\"] = pd.to_datetime(df1[\"accountOpenDate\"])\n",
    "df1['currentExpDate'] = pd.to_datetime(df1['currentExpDate'])\n",
    "df1['dateOfLastAddressChange'] = pd.to_datetime(df1['dateOfLastAddressChange'])\n",
    "df1['transactionDateTime'].dtype\n",
    "print(df1.info())\n"
   ]
  },
  {
   "cell_type": "markdown",
   "id": "68c51053",
   "metadata": {},
   "source": [
    "## Summary Statistics for Numeric Columns"
   ]
  },
  {
   "cell_type": "markdown",
   "id": "97973e3b",
   "metadata": {},
   "source": [
    "1. What are the min, max, mean, median, and standard deviation of:\n",
    "    - transactionAmount\n",
    "    - availableMoney\n",
    "    - creditLimit\n",
    "    - currentBalance\n",
    "\n",
    "2. Are there outliers or unusually high/low values"
   ]
  },
  {
   "cell_type": "code",
   "execution_count": 87,
   "id": "55013410",
   "metadata": {},
   "outputs": [
    {
     "data": {
      "text/html": [
       "<div>\n",
       "<style scoped>\n",
       "    .dataframe tbody tr th:only-of-type {\n",
       "        vertical-align: middle;\n",
       "    }\n",
       "\n",
       "    .dataframe tbody tr th {\n",
       "        vertical-align: top;\n",
       "    }\n",
       "\n",
       "    .dataframe thead th {\n",
       "        text-align: right;\n",
       "    }\n",
       "</style>\n",
       "<table border=\"1\" class=\"dataframe\">\n",
       "  <thead>\n",
       "    <tr style=\"text-align: right;\">\n",
       "      <th></th>\n",
       "      <th>creditLimit</th>\n",
       "      <th>availableMoney</th>\n",
       "      <th>transactionAmount</th>\n",
       "      <th>currentBalance</th>\n",
       "    </tr>\n",
       "  </thead>\n",
       "  <tbody>\n",
       "    <tr>\n",
       "      <th>count</th>\n",
       "      <td>641914.000000</td>\n",
       "      <td>641914.000000</td>\n",
       "      <td>641914.000000</td>\n",
       "      <td>641914.000000</td>\n",
       "    </tr>\n",
       "    <tr>\n",
       "      <th>mean</th>\n",
       "      <td>10697.210608</td>\n",
       "      <td>6652.828573</td>\n",
       "      <td>135.162497</td>\n",
       "      <td>4044.382035</td>\n",
       "    </tr>\n",
       "    <tr>\n",
       "      <th>std</th>\n",
       "      <td>11460.359133</td>\n",
       "      <td>9227.132275</td>\n",
       "      <td>147.053302</td>\n",
       "      <td>5945.510224</td>\n",
       "    </tr>\n",
       "    <tr>\n",
       "      <th>min</th>\n",
       "      <td>250.000000</td>\n",
       "      <td>-1244.930000</td>\n",
       "      <td>0.000000</td>\n",
       "      <td>0.000000</td>\n",
       "    </tr>\n",
       "    <tr>\n",
       "      <th>25%</th>\n",
       "      <td>5000.000000</td>\n",
       "      <td>1114.970000</td>\n",
       "      <td>32.320000</td>\n",
       "      <td>502.442500</td>\n",
       "    </tr>\n",
       "    <tr>\n",
       "      <th>50%</th>\n",
       "      <td>7500.000000</td>\n",
       "      <td>3578.165000</td>\n",
       "      <td>85.800000</td>\n",
       "      <td>2151.860000</td>\n",
       "    </tr>\n",
       "    <tr>\n",
       "      <th>75%</th>\n",
       "      <td>15000.000000</td>\n",
       "      <td>8169.185000</td>\n",
       "      <td>189.030000</td>\n",
       "      <td>5005.890000</td>\n",
       "    </tr>\n",
       "    <tr>\n",
       "      <th>max</th>\n",
       "      <td>50000.000000</td>\n",
       "      <td>50000.000000</td>\n",
       "      <td>1825.250000</td>\n",
       "      <td>47496.500000</td>\n",
       "    </tr>\n",
       "  </tbody>\n",
       "</table>\n",
       "</div>"
      ],
      "text/plain": [
       "         creditLimit  availableMoney  transactionAmount  currentBalance\n",
       "count  641914.000000   641914.000000      641914.000000   641914.000000\n",
       "mean    10697.210608     6652.828573         135.162497     4044.382035\n",
       "std     11460.359133     9227.132275         147.053302     5945.510224\n",
       "min       250.000000    -1244.930000           0.000000        0.000000\n",
       "25%      5000.000000     1114.970000          32.320000      502.442500\n",
       "50%      7500.000000     3578.165000          85.800000     2151.860000\n",
       "75%     15000.000000     8169.185000         189.030000     5005.890000\n",
       "max     50000.000000    50000.000000        1825.250000    47496.500000"
      ]
     },
     "execution_count": 87,
     "metadata": {},
     "output_type": "execute_result"
    }
   ],
   "source": [
    "# Question 1 \n",
    "df1[['creditLimit', 'availableMoney', 'transactionAmount', 'currentBalance']].describe()\n",
    "\n",
    "# df1.shape\n"
   ]
  },
  {
   "cell_type": "code",
   "execution_count": 88,
   "id": "cf9ed352",
   "metadata": {},
   "outputs": [
    {
     "data": {
      "image/png": "[encoded data removed]",
      "text/plain": [
       "<Figure size 1500x1000 with 4 Axes>"
      ]
     },
     "metadata": {},
     "output_type": "display_data"
    }
   ],
   "source": [
    "df1[['creditLimit','availableMoney','transactionAmount','currentBalance']].hist(figsize=(15, 10), bins=30, edgecolor='black')\n",
    "plt.tight_layout()\n",
    "plt.show()\n"
   ]
  },
  {
   "cell_type": "markdown",
   "id": "b11f83e0",
   "metadata": {},
   "source": [
    "Insights gained\n",
    "1. Based on Std\n",
    "    - creditLimit : High variation. Some customers have very small limits (250) while others go up to 50000.\n",
    "    - availableMoney : Wide spread, including negative balances. Suggest different usuage patterns- some maxing out cards, others preserving credit.\n",
    "    - transactionAmount: Most people spend small amounts , but a few spend a lot in on ego (1825). So the spending pattern is not the same for everyone.\n",
    "    - currentBalance : Again, wide variablility. Some accounts carry very low(0) while some have very high balances (47496.5)\n",
    "\n",
    "2. Based on other statistics\n",
    "    - Most customers have credit limits below 7500, with 75% under 15000. While few premium accounts with 50,000 credit limits.\n",
    "    - Some accounts appear to be overdrawn (negative values), while 75% have available money below 8000\n",
    "    - 75% of transactions are below 189 and likely to be everyday purchases. Some with high value like 1825 in one go.\n",
    "    - Some have large current balance (47,497) while some have zero balance, average is 4,044."
   ]
  },
  {
   "cell_type": "markdown",
   "id": "26a3a073",
   "metadata": {},
   "source": [
    "## Exploring Categorical Columns"
   ]
  },
  {
   "cell_type": "markdown",
   "id": "12d4148c",
   "metadata": {},
   "source": [
    "3. What are the unique values in:\n",
    "    - merchantCategoryCode\n",
    "    - transactionType\n",
    "    - acqCountry\n",
    "    - merchantCountryCode\n",
    "    - merchantName\n",
    "4. What are the most frequet values in those columns?\n",
    "5. What are the most common merchants and merchant categories by transaction count and amount?\n",
    "6. How does transaction frequency and amount vary by country, state, or city?"
   ]
  },
  {
   "cell_type": "code",
   "execution_count": 89,
   "id": "b5191464",
   "metadata": {},
   "outputs": [
    {
     "name": "stdout",
     "output_type": "stream",
     "text": [
      "merchantCategoryCode:  ['rideshare' 'online_gifts' 'personal care' 'fastfood' 'entertainment'\n",
      " 'online_subscriptions' 'mobileapps' 'fuel' 'food' 'online_retail'\n",
      " 'airline' 'hotels' 'food_delivery' 'cable/phone' 'subscriptions' 'auto'\n",
      " 'gym' 'furniture' 'health']\n",
      "\n",
      "transactionType ['PURCHASE' 'ADDRESS_VERIFICATION' 'REVERSAL']\n",
      "\n",
      "acqCountry ['US' 'PR' 'MEX' 'CAN']\n",
      "\n",
      "merchantName ['Lyft' 'Uber' 'Fresh eCards' ... 'Runners #332755' 'Curves #440052'\n",
      " 'Virgin #218063']\n",
      "\n",
      "merchantCountryCode ['US' 'PR' 'MEX' 'CAN']\n",
      "\n",
      "posEntryMode [ 5.  9.  2. 90. 80.]\n",
      "\n",
      "posConditionCode [ 1.  8. 99.]\n",
      "merchantCategoryCode: 19\n",
      "transactionType: 3\n",
      "acqCountry: 4\n",
      "merchantCountryCode: 4\n",
      "merchantName: 2493\n",
      "posEntryMode 5\n",
      "posConditionCode 3\n"
     ]
    }
   ],
   "source": [
    "# unique method for seeing the list of unique values\n",
    "print(\"merchantCategoryCode: \", df1['merchantCategoryCode'].unique())\n",
    "print()\n",
    "print(\"transactionType\", df1['transactionType'].unique())\n",
    "print()\n",
    "print(\"acqCountry\", df1['acqCountry'].unique())\n",
    "print()\n",
    "print(\"merchantName\", df1['merchantName'].unique())\n",
    "print()\n",
    "print(\"merchantCountryCode\", df1['merchantCountryCode'].unique())\n",
    "print()\n",
    "print(\"posEntryMode\",df1['posEntryMode'].unique())\n",
    "print()\n",
    "print(\"posConditionCode\", df1['posConditionCode'].unique()) \n",
    "\n",
    "\n",
    "# nunique method for count value of unique values\n",
    "# Print number of unique values for each\n",
    "print(\"merchantCategoryCode:\", df1['merchantCategoryCode'].nunique())\n",
    "print(\"transactionType:\", df1['transactionType'].nunique())\n",
    "print(\"acqCountry:\", df1['acqCountry'].nunique())\n",
    "print(\"merchantCountryCode:\", df1['merchantCountryCode'].nunique())\n",
    "print(\"merchantName:\", df1['merchantName'].nunique())\n",
    "print('posEntryMode',df1['posEntryMode'].nunique())\n",
    "print('posConditionCode',df1['posConditionCode'].nunique())\n",
    "\n",
    "      \n"
   ]
  },
  {
   "cell_type": "markdown",
   "id": "9d774154",
   "metadata": {},
   "source": [
    "Most Frequent (Mode) Values in These Columns"
   ]
  },
  {
   "cell_type": "code",
   "execution_count": 90,
   "id": "863e9898",
   "metadata": {},
   "outputs": [
    {
     "name": "stdout",
     "output_type": "stream",
     "text": [
      "Most frequent merchantCategoryCode:\n",
      " merchantCategoryCode\n",
      "online_retail    161469\n",
      "fastfood         101196\n",
      "entertainment     69138\n",
      "food              68245\n",
      "rideshare         50574\n",
      "Name: count, dtype: int64\n",
      "Most frequent transactionType:\n",
      " transactionType\n",
      "PURCHASE                609274\n",
      "ADDRESS_VERIFICATION     16478\n",
      "REVERSAL                 16162\n",
      "Name: count, dtype: int64\n",
      "Most frequent acqCountry:\n",
      " acqCountry\n",
      "US     636216\n",
      "MEX      2626\n",
      "CAN      1870\n",
      "PR       1202\n",
      "Name: count, dtype: int64\n",
      "Most frequent merchantCountryCode:\n",
      " merchantCountryCode\n",
      "US     636201\n",
      "MEX      2636\n",
      "CAN      1874\n",
      "PR       1203\n",
      "Name: count, dtype: int64\n",
      "Most frequent merchantName:\n",
      " merchantName\n",
      "Lyft          25311\n",
      "Uber          25263\n",
      "gap.com       13824\n",
      "apple.com     13607\n",
      "target.com    13601\n",
      "Name: count, dtype: int64\n"
     ]
    }
   ],
   "source": [
    "print(\"Most frequent merchantCategoryCode:\\n\", df1['merchantCategoryCode'].value_counts().head())\n",
    "print(\"Most frequent transactionType:\\n\", df1['transactionType'].value_counts().head())\n",
    "print(\"Most frequent acqCountry:\\n\", df1['acqCountry'].value_counts().head())\n",
    "print(\"Most frequent merchantCountryCode:\\n\", df1['merchantCountryCode'].value_counts().head())\n",
    "print(\"Most frequent merchantName:\\n\", df1['merchantName'].value_counts().head())\n"
   ]
  },
  {
   "cell_type": "markdown",
   "id": "b8904892",
   "metadata": {},
   "source": [
    "Most Common Merchants & Merchant Categories by Transaction Count and Amount"
   ]
  },
  {
   "cell_type": "code",
   "execution_count": 91,
   "id": "59f75c80",
   "metadata": {},
   "outputs": [
    {
     "name": "stdout",
     "output_type": "stream",
     "text": [
      "Top merchants by transaction count:\n",
      " merchantName\n",
      "Lyft          25311\n",
      "Uber          25263\n",
      "gap.com       13824\n",
      "apple.com     13607\n",
      "target.com    13601\n",
      "dtype: int64\n",
      "\n",
      "Top categories by transaction count:\n",
      " merchantCategoryCode\n",
      "online_retail    161469\n",
      "fastfood         101196\n",
      "entertainment     69138\n",
      "food              68245\n",
      "rideshare         50574\n",
      "dtype: int64\n",
      "\n",
      "Top merchants by transaction amount:\n",
      " merchantName\n",
      "Lyft           3686393.55\n",
      "Uber           3655617.79\n",
      "target.com     2016053.60\n",
      "gap.com        2012939.11\n",
      "oldnavy.com    1997074.48\n",
      "Name: transactionAmount, dtype: float64\n",
      "\n",
      "Top categories by transaction amount:\n",
      " merchantCategoryCode\n",
      "online_retail    23621623.09\n",
      "fastfood         14652056.60\n",
      "food             10006006.85\n",
      "entertainment     9977175.73\n",
      "rideshare         7342011.34\n",
      "Name: transactionAmount, dtype: float64\n"
     ]
    }
   ],
   "source": [
    "# By transaction count\n",
    "top_merchants_by_count = df1.groupby('merchantName').size().sort_values(ascending=False).head()\n",
    "top_categories_by_count = df1.groupby('merchantCategoryCode').size().sort_values(ascending=False).head()\n",
    "\n",
    "# By transaction amount\n",
    "top_merchants_by_amount = df1.groupby('merchantName')['transactionAmount'].sum().sort_values(ascending=False).head()\n",
    "top_categories_by_amount = df1.groupby('merchantCategoryCode')['transactionAmount'].sum().sort_values(ascending=False).head()\n",
    "\n",
    "print(\"Top merchants by transaction count:\\n\", top_merchants_by_count)\n",
    "print()\n",
    "print(\"Top categories by transaction count:\\n\", top_categories_by_count)\n",
    "print()\n",
    "print(\"Top merchants by transaction amount:\\n\", top_merchants_by_amount)\n",
    "print()\n",
    "print(\"Top categories by transaction amount:\\n\", top_categories_by_amount)\n"
   ]
  },
  {
   "cell_type": "markdown",
   "id": "190960db",
   "metadata": {},
   "source": [
    "Transaction Frequency and Amount by Country, State, or City"
   ]
  },
  {
   "cell_type": "code",
   "execution_count": 92,
   "id": "fbc345ba",
   "metadata": {},
   "outputs": [
    {
     "name": "stdout",
     "output_type": "stream",
     "text": [
      "Transaction summary by country:\n",
      "            transactionAmount                         \n",
      "                       count          sum        mean\n",
      "acqCountry                                           \n",
      "US                    636216  85985733.42  135.151793\n",
      "MEX                     2626    353833.68  134.742452\n",
      "CAN                     1870    258475.14  138.222000\n",
      "PR                      1202    164656.85  136.985732\n"
     ]
    }
   ],
   "source": [
    "# Frequency and amount by country\n",
    "country_summary = df1.groupby('acqCountry').agg({\n",
    "    'transactionAmount': ['count', 'sum', 'mean']\n",
    "}).sort_values(('transactionAmount', 'count'), ascending=False)\n",
    "\n",
    "\n",
    "print(\"Transaction summary by country:\\n\", country_summary.head())\n"
   ]
  },
  {
   "cell_type": "markdown",
   "id": "b6c4f139",
   "metadata": {},
   "source": [
    "## Understanding variable (isFraud)"
   ]
  },
  {
   "cell_type": "markdown",
   "id": "ef62b642",
   "metadata": {},
   "source": [
    "5. How many transactions are marked as fraud vs not fraud?\n",
    "6. What is the percentage of fradulent transactions?\n",
    "7. In which merchantName and merchant Category fraudulent transactions occur most?\n",
    "8. In which country fraudulent transactions occur most?\n"
   ]
  },
  {
   "cell_type": "code",
   "execution_count": 93,
   "id": "0d7d8310",
   "metadata": {},
   "outputs": [
    {
     "name": "stdout",
     "output_type": "stream",
     "text": [
      "(641914, 26)\n",
      "isFraud\n",
      "False    630612\n",
      "True      11302\n",
      "Name: count, dtype: int64\n",
      "1.7606719903289225\n"
     ]
    },
    {
     "name": "stderr",
     "output_type": "stream",
     "text": [
      "C:\\Users\\dell\\AppData\\Local\\Temp\\ipykernel_2744\\2622629816.py:13: FutureWarning: Series.__getitem__ treating keys as positions is deprecated. In a future version, integer keys will always be treated as labels (consistent with DataFrame behavior). To access a value by position, use `ser.iloc[pos]`\n",
      "  percentage_of_fraud = (fraud_transactions[1]/(fraud_transactions[0]+fraud_transactions[1]))*100\n"
     ]
    }
   ],
   "source": [
    "#sorting by trasnaction time\n",
    "sorted_df = df1.sort_values(by='transactionDateTime', ascending=False)\n",
    "\n",
    "print(sorted_df.shape)\n",
    "\n",
    "# print(sorted_df.head())\n",
    "\n",
    "#fraud_transactions = sorted_df[sorted_df['isFraud']].value_counts() # this gives dataframe rows\n",
    "fraud_transactions = sorted_df['isFraud'].value_counts()\n",
    "print(fraud_transactions)\n",
    "\n",
    "#percentage of fradulent transactions:\n",
    "percentage_of_fraud = (fraud_transactions[1]/(fraud_transactions[0]+fraud_transactions[1]))*100\n",
    "print(percentage_of_fraud)\n",
    "\n",
    "\n"
   ]
  },
  {
   "cell_type": "code",
   "execution_count": 94,
   "id": "d162b11a",
   "metadata": {},
   "outputs": [
    {
     "name": "stdout",
     "output_type": "stream",
     "text": [
      "Top merchants in fraudulent transactions:\n",
      " merchantName\n",
      "Uber           575\n",
      "Lyft           550\n",
      "alibaba.com    405\n",
      "target.com     358\n",
      "sears.com      348\n",
      "Name: count, dtype: int64\n",
      "Top merchant categories in fraudulent transactions: \n",
      " merchantCategoryCode\n",
      "online_retail    3647\n",
      "fastfood         1737\n",
      "food             1390\n",
      "rideshare        1125\n",
      "entertainment     928\n",
      "Name: count, dtype: int64\n"
     ]
    }
   ],
   "source": [
    "fraud_df = df1[df1['isFraud']==True]\n",
    "\n",
    "#Most common merchant names in frauds\n",
    "top_merchants_by_fraud = fraud_df['merchantName'].value_counts().head()\n",
    "\n",
    "top_merchantsCategories_by_fraud = fraud_df['merchantCategoryCode'].value_counts().head()\n",
    "\n",
    "print(\"Top merchants in fraudulent transactions:\\n\", top_merchants_by_fraud)\n",
    "print(\"Top merchant categories in fraudulent transactions: \\n\", top_merchantsCategories_by_fraud)"
   ]
  },
  {
   "cell_type": "code",
   "execution_count": 95,
   "id": "fd4e9d0b",
   "metadata": {},
   "outputs": [
    {
     "data": {
      "image/png": "[encoded data removed]",
      "text/plain": [
       "<Figure size 640x480 with 1 Axes>"
      ]
     },
     "metadata": {},
     "output_type": "display_data"
    },
    {
     "data": {
      "image/png": "[encoded data removed]",
      "text/plain": [
       "<Figure size 640x480 with 1 Axes>"
      ]
     },
     "metadata": {},
     "output_type": "display_data"
    }
   ],
   "source": [
    "import seaborn as sns\n",
    "import matplotlib.pyplot as plt\n",
    "\n",
    "# Top 5 fraudulent merchants\n",
    "sns.barplot(x=top_merchants_by_fraud.values, y=top_merchants_by_fraud.index, hue=top_merchants_by_fraud.index,palette='Reds_r')\n",
    "plt.title(\"Top 5 Fraudulent Merchant Names\")\n",
    "plt.xlabel(\"Number of Fraudulent Transactions\")\n",
    "plt.ylabel(\"Merchant Name\")\n",
    "plt.show()\n",
    "\n",
    "# Top 5 fraudulent merchant categories\n",
    "sns.barplot(x=top_merchantsCategories_by_fraud.values, y=top_merchantsCategories_by_fraud.index, hue=top_merchantsCategories_by_fraud, palette='Reds_r')\n",
    "plt.title(\"Top 5 Fraudulent Merchant Categories\")\n",
    "plt.xlabel(\"Number of Fraudulent Transactions\")\n",
    "plt.ylabel(\"Merchant Category\")\n",
    "plt.show()\n"
   ]
  },
  {
   "cell_type": "code",
   "execution_count": 96,
   "id": "971defb0",
   "metadata": {},
   "outputs": [
    {
     "name": "stdout",
     "output_type": "stream",
     "text": [
      "Countries with most fraudulent transactions:\n",
      " acqCountry\n",
      "US     11162\n",
      "MEX       58\n",
      "CAN       50\n",
      "PR        32\n",
      "Name: count, dtype: int64\n"
     ]
    }
   ],
   "source": [
    "# Most frequent countries for fraud\n",
    "fraud_by_country = fraud_df['acqCountry'].value_counts().head()\n",
    "\n",
    "print(\"Countries with most fraudulent transactions:\\n\", fraud_by_country)\n"
   ]
  },
  {
   "cell_type": "markdown",
   "id": "5235f482",
   "metadata": {},
   "source": [
    "## Account and Transactions"
   ]
  },
  {
   "cell_type": "markdown",
   "id": "28c6037a",
   "metadata": {},
   "source": [
    "7. How many unique customers are there, and how many accounts per customer?\n",
    "8. Which customers have the highest number of transactions?\n",
    "9. What is total number of transactions?\n",
    "10. Calculate fraudlent transaction frequency for each account\n",
    "11. What is total number of fraudulent transactions?\n",
    "12. Do certain customers/accounts have a higher rate of fradulent transactions?\n",
    "13. What is overall fraud rate ?"
   ]
  },
  {
   "cell_type": "markdown",
   "id": "10ec8b0d",
   "metadata": {},
   "source": [
    "7. How many unique customers are there, and how many accounts per customer?\n"
   ]
  },
  {
   "cell_type": "code",
   "execution_count": 97,
   "id": "70c5d0be",
   "metadata": {},
   "outputs": [
    {
     "name": "stdout",
     "output_type": "stream",
     "text": [
      "unique_accounts count: 5000\n",
      "<class 'pandas.core.frame.DataFrame'>\n",
      "RangeIndex: 641914 entries, 0 to 641913\n",
      "Data columns (total 26 columns):\n",
      " #   Column                    Non-Null Count   Dtype         \n",
      "---  ------                    --------------   -----         \n",
      " 0   accountNumber             641914 non-null  int64         \n",
      " 1   customerId                641914 non-null  int64         \n",
      " 2   creditLimit               641914 non-null  int64         \n",
      " 3   availableMoney            641914 non-null  float64       \n",
      " 4   transactionDateTime       641914 non-null  datetime64[ns]\n",
      " 5   transactionAmount         641914 non-null  float64       \n",
      " 6   merchantName              641914 non-null  object        \n",
      " 7   acqCountry                641914 non-null  object        \n",
      " 8   merchantCountryCode       641914 non-null  object        \n",
      " 9   posEntryMode              641914 non-null  float64       \n",
      " 10  posConditionCode          641914 non-null  float64       \n",
      " 11  merchantCategoryCode      641914 non-null  object        \n",
      " 12  currentExpDate            641914 non-null  datetime64[ns]\n",
      " 13  accountOpenDate           641914 non-null  datetime64[ns]\n",
      " 14  dateOfLastAddressChange   641914 non-null  datetime64[ns]\n",
      " 15  cardCVV                   641914 non-null  int64         \n",
      " 16  enteredCVV                641914 non-null  int64         \n",
      " 17  cardLast4Digits           641914 non-null  int64         \n",
      " 18  transactionType           641914 non-null  object        \n",
      " 19  isFraud                   641914 non-null  bool          \n",
      " 20  currentBalance            641914 non-null  float64       \n",
      " 21  cardPresent               641914 non-null  bool          \n",
      " 22  expirationDateKeyInMatch  641914 non-null  bool          \n",
      " 23  txn_hour                  641914 non-null  int64         \n",
      " 24  txn_month                 641914 non-null  int64         \n",
      " 25  txn_day                   641914 non-null  int64         \n",
      "dtypes: bool(3), datetime64[ns](4), float64(5), int64(9), object(5)\n",
      "memory usage: 114.5+ MB\n"
     ]
    }
   ],
   "source": [
    "#Unique customer and accounts count\n",
    "# unique_customers= df1['customerId'].unique()\n",
    "# print(f\"Unique customers count: {len(unique_customers)}\")\n",
    "#output: 5000\n",
    "\n",
    "unique_accounts = df1['accountNumber'].unique()\n",
    "print(f\"unique_accounts count: {len(unique_accounts)}\")\n",
    "#output: 5000\n",
    "\n",
    "#(df1['customerId'] == df1['accountNumber']).all()\n",
    "#checked row by row if both are same and found true\n",
    "\n",
    "#df1 = df1.drop('customerId', axis=1)\n",
    "#dropped the customerID column\n",
    "df1.info()\n"
   ]
  },
  {
   "cell_type": "markdown",
   "id": "0af537de",
   "metadata": {},
   "source": [
    "8. Which customers have the highest number of transactions?\n",
    "9. What is total number of transactions?"
   ]
  },
  {
   "cell_type": "code",
   "execution_count": 98,
   "id": "09ee6270",
   "metadata": {},
   "outputs": [
    {
     "name": "stdout",
     "output_type": "stream",
     "text": [
      "Total Transactions Frequency:\n",
      "      accountNumber  transaction_count\n",
      "0         100547107                 85\n",
      "1         100634414                 24\n",
      "2         100973869                 46\n",
      "3         101192712                 20\n",
      "4         101548993                 29\n",
      "...             ...                ...\n",
      "4995      999273501                  8\n",
      "4996      999275549                230\n",
      "4997      999789077                 72\n",
      "4998      999984515                 32\n",
      "4999      999985343                104\n",
      "\n",
      "[5000 rows x 2 columns]\n",
      "Top 10 Highest transaction count and account number\n",
      "   accountNumber  transaction_count\n",
      "0      318001076              10034\n",
      "1      456044564               8382\n",
      "2      812328116               5494\n",
      "3      838085703               5129\n",
      "4      239875038               4705\n",
      "5      877017103               4435\n",
      "6      278064853               4227\n",
      "7      353215513               3756\n",
      "8      314506271               3410\n",
      "9      917216469               3258\n",
      "\n",
      "🔢 Total number of transactions across all accounts: 641914\n"
     ]
    }
   ],
   "source": [
    "\n",
    "\n",
    "# This counts all rows per account, including those with transactionAmount == 0\n",
    "total_transactions_frequency = sorted_df.groupby('accountNumber').size().reset_index(name='transaction_count')\n",
    "print(\"Total Transactions Frequency:\")\n",
    "print(total_transactions_frequency)\n",
    "\n",
    "print(\"Top 10 Highest transaction count and account number\")\n",
    "print(total_transactions_frequency.sort_values(by='transaction_count', ascending=False).head(10).reset_index(drop=True))\n",
    "\n",
    "print(f\"\\n🔢 Total number of transactions across all accounts: {total_transactions_frequency['transaction_count'].sum()}\")\n",
    "\n"
   ]
  },
  {
   "cell_type": "markdown",
   "id": "c34bc51d",
   "metadata": {},
   "source": [
    "AccountNumber : 318001076 does highest number of transaction in year 2016 i.e. 10,034"
   ]
  },
  {
   "cell_type": "markdown",
   "id": "94260f4e",
   "metadata": {},
   "source": [
    "9. Calculate fraudlent transaction frequency for each account\n",
    "10. What is total number of fraudulent transactions?\n",
    "\n"
   ]
  },
  {
   "cell_type": "code",
   "execution_count": 99,
   "id": "daa8a119",
   "metadata": {},
   "outputs": [
    {
     "name": "stdout",
     "output_type": "stream",
     "text": [
      "      accountNumber  fraud_count\n",
      "0         100547107            1\n",
      "1         100634414            0\n",
      "2         100973869            0\n",
      "3         101192712            0\n",
      "4         101548993            0\n",
      "...             ...          ...\n",
      "4995      999273501            0\n",
      "4996      999275549            4\n",
      "4997      999789077            1\n",
      "4998      999984515            0\n",
      "4999      999985343            0\n",
      "\n",
      "[5000 rows x 2 columns]\n",
      "Top 10 Highest fraudulent transaction count and account number\n",
      "   accountNumber  fraud_count\n",
      "0      311710839          302\n",
      "1      318001076          291\n",
      "2      353215513          205\n",
      "3      251625315          142\n",
      "4      822203001          118\n",
      "5      456044564           95\n",
      "6      717128593           81\n",
      "7      877017103           78\n",
      "8      200778999           76\n",
      "9      931013168           74\n",
      "🚨 Total number of fraudulent transactions across all accounts: 11302\n",
      "<class 'pandas.core.frame.DataFrame'>\n",
      "Index: 641914 entries, 216693 to 166842\n",
      "Data columns (total 26 columns):\n",
      " #   Column                    Non-Null Count   Dtype         \n",
      "---  ------                    --------------   -----         \n",
      " 0   accountNumber             641914 non-null  int64         \n",
      " 1   customerId                641914 non-null  int64         \n",
      " 2   creditLimit               641914 non-null  int64         \n",
      " 3   availableMoney            641914 non-null  float64       \n",
      " 4   transactionDateTime       641914 non-null  datetime64[ns]\n",
      " 5   transactionAmount         641914 non-null  float64       \n",
      " 6   merchantName              641914 non-null  object        \n",
      " 7   acqCountry                641914 non-null  object        \n",
      " 8   merchantCountryCode       641914 non-null  object        \n",
      " 9   posEntryMode              641914 non-null  float64       \n",
      " 10  posConditionCode          641914 non-null  float64       \n",
      " 11  merchantCategoryCode      641914 non-null  object        \n",
      " 12  currentExpDate            641914 non-null  datetime64[ns]\n",
      " 13  accountOpenDate           641914 non-null  datetime64[ns]\n",
      " 14  dateOfLastAddressChange   641914 non-null  datetime64[ns]\n",
      " 15  cardCVV                   641914 non-null  int64         \n",
      " 16  enteredCVV                641914 non-null  int64         \n",
      " 17  cardLast4Digits           641914 non-null  int64         \n",
      " 18  transactionType           641914 non-null  object        \n",
      " 19  isFraud                   641914 non-null  bool          \n",
      " 20  currentBalance            641914 non-null  float64       \n",
      " 21  cardPresent               641914 non-null  bool          \n",
      " 22  expirationDateKeyInMatch  641914 non-null  bool          \n",
      " 23  txn_hour                  641914 non-null  int64         \n",
      " 24  txn_month                 641914 non-null  int64         \n",
      " 25  txn_day                   641914 non-null  int64         \n",
      "dtypes: bool(3), datetime64[ns](4), float64(5), int64(9), object(5)\n",
      "memory usage: 119.4+ MB\n",
      "<class 'pandas.core.frame.DataFrame'>\n",
      "RangeIndex: 5000 entries, 0 to 4999\n",
      "Data columns (total 2 columns):\n",
      " #   Column         Non-Null Count  Dtype\n",
      "---  ------         --------------  -----\n",
      " 0   accountNumber  5000 non-null   int64\n",
      " 1   fraud_count    5000 non-null   int64\n",
      "dtypes: int64(2)\n",
      "memory usage: 78.3 KB\n"
     ]
    }
   ],
   "source": [
    "\n",
    "# Fraud transactions frequency\n",
    "fraud_transactions_frequency = (\n",
    "    sorted_df.groupby(\"accountNumber\")['isFraud']\n",
    "    .sum()\n",
    "    .reset_index()\n",
    "    .rename(columns={'isFraud': 'fraud_count'})\n",
    ")\n",
    "print(fraud_transactions_frequency)\n",
    "\n",
    "# Now sort the DataFrame by the newly named column\n",
    "print(\"Top 10 Highest fraudulent transaction count and account number\")\n",
    "print(fraud_transactions_frequency.sort_values(by='fraud_count', ascending=False).head(10).reset_index(drop=True))\n",
    "\n",
    "print(f\"🚨 Total number of fraudulent transactions across all accounts: {fraud_transactions_frequency['fraud_count'].sum()}\")\n",
    "\n",
    "sorted_df.info()\n",
    "fraud_transactions_frequency.info()\n",
    "\n"
   ]
  },
  {
   "cell_type": "code",
   "execution_count": null,
   "id": "44b246c6",
   "metadata": {},
   "outputs": [],
   "source": []
  },
  {
   "cell_type": "markdown",
   "id": "c65679c9",
   "metadata": {},
   "source": [
    "11. What is fraud rate per account?\n",
    "12. Do certain customers/accounts have a higher rate of fradulent transactions?\n",
    "13. What is overall fraud rate ?"
   ]
  },
  {
   "cell_type": "code",
   "execution_count": 100,
   "id": "2ec5cbfb",
   "metadata": {},
   "outputs": [
    {
     "name": "stdout",
     "output_type": "stream",
     "text": [
      "Top 10 Accounts with highest fraud percentage and their fraud percentage\n",
      "   accountNumber  fraud_percentage\n",
      "0      981286839        100.000000\n",
      "1      638423733         50.000000\n",
      "2      704819779         42.682927\n",
      "3      509442666         33.333333\n",
      "4      625998940         33.333333\n",
      "5      938310147         31.606218\n",
      "6      163457367         31.578947\n",
      "7      340949807         30.769231\n",
      "8      234537883         26.595745\n",
      "9      930431098         25.352113\n",
      "🚨 Total number of fraudulent transactions across all accounts: 11302\n",
      "⚠️ Overall fraud rate in the dataset: 1.76%\n",
      "<class 'pandas.core.frame.DataFrame'>\n",
      "RangeIndex: 5000 entries, 0 to 4999\n",
      "Data columns (total 4 columns):\n",
      " #   Column             Non-Null Count  Dtype  \n",
      "---  ------             --------------  -----  \n",
      " 0   accountNumber      5000 non-null   int64  \n",
      " 1   transaction_count  5000 non-null   int64  \n",
      " 2   fraud_count        5000 non-null   int64  \n",
      " 3   fraud_percentage   5000 non-null   float64\n",
      "dtypes: float64(1), int64(3)\n",
      "memory usage: 156.4 KB\n",
      "None\n"
     ]
    }
   ],
   "source": [
    "# Merge the two DataFrames on 'accountNumber'\n",
    "merged_data = pd.merge(total_transactions_frequency, fraud_transactions_frequency, on='accountNumber', how='left')\n",
    "\n",
    "# Calculate the percentage of fraudulent transactions per account\n",
    "merged_data['fraud_percentage'] = (merged_data['fraud_count'] / merged_data['transaction_count']) * 100\n",
    "\n",
    "# Handling missing fraud counts: Replace NaN with 0 (if an account has no fraud)\n",
    "merged_data['fraud_percentage'] = merged_data['fraud_percentage'].fillna(0)\n",
    "\n",
    "# Print the percentage of fraudulent transactions for the top 10 accounts, along with accountNumber\n",
    "print(\"Top 10 Accounts with highest fraud percentage and their fraud percentage\")\n",
    "print(merged_data[['accountNumber', 'fraud_percentage']].sort_values(by='fraud_percentage', ascending=False).head(10).reset_index(drop=True))\n",
    "\n",
    "# ✅ Total number of transactions in the entire dataset\n",
    "total_transactions = total_transactions_frequency['transaction_count'].sum()\n",
    "\n",
    "# ✅ Total number of fraudulent transactions\n",
    "fraud_transactions_frequency['fraud_count'] = fraud_transactions_frequency['fraud_count'].fillna(0)\n",
    "total_fraud_transactions = fraud_transactions_frequency['fraud_count'].sum()\n",
    "print(f\"🚨 Total number of fraudulent transactions across all accounts: {int(total_fraud_transactions)}\")\n",
    "\n",
    "overall_fraud_rate = (total_fraud_transactions / total_transactions) * 100\n",
    "print(f\"⚠️ Overall fraud rate in the dataset: {overall_fraud_rate:.2f}%\")\n",
    "\n",
    "print(merged_data.info())\n",
    "\n"
   ]
  },
  {
   "cell_type": "markdown",
   "id": "b99fd41c",
   "metadata": {},
   "source": [
    "Is there a difference in spending behavior between fraudulent and non-fraudulent transactions?"
   ]
  },
  {
   "cell_type": "code",
   "execution_count": 101,
   "id": "63bea6fe",
   "metadata": {},
   "outputs": [
    {
     "name": "stdout",
     "output_type": "stream",
     "text": [
      "            count        mean         std  min     25%      50%       75%  \\\n",
      "isFraud                                                                     \n",
      "False    630612.0  133.416128  145.583066  0.0  31.810   84.340  186.4400   \n",
      "True      11302.0  232.603744  189.654934  0.0  91.475  185.215  324.8175   \n",
      "\n",
      "             max  \n",
      "isFraud           \n",
      "False    1825.25  \n",
      "True     1743.51  \n"
     ]
    }
   ],
   "source": [
    "summary_stats = sorted_df.groupby('isFraud')['transactionAmount'].describe()\n",
    "print(summary_stats)\n"
   ]
  },
  {
   "cell_type": "code",
   "execution_count": 102,
   "id": "4c630d72",
   "metadata": {},
   "outputs": [
    {
     "data": {
      "image/png": "[encoded data removed]",
      "text/plain": [
       "<Figure size 1000x600 with 1 Axes>"
      ]
     },
     "metadata": {},
     "output_type": "display_data"
    }
   ],
   "source": [
    "plt.figure(figsize=(10, 6))\n",
    "sns.boxplot(data=sorted_df, x='isFraud', y='transactionAmount', hue='isFraud', palette={False: 'green', True: 'red'}, legend=False)\n",
    "plt.xlabel('Fraudulent Transaction?')\n",
    "plt.ylabel('Transaction Amount')\n",
    "plt.title('Comparison of Spending: Fraud vs Non-Fraud Transactions')\n",
    "plt.tight_layout()\n",
    "plt.show()\n"
   ]
  },
  {
   "cell_type": "code",
   "execution_count": 103,
   "id": "10b5b7ed",
   "metadata": {},
   "outputs": [
    {
     "data": {
      "image/png": "[encoded data removed]",
      "text/plain": [
       "<Figure size 1000x600 with 1 Axes>"
      ]
     },
     "metadata": {},
     "output_type": "display_data"
    }
   ],
   "source": [
    "plt.figure(figsize=(10, 6))\n",
    "sns.histplot(data=sorted_df, x='transactionAmount', hue='isFraud', bins=50, kde=True, palette={False: 'green', True: 'red'}, multiple='stack')\n",
    "plt.xlim(0, 2000)  # Set the upper limit of transaction amount to 2000\n",
    "plt.xlabel('Transaction Amount')\n",
    "plt.ylabel('Frequency')\n",
    "plt.title('Transaction Amount Distribution by Fraud Status')\n",
    "plt.tight_layout()\n",
    "plt.show()\n"
   ]
  },
  {
   "cell_type": "markdown",
   "id": "342283e1",
   "metadata": {},
   "source": [
    "Insights\n",
    "1. Highest number of transaction is 10,034 by account number 318001076.\n",
    "2. Highest number of fraudulent transaction is 302 by account number 311710839.\n",
    "3. Fraud_percentage is 100% for account 981286839 , and 50% for account 638423733.\n",
    "4. Total number of transactions acroll all accounts: 641914\n",
    "5. Total number of fraudulent transactions across all accounts: 11302\n",
    "6. Overall fraud rate is 1.76%."
   ]
  },
  {
   "cell_type": "markdown",
   "id": "0eb44b2a",
   "metadata": {},
   "source": [
    "More on comparing fraudulent and non fraudulent transactions\n",
    "1. Fraudulent transactions are, on average, higher in value. (Based on mean)\n",
    "2. Fraudulent transactions also have greater variability - not only are they larger on average, but also more unpredictable. (Based on SD)\n",
    "3. Median for frauds is more than double that of non-frauds. Median is more resistant to outliers, so this confirms fraud transactions are genuinely higher, not just due to a few big outliers.\n",
    "4. 75% of non-fraud transactions are under 186.44 but 75% of frauds go up to 324.82.\n",
    "5. The maximum transaction values are comparable - large outliers happend in both categories."
   ]
  },
  {
   "cell_type": "markdown",
   "id": "1237542f",
   "metadata": {},
   "source": [
    "How many transaction are done by the accountNumber 981286839 and other top accounts with highest fraud percentage in the year 2016."
   ]
  },
  {
   "cell_type": "code",
   "execution_count": 104,
   "id": "fa92a7d7",
   "metadata": {},
   "outputs": [
    {
     "name": "stdout",
     "output_type": "stream",
     "text": [
      "<class 'pandas.core.frame.DataFrame'>\n",
      "RangeIndex: 5000 entries, 0 to 4999\n",
      "Data columns (total 4 columns):\n",
      " #   Column             Non-Null Count  Dtype  \n",
      "---  ------             --------------  -----  \n",
      " 0   accountNumber      5000 non-null   int64  \n",
      " 1   transaction_count  5000 non-null   int64  \n",
      " 2   fraud_count        5000 non-null   int64  \n",
      " 3   fraud_percentage   5000 non-null   float64\n",
      "dtypes: float64(1), int64(3)\n",
      "memory usage: 156.4 KB\n"
     ]
    },
    {
     "data": {
      "text/html": [
       "<div>\n",
       "<style scoped>\n",
       "    .dataframe tbody tr th:only-of-type {\n",
       "        vertical-align: middle;\n",
       "    }\n",
       "\n",
       "    .dataframe tbody tr th {\n",
       "        vertical-align: top;\n",
       "    }\n",
       "\n",
       "    .dataframe thead th {\n",
       "        text-align: right;\n",
       "    }\n",
       "</style>\n",
       "<table border=\"1\" class=\"dataframe\">\n",
       "  <thead>\n",
       "    <tr style=\"text-align: right;\">\n",
       "      <th></th>\n",
       "      <th>accountNumber</th>\n",
       "      <th>transaction_count</th>\n",
       "      <th>fraud_count</th>\n",
       "      <th>fraud_percentage</th>\n",
       "    </tr>\n",
       "  </thead>\n",
       "  <tbody>\n",
       "    <tr>\n",
       "      <th>0</th>\n",
       "      <td>981286839</td>\n",
       "      <td>1</td>\n",
       "      <td>1</td>\n",
       "      <td>100.000000</td>\n",
       "    </tr>\n",
       "    <tr>\n",
       "      <th>1</th>\n",
       "      <td>638423733</td>\n",
       "      <td>2</td>\n",
       "      <td>1</td>\n",
       "      <td>50.000000</td>\n",
       "    </tr>\n",
       "    <tr>\n",
       "      <th>2</th>\n",
       "      <td>704819779</td>\n",
       "      <td>82</td>\n",
       "      <td>35</td>\n",
       "      <td>42.682927</td>\n",
       "    </tr>\n",
       "    <tr>\n",
       "      <th>3</th>\n",
       "      <td>509442666</td>\n",
       "      <td>6</td>\n",
       "      <td>2</td>\n",
       "      <td>33.333333</td>\n",
       "    </tr>\n",
       "    <tr>\n",
       "      <th>4</th>\n",
       "      <td>625998940</td>\n",
       "      <td>6</td>\n",
       "      <td>2</td>\n",
       "      <td>33.333333</td>\n",
       "    </tr>\n",
       "    <tr>\n",
       "      <th>5</th>\n",
       "      <td>938310147</td>\n",
       "      <td>193</td>\n",
       "      <td>61</td>\n",
       "      <td>31.606218</td>\n",
       "    </tr>\n",
       "    <tr>\n",
       "      <th>6</th>\n",
       "      <td>163457367</td>\n",
       "      <td>19</td>\n",
       "      <td>6</td>\n",
       "      <td>31.578947</td>\n",
       "    </tr>\n",
       "    <tr>\n",
       "      <th>7</th>\n",
       "      <td>340949807</td>\n",
       "      <td>13</td>\n",
       "      <td>4</td>\n",
       "      <td>30.769231</td>\n",
       "    </tr>\n",
       "    <tr>\n",
       "      <th>8</th>\n",
       "      <td>234537883</td>\n",
       "      <td>94</td>\n",
       "      <td>25</td>\n",
       "      <td>26.595745</td>\n",
       "    </tr>\n",
       "    <tr>\n",
       "      <th>9</th>\n",
       "      <td>930431098</td>\n",
       "      <td>71</td>\n",
       "      <td>18</td>\n",
       "      <td>25.352113</td>\n",
       "    </tr>\n",
       "  </tbody>\n",
       "</table>\n",
       "</div>"
      ],
      "text/plain": [
       "   accountNumber  transaction_count  fraud_count  fraud_percentage\n",
       "0      981286839                  1            1        100.000000\n",
       "1      638423733                  2            1         50.000000\n",
       "2      704819779                 82           35         42.682927\n",
       "3      509442666                  6            2         33.333333\n",
       "4      625998940                  6            2         33.333333\n",
       "5      938310147                193           61         31.606218\n",
       "6      163457367                 19            6         31.578947\n",
       "7      340949807                 13            4         30.769231\n",
       "8      234537883                 94           25         26.595745\n",
       "9      930431098                 71           18         25.352113"
      ]
     },
     "execution_count": 104,
     "metadata": {},
     "output_type": "execute_result"
    }
   ],
   "source": [
    "merged_data.info()\n",
    "\n",
    "merged_data.sort_values(by='fraud_percentage',ascending=False).head(10).reset_index(drop=True)"
   ]
  },
  {
   "cell_type": "markdown",
   "id": "40493508",
   "metadata": {},
   "source": [
    "What is the highest transaction amount?\n",
    "What is the distribution of transactionAmount? Are there any outliers?\n",
    "What is the overall transaction amount and top accounts by that?"
   ]
  },
  {
   "cell_type": "code",
   "execution_count": 105,
   "id": "6121f26f",
   "metadata": {},
   "outputs": [
    {
     "name": "stdout",
     "output_type": "stream",
     "text": [
      "Highest transaction amount is :\n",
      "1825.25\n",
      "Lowest transaction amount is: \n",
      "0.0\n"
     ]
    }
   ],
   "source": [
    "print(\"Highest transaction amount is :\")\n",
    "print(sorted_df['transactionAmount'].max())\n",
    "print(\"Lowest transaction amount is: \")\n",
    "print(sorted_df['transactionAmount'].min())"
   ]
  },
  {
   "cell_type": "code",
   "execution_count": 106,
   "id": "7df5dc9e",
   "metadata": {},
   "outputs": [
    {
     "data": {
      "image/png": "[encoded data removed]",
      "text/plain": [
       "<Figure size 1000x600 with 1 Axes>"
      ]
     },
     "metadata": {},
     "output_type": "display_data"
    }
   ],
   "source": [
    "from matplotlib.ticker import FuncFormatter\n",
    "import matplotlib.pyplot as plt\n",
    "import seaborn as sns\n",
    "\n",
    "plt.figure(figsize=(10, 6))\n",
    "\n",
    "sns.histplot(data=sorted_df, x='transactionAmount', bins=40, kde=True, color='skyblue')\n",
    "\n",
    "# Format x-axis with commas\n",
    "plt.gca().xaxis.set_major_formatter(FuncFormatter(lambda x, _: f'{int(x):,}'))\n",
    "\n",
    "# Set x-axis limits and tick intervals\n",
    "plt.xlim(0, 2500)\n",
    "plt.xticks(range(0, 2501, 300))  # Set ticks every 100 units\n",
    "\n",
    "plt.xlabel('Transaction Amount')\n",
    "plt.ylabel('Frequency of that Transaction amount')\n",
    "plt.title('Distribution of Transaction Amounts (Focused Range)')\n",
    "plt.tight_layout()\n",
    "plt.show()\n"
   ]
  },
  {
   "cell_type": "code",
   "execution_count": 107,
   "id": "c811d225",
   "metadata": {},
   "outputs": [
    {
     "name": "stdout",
     "output_type": "stream",
     "text": [
      "   accountNumber  transaction_amount_overall\n",
      "0      318001076                  1457470.51\n",
      "1      456044564                  1204157.36\n",
      "2      812328116                   790393.13\n",
      "3      838085703                   725396.56\n",
      "4      239875038                   682537.27\n",
      "5      877017103                   630423.45\n",
      "6      278064853                   596959.43\n",
      "7      353215513                   558229.97\n",
      "8      314506271                   496193.63\n",
      "9      917216469                   479170.53\n",
      "   accountNumber  transaction_amount_overall\n",
      "0      702306492                        0.00\n",
      "1      981286839                        2.21\n",
      "2      406722896                        3.00\n",
      "3      793451714                        3.25\n",
      "4      924628692                        3.57\n",
      "5      800578637                        6.62\n",
      "6      981518869                        8.08\n",
      "7      510840883                       12.04\n",
      "8      339328179                       15.59\n",
      "9      250504933                       17.16\n"
     ]
    },
    {
     "data": {
      "text/html": [
       "<div>\n",
       "<style scoped>\n",
       "    .dataframe tbody tr th:only-of-type {\n",
       "        vertical-align: middle;\n",
       "    }\n",
       "\n",
       "    .dataframe tbody tr th {\n",
       "        vertical-align: top;\n",
       "    }\n",
       "\n",
       "    .dataframe thead th {\n",
       "        text-align: right;\n",
       "    }\n",
       "</style>\n",
       "<table border=\"1\" class=\"dataframe\">\n",
       "  <thead>\n",
       "    <tr style=\"text-align: right;\">\n",
       "      <th></th>\n",
       "      <th>accountNumber</th>\n",
       "      <th>transaction_count</th>\n",
       "      <th>fraud_count</th>\n",
       "      <th>fraud_percentage</th>\n",
       "      <th>transaction_amount_overall</th>\n",
       "    </tr>\n",
       "  </thead>\n",
       "  <tbody>\n",
       "    <tr>\n",
       "      <th>count</th>\n",
       "      <td>5.000000e+03</td>\n",
       "      <td>5000.000000</td>\n",
       "      <td>5000.000000</td>\n",
       "      <td>5000.000000</td>\n",
       "      <td>5.000000e+03</td>\n",
       "    </tr>\n",
       "    <tr>\n",
       "      <th>mean</th>\n",
       "      <td>5.518011e+08</td>\n",
       "      <td>128.382800</td>\n",
       "      <td>2.260400</td>\n",
       "      <td>1.450996</td>\n",
       "      <td>1.735254e+04</td>\n",
       "    </tr>\n",
       "    <tr>\n",
       "      <th>std</th>\n",
       "      <td>2.585887e+08</td>\n",
       "      <td>343.546801</td>\n",
       "      <td>9.137751</td>\n",
       "      <td>3.181674</td>\n",
       "      <td>4.973709e+04</td>\n",
       "    </tr>\n",
       "    <tr>\n",
       "      <th>min</th>\n",
       "      <td>1.005471e+08</td>\n",
       "      <td>1.000000</td>\n",
       "      <td>0.000000</td>\n",
       "      <td>0.000000</td>\n",
       "      <td>0.000000e+00</td>\n",
       "    </tr>\n",
       "    <tr>\n",
       "      <th>25%</th>\n",
       "      <td>3.255578e+08</td>\n",
       "      <td>22.000000</td>\n",
       "      <td>0.000000</td>\n",
       "      <td>0.000000</td>\n",
       "      <td>1.897335e+03</td>\n",
       "    </tr>\n",
       "    <tr>\n",
       "      <th>50%</th>\n",
       "      <td>5.527742e+08</td>\n",
       "      <td>47.000000</td>\n",
       "      <td>0.000000</td>\n",
       "      <td>0.000000</td>\n",
       "      <td>5.295595e+03</td>\n",
       "    </tr>\n",
       "    <tr>\n",
       "      <th>75%</th>\n",
       "      <td>7.771866e+08</td>\n",
       "      <td>108.000000</td>\n",
       "      <td>2.000000</td>\n",
       "      <td>1.923077</td>\n",
       "      <td>1.436336e+04</td>\n",
       "    </tr>\n",
       "    <tr>\n",
       "      <th>max</th>\n",
       "      <td>9.999853e+08</td>\n",
       "      <td>10034.000000</td>\n",
       "      <td>302.000000</td>\n",
       "      <td>100.000000</td>\n",
       "      <td>1.457471e+06</td>\n",
       "    </tr>\n",
       "  </tbody>\n",
       "</table>\n",
       "</div>"
      ],
      "text/plain": [
       "       accountNumber  transaction_count  fraud_count  fraud_percentage  \\\n",
       "count   5.000000e+03        5000.000000  5000.000000       5000.000000   \n",
       "mean    5.518011e+08         128.382800     2.260400          1.450996   \n",
       "std     2.585887e+08         343.546801     9.137751          3.181674   \n",
       "min     1.005471e+08           1.000000     0.000000          0.000000   \n",
       "25%     3.255578e+08          22.000000     0.000000          0.000000   \n",
       "50%     5.527742e+08          47.000000     0.000000          0.000000   \n",
       "75%     7.771866e+08         108.000000     2.000000          1.923077   \n",
       "max     9.999853e+08       10034.000000   302.000000        100.000000   \n",
       "\n",
       "       transaction_amount_overall  \n",
       "count                5.000000e+03  \n",
       "mean                 1.735254e+04  \n",
       "std                  4.973709e+04  \n",
       "min                  0.000000e+00  \n",
       "25%                  1.897335e+03  \n",
       "50%                  5.295595e+03  \n",
       "75%                  1.436336e+04  \n",
       "max                  1.457471e+06  "
      ]
     },
     "execution_count": 107,
     "metadata": {},
     "output_type": "execute_result"
    }
   ],
   "source": [
    "# merged_data.drop(columns='transaction_amount_overall', inplace=True)\n",
    "\n",
    "# merged_data.info()\n",
    "\n",
    "# Remove old column first if it exists\n",
    "if 'transaction_amount_overall' in merged_data.columns:\n",
    "    merged_data.drop(columns='transaction_amount_overall', inplace=True)\n",
    "\n",
    "# Calculate transaction amount per account\n",
    "transaction_amount_overall = sorted_df.groupby('accountNumber')['transactionAmount'].sum().reset_index()\n",
    "\n",
    "# Rename before merging to avoid conflict\n",
    "transaction_amount_overall.rename(columns={'transactionAmount': 'transaction_amount_overall'}, inplace=True)\n",
    "\n",
    "# Merge cleanly\n",
    "merged_data = pd.merge(merged_data, transaction_amount_overall, on='accountNumber', how='left')\n",
    "\n",
    "top_accounts = merged_data.sort_values(by='transaction_amount_overall', ascending=False).head(10).reset_index(drop=True)\n",
    "print(top_accounts[['accountNumber', 'transaction_amount_overall']])\n",
    "\n",
    "\n",
    "min_accounts = merged_data.sort_values(by='transaction_amount_overall', ascending=True).head(10).reset_index(drop=True)\n",
    "print(min_accounts[[\"accountNumber\", \"transaction_amount_overall\"]])\n",
    "\n",
    "merged_data.describe()"
   ]
  },
  {
   "cell_type": "markdown",
   "id": "1b827349",
   "metadata": {},
   "source": [
    "The highest transaction amount in one go is 1825.25 rupees.\n",
    "\n",
    "Account with overall highest transaction about over the year is AccountNumber 318001076 with amount 14,57,470.51.\n"
   ]
  },
  {
   "cell_type": "code",
   "execution_count": 108,
   "id": "d4b444c8",
   "metadata": {},
   "outputs": [
    {
     "data": {
      "image/png": "[encoded data removed]",
      "text/plain": [
       "<Figure size 1000x600 with 1 Axes>"
      ]
     },
     "metadata": {},
     "output_type": "display_data"
    }
   ],
   "source": [
    "import seaborn as sns\n",
    "import matplotlib.pyplot as plt\n",
    "from matplotlib.ticker import FuncFormatter\n",
    "\n",
    "plt.figure(figsize=(10, 6))\n",
    "\n",
    "# Filter for realistic range (e.g., 0 to 15,000)\n",
    "sns.histplot(data=merged_data, x='transaction_amount_overall', bins=30, kde=True, color='skyblue')\n",
    "\n",
    "# Format x-axis with commas\n",
    "plt.gca().xaxis.set_major_formatter(FuncFormatter(lambda x, _: f'{int(x):,}'))\n",
    "\n",
    "# Set x-axis limits based on your actual data range\n",
    "plt.xlim(0, 250000)  # You can adjust the upper limit if needed\n",
    "\n",
    "plt.xlabel('Total Transaction Amount per Account')\n",
    "plt.ylabel('Number of Accounts')\n",
    "plt.title('Distribution of Transaction Amounts (Focused Range)')\n",
    "plt.tight_layout()\n",
    "plt.show()\n"
   ]
  },
  {
   "cell_type": "markdown",
   "id": "18f8bc37",
   "metadata": {},
   "source": [
    "## Customer, CVV, expirationDate"
   ]
  },
  {
   "cell_type": "markdown",
   "id": "6e9038ca",
   "metadata": {},
   "source": [
    "14. Normally after how long time of opening account the address is changed?\n",
    "15. From today's date it we see which are the oldest and newest accounts\n",
    "16. In which day maximum accounts are opened?\n",
    "17. Check enteredCVV and cardCVV mismatches, and calculate percentage of mismatch\n",
    "18. Compare cvv_mismatch and isFraud using crosstab (or contingency table) \n",
    "19. Compare expirationDateKeyInMatch with isFraud using crosstab\n",
    "20. Whose customers card expiration date is near?\n"
   ]
  },
  {
   "cell_type": "code",
   "execution_count": 134,
   "id": "727254ae",
   "metadata": {},
   "outputs": [
    {
     "name": "stdout",
     "output_type": "stream",
     "text": [
      "       availableMoney   creditLimit  currentBalance\n",
      "count     5000.000000   5000.000000     5000.000000\n",
      "mean      7864.428834  10226.500000     2362.071166\n",
      "std      10093.711292  10849.210286     3803.040561\n",
      "min       -468.610000    250.000000        0.000000\n",
      "25%       1395.765000   5000.000000      192.067500\n",
      "50%       4760.715000   7500.000000      925.005000\n",
      "75%       9990.122500  15000.000000     3167.830000\n",
      "max      50000.000000  50000.000000    47076.710000\n",
      "       availableMoney    creditLimit  currentBalance  transactionAmount\n",
      "count   641914.000000  641914.000000   641914.000000      641914.000000\n",
      "mean      6652.828573   10697.210608     4044.382035         135.162497\n",
      "std       9227.132275   11460.359133     5945.510224         147.053302\n",
      "min      -1244.930000     250.000000        0.000000           0.000000\n",
      "25%       1114.970000    5000.000000      502.442500          32.320000\n",
      "50%       3578.165000    7500.000000     2151.860000          85.800000\n",
      "75%       8169.185000   15000.000000     5005.890000         189.030000\n",
      "max      50000.000000   50000.000000    47496.500000        1825.250000\n",
      "   accountNumber  currentBalance\n",
      "0      644529402        47076.71\n",
      "1      406108945        46940.01\n",
      "2      525707948        46189.41\n",
      "3      774092536        43765.37\n",
      "4      990594617        43531.89\n"
     ]
    }
   ],
   "source": [
    "# List of columns related to customer information\n",
    "customer_columns = [\n",
    "    'accountNumber',\n",
    "    'customerId',\n",
    "    'creditLimit',\n",
    "    'availableMoney',\n",
    "    'cardCVV',\n",
    "    'enteredCVV',\n",
    "    'cardLast4Digits',\n",
    "    'currentExpDate',\n",
    "    'accountOpenDate',\n",
    "    'dateOfLastAddressChange',\n",
    "    'currentBalance',\n",
    "    'expirationDateKeyInMatch',\n",
    "    'cardPresent'\n",
    "]\n",
    "\n",
    "# # # Create the customer DataFrame\n",
    "# customer_df = df1[customer_columns].drop_duplicates(subset='accountNumber').reset_index(drop=True)\n",
    "\n",
    "customer_df = df1.sort_values(by='transactionDateTime', ascending=False) \\\n",
    "                 .drop_duplicates(subset='accountNumber') \\\n",
    "                 .reset_index(drop=True)\n",
    "\n",
    "\n",
    "print(customer_df[['availableMoney', 'creditLimit', 'currentBalance']].describe())\n",
    "\n",
    "# # Preview the DataFrame\n",
    "# print(\"Customer DataFrame:\")\n",
    "# print(customer_df.head())\n",
    "\n",
    "# print(\n",
    "#     customer_df[['accountNumber', 'currentBalance']]       # Select only these two columns\n",
    "#     .sort_values(by='currentBalance', ascending=False)     # Sort by currentBalance (highest first)\n",
    "#     .reset_index(drop=True)                                # Reset index after sorting (drop old index)\n",
    "#     .head()                                                # Show top 5 rows\n",
    "# )\n",
    "\n",
    "# # print(df1.info())\n",
    "\n",
    "print(df1[['availableMoney', 'creditLimit', 'currentBalance', 'transactionAmount']].describe())\n",
    "print(customer_df[['accountNumber','currentBalance']].sort_values(by='currentBalance',ascending=False).head().reset_index(drop=True))\n"
   ]
  },
  {
   "cell_type": "markdown",
   "id": "09b26f3a",
   "metadata": {},
   "source": [
    "14. Normally after how long time of opening account the address is changed?"
   ]
  },
  {
   "cell_type": "code",
   "execution_count": 110,
   "id": "60e2bde8",
   "metadata": {},
   "outputs": [
    {
     "name": "stdout",
     "output_type": "stream",
     "text": [
      "   accountNumber  add_change_gap\n",
      "0      778536189            4311\n",
      "1      626616792            4222\n",
      "2      462201332            4211\n",
      "3      616967429            4178\n",
      "4      801168702            4177\n",
      "5      333625526            3956\n",
      "6      992898175            3954\n",
      "7      104931978            3633\n",
      "8      739341340            3622\n",
      "9      817417193            3612\n",
      "\n",
      "Overall average address change gap (in days):  199.89\n",
      "After opening account how many customer have changed the address\n",
      "\n",
      "Number of customers who changed the address after opening account: 1071 \n",
      "      accountNumber  add_change_gap\n",
      "0         173971251              26\n",
      "1         393245351              44\n",
      "2         981136925              52\n",
      "3         275541201              53\n",
      "4         280983864              55\n",
      "...             ...             ...\n",
      "1066      801168702            4177\n",
      "1067      616967429            4178\n",
      "1068      462201332            4211\n",
      "1069      626616792            4222\n",
      "1070      778536189            4311\n",
      "\n",
      "[1071 rows x 2 columns]\n"
     ]
    }
   ],
   "source": [
    "customer_df['add_change_gap'] = (customer_df['dateOfLastAddressChange']- customer_df['accountOpenDate']).dt.days\n",
    "print(customer_df[['accountNumber','add_change_gap']].sort_values(by='add_change_gap', ascending=False).reset_index(drop=True).head(10))\n",
    "\n",
    "average_gap = customer_df['add_change_gap'].mean()\n",
    "print(f\"\\nOverall average address change gap (in days): {average_gap: .2f}\")\n",
    "\n",
    "print(\"After opening account how many customer have changed the address\")\n",
    "changed_after_opening = customer_df[customer_df['add_change_gap']>0]\n",
    "\n",
    "print(f\"\\nNumber of customers who changed the address after opening account: {changed_after_opening.shape[0]} \")\n",
    "print(changed_after_opening[['accountNumber','add_change_gap']].sort_values(by='add_change_gap',ascending=True).reset_index(drop=True))"
   ]
  },
  {
   "cell_type": "markdown",
   "id": "00f116d8",
   "metadata": {},
   "source": [
    "15. From today's date it we see which are the oldest and newest accounts"
   ]
  },
  {
   "cell_type": "code",
   "execution_count": 111,
   "id": "47a1395e",
   "metadata": {},
   "outputs": [
    {
     "name": "stdout",
     "output_type": "stream",
     "text": [
      "\n",
      "Top 5 oldest accounts:\n",
      "   accountNumber accountOpenDate  accountAge\n",
      "0      789836144      1985-12-25       14377\n",
      "1      367184291      2000-09-29        8985\n",
      "2      414475732      2000-11-16        8937\n",
      "3      347596074      2002-08-15        8300\n",
      "4      719425571      2002-10-20        8234\n",
      "\n",
      "Top 5 new accounts\n",
      "   accountNumber accountOpenDate  accountAge\n",
      "0      605704714      2015-12-31        3414\n",
      "1      477081008      2015-12-31        3414\n",
      "2      890796581      2015-12-31        3414\n",
      "3      783343390      2015-12-31        3414\n",
      "4      431354281      2015-12-31        3414\n",
      "\n",
      " The oldest account is:\n",
      "Account Number: 789836144,Opened on: 1985-12-25 , Age: 14377 days \n",
      "\n",
      " The newest account is:\n",
      "Account Number: 890796581,Opened on: 2015-12-31 , Age: 3414 days \n"
     ]
    }
   ],
   "source": [
    "#customer_df = customer_df.drop(columns=['accountAge'])\n",
    "today = pd.Timestamp.today()\n",
    "customer_df['accountAge'] = (today - customer_df['accountOpenDate']).dt.days\n",
    "\n",
    "print(\"\\nTop 5 oldest accounts:\")\n",
    "print(customer_df[['accountNumber','accountOpenDate','accountAge']]\n",
    "      .sort_values(by='accountAge', ascending=False)\n",
    "      .reset_index(drop=True)\n",
    "      .head())\n",
    "\n",
    "print(\"\\nTop 5 new accounts\")\n",
    "print(customer_df[['accountNumber','accountOpenDate','accountAge']]\n",
    "      .sort_values(by='accountAge',ascending=True)\n",
    "      .reset_index(drop=True)\n",
    "      .head())\n",
    "\n",
    "#Oldest account\n",
    "oldest_account = customer_df.loc[customer_df['accountAge'].idxmax()]\n",
    "print(f\"\\n The oldest account is:\\nAccount Number: {oldest_account['accountNumber']},\"\n",
    "      f\"Opened on: {oldest_account['accountOpenDate'].date()} ,\"\n",
    "      f\" Age: {oldest_account['accountAge']} days \")\n",
    "\n",
    "#finding the newest account\n",
    "\n",
    "newest_account = customer_df.loc[customer_df['accountAge'].idxmin()]\n",
    "\n",
    "print(f\"\\n The newest account is:\\nAccount Number: {newest_account['accountNumber']},\"\n",
    "      f\"Opened on: {newest_account['accountOpenDate'].date()} ,\"\n",
    "      f\" Age: {newest_account['accountAge']} days \")"
   ]
  },
  {
   "cell_type": "markdown",
   "id": "152f953d",
   "metadata": {},
   "source": [
    "16. In which day maximum accounts are opened?"
   ]
  },
  {
   "cell_type": "code",
   "execution_count": 138,
   "id": "0f737dc9",
   "metadata": {},
   "outputs": [
    {
     "name": "stdout",
     "output_type": "stream",
     "text": [
      "\n",
      " Top 5 days with most account openings:\n",
      "accountOpenDate\n",
      "2015-11-21    13\n",
      "2015-12-26    13\n",
      "2015-11-01    13\n",
      "2015-09-22    12\n",
      "2015-05-08    12\n",
      "dtype: int64\n",
      "The maximum number of accounts were opened on 2015-11-01,with 13 accounts.\n",
      "Average count of accounts opened in a day: 2.738225629791895\n",
      "Minimum count of acounts opened in a day: 1\n"
     ]
    }
   ],
   "source": [
    "account_open_day_counts = customer_df.groupby('accountOpenDate').size()\n",
    "\n",
    "max_open_day = account_open_day_counts.idxmax()\n",
    "max_open_count = account_open_day_counts.max()\n",
    "\n",
    "print(\"\\n Top 5 days with most account openings:\")\n",
    "print(account_open_day_counts.sort_values(ascending=False).head())\n",
    "\n",
    "print(f\"The maximum number of accounts were opened on {max_open_day.date()},with {max_open_count} accounts.\")\n",
    "\n",
    "print(\"Average count of accounts opened in a day:\", account_open_day_counts.mean())\n",
    "print(\"Minimum count of acounts opened in a day:\", account_open_day_counts.min())"
   ]
  },
  {
   "cell_type": "markdown",
   "id": "c03ec58f",
   "metadata": {},
   "source": [
    "17. Check mismatches between entered CVV and actual CVV and calculate mismatch_percentage\n",
    "\n"
   ]
  },
  {
   "cell_type": "code",
   "execution_count": 140,
   "id": "84ade8e2",
   "metadata": {},
   "outputs": [
    {
     "name": "stdout",
     "output_type": "stream",
     "text": [
      "Account Number and corresponding: cvv_mismatch counts\n",
      "accountNumber\n",
      "318001076    83\n",
      "456044564    72\n",
      "812328116    59\n",
      "838085703    54\n",
      "877017103    54\n",
      "             ..\n",
      "101970909     0\n",
      "102085969     0\n",
      "102307135     0\n",
      "102537526     0\n",
      "102635965     0\n",
      "Name: cvv_mismatch, Length: 5000, dtype: int64\n",
      "   accountNumber  total_transactions  mismatch_count  mismatch_percentage\n",
      "0      890964842                  23              22            95.652174\n",
      "1      238223440                  10               9            90.000000\n",
      "2      697174743                  16              13            81.250000\n",
      "3      880748396                  14              11            78.571429\n",
      "4      116649028                   4               3            75.000000\n",
      "5      324884038                  13               8            61.538462\n",
      "6      716448276                  37              22            59.459459\n",
      "7      628545009                  23              13            56.521739\n",
      "8      827592181                  50              27            54.000000\n",
      "9      369024894                  14               7            50.000000\n",
      "    accountNumber  total_transactions  mismatch_count  mismatch_percentage\n",
      "0       890964842                  23              22            95.652174\n",
      "1       238223440                  10               9            90.000000\n",
      "2       697174743                  16              13            81.250000\n",
      "3       880748396                  14              11            78.571429\n",
      "4       116649028                   4               3            75.000000\n",
      "5       324884038                  13               8            61.538462\n",
      "6       716448276                  37              22            59.459459\n",
      "7       628545009                  23              13            56.521739\n",
      "8       827592181                  50              27            54.000000\n",
      "9       369024894                  14               7            50.000000\n",
      "10      966761447                   6               3            50.000000\n",
      "11      686274644                  44              21            47.727273\n",
      "12      773192558                  22              10            45.454545\n",
      "13      284243694                  37              16            43.243243\n",
      "14      380988777                  14               6            42.857143\n",
      "15      519440473                  25               8            32.000000\n",
      "16      810560539                   4               1            25.000000\n",
      "17      443926651                   4               1            25.000000\n",
      "18      421062568                   4               1            25.000000\n",
      "19      257955599                  51              12            23.529412\n",
      "20      749941826                  76              17            22.368421\n",
      "21      817255360                  93              20            21.505376\n",
      "22      537897861                 125              26            20.800000\n",
      "23      492952948                   5               1            20.000000\n",
      "24      339278503                  40               8            20.000000\n",
      "25      194168404                  10               2            20.000000\n",
      "26      955003676                  43               8            18.604651\n",
      "27      863671857                  38               7            18.421053\n",
      "28      512768456                   6               1            16.666667\n",
      "29      232129715                   6               1            16.666667\n",
      "30      966274248                   6               1            16.666667\n",
      "31      392087333                  30               5            16.666667\n",
      "32      479691935                   7               1            14.285714\n",
      "33      372218389                  53               7            13.207547\n",
      "34      804263552                   8               1            12.500000\n",
      "35      687178264                  24               3            12.500000\n",
      "36      120785565                  16               2            12.500000\n",
      "37      204588525                   8               1            12.500000\n",
      "38      860511124                   8               1            12.500000\n",
      "39      501124078                   8               1            12.500000\n"
     ]
    }
   ],
   "source": [
    "# Step 1: Create a new column to mark mismatches between entered and actual CVV\n",
    "sorted_df['cvv_mismatch'] = sorted_df['enteredCVV'] != sorted_df['cardCVV']\n",
    "\n",
    "print(\"Account Number and corresponding: cvv_mismatch counts\")\n",
    "print(sorted_df.groupby('accountNumber')['cvv_mismatch'].sum().sort_values(ascending=False))\n",
    "\n",
    "# Step 2: Group by account and calculate total transactions and mismatches\n",
    "fraudulent_df = sorted_df.groupby('accountNumber').agg(\n",
    "    total_transactions=('cvv_mismatch', 'count'),\n",
    "    mismatch_count=('cvv_mismatch', 'sum')\n",
    ").reset_index()\n",
    "\n",
    "# Step 3: Calculate percentage of mismatches\n",
    "fraudulent_df['mismatch_percentage'] = (fraudulent_df['mismatch_count'] / fraudulent_df['total_transactions']) * 100\n",
    "\n",
    "\n",
    "\n",
    "#fradulent_df only contains those accounts whose cvv mismatch_percentage is greater than 0\n",
    "\n",
    "fraudulent_df = fraudulent_df[fraudulent_df['mismatch_percentage']>0]\n",
    "\n",
    "print(fraudulent_df.sort_values(by='mismatch_percentage',ascending=False).head(10).reset_index(drop=True))\n",
    "\n",
    "# Filter accounts with more than 10% mismatch, then sort by mismatch percentage\n",
    "print(fraudulent_df[fraudulent_df['mismatch_percentage'] > 10].sort_values(by='mismatch_percentage', ascending=False).head(40).reset_index(drop=True))\n",
    "\n",
    "\n",
    "\n",
    "\n",
    "\n",
    "\n"
   ]
  },
  {
   "cell_type": "markdown",
   "id": "896384cc",
   "metadata": {},
   "source": [
    "We checked for enteredCVV and  cardCVV mismatch, first we counted the total transactions number and then mismatch count for each account number and then grouped those accounts whose mismatch_percentage is greater than 0 in a dataframe fradulent_df.\n",
    "\n",
    "In fradulent_df one account with 95.65% mismatch rate, similary 39 accounts with mismatch rate above 10%.\n",
    "\n"
   ]
  },
  {
   "cell_type": "markdown",
   "id": "e44dc831",
   "metadata": {},
   "source": [
    "18. Now check cardpresent = False case"
   ]
  },
  {
   "cell_type": "code",
   "execution_count": 114,
   "id": "628489d8",
   "metadata": {},
   "outputs": [
    {
     "name": "stdout",
     "output_type": "stream",
     "text": [
      "[ True False]\n",
      "cardPresent\n",
      "False    340453\n",
      "True     301461\n",
      "Name: count, dtype: int64\n"
     ]
    },
    {
     "name": "stdout",
     "output_type": "stream",
     "text": [
      "Total CVV mismatches (card absent): 3120\n",
      "Creating fraudulent_df2 to store data for cvv_mismatch_percentage_card_absent greater than 10%\n",
      "   accountNumber  total_transactions_card_absent  \\\n",
      "0      238223440                               9   \n",
      "1      443926651                               1   \n",
      "2      697174743                              14   \n",
      "3      628545009                              14   \n",
      "4      773192558                              10   \n",
      "5      880748396                              13   \n",
      "6      966761447                               4   \n",
      "7      116649028                               4   \n",
      "8      626702583                               7   \n",
      "9      380988777                               9   \n",
      "10     369024894                              11   \n",
      "11     897359425                               2   \n",
      "12     519440473                              17   \n",
      "13     560627602                              22   \n",
      "14     257955599                              30   \n",
      "15     466578513                               3   \n",
      "16     392087333                              16   \n",
      "17     955003676                              26   \n",
      "18     493979040                              14   \n",
      "19     339278503                              28   \n",
      "20     209627667                              11   \n",
      "21     863671857                              26   \n",
      "22     484868570                               4   \n",
      "23     462453011                               8   \n",
      "24     810560539                               4   \n",
      "25     453022891                               4   \n",
      "26     372218389                              29   \n",
      "27     402898092                              40   \n",
      "28     984650354                              32   \n",
      "29     503504966                               5   \n",
      "30     512768456                               5   \n",
      "31     214033721                               5   \n",
      "32     182552443                               5   \n",
      "33     606664310                               5   \n",
      "34     844012955                               5   \n",
      "35     880788412                              11   \n",
      "36     461515372                              22   \n",
      "37     142500672                              46   \n",
      "38     458710159                               6   \n",
      "39     952186489                               6   \n",
      "40     707755406                              33   \n",
      "41     243205986                               7   \n",
      "42     278459501                              14   \n",
      "43     860511124                               7   \n",
      "44     921374071                               7   \n",
      "45     518350253                               7   \n",
      "46     878795136                              15   \n",
      "47     235042301                              55   \n",
      "48     120785565                              16   \n",
      "49     522297918                               8   \n",
      "50     299893246                              17   \n",
      "51     446317221                               9   \n",
      "52     447553505                               9   \n",
      "53     159788166                               9   \n",
      "54     248469436                               9   \n",
      "55     938877375                               9   \n",
      "56     873884116                              36   \n",
      "57     954610947                               9   \n",
      "58     715319228                              28   \n",
      "\n",
      "    cvv_mismatch_count_card_absent  cvv_mismatch_percentage_card_absent  \n",
      "0                                9                           100.000000  \n",
      "1                                1                           100.000000  \n",
      "2                               13                            92.857143  \n",
      "3                               13                            92.857143  \n",
      "4                                9                            90.000000  \n",
      "5                               11                            84.615385  \n",
      "6                                3                            75.000000  \n",
      "7                                3                            75.000000  \n",
      "8                                5                            71.428571  \n",
      "9                                6                            66.666667  \n",
      "10                               7                            63.636364  \n",
      "11                               1                            50.000000  \n",
      "12                               8                            47.058824  \n",
      "13                              10                            45.454545  \n",
      "14                              12                            40.000000  \n",
      "15                               1                            33.333333  \n",
      "16                               5                            31.250000  \n",
      "17                               8                            30.769231  \n",
      "18                               4                            28.571429  \n",
      "19                               8                            28.571429  \n",
      "20                               3                            27.272727  \n",
      "21                               7                            26.923077  \n",
      "22                               1                            25.000000  \n",
      "23                               2                            25.000000  \n",
      "24                               1                            25.000000  \n",
      "25                               1                            25.000000  \n",
      "26                               7                            24.137931  \n",
      "27                               9                            22.500000  \n",
      "28                               7                            21.875000  \n",
      "29                               1                            20.000000  \n",
      "30                               1                            20.000000  \n",
      "31                               1                            20.000000  \n",
      "32                               1                            20.000000  \n",
      "33                               1                            20.000000  \n",
      "34                               1                            20.000000  \n",
      "35                               2                            18.181818  \n",
      "36                               4                            18.181818  \n",
      "37                               8                            17.391304  \n",
      "38                               1                            16.666667  \n",
      "39                               1                            16.666667  \n",
      "40                               5                            15.151515  \n",
      "41                               1                            14.285714  \n",
      "42                               2                            14.285714  \n",
      "43                               1                            14.285714  \n",
      "44                               1                            14.285714  \n",
      "45                               1                            14.285714  \n",
      "46                               2                            13.333333  \n",
      "47                               7                            12.727273  \n",
      "48                               2                            12.500000  \n",
      "49                               1                            12.500000  \n",
      "50                               2                            11.764706  \n",
      "51                               1                            11.111111  \n",
      "52                               1                            11.111111  \n",
      "53                               1                            11.111111  \n",
      "54                               1                            11.111111  \n",
      "55                               1                            11.111111  \n",
      "56                               4                            11.111111  \n",
      "57                               1                            11.111111  \n",
      "58                               3                            10.714286  \n"
     ]
    }
   ],
   "source": [
    "# Step 1: Check distinct values in 'cardPresent' column\n",
    "print(sorted_df['cardPresent'].unique())\n",
    "print(sorted_df['cardPresent'].value_counts(dropna=False))\n",
    "\n",
    "# Step 2: Filter data for card-absent transactions\n",
    "card_absent_df = sorted_df[sorted_df['cardPresent'] == False]\n",
    "\n",
    "# Step 3: Group and compute mismatch stats for card-absent transactions\n",
    "fraudulent_card_absent_df = card_absent_df.groupby('accountNumber').agg(\n",
    "    total_transactions_card_absent=('cvv_mismatch', 'count'),\n",
    "    cvv_mismatch_count_card_absent=('cvv_mismatch', 'sum')\n",
    ").reset_index()\n",
    "\n",
    "# Step 4: Calculate mismatch percentage\n",
    "fraudulent_card_absent_df['cvv_mismatch_percentage_card_absent'] = (\n",
    "    fraudulent_card_absent_df['cvv_mismatch_count_card_absent'] / fraudulent_card_absent_df['total_transactions_card_absent']\n",
    ") * 100\n",
    "\n",
    "\n",
    "total_mismatches_while_card_absent = card_absent_df['cvv_mismatch'].sum()\n",
    "print(\"Total CVV mismatches (card absent):\", total_mismatches_while_card_absent)\n",
    "\n",
    "# Step 6: Calculate totals\n",
    "total_transactions = fraudulent_card_absent_df['total_transactions_card_absent'].sum()\n",
    "total_mismatches = fraudulent_card_absent_df['cvv_mismatch_count_card_absent'].sum()\n",
    "\n",
    "# Step 7: Calculate overall percentage\n",
    "overall_mismatch_percentage = (total_mismatches / total_transactions) * 100\n",
    "\n",
    "# Step 8: Create a summary row as a DataFrame\n",
    "summary_row = pd.DataFrame({\n",
    "    'accountNumber': ['TOTAL'],\n",
    "    'total_transactions_card_absent': [total_transactions],\n",
    "    'cvv_mismatch_count_card_absent': [total_mismatches],\n",
    "    'cvv_mismatch_percentage_card_absent': [overall_mismatch_percentage]\n",
    "})\n",
    "\n",
    "# Step 9: Append the summary row to the original DataFrame\n",
    "fraudulent_card_absent_df = pd.concat([fraudulent_card_absent_df, summary_row], ignore_index=True)\n",
    "\n",
    "# # Step 10: Print the final DataFrame\n",
    "# print(fraudulent_df1)\n",
    "\n",
    "# print(\"Top 20 accounts with card absent and high cvv mismatch rate\")\n",
    "# print(fraudulent_df1.sort_values(by='cvv_mismatch_percentage_card_absent', ascending=False).head(20).reset_index(drop=True))\n",
    "\n",
    "print(\"Creating fraudulent_df2 to store data for cvv_mismatch_percentage_card_absent greater than 10%\")\n",
    "\n",
    "fraudulent_card_absent_df1 = fraudulent_card_absent_df[fraudulent_card_absent_df['cvv_mismatch_percentage_card_absent']>10]\n",
    "print(fraudulent_card_absent_df1.sort_values(by='cvv_mismatch_percentage_card_absent',ascending=False).reset_index(drop=True))\n"
   ]
  },
  {
   "cell_type": "markdown",
   "id": "1ab73f3e",
   "metadata": {},
   "source": [
    "1. Total transaction with card not present( card absent) are: 340453\n",
    "2. Total trasnaction with card absent and cvvMismatch are: 3120\n",
    "3. For this case cvv_mismatch_percentage_card_present > 10 are kept in dataframe: fraudulent_card_absent_df1\n",
    "4. There are accounts with 100% mismatch percentage (238223440 - 9/9), (443926651 - 1/1)"
   ]
  },
  {
   "cell_type": "code",
   "execution_count": null,
   "id": "e11a1b3e",
   "metadata": {},
   "outputs": [],
   "source": []
  },
  {
   "cell_type": "code",
   "execution_count": null,
   "metadata": {},
   "outputs": [],
   "source": []
  },
  {
   "cell_type": "markdown",
   "id": "c0ba97ce",
   "metadata": {},
   "source": [
    "19. cardPresent = True case"
   ]
  },
  {
   "cell_type": "code",
   "execution_count": 115,
   "id": "0d5498bf",
   "metadata": {},
   "outputs": [
    {
     "name": "stdout",
     "output_type": "stream",
     "text": [
      "     accountNumber  total_transactions_card_present  \\\n",
      "0        100547107                               74   \n",
      "1        100634414                                6   \n",
      "2        100973869                                2   \n",
      "3        101548993                               22   \n",
      "4        101660233                               32   \n",
      "...            ...                              ...   \n",
      "4513     999246377                               29   \n",
      "4514     999789077                               46   \n",
      "4515     999984515                               25   \n",
      "4516     999985343                               58   \n",
      "4517         TOTAL                           301461   \n",
      "\n",
      "      cvv_mismatch_count_card_present  cvv_mismatch_percentage_card_present  \n",
      "0                                   1                              1.351351  \n",
      "1                                   0                              0.000000  \n",
      "2                                   0                              0.000000  \n",
      "3                                   0                              0.000000  \n",
      "4                                   0                              0.000000  \n",
      "...                               ...                                   ...  \n",
      "4513                                0                              0.000000  \n",
      "4514                                0                              0.000000  \n",
      "4515                                0                              0.000000  \n",
      "4516                                0                              0.000000  \n",
      "4517                             2817                              0.934449  \n",
      "\n",
      "[4518 rows x 4 columns]\n",
      "  accountNumber  total_transactions_card_present  \\\n",
      "0     140105230                               11   \n",
      "1     380948187                                1   \n",
      "2     386190390                                1   \n",
      "3     890964842                               22   \n",
      "4     716448276                               23   \n",
      "5     827592181                               35   \n",
      "6     817255360                               24   \n",
      "7     324884038                               11   \n",
      "8     739322648                                3   \n",
      "9     976980027                               17   \n",
      "\n",
      "   cvv_mismatch_count_card_present  cvv_mismatch_percentage_card_present  \n",
      "0                               11                            100.000000  \n",
      "1                                1                            100.000000  \n",
      "2                                1                            100.000000  \n",
      "3                               22                            100.000000  \n",
      "4                               22                             95.652174  \n",
      "5                               27                             77.142857  \n",
      "6                               18                             75.000000  \n",
      "7                                8                             72.727273  \n",
      "8                                2                             66.666667  \n",
      "9                               11                             64.705882  \n"
     ]
    }
   ],
   "source": [
    "# Step 1: Filter data for card-present transactions\n",
    "card_present_df = sorted_df[sorted_df['cardPresent'] == True]\n",
    "\n",
    "# Step 2: Group and compute CVV mismatch stats for card-present transactions\n",
    "fraudulent_card_present_df = card_present_df.groupby('accountNumber').agg(\n",
    "    total_transactions_card_present=('cvv_mismatch', 'count'),\n",
    "    cvv_mismatch_count_card_present=('cvv_mismatch', 'sum')\n",
    ").reset_index()\n",
    "\n",
    "# Step 3: Calculate mismatch percentage\n",
    "fraudulent_card_present_df['cvv_mismatch_percentage_card_present'] = (\n",
    "    fraudulent_card_present_df['cvv_mismatch_count_card_present'] / fraudulent_card_present_df['total_transactions_card_present']\n",
    ") * 100\n",
    "\n",
    "# Step 4: Add summary row (totals)\n",
    "summary_row_present = pd.DataFrame({\n",
    "    'accountNumber': ['TOTAL'],\n",
    "    'total_transactions_card_present': [fraudulent_card_present_df['total_transactions_card_present'].sum()],\n",
    "    'cvv_mismatch_count_card_present': [fraudulent_card_present_df['cvv_mismatch_count_card_present'].sum()],\n",
    "    'cvv_mismatch_percentage_card_present': [\n",
    "        (fraudulent_card_present_df['cvv_mismatch_count_card_present'].sum() / \n",
    "         fraudulent_card_present_df['total_transactions_card_present'].sum()) * 100\n",
    "    ]\n",
    "})\n",
    "\n",
    "fraudulent_card_present_df = pd.concat([fraudulent_card_present_df, summary_row_present], ignore_index=True)\n",
    "print(fraudulent_card_present_df)\n",
    "\n",
    "# Step 5: Filter accounts with >10% mismatch\n",
    "fraudulent_card_present_df1 = fraudulent_card_present_df[\n",
    "    fraudulent_card_present_df['cvv_mismatch_percentage_card_present'] > 10\n",
    "]\n",
    "\n",
    "# Display results\n",
    "print(fraudulent_card_present_df1.sort_values(by='cvv_mismatch_percentage_card_present', ascending=False).reset_index(drop=True).head(10))\n"
   ]
  },
  {
   "cell_type": "markdown",
   "id": "a3fd5379",
   "metadata": {},
   "source": [
    "1. Total transaction with card present are: 301461\n",
    "2. Total trasnaction with card present and cvvMismatch are: 2817\n",
    "3. For this case cvv_mismatch_percentage_card_present > 10 are kept in dataframe: fraudulent_card_present_df1\n",
    "4. There are accounts with 100% mismatch percentage (140105230 - 11/11), (380948187 - 1/1), (386190390 - 1/1)\n",
    "\n",
    "\n"
   ]
  },
  {
   "cell_type": "markdown",
   "id": "8cc0816a",
   "metadata": {},
   "source": [
    "20. CVV Mismatch and isFraud Comparison"
   ]
  },
  {
   "cell_type": "code",
   "execution_count": 116,
   "id": "5d1582a4",
   "metadata": {},
   "outputs": [
    {
     "name": "stdout",
     "output_type": "stream",
     "text": [
      "Is Fraud       False   True     All\n",
      "CVV Mismatch                       \n",
      "False         624870  11107  635977\n",
      "True            5742    195    5937\n",
      "All           630612  11302  641914\n"
     ]
    }
   ],
   "source": [
    "sorted_df.shape\n",
    "sorted_df.columns\n",
    "fraud_crosstab = pd.crosstab(\n",
    "    sorted_df['cvv_mismatch'],\n",
    "    sorted_df['isFraud'],\n",
    "    rownames=['CVV Mismatch'],\n",
    "    colnames=['Is Fraud'],\n",
    "    margins=True  # adds totals for rows and columns\n",
    ")\n",
    "\n",
    "print(fraud_crosstab)\n"
   ]
  },
  {
   "cell_type": "markdown",
   "id": "396175b8",
   "metadata": {},
   "source": [
    "Most transactions (635,977 out of 641,914) did not have a CVV mismatch.\n",
    "\n",
    "CVV mismatch occurred in only ~0.92% of transactions (5937 / 641914).\n",
    "\n",
    "Fraud rate when CVV matched:\n",
    "\n",
    "11,107 / 635,977 ≈ 1.75%\n",
    "\n",
    "Fraud rate when CVV mismatched:\n",
    "\n",
    "195 / 5,937 ≈ 3.28%\n",
    "\n"
   ]
  },
  {
   "cell_type": "markdown",
   "id": "dae18420",
   "metadata": {},
   "source": [
    "21. expirationDateKeyInMatch and isFraud comparison"
   ]
  },
  {
   "cell_type": "code",
   "execution_count": 117,
   "id": "5b272b36",
   "metadata": {},
   "outputs": [
    {
     "name": "stdout",
     "output_type": "stream",
     "text": [
      "[False  True]\n",
      "Is Fraud              False   True     All\n",
      "expiration_Mismtach                       \n",
      "False                629656  11289  640945\n",
      "True                    956     13     969\n",
      "All                  630612  11302  641914\n"
     ]
    }
   ],
   "source": [
    "\n",
    "print(sorted_df['expirationDateKeyInMatch'].unique())\n",
    "\n",
    "sorted_df[\"expirationDateKeyInMatch\"].value_counts()\n",
    "expiration_fraud_crosstab_percent = pd.crosstab(\n",
    "    sorted_df['expirationDateKeyInMatch'],\n",
    "    sorted_df['isFraud'],\n",
    "    rownames=['expiration_Mismtach'],\n",
    "    colnames=['Is Fraud'],\n",
    "    margins=True  # adds totals for rows and columns\n",
    ")\n",
    "\n",
    "print(expiration_fraud_crosstab_percent)"
   ]
  },
  {
   "cell_type": "markdown",
   "id": "eafec763",
   "metadata": {},
   "source": [
    "Observations:\n",
    "1. Only 969 transactions had an expiration date mismatch — a very small fraction (~0.15%) of total transactions.\n",
    "2. Fraud rate when expiration matched: 11289/640945 =  approx. 1.76%\n",
    "3. Fraud rate when expiration mismatched: 13/969 = approx. 1.34%\n",
    "\n",
    "\n",
    "❗ Insight:\n",
    "Surprisingly, the fraud rate is slightly lower when expiration mismatches occur (1.34%) than when they match (1.76%).\n",
    "\n",
    "This suggests that expiration date mismatches are not a strong indicator of fraud in dataset\n"
   ]
  },
  {
   "cell_type": "markdown",
   "id": "9e6962b2",
   "metadata": {},
   "source": [
    "## posEntryMode and posConditionCode Information"
   ]
  },
  {
   "cell_type": "markdown",
   "id": "866ea282",
   "metadata": {},
   "source": [
    "11. What are the most frequent POS entry modes?\n",
    "12. Is fraud more common in any particular entry mode?\n",
    "13. Are online (keyed) vs card-present( swiped/tapped) entry modes associated with different transaction amounts?\n",
    "14. What are the most common POS condition codes?\n",
    "15. How different condition codes relate to fraud?\n",
    "16. Are some condition codes tried to specific merchant categories or regions?"
   ]
  },
  {
   "cell_type": "markdown",
   "id": "97e5669b",
   "metadata": {},
   "source": [
    "11. What are the most frequent POS entry modes?"
   ]
  },
  {
   "cell_type": "code",
   "execution_count": 118,
   "id": "d5600d89",
   "metadata": {},
   "outputs": [
    {
     "data": {
      "text/plain": [
       "posEntryMode\n",
       "5.0     258960\n",
       "9.0     193193\n",
       "2.0     160589\n",
       "90.0     16251\n",
       "80.0     12921\n",
       "Name: count, dtype: int64"
      ]
     },
     "execution_count": 118,
     "metadata": {},
     "output_type": "execute_result"
    }
   ],
   "source": [
    "sorted_df['posEntryMode'].value_counts()"
   ]
  },
  {
   "cell_type": "markdown",
   "id": "0578d71f",
   "metadata": {},
   "source": [
    "Most frequent POS Entry Modes are 5 (chip read), 9(Manual entry), and 2 (Magnetic Strip swipe)."
   ]
  },
  {
   "cell_type": "markdown",
   "id": "e543ee3d",
   "metadata": {},
   "source": [
    "12. Is fraud more common in any particular entry mode?"
   ]
  },
  {
   "cell_type": "code",
   "execution_count": 119,
   "id": "c62a6338",
   "metadata": {},
   "outputs": [
    {
     "name": "stdout",
     "output_type": "stream",
     "text": [
      "posEntryMode\n",
      "9.0     2.788403\n",
      "90.0    2.018337\n",
      "2.0     1.905485\n",
      "80.0    1.462735\n",
      "5.0     0.902842\n",
      "Name: isFraud, dtype: float64\n"
     ]
    }
   ],
   "source": [
    "fraud_by_entry = (sorted_df.groupby('posEntryMode')['isFraud'].mean()*100).sort_values(ascending = False)\n",
    "print(fraud_by_entry)"
   ]
  },
  {
   "cell_type": "markdown",
   "id": "ebed34db",
   "metadata": {},
   "source": [
    "Yes, Fraud rate is more common in Manual Entry(9) 2.7% and Advanced methods (QR, bluetooth , wallets ->90) 2.01 %."
   ]
  },
  {
   "cell_type": "markdown",
   "id": "1ace3561",
   "metadata": {},
   "source": [
    "13. Are online (keyed) vs card-present( swiped/tapped) entry modes associated with different transaction amounts?"
   ]
  },
  {
   "cell_type": "code",
   "execution_count": 120,
   "id": "1485c242",
   "metadata": {},
   "outputs": [
    {
     "name": "stdout",
     "output_type": "stream",
     "text": [
      "                 count        mean         std  min    25%    50%     75%  \\\n",
      "entry_mode                                                                  \n",
      "Card Present  301461.0  141.927444  146.519247  0.0  40.45  92.42  195.77   \n",
      "Online/Keyed  340453.0  129.172338  147.265608  0.0  23.15  79.76  182.53   \n",
      "\n",
      "                  max  \n",
      "entry_mode             \n",
      "Card Present  1743.51  \n",
      "Online/Keyed  1825.25  \n"
     ]
    }
   ],
   "source": [
    "sorted_df['entry_mode'] = sorted_df['cardPresent'].map({True: 'Card Present', False: 'Online/Keyed'})\n",
    "entry_mode_stats = sorted_df.groupby('entry_mode')['transactionAmount'].describe()\n",
    "print(entry_mode_stats)\n"
   ]
  },
  {
   "cell_type": "markdown",
   "id": "cca768f4",
   "metadata": {},
   "source": [
    "14. What are the most common POS condition codes?"
   ]
  },
  {
   "cell_type": "code",
   "execution_count": 121,
   "id": "ad95d71d",
   "metadata": {},
   "outputs": [
    {
     "data": {
      "text/plain": [
       "posConditionCode\n",
       "1.0     514431\n",
       "8.0     121507\n",
       "99.0      5976\n",
       "Name: count, dtype: int64"
      ]
     },
     "execution_count": 121,
     "metadata": {},
     "output_type": "execute_result"
    }
   ],
   "source": [
    "sorted_df['posConditionCode'].value_counts()"
   ]
  },
  {
   "cell_type": "markdown",
   "id": "e2e5867d",
   "metadata": {},
   "source": [
    "Customer present (Chip read or magnetic swipe can be used) is most common POS condition followed by Mail/Phone/Online Order (card-not-present).\n"
   ]
  },
  {
   "cell_type": "markdown",
   "id": "b04bd5ea",
   "metadata": {},
   "source": [
    "15. How different condition codes relate to fraud?"
   ]
  },
  {
   "cell_type": "code",
   "execution_count": 122,
   "id": "552e6060",
   "metadata": {},
   "outputs": [
    {
     "name": "stdout",
     "output_type": "stream",
     "text": [
      "posConditionCode\n",
      "99.0    3.681392\n",
      "1.0     1.826484\n",
      "8.0     1.387574\n",
      "Name: isFraud, dtype: float64\n"
     ]
    }
   ],
   "source": [
    "fraud_by_condition = (sorted_df.groupby('posConditionCode')['isFraud'].mean()*100).sort_values(ascending = False)\n",
    "print(fraud_by_condition)"
   ]
  },
  {
   "cell_type": "markdown",
   "id": "fe4d49b7",
   "metadata": {},
   "source": [
    "99.0\tUnknown or other — This might be used when the system can’t determine the condition of the transaction. This could also represent some fraudulent or suspicious activity or any conditions that don’t fit into the usual categories.\n",
    "\n",
    "Approx 3.68 percentage of fraudulent in posConditionCode 99, followed by approx. 1.82 in posConditionCode 1 and at last for 8."
   ]
  },
  {
   "cell_type": "markdown",
   "id": "c19d866f",
   "metadata": {},
   "source": [
    "16. Are some condition codes tried to specific merchant categories or regions?"
   ]
  },
  {
   "cell_type": "code",
   "execution_count": 123,
   "id": "85ac9e6f",
   "metadata": {},
   "outputs": [
    {
     "data": {
      "text/html": [
       "<div>\n",
       "<style scoped>\n",
       "    .dataframe tbody tr th:only-of-type {\n",
       "        vertical-align: middle;\n",
       "    }\n",
       "\n",
       "    .dataframe tbody tr th {\n",
       "        vertical-align: top;\n",
       "    }\n",
       "\n",
       "    .dataframe thead th {\n",
       "        text-align: right;\n",
       "    }\n",
       "</style>\n",
       "<table border=\"1\" class=\"dataframe\">\n",
       "  <thead>\n",
       "    <tr style=\"text-align: right;\">\n",
       "      <th>merchantCategoryCode</th>\n",
       "      <th>airline</th>\n",
       "      <th>auto</th>\n",
       "      <th>cable/phone</th>\n",
       "      <th>entertainment</th>\n",
       "      <th>fastfood</th>\n",
       "      <th>food</th>\n",
       "      <th>food_delivery</th>\n",
       "      <th>fuel</th>\n",
       "      <th>furniture</th>\n",
       "      <th>gym</th>\n",
       "      <th>health</th>\n",
       "      <th>hotels</th>\n",
       "      <th>mobileapps</th>\n",
       "      <th>online_gifts</th>\n",
       "      <th>online_retail</th>\n",
       "      <th>online_subscriptions</th>\n",
       "      <th>personal care</th>\n",
       "      <th>rideshare</th>\n",
       "      <th>subscriptions</th>\n",
       "    </tr>\n",
       "    <tr>\n",
       "      <th>posConditionCode</th>\n",
       "      <th></th>\n",
       "      <th></th>\n",
       "      <th></th>\n",
       "      <th></th>\n",
       "      <th></th>\n",
       "      <th></th>\n",
       "      <th></th>\n",
       "      <th></th>\n",
       "      <th></th>\n",
       "      <th></th>\n",
       "      <th></th>\n",
       "      <th></th>\n",
       "      <th></th>\n",
       "      <th></th>\n",
       "      <th></th>\n",
       "      <th></th>\n",
       "      <th></th>\n",
       "      <th></th>\n",
       "      <th></th>\n",
       "    </tr>\n",
       "  </thead>\n",
       "  <tbody>\n",
       "    <tr>\n",
       "      <th>1.0</th>\n",
       "      <td>8012</td>\n",
       "      <td>8149</td>\n",
       "      <td>1124</td>\n",
       "      <td>55336</td>\n",
       "      <td>81049</td>\n",
       "      <td>54621</td>\n",
       "      <td>4191</td>\n",
       "      <td>18303</td>\n",
       "      <td>6260</td>\n",
       "      <td>2287</td>\n",
       "      <td>11510</td>\n",
       "      <td>18330</td>\n",
       "      <td>11622</td>\n",
       "      <td>26364</td>\n",
       "      <td>129351</td>\n",
       "      <td>9150</td>\n",
       "      <td>13552</td>\n",
       "      <td>40552</td>\n",
       "      <td>14668</td>\n",
       "    </tr>\n",
       "    <tr>\n",
       "      <th>8.0</th>\n",
       "      <td>1881</td>\n",
       "      <td>1905</td>\n",
       "      <td>355</td>\n",
       "      <td>13177</td>\n",
       "      <td>19202</td>\n",
       "      <td>12958</td>\n",
       "      <td>752</td>\n",
       "      <td>4111</td>\n",
       "      <td>1484</td>\n",
       "      <td>570</td>\n",
       "      <td>2715</td>\n",
       "      <td>4350</td>\n",
       "      <td>2826</td>\n",
       "      <td>6341</td>\n",
       "      <td>30585</td>\n",
       "      <td>1994</td>\n",
       "      <td>3203</td>\n",
       "      <td>9577</td>\n",
       "      <td>3521</td>\n",
       "    </tr>\n",
       "    <tr>\n",
       "      <th>99.0</th>\n",
       "      <td>97</td>\n",
       "      <td>93</td>\n",
       "      <td>11</td>\n",
       "      <td>625</td>\n",
       "      <td>945</td>\n",
       "      <td>666</td>\n",
       "      <td>47</td>\n",
       "      <td>152</td>\n",
       "      <td>69</td>\n",
       "      <td>17</td>\n",
       "      <td>119</td>\n",
       "      <td>199</td>\n",
       "      <td>166</td>\n",
       "      <td>340</td>\n",
       "      <td>1533</td>\n",
       "      <td>103</td>\n",
       "      <td>162</td>\n",
       "      <td>445</td>\n",
       "      <td>187</td>\n",
       "    </tr>\n",
       "  </tbody>\n",
       "</table>\n",
       "</div>"
      ],
      "text/plain": [
       "merchantCategoryCode  airline  auto  cable/phone  entertainment  fastfood  \\\n",
       "posConditionCode                                                            \n",
       "1.0                      8012  8149         1124          55336     81049   \n",
       "8.0                      1881  1905          355          13177     19202   \n",
       "99.0                       97    93           11            625       945   \n",
       "\n",
       "merchantCategoryCode   food  food_delivery   fuel  furniture   gym  health  \\\n",
       "posConditionCode                                                             \n",
       "1.0                   54621           4191  18303       6260  2287   11510   \n",
       "8.0                   12958            752   4111       1484   570    2715   \n",
       "99.0                    666             47    152         69    17     119   \n",
       "\n",
       "merchantCategoryCode  hotels  mobileapps  online_gifts  online_retail  \\\n",
       "posConditionCode                                                        \n",
       "1.0                    18330       11622         26364         129351   \n",
       "8.0                     4350        2826          6341          30585   \n",
       "99.0                     199         166           340           1533   \n",
       "\n",
       "merchantCategoryCode  online_subscriptions  personal care  rideshare  \\\n",
       "posConditionCode                                                       \n",
       "1.0                                   9150          13552      40552   \n",
       "8.0                                   1994           3203       9577   \n",
       "99.0                                   103            162        445   \n",
       "\n",
       "merchantCategoryCode  subscriptions  \n",
       "posConditionCode                     \n",
       "1.0                           14668  \n",
       "8.0                            3521  \n",
       "99.0                            187  "
      ]
     },
     "execution_count": 123,
     "metadata": {},
     "output_type": "execute_result"
    }
   ],
   "source": [
    "pd.crosstab(sorted_df['posConditionCode'], sorted_df['merchantCategoryCode'])"
   ]
  },
  {
   "cell_type": "markdown",
   "id": "eeab96a1",
   "metadata": {},
   "source": [
    "This shows all transaction are happening mostly through posConditionCode 1 (customer present) in all merchant category."
   ]
  },
  {
   "cell_type": "markdown",
   "id": "3dad4105",
   "metadata": {},
   "source": [
    "By Region"
   ]
  },
  {
   "cell_type": "code",
   "execution_count": 124,
   "id": "d96056bb",
   "metadata": {},
   "outputs": [
    {
     "data": {
      "text/html": [
       "<div>\n",
       "<style scoped>\n",
       "    .dataframe tbody tr th:only-of-type {\n",
       "        vertical-align: middle;\n",
       "    }\n",
       "\n",
       "    .dataframe tbody tr th {\n",
       "        vertical-align: top;\n",
       "    }\n",
       "\n",
       "    .dataframe thead th {\n",
       "        text-align: right;\n",
       "    }\n",
       "</style>\n",
       "<table border=\"1\" class=\"dataframe\">\n",
       "  <thead>\n",
       "    <tr style=\"text-align: right;\">\n",
       "      <th>acqCountry</th>\n",
       "      <th>CAN</th>\n",
       "      <th>MEX</th>\n",
       "      <th>PR</th>\n",
       "      <th>US</th>\n",
       "    </tr>\n",
       "    <tr>\n",
       "      <th>posConditionCode</th>\n",
       "      <th></th>\n",
       "      <th></th>\n",
       "      <th></th>\n",
       "      <th></th>\n",
       "    </tr>\n",
       "  </thead>\n",
       "  <tbody>\n",
       "    <tr>\n",
       "      <th>1.0</th>\n",
       "      <td>1507</td>\n",
       "      <td>2137</td>\n",
       "      <td>998</td>\n",
       "      <td>509789</td>\n",
       "    </tr>\n",
       "    <tr>\n",
       "      <th>8.0</th>\n",
       "      <td>349</td>\n",
       "      <td>475</td>\n",
       "      <td>194</td>\n",
       "      <td>120489</td>\n",
       "    </tr>\n",
       "    <tr>\n",
       "      <th>99.0</th>\n",
       "      <td>14</td>\n",
       "      <td>14</td>\n",
       "      <td>10</td>\n",
       "      <td>5938</td>\n",
       "    </tr>\n",
       "  </tbody>\n",
       "</table>\n",
       "</div>"
      ],
      "text/plain": [
       "acqCountry         CAN   MEX   PR      US\n",
       "posConditionCode                         \n",
       "1.0               1507  2137  998  509789\n",
       "8.0                349   475  194  120489\n",
       "99.0                14    14   10    5938"
      ]
     },
     "execution_count": 124,
     "metadata": {},
     "output_type": "execute_result"
    }
   ],
   "source": [
    "pd.crosstab(sorted_df['posConditionCode'], sorted_df['acqCountry'])\n"
   ]
  },
  {
   "cell_type": "code",
   "execution_count": 125,
   "id": "0884bf0b",
   "metadata": {},
   "outputs": [
    {
     "name": "stdout",
     "output_type": "stream",
     "text": [
      "<class 'pandas.core.frame.DataFrame'>\n",
      "Index: 641914 entries, 216693 to 166842\n",
      "Data columns (total 28 columns):\n",
      " #   Column                    Non-Null Count   Dtype         \n",
      "---  ------                    --------------   -----         \n",
      " 0   accountNumber             641914 non-null  int64         \n",
      " 1   customerId                641914 non-null  int64         \n",
      " 2   creditLimit               641914 non-null  int64         \n",
      " 3   availableMoney            641914 non-null  float64       \n",
      " 4   transactionDateTime       641914 non-null  datetime64[ns]\n",
      " 5   transactionAmount         641914 non-null  float64       \n",
      " 6   merchantName              641914 non-null  object        \n",
      " 7   acqCountry                641914 non-null  object        \n",
      " 8   merchantCountryCode       641914 non-null  object        \n",
      " 9   posEntryMode              641914 non-null  float64       \n",
      " 10  posConditionCode          641914 non-null  float64       \n",
      " 11  merchantCategoryCode      641914 non-null  object        \n",
      " 12  currentExpDate            641914 non-null  datetime64[ns]\n",
      " 13  accountOpenDate           641914 non-null  datetime64[ns]\n",
      " 14  dateOfLastAddressChange   641914 non-null  datetime64[ns]\n",
      " 15  cardCVV                   641914 non-null  int64         \n",
      " 16  enteredCVV                641914 non-null  int64         \n",
      " 17  cardLast4Digits           641914 non-null  int64         \n",
      " 18  transactionType           641914 non-null  object        \n",
      " 19  isFraud                   641914 non-null  bool          \n",
      " 20  currentBalance            641914 non-null  float64       \n",
      " 21  cardPresent               641914 non-null  bool          \n",
      " 22  expirationDateKeyInMatch  641914 non-null  bool          \n",
      " 23  txn_hour                  641914 non-null  int64         \n",
      " 24  txn_month                 641914 non-null  int64         \n",
      " 25  txn_day                   641914 non-null  int64         \n",
      " 26  cvv_mismatch              641914 non-null  bool          \n",
      " 27  entry_mode                641914 non-null  object        \n",
      "dtypes: bool(4), datetime64[ns](4), float64(5), int64(9), object(6)\n",
      "memory usage: 124.9+ MB\n"
     ]
    }
   ],
   "source": [
    "sorted_df.info()"
   ]
  },
  {
   "cell_type": "markdown",
   "id": "4e79c8eb",
   "metadata": {},
   "source": [
    "## Date and time features"
   ]
  },
  {
   "cell_type": "markdown",
   "id": "5da82fee",
   "metadata": {},
   "source": [
    "17. Are there time periods with more fraud?\n",
    "18. Is fraud more common during weekends or weekday?\n",
    "19. What is the age of accounts? (opendate to first transaction date)/ (current date - open date)\n",
    "20. Do newer accounts have more fraud compared to older ones?\n"
   ]
  },
  {
   "cell_type": "markdown",
   "id": "bac3ceee",
   "metadata": {},
   "source": [
    "17. Are there time periods with more fraud?"
   ]
  },
  {
   "cell_type": "code",
   "execution_count": 126,
   "id": "0e270399",
   "metadata": {},
   "outputs": [
    {
     "name": "stdout",
     "output_type": "stream",
     "text": [
      "txn_hour\n",
      "23    1.911352\n",
      "4     1.897979\n",
      "5     1.892615\n",
      "1     1.868845\n",
      "9     1.833153\n",
      "15    1.824002\n",
      "16    1.808365\n",
      "11    1.805759\n",
      "22    1.798670\n",
      "3     1.798333\n",
      "8     1.784844\n",
      "17    1.783848\n",
      "21    1.767714\n",
      "19    1.744579\n",
      "2     1.736230\n",
      "13    1.713600\n",
      "12    1.710428\n",
      "7     1.701843\n",
      "6     1.693074\n",
      "10    1.681589\n",
      "20    1.672890\n",
      "18    1.648085\n",
      "14    1.621399\n",
      "0     1.554365\n",
      "Name: isFraud, dtype: float64\n",
      "txn_day\n",
      "24    1.970678\n",
      "9     1.892161\n",
      "11    1.890075\n",
      "27    1.861077\n",
      "5     1.852297\n",
      "19    1.832163\n",
      "4     1.831066\n",
      "30    1.817719\n",
      "2     1.811368\n",
      "22    1.797121\n",
      "15    1.796295\n",
      "8     1.784274\n",
      "17    1.774386\n",
      "29    1.774224\n",
      "14    1.766550\n",
      "20    1.753476\n",
      "3     1.746062\n",
      "25    1.738804\n",
      "16    1.721835\n",
      "21    1.716576\n",
      "12    1.712861\n",
      "28    1.711235\n",
      "6     1.699434\n",
      "31    1.693472\n",
      "23    1.684339\n",
      "26    1.677159\n",
      "10    1.673224\n",
      "1     1.664912\n",
      "7     1.654071\n",
      "18    1.651788\n",
      "13    1.603300\n",
      "Name: isFraud, dtype: float64\n",
      "txn_month\n",
      "1     1.992216\n",
      "3     1.955694\n",
      "2     1.916300\n",
      "5     1.838874\n",
      "7     1.800620\n",
      "4     1.785503\n",
      "6     1.770685\n",
      "10    1.731624\n",
      "8     1.633975\n",
      "9     1.606049\n",
      "11    1.604345\n",
      "12    1.559835\n",
      "Name: isFraud, dtype: float64\n"
     ]
    }
   ],
   "source": [
    "fraud_by_hour = sorted_df.groupby('txn_hour')['isFraud'].mean()\n",
    "fraud_by_day = sorted_df.groupby('txn_day')['isFraud'].mean()\n",
    "fraud_by_month = sorted_df.groupby('txn_month')['isFraud'].mean()\n",
    "\n",
    "print((fraud_by_hour*100).sort_values(ascending=False))\n",
    "print((fraud_by_day*100).sort_values(ascending=False))\n",
    "print((fraud_by_month*100).sort_values(ascending=False))"
   ]
  },
  {
   "cell_type": "markdown",
   "id": "8e618f68",
   "metadata": {},
   "source": [
    "18. Is fraud more common during weekends or weekday?"
   ]
  },
  {
   "cell_type": "code",
   "execution_count": 127,
   "id": "c8330be9",
   "metadata": {},
   "outputs": [
    {
     "data": {
      "text/html": [
       "<div>\n",
       "<style scoped>\n",
       "    .dataframe tbody tr th:only-of-type {\n",
       "        vertical-align: middle;\n",
       "    }\n",
       "\n",
       "    .dataframe tbody tr th {\n",
       "        vertical-align: top;\n",
       "    }\n",
       "\n",
       "    .dataframe thead th {\n",
       "        text-align: right;\n",
       "    }\n",
       "</style>\n",
       "<table border=\"1\" class=\"dataframe\">\n",
       "  <thead>\n",
       "    <tr style=\"text-align: right;\">\n",
       "      <th></th>\n",
       "      <th>Total_Transactions</th>\n",
       "      <th>Fraud_Transactions</th>\n",
       "      <th>Fraud_Rate</th>\n",
       "    </tr>\n",
       "    <tr>\n",
       "      <th>weekday_name</th>\n",
       "      <th></th>\n",
       "      <th></th>\n",
       "      <th></th>\n",
       "    </tr>\n",
       "  </thead>\n",
       "  <tbody>\n",
       "    <tr>\n",
       "      <th>Sunday</th>\n",
       "      <td>91544</td>\n",
       "      <td>1643</td>\n",
       "      <td>1.794765</td>\n",
       "    </tr>\n",
       "    <tr>\n",
       "      <th>Saturday</th>\n",
       "      <td>90990</td>\n",
       "      <td>1627</td>\n",
       "      <td>1.788109</td>\n",
       "    </tr>\n",
       "    <tr>\n",
       "      <th>Wednesday</th>\n",
       "      <td>91725</td>\n",
       "      <td>1639</td>\n",
       "      <td>1.786863</td>\n",
       "    </tr>\n",
       "    <tr>\n",
       "      <th>Monday</th>\n",
       "      <td>91326</td>\n",
       "      <td>1616</td>\n",
       "      <td>1.769485</td>\n",
       "    </tr>\n",
       "    <tr>\n",
       "      <th>Tuesday</th>\n",
       "      <td>91269</td>\n",
       "      <td>1589</td>\n",
       "      <td>1.741007</td>\n",
       "    </tr>\n",
       "    <tr>\n",
       "      <th>Friday</th>\n",
       "      <td>93357</td>\n",
       "      <td>1613</td>\n",
       "      <td>1.727776</td>\n",
       "    </tr>\n",
       "    <tr>\n",
       "      <th>Thursday</th>\n",
       "      <td>91703</td>\n",
       "      <td>1575</td>\n",
       "      <td>1.717501</td>\n",
       "    </tr>\n",
       "  </tbody>\n",
       "</table>\n",
       "</div>"
      ],
      "text/plain": [
       "              Total_Transactions  Fraud_Transactions  Fraud_Rate\n",
       "weekday_name                                                    \n",
       "Sunday                     91544                1643    1.794765\n",
       "Saturday                   90990                1627    1.788109\n",
       "Wednesday                  91725                1639    1.786863\n",
       "Monday                     91326                1616    1.769485\n",
       "Tuesday                    91269                1589    1.741007\n",
       "Friday                     93357                1613    1.727776\n",
       "Thursday                   91703                1575    1.717501"
      ]
     },
     "execution_count": 127,
     "metadata": {},
     "output_type": "execute_result"
    }
   ],
   "source": [
    "sorted_df['weekday'] = sorted_df['transactionDateTime'].dt.weekday\n",
    "sorted_df['is_weekend'] = sorted_df['weekday'].isin([5, 6])\n",
    "\n",
    "sorted_df.groupby('is_weekend')['isFraud'].mean()\n",
    "\n",
    "sorted_df['weekday_name'] = sorted_df['transactionDateTime'].dt.day_name()\n",
    "\n",
    "# Count of all transactions by weekday\n",
    "total_txns = sorted_df['weekday_name'].value_counts().sort_index()\n",
    "\n",
    "# Count of fraudulent transactions by weekday\n",
    "fraud_txns = sorted_df[sorted_df['isFraud'] == True]['weekday_name'].value_counts().sort_index()\n",
    "\n",
    "# Combine into a summary table\n",
    "weekday_summary = pd.DataFrame({\n",
    "    'Total_Transactions': total_txns,\n",
    "    'Fraud_Transactions': fraud_txns\n",
    "}).fillna(0)\n",
    "\n",
    "# Add fraud rate\n",
    "weekday_summary['Fraud_Rate'] = (weekday_summary['Fraud_Transactions'] / weekday_summary['Total_Transactions'])*100\n",
    "weekday_summary = weekday_summary.sort_values('Fraud_Rate', ascending=False)\n",
    "weekday_summary\n",
    "\n"
   ]
  },
  {
   "cell_type": "markdown",
   "id": "0ced3f18",
   "metadata": {},
   "source": [
    "High Fraud in weekends (1.79% is Sunday and 1.78% in Saturday)"
   ]
  },
  {
   "cell_type": "markdown",
   "id": "412f2be8",
   "metadata": {},
   "source": [
    "19. What is the age of accounts? (opendate to first transaction date)"
   ]
  },
  {
   "cell_type": "code",
   "execution_count": 128,
   "id": "12fdfcd0",
   "metadata": {},
   "outputs": [
    {
     "name": "stdout",
     "output_type": "stream",
     "text": [
      "        accountNumber  account_age_days\n",
      "0           789836144             11320\n",
      "1           789836144             11307\n",
      "2           789836144             11293\n",
      "3           789836144             11280\n",
      "4           789836144             11280\n",
      "...               ...               ...\n",
      "641909      605704714                 2\n",
      "641910      477081008                 1\n",
      "641911      731926026                 1\n",
      "641912      890796581                 1\n",
      "641913      605704714                 1\n",
      "\n",
      "[641914 rows x 2 columns]\n"
     ]
    }
   ],
   "source": [
    "sorted_df['account_age_days'] = (sorted_df['transactionDateTime'] - sorted_df['accountOpenDate']).dt.days\n",
    "\n",
    "# Sort by account age in descending order\n",
    "print(sorted_df[['accountNumber', 'account_age_days']].sort_values(by='account_age_days', ascending=False).reset_index(drop=True))\n"
   ]
  },
  {
   "cell_type": "markdown",
   "id": "1450009e",
   "metadata": {},
   "source": [
    "20. Do newer accounts have more fraud compared to older ones?\n"
   ]
  },
  {
   "cell_type": "code",
   "execution_count": 129,
   "id": "b8d2fd5c",
   "metadata": {},
   "outputs": [
    {
     "name": "stdout",
     "output_type": "stream",
     "text": [
      "age_bin\n",
      "(0, 30]         2.463054\n",
      "(30, 90]        2.609713\n",
      "(90, 180]       2.004633\n",
      "(180, 365]      1.789260\n",
      "(365, 10000]    1.727977\n",
      "Name: isFraud, dtype: float64\n"
     ]
    }
   ],
   "source": [
    "sorted_df['age_bin'] = pd.cut(sorted_df['account_age_days'], bins=[0,30,90,180,365,10000])\n",
    "\n",
    "# Group by age bins and compute fraud rate\n",
    "fraud_rate_by_age = sorted_df.groupby('age_bin', observed=True)['isFraud'].mean()*100\n",
    "\n",
    "print(fraud_rate_by_age)\n",
    "\n",
    "\n"
   ]
  },
  {
   "cell_type": "markdown",
   "id": "cab71194",
   "metadata": {},
   "source": [
    "31. When most trasnactions happen ? (Month, day, hour)"
   ]
  },
  {
   "cell_type": "code",
   "execution_count": 150,
   "id": "81b5329b",
   "metadata": {},
   "outputs": [
    {
     "name": "stdout",
     "output_type": "stream",
     "text": [
      "Most transactions occurred at hour: 16 (27041 transactions)\n",
      "Most transactions occurred on day: 13 (21331 transactions)\n",
      "Most transactions occurred in month: 10 (57345 transactions)\n",
      "Least transactions occurred at hour: 2 (26379 transactions)\n",
      "Least transactions occurred on day: 31 (10570 transactions)\n",
      "Least transactions occurred in month: 2 (47957 transactions)\n"
     ]
    }
   ],
   "source": [
    "sorted_df[['txn_hour', 'txn_month', 'txn_day']]\n",
    "\n",
    "# Count frequency of transactions\n",
    "hour_counts = sorted_df['txn_hour'].value_counts().sort_index()\n",
    "day_counts = sorted_df['txn_day'].value_counts().sort_index()\n",
    "month_counts = sorted_df['txn_month'].value_counts().sort_index()\n",
    "\n",
    "# Peak values\n",
    "peak_hour = hour_counts.idxmax()\n",
    "peak_day = day_counts.idxmax()\n",
    "peak_month = month_counts.idxmax()\n",
    "\n",
    "# Least values\n",
    "least_hour = hour_counts.idxmin()\n",
    "least_day = day_counts.idxmin()\n",
    "least_month = month_counts.idxmin()\n",
    "\n",
    "# Print with transaction counts\n",
    "print(f\"Most transactions occurred at hour: {peak_hour} ({hour_counts[peak_hour]} transactions)\")\n",
    "print(f\"Most transactions occurred on day: {peak_day} ({day_counts[peak_day]} transactions)\")\n",
    "print(f\"Most transactions occurred in month: {peak_month} ({month_counts[peak_month]} transactions)\")\n",
    "\n",
    "print(f\"Least transactions occurred at hour: {least_hour} ({hour_counts[least_hour]} transactions)\")\n",
    "print(f\"Least transactions occurred on day: {least_day} ({day_counts[least_day]} transactions)\")\n",
    "print(f\"Least transactions occurred in month: {least_month} ({month_counts[least_month]} transactions)\")\n",
    "\n",
    "\n",
    "\n"
   ]
  },
  {
   "cell_type": "code",
   "execution_count": 149,
   "id": "2f86a97f",
   "metadata": {},
   "outputs": [
    {
     "data": {
      "image/png": "[encoded data removed]",
      "text/plain": [
       "<Figure size 1800x500 with 3 Axes>"
      ]
     },
     "metadata": {},
     "output_type": "display_data"
    }
   ],
   "source": [
    "import matplotlib.pyplot as plt\n",
    "\n",
    "# Set the figure size\n",
    "plt.figure(figsize=(18, 5))\n",
    "\n",
    "# Plot Hours\n",
    "plt.subplot(1, 3, 1)\n",
    "plt.bar(hour_counts.index, hour_counts.values, color='skyblue')\n",
    "plt.title('Transactions by Hour')\n",
    "plt.xlabel('Hour (0-23)')\n",
    "plt.ylabel('Number of Transactions')\n",
    "\n",
    "# Plot Days\n",
    "plt.subplot(1, 3, 2)\n",
    "plt.bar(day_counts.index, day_counts.values, color='salmon')\n",
    "plt.title('Transactions by Day')\n",
    "plt.xlabel('Day (1-30)')\n",
    "plt.ylabel('Number of Transactions')\n",
    "\n",
    "# Plot Months\n",
    "plt.subplot(1, 3, 3)\n",
    "plt.bar(month_counts.index, month_counts.values, color='lightgreen')\n",
    "plt.title('Transactions by Month')\n",
    "plt.xlabel('Month (1-12)')\n",
    "plt.ylabel('Number of Transactions')\n",
    "\n",
    "plt.tight_layout()\n",
    "plt.show()\n"
   ]
  }
 ],
 "metadata": {
  "kernelspec": {
   "display_name": "venv",
   "language": "python",
   "name": "python3"
  },
  "language_info": {
   "codemirror_mode": {
    "name": "ipython",
    "version": 3
   },
   "file_extension": ".py",
   "mimetype": "text/x-python",
   "name": "python",
   "nbconvert_exporter": "python",
   "pygments_lexer": "ipython3",
   "version": "3.12.6"
  }
 },
 "nbformat": 4,
 "nbformat_minor": 5
}
