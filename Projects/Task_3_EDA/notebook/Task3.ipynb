{
 "cells": [
  {
   "cell_type": "markdown",
   "metadata": {
    "id": "Es6nJZTR3MVM"
   },
   "source": [
    "Moving forward.\n",
    "We have now understanding of how transactions happen in Financial institutes.\n",
    "Now our objective is to perform EDA and analyze the result and report the findings to the problems.\n",
    "\n",
    "please find the DATA folder, there is transactions data along with the description of the column and attributes."
   ]
  },
  {
   "cell_type": "markdown",
   "metadata": {
    "id": "MsLvpBoq3nR7"
   },
   "source": [
    "## Task 3: Exploratory Data Analysis (EDA)\n",
    "Perform an in-depth Exploratory Data Analysis (EDA) on the provided transactional dataset to gain insights into customer behavior, spending patterns, and fraud indicators. Your EDA should include:\n",
    "\n",
    "Data quality checks (missing values, duplicates, outliers)\n",
    "\n",
    "Summary statistics and distributions\n",
    "\n",
    "Correlation analysis\n",
    "\n",
    "Time-based analysis\n",
    "\n",
    "Geographical analysis\n",
    "\n",
    "Fraud pattern identification\n",
    "\n",
    "Visualizations for key insights\n",
    "\n",
    "Use appropriate graphs (bar charts, histograms, boxplots, heatmaps, time series plots, etc.) to uncover patterns and tell the data story."
   ]
  },
  {
   "cell_type": "markdown",
   "metadata": {
    "id": "dQMoK3y-3t5i"
   },
   "source": [
    "## Example EDA Questions to Explore\n",
    "- What are the most common merchants and merchant categories by transaction count and amount?\n",
    "- How does transaction frequency and amount vary by country, state, or city?\n",
    "- What is the distribution of transactionAmount? Are there any outliers?\n",
    "- What time of day and day of the week do most transactions (or frauds) occur?\n",
    "- Is there a difference in spending behavior between fraudulent and non-fraudulent transactions?\n",
    "- How does the availableMoney relate to the transactionAmount in fraudulent vs. normal transactions?\n",
    "- Which posEntryMode and posConditionCode combinations are more prone to fraud?\n",
    "- Are there specific merchant categories (merchantCategoryCode) that have higher fraud rates?\n",
    "- What is the average time gap between accountOpenDate and transactionDateTime for fraudulent transactions?\n",
    "- Do mismatches in cardCVV vs. enteredCVV and currentExpDate vs. expirationDateKeyInMatch correlate with fraud?\n",
    "- What are the top locations (city, state) where fraud occurs most frequently?\n",
    "- Is there a correlation between creditLimit, availableMoney, and currentBalance?\n",
    "- Are recurringAuthInd transactions more or less likely to be fraudulent?\n",
    "- Do fraudulent transactions tend to have a certain transactionType or cardPresent flag?\n",
    "- Are there repeated frauds from the same customerId or accountNumber? What are their patterns?\n",
    "\n",
    "but your exploration should not be limited to above only."
   ]
  },
  {
   "cell_type": "markdown",
   "metadata": {
    "id": "q_HyjEDt4EM6"
   },
   "source": [
    "Data: https://drive.google.com/file/d/1ZXqQT9eSO7NCjiWZrYoq4PZA4L-bWouP/view?usp=drive_link"
   ]
  },
  {
   "cell_type": "markdown",
   "metadata": {
    "id": "tKn_gSgP4GP2"
   },
   "source": [
    "Data Description: https://docs.google.com/document/d/1iUPn2CN4uwatnQNKgtRspQRqW9BooQut50QjCTqVnZs/edit?usp=sharing"
   ]
  },
  {
   "cell_type": "code",
   "execution_count": null,
   "metadata": {
    "executionInfo": {
     "elapsed": 5,
     "status": "ok",
     "timestamp": 1745130379970,
     "user": {
      "displayName": "mausam adhikari",
      "userId": "00253285711560641898"
     },
     "user_tz": -345
    },
    "id": "2lV5KDA13LGL"
   },
   "outputs": [],
   "source": []
  }
 ],
 "metadata": {
  "colab": {
   "authorship_tag": "ABX9TyOG8I59F5DxFsLAxYSlkWJX",
   "provenance": []
  },
  "kernelspec": {
   "display_name": "Python 3",
   "name": "python3"
  },
  "language_info": {
   "codemirror_mode": {
    "name": "ipython",
    "version": 3
   },
   "file_extension": ".py",
   "mimetype": "text/x-python",
   "name": "python",
   "nbconvert_exporter": "python",
   "pygments_lexer": "ipython3",
   "version": "3.12.6"
  }
 },
 "nbformat": 4,
 "nbformat_minor": 0
}
