{
 "cells": [
  {
   "cell_type": "markdown",
   "id": "8807f095",
   "metadata": {},
   "source": [
    "Step 1: Understand the problem\n",
    "Is it Regression or Classification?\n",
    "We are trying to predict whether a transaction is fradulent or not (isFraud : True or False). \n",
    "This is a Classification Problem."
   ]
  },
  {
   "cell_type": "markdown",
   "id": "9cc496ec",
   "metadata": {},
   "source": [
    "Step 2 : Setup the envionment\n",
    "Installed scikit-learn"
   ]
  },
  {
   "cell_type": "markdown",
   "id": "bcb1bec6",
   "metadata": {},
   "source": [
    "Step 3: Load cleaned dataset"
   ]
  },
  {
   "cell_type": "code",
   "execution_count": 2,
   "id": "f9405863",
   "metadata": {},
   "outputs": [],
   "source": [
    "import pandas as pd\n",
    "\n",
    "df2 = pd.read_csv(\"e:/2025/ExtensoData_Internship_Work/Projects/Task_3_EDA/data/dataset_after_EDA.xlsx\")\n"
   ]
  },
  {
   "cell_type": "code",
   "execution_count": 3,
   "id": "5498f92a",
   "metadata": {},
   "outputs": [
    {
     "name": "stdout",
     "output_type": "stream",
     "text": [
      "<class 'pandas.core.frame.DataFrame'>\n",
      "RangeIndex: 641914 entries, 0 to 641913\n",
      "Data columns (total 32 columns):\n",
      " #   Column                    Non-Null Count   Dtype  \n",
      "---  ------                    --------------   -----  \n",
      " 0   accountNumber             641914 non-null  int64  \n",
      " 1   customerId                641914 non-null  int64  \n",
      " 2   creditLimit               641914 non-null  int64  \n",
      " 3   availableMoney            641914 non-null  float64\n",
      " 4   transactionDateTime       641914 non-null  object \n",
      " 5   transactionAmount         641914 non-null  float64\n",
      " 6   merchantName              641914 non-null  object \n",
      " 7   acqCountry                641914 non-null  object \n",
      " 8   merchantCountryCode       641914 non-null  object \n",
      " 9   posEntryMode              641914 non-null  float64\n",
      " 10  posConditionCode          641914 non-null  float64\n",
      " 11  merchantCategoryCode      641914 non-null  object \n",
      " 12  currentExpDate            641914 non-null  object \n",
      " 13  accountOpenDate           641914 non-null  object \n",
      " 14  dateOfLastAddressChange   641914 non-null  object \n",
      " 15  cardCVV                   641914 non-null  int64  \n",
      " 16  enteredCVV                641914 non-null  int64  \n",
      " 17  cardLast4Digits           641914 non-null  int64  \n",
      " 18  transactionType           641914 non-null  object \n",
      " 19  isFraud                   641914 non-null  bool   \n",
      " 20  currentBalance            641914 non-null  float64\n",
      " 21  cardPresent               641914 non-null  bool   \n",
      " 22  expirationDateKeyInMatch  641914 non-null  bool   \n",
      " 23  txn_hour                  641914 non-null  int64  \n",
      " 24  txn_month                 641914 non-null  int64  \n",
      " 25  txn_day                   641914 non-null  int64  \n",
      " 26  cvv_mismatch              641914 non-null  bool   \n",
      " 27  weekday                   641914 non-null  int64  \n",
      " 28  is_weekend                641914 non-null  bool   \n",
      " 29  weekday_name              641914 non-null  object \n",
      " 30  account_age_days          641914 non-null  int64  \n",
      " 31  age_bin                   641914 non-null  object \n",
      "dtypes: bool(5), float64(5), int64(11), object(11)\n",
      "memory usage: 135.3+ MB\n"
     ]
    }
   ],
   "source": [
    "df2.info()"
   ]
  },
  {
   "cell_type": "code",
   "execution_count": 4,
   "id": "923b5253",
   "metadata": {},
   "outputs": [
    {
     "name": "stdout",
     "output_type": "stream",
     "text": [
      "<class 'pandas.core.frame.DataFrame'>\n",
      "RangeIndex: 641914 entries, 0 to 641913\n",
      "Data columns (total 32 columns):\n",
      " #   Column                    Non-Null Count   Dtype         \n",
      "---  ------                    --------------   -----         \n",
      " 0   accountNumber             641914 non-null  int64         \n",
      " 1   customerId                641914 non-null  int64         \n",
      " 2   creditLimit               641914 non-null  int64         \n",
      " 3   availableMoney            641914 non-null  float64       \n",
      " 4   transactionDateTime       641914 non-null  datetime64[ns]\n",
      " 5   transactionAmount         641914 non-null  float64       \n",
      " 6   merchantName              641914 non-null  object        \n",
      " 7   acqCountry                641914 non-null  object        \n",
      " 8   merchantCountryCode       641914 non-null  object        \n",
      " 9   posEntryMode              641914 non-null  float64       \n",
      " 10  posConditionCode          641914 non-null  float64       \n",
      " 11  merchantCategoryCode      641914 non-null  object        \n",
      " 12  currentExpDate            641914 non-null  datetime64[ns]\n",
      " 13  accountOpenDate           641914 non-null  datetime64[ns]\n",
      " 14  dateOfLastAddressChange   641914 non-null  datetime64[ns]\n",
      " 15  cardCVV                   641914 non-null  int64         \n",
      " 16  enteredCVV                641914 non-null  int64         \n",
      " 17  cardLast4Digits           641914 non-null  int64         \n",
      " 18  transactionType           641914 non-null  object        \n",
      " 19  isFraud                   641914 non-null  bool          \n",
      " 20  currentBalance            641914 non-null  float64       \n",
      " 21  cardPresent               641914 non-null  bool          \n",
      " 22  expirationDateKeyInMatch  641914 non-null  bool          \n",
      " 23  txn_hour                  641914 non-null  int64         \n",
      " 24  txn_month                 641914 non-null  int64         \n",
      " 25  txn_day                   641914 non-null  int64         \n",
      " 26  cvv_mismatch              641914 non-null  bool          \n",
      " 27  weekday                   641914 non-null  int64         \n",
      " 28  is_weekend                641914 non-null  bool          \n",
      " 29  weekday_name              641914 non-null  object        \n",
      " 30  account_age_days          641914 non-null  int64         \n",
      " 31  age_bin                   641914 non-null  object        \n",
      "dtypes: bool(5), datetime64[ns](4), float64(5), int64(11), object(7)\n",
      "memory usage: 135.3+ MB\n",
      "None\n"
     ]
    }
   ],
   "source": [
    "# changing datetime columun to datetime format\n",
    "df2['transactionDateTime'] = pd.to_datetime(df2['transactionDateTime'])\n",
    "df2[\"accountOpenDate\"] = pd.to_datetime(df2[\"accountOpenDate\"])\n",
    "df2['currentExpDate'] = pd.to_datetime(df2['currentExpDate'])\n",
    "df2['dateOfLastAddressChange'] = pd.to_datetime(df2['dateOfLastAddressChange'])\n",
    "df2['transactionDateTime'].dtype\n",
    "print(df2.info())"
   ]
  },
  {
   "cell_type": "markdown",
   "id": "0f5e764f",
   "metadata": {},
   "source": [
    "Step 4: Preprocessing\n",
    "1. Drop unnecessary columns or use useful features only\n",
    "2. Convert categorial variables ( use one-hot encoding or label \n",
    "encoding)\n",
    "3. Split Features and target"
   ]
  },
  {
   "cell_type": "code",
   "execution_count": 5,
   "id": "98e6cf75",
   "metadata": {},
   "outputs": [],
   "source": [
    "# ✅ Choose meaningful features only\n",
    "features = [\n",
    "    'transactionAmount', 'availableMoney', 'creditLimit', 'currentBalance',\n",
    "    'posEntryMode', 'posConditionCode', 'cardPresent',\n",
    "    'expirationDateKeyInMatch', 'cvv_mismatch',\n",
    "    'txn_hour', 'txn_day', 'txn_month', 'weekday', 'is_weekend',\n",
    "    'account_age_days',\n",
    "    'acqCountry', 'merchantCountryCode', 'merchantCategoryCode',\n",
    "    'transactionType', 'age_bin'\n",
    "]\n",
    "\n",
    "X = df2[features]\n",
    "y = df2['isFraud']\n"
   ]
  },
  {
   "cell_type": "code",
   "execution_count": 6,
   "id": "46cee906",
   "metadata": {},
   "outputs": [],
   "source": [
    "# Encode categorical features\n",
    "X = pd.get_dummies(X, drop_first=True)\n",
    "\n",
    "# Optional: scale if needed\n"
   ]
  },
  {
   "cell_type": "markdown",
   "id": "191be16d",
   "metadata": {},
   "source": [
    "Step 5: Train/Test Split"
   ]
  },
  {
   "cell_type": "code",
   "execution_count": 7,
   "id": "faf2416b",
   "metadata": {},
   "outputs": [],
   "source": [
    "from sklearn.model_selection import train_test_split\n",
    "\n",
    "# Split the data: 80% training, 20% testing\n",
    "X_train, X_test, y_train, y_test = train_test_split(\n",
    "    X, y,\n",
    "    test_size=0.2,        # 20% for testing\n",
    "    random_state=42,      # Ensures reproducibility\n",
    "    stratify=y            # Preserves fraud/non-fraud ratio\n",
    ")\n"
   ]
  },
  {
   "cell_type": "markdown",
   "id": "b7c0e96b",
   "metadata": {},
   "source": [
    "Step 6: Training model using K-Nearest Neighbors Alogrithm (KNN)"
   ]
  },
  {
   "cell_type": "code",
   "execution_count": null,
   "id": "342f7b7e",
   "metadata": {},
   "outputs": [],
   "source": [
    "# \n",
    "# knn = KNeighborsClassifier(n_neighbors= 5)\n",
    "# knn.fit(X_train, y_train)\n",
    "# print(knn.score(X_test, y_test))\n",
    "#took long time and my laptop started heatin up"
   ]
  },
  {
   "cell_type": "code",
   "execution_count": 10,
   "id": "cbd6c6f1",
   "metadata": {},
   "outputs": [
    {
     "name": "stdout",
     "output_type": "stream",
     "text": [
      "0.981\n"
     ]
    }
   ],
   "source": [
    "from sklearn.neighbors import KNeighborsClassifier\n",
    "# Use a smaller sample to test if your code works\n",
    "X_train_small = X_train.sample(10000, random_state=42)\n",
    "y_train_small = y_train.loc[X_train_small.index]\n",
    "\n",
    "X_test_small = X_test.sample(2000, random_state=42)\n",
    "y_test_small = y_test.loc[X_test_small.index]\n",
    "\n",
    "knn = KNeighborsClassifier(n_neighbors=5)\n",
    "knn.fit(X_train_small, y_train_small)\n",
    "print(knn.score(X_test_small, y_test_small))\n"
   ]
  },
  {
   "cell_type": "code",
   "execution_count": 11,
   "id": "e5509fea",
   "metadata": {},
   "outputs": [
    {
     "name": "stdout",
     "output_type": "stream",
     "text": [
      "0.981\n"
     ]
    }
   ],
   "source": [
    "from sklearn.preprocessing import StandardScaler\n",
    "\n",
    "scaler = StandardScaler()\n",
    "X_train_small_scaled = scaler.fit_transform(X_train_small)\n",
    "X_test_small_scaled = scaler.transform(X_test_small)\n",
    "\n",
    "knn = KNeighborsClassifier(n_neighbors=5)\n",
    "knn.fit(X_train_small_scaled, y_train_small)\n",
    "print(knn.score(X_test_small_scaled, y_test_small))\n"
   ]
  },
  {
   "cell_type": "code",
   "execution_count": 12,
   "id": "43c1fd41",
   "metadata": {},
   "outputs": [
    {
     "name": "stdout",
     "output_type": "stream",
     "text": [
      "              precision    recall  f1-score   support\n",
      "\n",
      "       False       0.98      1.00      0.99      1962\n",
      "        True       0.00      0.00      0.00        38\n",
      "\n",
      "    accuracy                           0.98      2000\n",
      "   macro avg       0.49      0.50      0.50      2000\n",
      "weighted avg       0.96      0.98      0.97      2000\n",
      "\n"
     ]
    },
    {
     "name": "stderr",
     "output_type": "stream",
     "text": [
      "e:\\2025\\ExtensoData_Internship_Work\\Projects\\Task_3_EDA\\venv\\Lib\\site-packages\\sklearn\\metrics\\_classification.py:1565: UndefinedMetricWarning: Precision is ill-defined and being set to 0.0 in labels with no predicted samples. Use `zero_division` parameter to control this behavior.\n",
      "  _warn_prf(average, modifier, f\"{metric.capitalize()} is\", len(result))\n",
      "e:\\2025\\ExtensoData_Internship_Work\\Projects\\Task_3_EDA\\venv\\Lib\\site-packages\\sklearn\\metrics\\_classification.py:1565: UndefinedMetricWarning: Precision is ill-defined and being set to 0.0 in labels with no predicted samples. Use `zero_division` parameter to control this behavior.\n",
      "  _warn_prf(average, modifier, f\"{metric.capitalize()} is\", len(result))\n",
      "e:\\2025\\ExtensoData_Internship_Work\\Projects\\Task_3_EDA\\venv\\Lib\\site-packages\\sklearn\\metrics\\_classification.py:1565: UndefinedMetricWarning: Precision is ill-defined and being set to 0.0 in labels with no predicted samples. Use `zero_division` parameter to control this behavior.\n",
      "  _warn_prf(average, modifier, f\"{metric.capitalize()} is\", len(result))\n"
     ]
    }
   ],
   "source": [
    "from sklearn.metrics import classification_report\n",
    "\n",
    "y_pred = knn.predict(X_test_small_scaled)\n",
    "print(classification_report(y_test_small, y_pred))\n"
   ]
  },
  {
   "cell_type": "markdown",
   "id": "03690d0f",
   "metadata": {},
   "source": [
    "Step 7: Using Logistic Regression algorithm"
   ]
  },
  {
   "cell_type": "code",
   "execution_count": null,
   "id": "7f278b8a",
   "metadata": {},
   "outputs": [],
   "source": []
  }
 ],
 "metadata": {
  "kernelspec": {
   "display_name": "venv",
   "language": "python",
   "name": "python3"
  },
  "language_info": {
   "codemirror_mode": {
    "name": "ipython",
    "version": 3
   },
   "file_extension": ".py",
   "mimetype": "text/x-python",
   "name": "python",
   "nbconvert_exporter": "python",
   "pygments_lexer": "ipython3",
   "version": "3.12.6"
  }
 },
 "nbformat": 4,
 "nbformat_minor": 5
}
