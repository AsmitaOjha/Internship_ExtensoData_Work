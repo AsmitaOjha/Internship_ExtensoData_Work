{
 "cells": [
  {
   "cell_type": "markdown",
   "id": "8807f095",
   "metadata": {},
   "source": [
    "Step 1: Understand the problem\n",
    "Is it Regression or Classification?\n",
    "We are trying to predict whether a transaction is fradulent or not (isFraud : True or False). \n",
    "This is a Classification Problem."
   ]
  },
  {
   "cell_type": "markdown",
   "id": "9cc496ec",
   "metadata": {},
   "source": [
    "Step 2 : Setup the envionment\n",
    "Installed scikit-learn"
   ]
  },
  {
   "cell_type": "markdown",
   "id": "bcb1bec6",
   "metadata": {},
   "source": [
    "Step 3: Load cleaned dataset"
   ]
  },
  {
   "cell_type": "code",
   "execution_count": 35,
   "id": "f9405863",
   "metadata": {},
   "outputs": [],
   "source": [
    "import pandas as pd\n",
    "import matplotlib.pyplot as plt\n",
    "import numpy as np\n",
    "\n",
    "df2 = pd.read_csv(\"e:/2025/ExtensoData_Internship_Work/Projects/Task_3_EDA/data/dataset_after_EDA.xlsx\")\n"
   ]
  },
  {
   "cell_type": "code",
   "execution_count": 36,
   "id": "5498f92a",
   "metadata": {},
   "outputs": [
    {
     "name": "stdout",
     "output_type": "stream",
     "text": [
      "<class 'pandas.core.frame.DataFrame'>\n",
      "RangeIndex: 641914 entries, 0 to 641913\n",
      "Data columns (total 32 columns):\n",
      " #   Column                    Non-Null Count   Dtype  \n",
      "---  ------                    --------------   -----  \n",
      " 0   accountNumber             641914 non-null  int64  \n",
      " 1   customerId                641914 non-null  int64  \n",
      " 2   creditLimit               641914 non-null  int64  \n",
      " 3   availableMoney            641914 non-null  float64\n",
      " 4   transactionDateTime       641914 non-null  object \n",
      " 5   transactionAmount         641914 non-null  float64\n",
      " 6   merchantName              641914 non-null  object \n",
      " 7   acqCountry                641914 non-null  object \n",
      " 8   merchantCountryCode       641914 non-null  object \n",
      " 9   posEntryMode              641914 non-null  float64\n",
      " 10  posConditionCode          641914 non-null  float64\n",
      " 11  merchantCategoryCode      641914 non-null  object \n",
      " 12  currentExpDate            641914 non-null  object \n",
      " 13  accountOpenDate           641914 non-null  object \n",
      " 14  dateOfLastAddressChange   641914 non-null  object \n",
      " 15  cardCVV                   641914 non-null  int64  \n",
      " 16  enteredCVV                641914 non-null  int64  \n",
      " 17  cardLast4Digits           641914 non-null  int64  \n",
      " 18  transactionType           641914 non-null  object \n",
      " 19  isFraud                   641914 non-null  bool   \n",
      " 20  currentBalance            641914 non-null  float64\n",
      " 21  cardPresent               641914 non-null  bool   \n",
      " 22  expirationDateKeyInMatch  641914 non-null  bool   \n",
      " 23  txn_hour                  641914 non-null  int64  \n",
      " 24  txn_month                 641914 non-null  int64  \n",
      " 25  txn_day                   641914 non-null  int64  \n",
      " 26  cvv_mismatch              641914 non-null  bool   \n",
      " 27  weekday                   641914 non-null  int64  \n",
      " 28  is_weekend                641914 non-null  bool   \n",
      " 29  weekday_name              641914 non-null  object \n",
      " 30  account_age_days          641914 non-null  int64  \n",
      " 31  age_bin                   641914 non-null  object \n",
      "dtypes: bool(5), float64(5), int64(11), object(11)\n",
      "memory usage: 135.3+ MB\n"
     ]
    },
    {
     "data": {
      "text/plain": [
       "(641914, 32)"
      ]
     },
     "execution_count": 36,
     "metadata": {},
     "output_type": "execute_result"
    }
   ],
   "source": [
    "df2.info()\n",
    "df2.shape"
   ]
  },
  {
   "cell_type": "code",
   "execution_count": 37,
   "id": "923b5253",
   "metadata": {},
   "outputs": [
    {
     "name": "stdout",
     "output_type": "stream",
     "text": [
      "<class 'pandas.core.frame.DataFrame'>\n",
      "RangeIndex: 641914 entries, 0 to 641913\n",
      "Data columns (total 32 columns):\n",
      " #   Column                    Non-Null Count   Dtype         \n",
      "---  ------                    --------------   -----         \n",
      " 0   accountNumber             641914 non-null  int64         \n",
      " 1   customerId                641914 non-null  int64         \n",
      " 2   creditLimit               641914 non-null  int64         \n",
      " 3   availableMoney            641914 non-null  float64       \n",
      " 4   transactionDateTime       641914 non-null  datetime64[ns]\n",
      " 5   transactionAmount         641914 non-null  float64       \n",
      " 6   merchantName              641914 non-null  object        \n",
      " 7   acqCountry                641914 non-null  object        \n",
      " 8   merchantCountryCode       641914 non-null  object        \n",
      " 9   posEntryMode              641914 non-null  float64       \n",
      " 10  posConditionCode          641914 non-null  float64       \n",
      " 11  merchantCategoryCode      641914 non-null  object        \n",
      " 12  currentExpDate            641914 non-null  datetime64[ns]\n",
      " 13  accountOpenDate           641914 non-null  datetime64[ns]\n",
      " 14  dateOfLastAddressChange   641914 non-null  datetime64[ns]\n",
      " 15  cardCVV                   641914 non-null  int64         \n",
      " 16  enteredCVV                641914 non-null  int64         \n",
      " 17  cardLast4Digits           641914 non-null  int64         \n",
      " 18  transactionType           641914 non-null  object        \n",
      " 19  isFraud                   641914 non-null  bool          \n",
      " 20  currentBalance            641914 non-null  float64       \n",
      " 21  cardPresent               641914 non-null  bool          \n",
      " 22  expirationDateKeyInMatch  641914 non-null  bool          \n",
      " 23  txn_hour                  641914 non-null  int64         \n",
      " 24  txn_month                 641914 non-null  int64         \n",
      " 25  txn_day                   641914 non-null  int64         \n",
      " 26  cvv_mismatch              641914 non-null  bool          \n",
      " 27  weekday                   641914 non-null  int64         \n",
      " 28  is_weekend                641914 non-null  bool          \n",
      " 29  weekday_name              641914 non-null  object        \n",
      " 30  account_age_days          641914 non-null  int64         \n",
      " 31  age_bin                   641914 non-null  object        \n",
      "dtypes: bool(5), datetime64[ns](4), float64(5), int64(11), object(7)\n",
      "memory usage: 135.3+ MB\n",
      "None\n"
     ]
    }
   ],
   "source": [
    "# changing datetime columun to datetime format\n",
    "df2['transactionDateTime'] = pd.to_datetime(df2['transactionDateTime'])\n",
    "df2[\"accountOpenDate\"] = pd.to_datetime(df2[\"accountOpenDate\"])\n",
    "df2['currentExpDate'] = pd.to_datetime(df2['currentExpDate'])\n",
    "df2['dateOfLastAddressChange'] = pd.to_datetime(df2['dateOfLastAddressChange'])\n",
    "df2['transactionDateTime'].dtype\n",
    "print(df2.info())"
   ]
  },
  {
   "cell_type": "markdown",
   "id": "0f5e764f",
   "metadata": {},
   "source": [
    "Step 4: Preprocessing\n",
    "1. Drop unnecessary columns or use useful features only\n",
    "2. Convert categorial variables ( use one-hot encoding or label \n",
    "encoding)\n",
    "3. Split Features and target"
   ]
  },
  {
   "cell_type": "code",
   "execution_count": 38,
   "id": "98e6cf75",
   "metadata": {},
   "outputs": [],
   "source": [
    "# ✅ Choose meaningful features only\n",
    "features = [\n",
    "    'transactionAmount', 'availableMoney', 'creditLimit', 'currentBalance',\n",
    "    'posEntryMode', 'posConditionCode', 'cardPresent','cvv_mismatch',\n",
    "    'txn_hour', 'txn_month', 'weekday', 'is_weekend',\n",
    "    'account_age_days',\n",
    "    'transactionType',\n",
    "    # 'acqCountry', 'merchantCountryCode', 'merchantCategoryCode',\n",
    "    # , 'txn_day','expirationDateKeyInMatch', 'age_bin'\n",
    "]\n",
    "\n",
    "X = df2[features]\n",
    "y = df2['isFraud']\n"
   ]
  },
  {
   "cell_type": "code",
   "execution_count": 39,
   "id": "46cee906",
   "metadata": {},
   "outputs": [],
   "source": [
    "# Encode categorical features\n",
    "X = pd.get_dummies(X, drop_first=True)\n",
    "\n",
    "# Optional: scale if needed\n"
   ]
  },
  {
   "cell_type": "markdown",
   "id": "191be16d",
   "metadata": {},
   "source": [
    "Step 5: Train/Test Split"
   ]
  },
  {
   "cell_type": "code",
   "execution_count": 40,
   "id": "faf2416b",
   "metadata": {},
   "outputs": [],
   "source": [
    "from sklearn.model_selection import train_test_split\n",
    "\n",
    "# Split the data: 70% training, 30% testing\n",
    "X_train, X_test, y_train, y_test = train_test_split(\n",
    "    X, y,\n",
    "    test_size=0.3,        # 30% for testing\n",
    "    random_state=42,      # Ensures reproducibility\n",
    "    stratify=y            # Preserves fraud/non-fraud ratio\n",
    ")\n"
   ]
  },
  {
   "cell_type": "markdown",
   "id": "b7c0e96b",
   "metadata": {},
   "source": [
    "Step 6: Training model using K-Nearest Neighbors Alogrithm (KNN)"
   ]
  },
  {
   "cell_type": "code",
   "execution_count": 41,
   "id": "342f7b7e",
   "metadata": {},
   "outputs": [],
   "source": [
    "# \n",
    "# knn = KNeighborsClassifier(n_neighbors= 5)\n",
    "# knn.fit(X_train, y_train)\n",
    "# print(knn.score(X_test, y_test))\n",
    "#took long time and my laptop started heatin up"
   ]
  },
  {
   "cell_type": "code",
   "execution_count": 42,
   "id": "cbd6c6f1",
   "metadata": {},
   "outputs": [],
   "source": [
    "# from sklearn.neighbors import KNeighborsClassifier\n",
    "# # Use a smaller sample to test if your code works\n",
    "# X_train_small = X_train.sample(10000, random_state=42)\n",
    "# y_train_small = y_train.loc[X_train_small.index]\n",
    "\n",
    "# X_test_small = X_test.sample(2000, random_state=42)\n",
    "# y_test_small = y_test.loc[X_test_small.index]\n",
    "\n",
    "# knn = KNeighborsClassifier(n_neighbors=5)\n",
    "# knn.fit(X_train_small, y_train_small)\n",
    "# print(knn.score(X_test_small, y_test_small))\n"
   ]
  },
  {
   "cell_type": "code",
   "execution_count": 43,
   "id": "e5509fea",
   "metadata": {},
   "outputs": [],
   "source": [
    "# from sklearn.preprocessing import StandardScaler\n",
    "\n",
    "# scaler = StandardScaler()\n",
    "# X_train_small_scaled = scaler.fit_transform(X_train_small)\n",
    "# X_test_small_scaled = scaler.transform(X_test_small)\n",
    "\n",
    "# knn = KNeighborsClassifier(n_neighbors=5)\n",
    "# knn.fit(X_train_small_scaled, y_train_small)\n",
    "# print(knn.score(X_test_small_scaled, y_test_small))\n"
   ]
  },
  {
   "cell_type": "code",
   "execution_count": 44,
   "id": "43c1fd41",
   "metadata": {},
   "outputs": [],
   "source": [
    "# from sklearn.metrics import classification_report\n",
    "\n",
    "# y_pred = knn.predict(X_test_small_scaled)\n",
    "# print(classification_report(y_test_small, y_pred))\n"
   ]
  },
  {
   "cell_type": "markdown",
   "id": "dbfff272",
   "metadata": {},
   "source": [
    "Step 7 : Trying different neighbors less than 5 to check if the computation becomes fast"
   ]
  },
  {
   "cell_type": "code",
   "execution_count": 45,
   "id": "0b48a7c8",
   "metadata": {},
   "outputs": [],
   "source": [
    "\n",
    "# knn = KNeighborsClassifier(n_neighbors= 3)\n",
    "# knn.fit(X_train, y_train)\n",
    "# print(knn.score(X_test, y_test))\n",
    "#no again the laptop heated up"
   ]
  },
  {
   "cell_type": "markdown",
   "id": "03690d0f",
   "metadata": {},
   "source": [
    "Step 7: Using Logistic Regression algorithm"
   ]
  },
  {
   "cell_type": "markdown",
   "id": "a94ce3c7",
   "metadata": {},
   "source": [
    "Need to learn first .so tomorrow"
   ]
  },
  {
   "cell_type": "code",
   "execution_count": 46,
   "id": "7f278b8a",
   "metadata": {},
   "outputs": [],
   "source": [
    "from sklearn.linear_model import LogisticRegression\n",
    "from sklearn.metrics import accuracy_score, classification_report, confusion_matrix, roc_auc_score"
   ]
  },
  {
   "cell_type": "markdown",
   "id": "98698e7a",
   "metadata": {},
   "source": [
    "Scale features"
   ]
  },
  {
   "cell_type": "code",
   "execution_count": 47,
   "id": "435551dd",
   "metadata": {},
   "outputs": [],
   "source": [
    "from sklearn.preprocessing import StandardScaler\n",
    "\n",
    "scaler = StandardScaler()\n",
    "X_train_scaled = scaler.fit_transform(X_train)\n",
    "X_test_scaled = scaler.transform(X_test)\n",
    "\n",
    "# Get actual feature names\n",
    "if isinstance(X_train_scaled, pd.DataFrame):\n",
    "    features_actual = X_train_scaled.columns.tolist()\n",
    "else:\n",
    "    features_actual = X_train.columns.tolist()\n"
   ]
  },
  {
   "cell_type": "markdown",
   "id": "d37b0127",
   "metadata": {},
   "source": [
    "Train Logistic Regression with class balancing"
   ]
  },
  {
   "cell_type": "code",
   "execution_count": 48,
   "id": "fa7ee065",
   "metadata": {},
   "outputs": [
    {
     "data": {
      "text/html": [
       "<style>#sk-container-id-2 {\n",
       "  /* Definition of color scheme common for light and dark mode */\n",
       "  --sklearn-color-text: #000;\n",
       "  --sklearn-color-text-muted: #666;\n",
       "  --sklearn-color-line: gray;\n",
       "  /* Definition of color scheme for unfitted estimators */\n",
       "  --sklearn-color-unfitted-level-0: #fff5e6;\n",
       "  --sklearn-color-unfitted-level-1: #f6e4d2;\n",
       "  --sklearn-color-unfitted-level-2: #ffe0b3;\n",
       "  --sklearn-color-unfitted-level-3: chocolate;\n",
       "  /* Definition of color scheme for fitted estimators */\n",
       "  --sklearn-color-fitted-level-0: #f0f8ff;\n",
       "  --sklearn-color-fitted-level-1: #d4ebff;\n",
       "  --sklearn-color-fitted-level-2: #b3dbfd;\n",
       "  --sklearn-color-fitted-level-3: cornflowerblue;\n",
       "\n",
       "  /* Specific color for light theme */\n",
       "  --sklearn-color-text-on-default-background: var(--sg-text-color, var(--theme-code-foreground, var(--jp-content-font-color1, black)));\n",
       "  --sklearn-color-background: var(--sg-background-color, var(--theme-background, var(--jp-layout-color0, white)));\n",
       "  --sklearn-color-border-box: var(--sg-text-color, var(--theme-code-foreground, var(--jp-content-font-color1, black)));\n",
       "  --sklearn-color-icon: #696969;\n",
       "\n",
       "  @media (prefers-color-scheme: dark) {\n",
       "    /* Redefinition of color scheme for dark theme */\n",
       "    --sklearn-color-text-on-default-background: var(--sg-text-color, var(--theme-code-foreground, var(--jp-content-font-color1, white)));\n",
       "    --sklearn-color-background: var(--sg-background-color, var(--theme-background, var(--jp-layout-color0, #111)));\n",
       "    --sklearn-color-border-box: var(--sg-text-color, var(--theme-code-foreground, var(--jp-content-font-color1, white)));\n",
       "    --sklearn-color-icon: #878787;\n",
       "  }\n",
       "}\n",
       "\n",
       "#sk-container-id-2 {\n",
       "  color: var(--sklearn-color-text);\n",
       "}\n",
       "\n",
       "#sk-container-id-2 pre {\n",
       "  padding: 0;\n",
       "}\n",
       "\n",
       "#sk-container-id-2 input.sk-hidden--visually {\n",
       "  border: 0;\n",
       "  clip: rect(1px 1px 1px 1px);\n",
       "  clip: rect(1px, 1px, 1px, 1px);\n",
       "  height: 1px;\n",
       "  margin: -1px;\n",
       "  overflow: hidden;\n",
       "  padding: 0;\n",
       "  position: absolute;\n",
       "  width: 1px;\n",
       "}\n",
       "\n",
       "#sk-container-id-2 div.sk-dashed-wrapped {\n",
       "  border: 1px dashed var(--sklearn-color-line);\n",
       "  margin: 0 0.4em 0.5em 0.4em;\n",
       "  box-sizing: border-box;\n",
       "  padding-bottom: 0.4em;\n",
       "  background-color: var(--sklearn-color-background);\n",
       "}\n",
       "\n",
       "#sk-container-id-2 div.sk-container {\n",
       "  /* jupyter's `normalize.less` sets `[hidden] { display: none; }`\n",
       "     but bootstrap.min.css set `[hidden] { display: none !important; }`\n",
       "     so we also need the `!important` here to be able to override the\n",
       "     default hidden behavior on the sphinx rendered scikit-learn.org.\n",
       "     See: https://github.com/scikit-learn/scikit-learn/issues/21755 */\n",
       "  display: inline-block !important;\n",
       "  position: relative;\n",
       "}\n",
       "\n",
       "#sk-container-id-2 div.sk-text-repr-fallback {\n",
       "  display: none;\n",
       "}\n",
       "\n",
       "div.sk-parallel-item,\n",
       "div.sk-serial,\n",
       "div.sk-item {\n",
       "  /* draw centered vertical line to link estimators */\n",
       "  background-image: linear-gradient(var(--sklearn-color-text-on-default-background), var(--sklearn-color-text-on-default-background));\n",
       "  background-size: 2px 100%;\n",
       "  background-repeat: no-repeat;\n",
       "  background-position: center center;\n",
       "}\n",
       "\n",
       "/* Parallel-specific style estimator block */\n",
       "\n",
       "#sk-container-id-2 div.sk-parallel-item::after {\n",
       "  content: \"\";\n",
       "  width: 100%;\n",
       "  border-bottom: 2px solid var(--sklearn-color-text-on-default-background);\n",
       "  flex-grow: 1;\n",
       "}\n",
       "\n",
       "#sk-container-id-2 div.sk-parallel {\n",
       "  display: flex;\n",
       "  align-items: stretch;\n",
       "  justify-content: center;\n",
       "  background-color: var(--sklearn-color-background);\n",
       "  position: relative;\n",
       "}\n",
       "\n",
       "#sk-container-id-2 div.sk-parallel-item {\n",
       "  display: flex;\n",
       "  flex-direction: column;\n",
       "}\n",
       "\n",
       "#sk-container-id-2 div.sk-parallel-item:first-child::after {\n",
       "  align-self: flex-end;\n",
       "  width: 50%;\n",
       "}\n",
       "\n",
       "#sk-container-id-2 div.sk-parallel-item:last-child::after {\n",
       "  align-self: flex-start;\n",
       "  width: 50%;\n",
       "}\n",
       "\n",
       "#sk-container-id-2 div.sk-parallel-item:only-child::after {\n",
       "  width: 0;\n",
       "}\n",
       "\n",
       "/* Serial-specific style estimator block */\n",
       "\n",
       "#sk-container-id-2 div.sk-serial {\n",
       "  display: flex;\n",
       "  flex-direction: column;\n",
       "  align-items: center;\n",
       "  background-color: var(--sklearn-color-background);\n",
       "  padding-right: 1em;\n",
       "  padding-left: 1em;\n",
       "}\n",
       "\n",
       "\n",
       "/* Toggleable style: style used for estimator/Pipeline/ColumnTransformer box that is\n",
       "clickable and can be expanded/collapsed.\n",
       "- Pipeline and ColumnTransformer use this feature and define the default style\n",
       "- Estimators will overwrite some part of the style using the `sk-estimator` class\n",
       "*/\n",
       "\n",
       "/* Pipeline and ColumnTransformer style (default) */\n",
       "\n",
       "#sk-container-id-2 div.sk-toggleable {\n",
       "  /* Default theme specific background. It is overwritten whether we have a\n",
       "  specific estimator or a Pipeline/ColumnTransformer */\n",
       "  background-color: var(--sklearn-color-background);\n",
       "}\n",
       "\n",
       "/* Toggleable label */\n",
       "#sk-container-id-2 label.sk-toggleable__label {\n",
       "  cursor: pointer;\n",
       "  display: flex;\n",
       "  width: 100%;\n",
       "  margin-bottom: 0;\n",
       "  padding: 0.5em;\n",
       "  box-sizing: border-box;\n",
       "  text-align: center;\n",
       "  align-items: start;\n",
       "  justify-content: space-between;\n",
       "  gap: 0.5em;\n",
       "}\n",
       "\n",
       "#sk-container-id-2 label.sk-toggleable__label .caption {\n",
       "  font-size: 0.6rem;\n",
       "  font-weight: lighter;\n",
       "  color: var(--sklearn-color-text-muted);\n",
       "}\n",
       "\n",
       "#sk-container-id-2 label.sk-toggleable__label-arrow:before {\n",
       "  /* Arrow on the left of the label */\n",
       "  content: \"▸\";\n",
       "  float: left;\n",
       "  margin-right: 0.25em;\n",
       "  color: var(--sklearn-color-icon);\n",
       "}\n",
       "\n",
       "#sk-container-id-2 label.sk-toggleable__label-arrow:hover:before {\n",
       "  color: var(--sklearn-color-text);\n",
       "}\n",
       "\n",
       "/* Toggleable content - dropdown */\n",
       "\n",
       "#sk-container-id-2 div.sk-toggleable__content {\n",
       "  max-height: 0;\n",
       "  max-width: 0;\n",
       "  overflow: hidden;\n",
       "  text-align: left;\n",
       "  /* unfitted */\n",
       "  background-color: var(--sklearn-color-unfitted-level-0);\n",
       "}\n",
       "\n",
       "#sk-container-id-2 div.sk-toggleable__content.fitted {\n",
       "  /* fitted */\n",
       "  background-color: var(--sklearn-color-fitted-level-0);\n",
       "}\n",
       "\n",
       "#sk-container-id-2 div.sk-toggleable__content pre {\n",
       "  margin: 0.2em;\n",
       "  border-radius: 0.25em;\n",
       "  color: var(--sklearn-color-text);\n",
       "  /* unfitted */\n",
       "  background-color: var(--sklearn-color-unfitted-level-0);\n",
       "}\n",
       "\n",
       "#sk-container-id-2 div.sk-toggleable__content.fitted pre {\n",
       "  /* unfitted */\n",
       "  background-color: var(--sklearn-color-fitted-level-0);\n",
       "}\n",
       "\n",
       "#sk-container-id-2 input.sk-toggleable__control:checked~div.sk-toggleable__content {\n",
       "  /* Expand drop-down */\n",
       "  max-height: 200px;\n",
       "  max-width: 100%;\n",
       "  overflow: auto;\n",
       "}\n",
       "\n",
       "#sk-container-id-2 input.sk-toggleable__control:checked~label.sk-toggleable__label-arrow:before {\n",
       "  content: \"▾\";\n",
       "}\n",
       "\n",
       "/* Pipeline/ColumnTransformer-specific style */\n",
       "\n",
       "#sk-container-id-2 div.sk-label input.sk-toggleable__control:checked~label.sk-toggleable__label {\n",
       "  color: var(--sklearn-color-text);\n",
       "  background-color: var(--sklearn-color-unfitted-level-2);\n",
       "}\n",
       "\n",
       "#sk-container-id-2 div.sk-label.fitted input.sk-toggleable__control:checked~label.sk-toggleable__label {\n",
       "  background-color: var(--sklearn-color-fitted-level-2);\n",
       "}\n",
       "\n",
       "/* Estimator-specific style */\n",
       "\n",
       "/* Colorize estimator box */\n",
       "#sk-container-id-2 div.sk-estimator input.sk-toggleable__control:checked~label.sk-toggleable__label {\n",
       "  /* unfitted */\n",
       "  background-color: var(--sklearn-color-unfitted-level-2);\n",
       "}\n",
       "\n",
       "#sk-container-id-2 div.sk-estimator.fitted input.sk-toggleable__control:checked~label.sk-toggleable__label {\n",
       "  /* fitted */\n",
       "  background-color: var(--sklearn-color-fitted-level-2);\n",
       "}\n",
       "\n",
       "#sk-container-id-2 div.sk-label label.sk-toggleable__label,\n",
       "#sk-container-id-2 div.sk-label label {\n",
       "  /* The background is the default theme color */\n",
       "  color: var(--sklearn-color-text-on-default-background);\n",
       "}\n",
       "\n",
       "/* On hover, darken the color of the background */\n",
       "#sk-container-id-2 div.sk-label:hover label.sk-toggleable__label {\n",
       "  color: var(--sklearn-color-text);\n",
       "  background-color: var(--sklearn-color-unfitted-level-2);\n",
       "}\n",
       "\n",
       "/* Label box, darken color on hover, fitted */\n",
       "#sk-container-id-2 div.sk-label.fitted:hover label.sk-toggleable__label.fitted {\n",
       "  color: var(--sklearn-color-text);\n",
       "  background-color: var(--sklearn-color-fitted-level-2);\n",
       "}\n",
       "\n",
       "/* Estimator label */\n",
       "\n",
       "#sk-container-id-2 div.sk-label label {\n",
       "  font-family: monospace;\n",
       "  font-weight: bold;\n",
       "  display: inline-block;\n",
       "  line-height: 1.2em;\n",
       "}\n",
       "\n",
       "#sk-container-id-2 div.sk-label-container {\n",
       "  text-align: center;\n",
       "}\n",
       "\n",
       "/* Estimator-specific */\n",
       "#sk-container-id-2 div.sk-estimator {\n",
       "  font-family: monospace;\n",
       "  border: 1px dotted var(--sklearn-color-border-box);\n",
       "  border-radius: 0.25em;\n",
       "  box-sizing: border-box;\n",
       "  margin-bottom: 0.5em;\n",
       "  /* unfitted */\n",
       "  background-color: var(--sklearn-color-unfitted-level-0);\n",
       "}\n",
       "\n",
       "#sk-container-id-2 div.sk-estimator.fitted {\n",
       "  /* fitted */\n",
       "  background-color: var(--sklearn-color-fitted-level-0);\n",
       "}\n",
       "\n",
       "/* on hover */\n",
       "#sk-container-id-2 div.sk-estimator:hover {\n",
       "  /* unfitted */\n",
       "  background-color: var(--sklearn-color-unfitted-level-2);\n",
       "}\n",
       "\n",
       "#sk-container-id-2 div.sk-estimator.fitted:hover {\n",
       "  /* fitted */\n",
       "  background-color: var(--sklearn-color-fitted-level-2);\n",
       "}\n",
       "\n",
       "/* Specification for estimator info (e.g. \"i\" and \"?\") */\n",
       "\n",
       "/* Common style for \"i\" and \"?\" */\n",
       "\n",
       ".sk-estimator-doc-link,\n",
       "a:link.sk-estimator-doc-link,\n",
       "a:visited.sk-estimator-doc-link {\n",
       "  float: right;\n",
       "  font-size: smaller;\n",
       "  line-height: 1em;\n",
       "  font-family: monospace;\n",
       "  background-color: var(--sklearn-color-background);\n",
       "  border-radius: 1em;\n",
       "  height: 1em;\n",
       "  width: 1em;\n",
       "  text-decoration: none !important;\n",
       "  margin-left: 0.5em;\n",
       "  text-align: center;\n",
       "  /* unfitted */\n",
       "  border: var(--sklearn-color-unfitted-level-1) 1pt solid;\n",
       "  color: var(--sklearn-color-unfitted-level-1);\n",
       "}\n",
       "\n",
       ".sk-estimator-doc-link.fitted,\n",
       "a:link.sk-estimator-doc-link.fitted,\n",
       "a:visited.sk-estimator-doc-link.fitted {\n",
       "  /* fitted */\n",
       "  border: var(--sklearn-color-fitted-level-1) 1pt solid;\n",
       "  color: var(--sklearn-color-fitted-level-1);\n",
       "}\n",
       "\n",
       "/* On hover */\n",
       "div.sk-estimator:hover .sk-estimator-doc-link:hover,\n",
       ".sk-estimator-doc-link:hover,\n",
       "div.sk-label-container:hover .sk-estimator-doc-link:hover,\n",
       ".sk-estimator-doc-link:hover {\n",
       "  /* unfitted */\n",
       "  background-color: var(--sklearn-color-unfitted-level-3);\n",
       "  color: var(--sklearn-color-background);\n",
       "  text-decoration: none;\n",
       "}\n",
       "\n",
       "div.sk-estimator.fitted:hover .sk-estimator-doc-link.fitted:hover,\n",
       ".sk-estimator-doc-link.fitted:hover,\n",
       "div.sk-label-container:hover .sk-estimator-doc-link.fitted:hover,\n",
       ".sk-estimator-doc-link.fitted:hover {\n",
       "  /* fitted */\n",
       "  background-color: var(--sklearn-color-fitted-level-3);\n",
       "  color: var(--sklearn-color-background);\n",
       "  text-decoration: none;\n",
       "}\n",
       "\n",
       "/* Span, style for the box shown on hovering the info icon */\n",
       ".sk-estimator-doc-link span {\n",
       "  display: none;\n",
       "  z-index: 9999;\n",
       "  position: relative;\n",
       "  font-weight: normal;\n",
       "  right: .2ex;\n",
       "  padding: .5ex;\n",
       "  margin: .5ex;\n",
       "  width: min-content;\n",
       "  min-width: 20ex;\n",
       "  max-width: 50ex;\n",
       "  color: var(--sklearn-color-text);\n",
       "  box-shadow: 2pt 2pt 4pt #999;\n",
       "  /* unfitted */\n",
       "  background: var(--sklearn-color-unfitted-level-0);\n",
       "  border: .5pt solid var(--sklearn-color-unfitted-level-3);\n",
       "}\n",
       "\n",
       ".sk-estimator-doc-link.fitted span {\n",
       "  /* fitted */\n",
       "  background: var(--sklearn-color-fitted-level-0);\n",
       "  border: var(--sklearn-color-fitted-level-3);\n",
       "}\n",
       "\n",
       ".sk-estimator-doc-link:hover span {\n",
       "  display: block;\n",
       "}\n",
       "\n",
       "/* \"?\"-specific style due to the `<a>` HTML tag */\n",
       "\n",
       "#sk-container-id-2 a.estimator_doc_link {\n",
       "  float: right;\n",
       "  font-size: 1rem;\n",
       "  line-height: 1em;\n",
       "  font-family: monospace;\n",
       "  background-color: var(--sklearn-color-background);\n",
       "  border-radius: 1rem;\n",
       "  height: 1rem;\n",
       "  width: 1rem;\n",
       "  text-decoration: none;\n",
       "  /* unfitted */\n",
       "  color: var(--sklearn-color-unfitted-level-1);\n",
       "  border: var(--sklearn-color-unfitted-level-1) 1pt solid;\n",
       "}\n",
       "\n",
       "#sk-container-id-2 a.estimator_doc_link.fitted {\n",
       "  /* fitted */\n",
       "  border: var(--sklearn-color-fitted-level-1) 1pt solid;\n",
       "  color: var(--sklearn-color-fitted-level-1);\n",
       "}\n",
       "\n",
       "/* On hover */\n",
       "#sk-container-id-2 a.estimator_doc_link:hover {\n",
       "  /* unfitted */\n",
       "  background-color: var(--sklearn-color-unfitted-level-3);\n",
       "  color: var(--sklearn-color-background);\n",
       "  text-decoration: none;\n",
       "}\n",
       "\n",
       "#sk-container-id-2 a.estimator_doc_link.fitted:hover {\n",
       "  /* fitted */\n",
       "  background-color: var(--sklearn-color-fitted-level-3);\n",
       "}\n",
       "</style><div id=\"sk-container-id-2\" class=\"sk-top-container\"><div class=\"sk-text-repr-fallback\"><pre>LogisticRegression(class_weight=&#x27;balanced&#x27;, max_iter=1000)</pre><b>In a Jupyter environment, please rerun this cell to show the HTML representation or trust the notebook. <br />On GitHub, the HTML representation is unable to render, please try loading this page with nbviewer.org.</b></div><div class=\"sk-container\" hidden><div class=\"sk-item\"><div class=\"sk-estimator fitted sk-toggleable\"><input class=\"sk-toggleable__control sk-hidden--visually\" id=\"sk-estimator-id-2\" type=\"checkbox\" checked><label for=\"sk-estimator-id-2\" class=\"sk-toggleable__label fitted sk-toggleable__label-arrow\"><div><div>LogisticRegression</div></div><div><a class=\"sk-estimator-doc-link fitted\" rel=\"noreferrer\" target=\"_blank\" href=\"https://scikit-learn.org/1.6/modules/generated/sklearn.linear_model.LogisticRegression.html\">?<span>Documentation for LogisticRegression</span></a><span class=\"sk-estimator-doc-link fitted\">i<span>Fitted</span></span></div></label><div class=\"sk-toggleable__content fitted\"><pre>LogisticRegression(class_weight=&#x27;balanced&#x27;, max_iter=1000)</pre></div> </div></div></div></div>"
      ],
      "text/plain": [
       "LogisticRegression(class_weight='balanced', max_iter=1000)"
      ]
     },
     "execution_count": 48,
     "metadata": {},
     "output_type": "execute_result"
    }
   ],
   "source": [
    "model1 = LogisticRegression(max_iter=1000, class_weight='balanced')\n",
    "model1.fit(X_train_scaled, y_train)"
   ]
  },
  {
   "cell_type": "markdown",
   "id": "b92b4c69",
   "metadata": {},
   "source": [
    "Predict the scaled model"
   ]
  },
  {
   "cell_type": "code",
   "execution_count": 49,
   "id": "cd521eb3",
   "metadata": {},
   "outputs": [],
   "source": [
    "y_predict_LG = model1.predict(X_test_scaled)"
   ]
  },
  {
   "cell_type": "markdown",
   "id": "2b1dee97",
   "metadata": {},
   "source": [
    "Evaluate performance"
   ]
  },
  {
   "cell_type": "code",
   "execution_count": 50,
   "id": "1389d99f",
   "metadata": {},
   "outputs": [
    {
     "name": "stdout",
     "output_type": "stream",
     "text": [
      "Accuracy 0.7192314682591199\n",
      "confusion_matrix: \n",
      " [[136659  52525]\n",
      " [  1544   1847]]\n",
      "Classification Report: \n",
      "               precision    recall  f1-score   support\n",
      "\n",
      "       False       0.99      0.72      0.83    189184\n",
      "        True       0.03      0.54      0.06      3391\n",
      "\n",
      "    accuracy                           0.72    192575\n",
      "   macro avg       0.51      0.63      0.45    192575\n",
      "weighted avg       0.97      0.72      0.82    192575\n",
      "\n"
     ]
    }
   ],
   "source": [
    "print(\"Accuracy\", accuracy_score(y_test, y_predict_LG))\n",
    "print(\"confusion_matrix: \\n\", confusion_matrix(y_test,y_predict_LG))\n",
    "print(\"Classification Report: \\n\", classification_report(y_test, y_predict_LG))"
   ]
  },
  {
   "cell_type": "markdown",
   "id": "92802908",
   "metadata": {},
   "source": [
    "### Observations after LogisticRegression\n",
    "**Class Breakdown**:\n",
    "1. True Negatives (TN) = 136,659 → Correctly predicted non-fraud.\n",
    "2. False Positives (FP) = 52,525 → Legit transactions predicted as fraud (💥 very high).\n",
    "3. False Negatives (FN) = 1,544 → Fraud transactions missed.\n",
    "4. True Positives (TP) = 1,847 → Correctly identified frauds.\n",
    "\n",
    "**What mertics tell**\n",
    "1. Accuracy ~ 72% : Misleading due to imbalance\n",
    "2. Precision (Fraud) ~ 3% : Only 3% predicted frauds were correct , Many false alarms\n",
    "3. Recall (Fraud) ~ 54% : Model deteced more than half of autual fraud\n",
    "4. F1 - score (Fraud) ~ 6% : Weak performance overall , due to poor precision.\n",
    "\n",
    "**Conclusion**\n",
    "This model is catching a decent number of fraud cases, but also flagging a lot of legitimate transactions as fraud."
   ]
  },
  {
   "cell_type": "code",
   "execution_count": 63,
   "id": "3a41d39a",
   "metadata": {},
   "outputs": [
    {
     "data": {
      "text/plain": [
       "np.float64(0.6831970627070822)"
      ]
     },
     "execution_count": 63,
     "metadata": {},
     "output_type": "execute_result"
    }
   ],
   "source": [
    "roc_auc_score(y_test, model1.predict_proba(X_test_scaled)[:,1])\n"
   ]
  },
  {
   "cell_type": "markdown",
   "id": "7d2a1cbc",
   "metadata": {},
   "source": [
    "roc_auc = 0.68 -> model has moderate ability to distinguish fraud  from non-fraud"
   ]
  },
  {
   "cell_type": "markdown",
   "id": "b0f8a2ca",
   "metadata": {},
   "source": [
    "**Tuning the threshold**"
   ]
  },
  {
   "cell_type": "code",
   "execution_count": 66,
   "id": "a4a9e656",
   "metadata": {},
   "outputs": [
    {
     "name": "stdout",
     "output_type": "stream",
     "text": [
      "Confusion Matrix: \n",
      "[[114204  74980]\n",
      " [  1089   2302]]\n",
      "\n",
      "Classification Report:\n",
      "              precision    recall  f1-score   support\n",
      "\n",
      "       False       0.99      0.60      0.75    189184\n",
      "        True       0.03      0.68      0.06      3391\n",
      "\n",
      "    accuracy                           0.60    192575\n",
      "   macro avg       0.51      0.64      0.40    192575\n",
      "weighted avg       0.97      0.60      0.74    192575\n",
      "\n",
      "ROC AUC Score: 0.6832\n"
     ]
    }
   ],
   "source": [
    "# Get predicted probabilities for the positive class (fraud)\n",
    "y_probs_LG = model1.predict_proba(X_test_scaled)[:,1]\n",
    "\n",
    "#apply custom threshold (eg. 0.3)\n",
    "threshold_LG = 0.45\n",
    "y_pred_custom_LG = (y_probs_LG > threshold_LG).astype(int)\n",
    "\n",
    "#evaluate performance\n",
    "print(\"Confusion Matrix: \")\n",
    "print(confusion_matrix(y_test, y_pred_custom_LG))\n",
    "\n",
    "print(\"\\nClassification Report:\")\n",
    "print(classification_report(y_test, y_pred_custom_LG))\n",
    "\n",
    "print(f\"ROC AUC Score: {roc_auc_score(y_test, y_probs_LG):.4f}\")"
   ]
  },
  {
   "cell_type": "markdown",
   "id": "aed66395",
   "metadata": {},
   "source": [
    "**Observations after threshold : 0.45**\n",
    "1. Precision for fraud = 3%: 3 out of every 100 predicted frauds are correct.\n",
    "2. Recall for fraud = 68%: 68% of actual frauds are detected (much better than before).\n",
    "3. Accuracy = 60%: But this is not reliable in imbalanced problems — misleading\n",
    "\n",
    "**Key points**\n",
    "1. Catching more frauds ( recall 54 to 68%)\n",
    "2. Model is still predicting a huge number of false positives (74980)"
   ]
  },
  {
   "cell_type": "markdown",
   "id": "d178916c",
   "metadata": {},
   "source": [
    "## Random Forest classification algo"
   ]
  },
  {
   "cell_type": "code",
   "execution_count": 52,
   "id": "bd2f7bf3",
   "metadata": {},
   "outputs": [
    {
     "name": "stdout",
     "output_type": "stream",
     "text": [
      "Confusion Matrix:\n",
      "[[189183      1]\n",
      " [  3375     16]]\n",
      "\n",
      "Classification Report:\n",
      "              precision    recall  f1-score   support\n",
      "\n",
      "       False       0.98      1.00      0.99    189184\n",
      "        True       0.94      0.00      0.01      3391\n",
      "\n",
      "    accuracy                           0.98    192575\n",
      "   macro avg       0.96      0.50      0.50    192575\n",
      "weighted avg       0.98      0.98      0.97    192575\n",
      "\n",
      "ROC AUC Score: 0.6710\n"
     ]
    }
   ],
   "source": [
    "from sklearn.ensemble import RandomForestClassifier\n",
    "from sklearn.metrics import classification_report, confusion_matrix, roc_auc_score\n",
    "\n",
    "#creating random forest model with balanced class weights\n",
    "model3 = RandomForestClassifier(class_weight='balanced', random_state=42, n_estimators=100, n_jobs=-1)\n",
    "\n",
    "#train the model\n",
    "model3.fit(X_train_scaled, y_train)\n",
    "\n",
    "#predict on test data\n",
    "y_pred_forest = model3.predict(X_test_scaled)\n",
    "y_probs_forest = model3.predict_proba(X_test_scaled)[:,1]\n",
    "\n",
    "#performance evaluate\n",
    "print(\"Confusion Matrix:\")\n",
    "print(confusion_matrix(y_test, y_pred_forest))\n",
    "\n",
    "print(\"\\nClassification Report:\")\n",
    "print(classification_report(y_test, y_pred_forest))\n",
    "\n",
    "roc_auc = roc_auc_score(y_test, y_probs_forest)\n",
    "print(f\"ROC AUC Score: {roc_auc:.4f}\")"
   ]
  },
  {
   "cell_type": "markdown",
   "id": "51066505",
   "metadata": {},
   "source": [
    "Tuning the decison threshold"
   ]
  },
  {
   "cell_type": "code",
   "execution_count": 67,
   "id": "96976d2e",
   "metadata": {},
   "outputs": [
    {
     "name": "stdout",
     "output_type": "stream",
     "text": [
      "Cunfusion Matrix:\n",
      "[[186269   2915]\n",
      " [  3145    246]]\n",
      "\n",
      "Classification Report: \n",
      "              precision    recall  f1-score   support\n",
      "\n",
      "       False       0.98      0.98      0.98    189184\n",
      "        True       0.08      0.07      0.08      3391\n",
      "\n",
      "    accuracy                           0.97    192575\n",
      "   macro avg       0.53      0.53      0.53    192575\n",
      "weighted avg       0.97      0.97      0.97    192575\n",
      "\n",
      "\n",
      " ROC AUC Score: 0.6935\n"
     ]
    }
   ],
   "source": [
    "threshold = 0.25\n",
    "y_pred_custom_forest = (y_probs_forest > threshold).astype(int)\n",
    "\n",
    "#evalute model performance\n",
    "print(\"Cunfusion Matrix:\")\n",
    "print(confusion_matrix(y_test, y_pred_custom_forest))\n",
    "\n",
    "print(\"\\nClassification Report: \")\n",
    "print(classification_report(y_test, y_pred_custom_forest))\n",
    "\n",
    "roc_auc = roc_auc_score(y_test,y_probs_forest)\n",
    "print(f\"\\n ROC AUC Score: {roc_auc:.4f}\")"
   ]
  },
  {
   "cell_type": "markdown",
   "id": "ea22cf81",
   "metadata": {},
   "source": [
    "How metrics change with different thresholds"
   ]
  },
  {
   "cell_type": "code",
   "execution_count": 54,
   "id": "0616f819",
   "metadata": {},
   "outputs": [
    {
     "data": {
      "image/png": "[encoded data removed]",
      "text/plain": [
       "<Figure size 800x500 with 1 Axes>"
      ]
     },
     "metadata": {},
     "output_type": "display_data"
    }
   ],
   "source": [
    "from sklearn.metrics import precision_recall_curve\n",
    "\n",
    "precisions, recalls, thresholds = precision_recall_curve(y_test, y_probs_forest)\n",
    "\n",
    "plt.figure(figsize=(8, 5))\n",
    "plt.plot(thresholds, precisions[:-1], 'b--', label='Precision')\n",
    "plt.plot(thresholds, recalls[:-1], 'g-', label='Recall')\n",
    "plt.axvline(x=threshold, color='red', linestyle='--', label=f'Threshold = {threshold}')\n",
    "plt.xlabel('Threshold')\n",
    "plt.ylabel('Score')\n",
    "plt.title('Precision and Recall vs Threshold')\n",
    "plt.legend()\n",
    "plt.grid(True)\n",
    "plt.show()"
   ]
  },
  {
   "cell_type": "markdown",
   "id": "89828347",
   "metadata": {},
   "source": [
    "Automatcially find the best threshold "
   ]
  },
  {
   "cell_type": "code",
   "execution_count": 55,
   "id": "08bd91c0",
   "metadata": {},
   "outputs": [
    {
     "name": "stdout",
     "output_type": "stream",
     "text": [
      "✅ Best Threshold = 0.080 with F1-score = 0.092\n"
     ]
    }
   ],
   "source": [
    "from sklearn.metrics import precision_recall_curve\n",
    "import numpy as np\n",
    "\n",
    "precisions, recalls, thresholds = precision_recall_curve(y_test, y_probs_forest)\n",
    "f1_scores = 2 * (precisions[:-1] * recalls[:-1]) / (precisions[:-1] + recalls[:-1] + 1e-10)\n",
    "\n",
    "best_idx = np.argmax(f1_scores)\n",
    "best_threshold_forest = thresholds[best_idx]\n",
    "print(f\"✅ Best Threshold = {best_threshold_forest:.3f} with F1-score = {f1_scores[best_idx]:.3f}\")\n"
   ]
  },
  {
   "cell_type": "markdown",
   "id": "74ebd7c4",
   "metadata": {},
   "source": [
    "re-plot the best threshold"
   ]
  },
  {
   "cell_type": "code",
   "execution_count": 56,
   "id": "24f343a8",
   "metadata": {},
   "outputs": [
    {
     "data": {
      "image/png": "[encoded data removed]",
      "text/plain": [
       "<Figure size 800x500 with 1 Axes>"
      ]
     },
     "metadata": {},
     "output_type": "display_data"
    }
   ],
   "source": [
    "plt.figure(figsize=(8, 5))\n",
    "plt.plot(thresholds, precisions[:-1], 'b--', label='Precision')\n",
    "plt.plot(thresholds, recalls[:-1], 'g-', label='Recall')\n",
    "plt.axvline(x=best_threshold_forest, color='red', linestyle='--', label=f'Best Threshold = {best_threshold_forest:.2f}')\n",
    "plt.xlabel('Threshold')\n",
    "plt.ylabel('Score')\n",
    "plt.title('Precision and Recall vs Threshold')\n",
    "plt.legend()\n",
    "plt.grid(True)\n",
    "plt.show()\n"
   ]
  },
  {
   "cell_type": "code",
   "execution_count": 57,
   "id": "bde5100e",
   "metadata": {},
   "outputs": [
    {
     "name": "stdout",
     "output_type": "stream",
     "text": [
      "Confusion Matrix:\n",
      "[[184779   4405]\n",
      " [  3034    357]]\n",
      "\n",
      "Classification Report: \n",
      "              precision    recall  f1-score   support\n",
      "\n",
      "       False       0.98      0.98      0.98    189184\n",
      "        True       0.07      0.11      0.09      3391\n",
      "\n",
      "    accuracy                           0.96    192575\n",
      "   macro avg       0.53      0.54      0.53    192575\n",
      "weighted avg       0.97      0.96      0.96    192575\n",
      "\n",
      "\n",
      " ROC AUC Score: 0.6710\n"
     ]
    }
   ],
   "source": [
    "y_pred_best = (y_probs_forest > best_threshold_forest).astype(int)\n",
    "#evalute model performance\n",
    "print(\"Confusion Matrix:\")\n",
    "print(confusion_matrix(y_test, y_pred_best))\n",
    "\n",
    "print(\"\\nClassification Report: \")\n",
    "print(classification_report(y_test, y_pred_best))\n",
    "\n",
    "roc_auc = roc_auc_score(y_test,y_probs_forest)\n",
    "print(f\"\\n ROC AUC Score: {roc_auc:.4f}\")"
   ]
  },
  {
   "cell_type": "markdown",
   "id": "7fc85100",
   "metadata": {},
   "source": [
    "**Observations:**\n",
    "1. Overall Accuracy ~ 96% - but not the main focus for imbalanced data\n",
    "2. ROC AUC Score: 0.6710\n",
    "3. Captured more fraud cases 357 cases\n"
   ]
  },
  {
   "cell_type": "markdown",
   "id": "72bc3311",
   "metadata": {},
   "source": [
    "**Visualizing Precision vs Recall**"
   ]
  },
  {
   "cell_type": "code",
   "execution_count": null,
   "id": "21881bdd",
   "metadata": {},
   "outputs": [],
   "source": []
  },
  {
   "cell_type": "markdown",
   "id": "8c058e05",
   "metadata": {},
   "source": [
    "Applying SMOTE with Random Forest "
   ]
  },
  {
   "cell_type": "code",
   "execution_count": 58,
   "id": "ea1b287f",
   "metadata": {},
   "outputs": [
    {
     "name": "stdout",
     "output_type": "stream",
     "text": [
      "Confusion Matrix:\n",
      "[[189010    174]\n",
      " [  3337     54]]\n",
      "\n",
      "Classification Report:\n",
      "              precision    recall  f1-score   support\n",
      "\n",
      "       False       0.98      1.00      0.99    189184\n",
      "        True       0.24      0.02      0.03      3391\n",
      "\n",
      "    accuracy                           0.98    192575\n",
      "   macro avg       0.61      0.51      0.51    192575\n",
      "weighted avg       0.97      0.98      0.97    192575\n",
      "\n",
      "ROC AUC Score: 0.6935\n"
     ]
    }
   ],
   "source": [
    "from imblearn.over_sampling import SMOTE\n",
    "from sklearn.ensemble import RandomForestClassifier\n",
    "from sklearn.metrics import classification_report, confusion_matrix, roc_auc_score\n",
    "\n",
    "# Step 1: Apply SMOTE only on the training data\n",
    "smote = SMOTE(random_state=42)\n",
    "X_train_resampled, y_train_resampled = smote.fit_resample(X_train_scaled, y_train)\n",
    "\n",
    "# Step 2: Create the Random Forest model (you can still use class_weight='balanced' or not)\n",
    "model3 = RandomForestClassifier(class_weight='balanced', random_state=42, n_estimators=100, n_jobs=-1)\n",
    "\n",
    "# Step 3: Train the model on the resampled (balanced) data\n",
    "model3.fit(X_train_resampled, y_train_resampled)\n",
    "\n",
    "# Step 4: Predict on the original test data (no SMOTE on test set!)\n",
    "y_pred_forest = model3.predict(X_test_scaled)\n",
    "y_probs_forest = model3.predict_proba(X_test_scaled)[:,1]\n",
    "\n",
    "# Step 5: Evaluate performance\n",
    "print(\"Confusion Matrix:\")\n",
    "print(confusion_matrix(y_test, y_pred_forest))\n",
    "\n",
    "print(\"\\nClassification Report:\")\n",
    "print(classification_report(y_test, y_pred_forest))\n",
    "\n",
    "roc_auc = roc_auc_score(y_test, y_probs_forest)\n",
    "print(f\"ROC AUC Score: {roc_auc:.4f}\")\n"
   ]
  },
  {
   "cell_type": "markdown",
   "id": "4c766927",
   "metadata": {},
   "source": [
    "**After SMOTE using custom threshold**"
   ]
  },
  {
   "cell_type": "code",
   "execution_count": null,
   "id": "ccdf03b0",
   "metadata": {},
   "outputs": [
    {
     "name": "stdout",
     "output_type": "stream",
     "text": [
      "Confusion Matrix:\n",
      "[[159251  29933]\n",
      " [  2083   1308]]\n",
      "\n",
      "Classification Report:\n",
      "              precision    recall  f1-score   support\n",
      "\n",
      "       False       0.99      0.84      0.91    189184\n",
      "        True       0.04      0.39      0.08      3391\n",
      "\n",
      "    accuracy                           0.83    192575\n",
      "   macro avg       0.51      0.61      0.49    192575\n",
      "weighted avg       0.97      0.83      0.89    192575\n",
      "\n",
      "ROC AUC Score: 0.6935\n"
     ]
    }
   ],
   "source": [
    "from sklearn.ensemble import RandomForestClassifier\n",
    "from sklearn.metrics import classification_report, confusion_matrix, roc_auc_score\n",
    "\n",
    "# Step 1: Apply SMOTE only on the training data\n",
    "smote = SMOTE(random_state=42)\n",
    "X_train_resampled, y_train_resampled = smote.fit_resample(X_train_scaled, y_train)\n",
    "\n",
    "# Step 2: Create the Random Forest model (you can still use class_weight='balanced' or not)\n",
    "model3 = RandomForestClassifier(class_weight='balanced', random_state=42, n_estimators=100, n_jobs=-1)\n",
    "\n",
    "# Step 3: Train the model on the resampled (balanced) data\n",
    "model3.fit(X_train_resampled, y_train_resampled)\n",
    "# Step 4: Predict probabilities on the original test data\n",
    "y_probs_forest = model3.predict_proba(X_test_scaled)[:, 1]\n",
    "\n",
    "# Choose your custom threshold (e.g., 0.08 or whatever you found best)\n",
    "custom_threshold = 0.08\n",
    "\n",
    "# Apply threshold to get predicted labels\n",
    "y_pred_custom = (y_probs_forest > custom_threshold).astype(int)\n",
    "\n",
    "# Step 5: Evaluate performance using the custom threshold predictions\n",
    "print(\"Confusion Matrix:\")\n",
    "print(confusion_matrix(y_test, y_pred_custom))\n",
    "\n",
    "print(\"\\nClassification Report:\")\n",
    "print(classification_report(y_test, y_pred_custom))\n",
    "\n",
    "roc_auc = roc_auc_score(y_test, y_probs_forest)\n",
    "print(f\"ROC AUC Score: {roc_auc:.4f}\")\n"
   ]
  },
  {
   "cell_type": "markdown",
   "id": "45257fb0",
   "metadata": {},
   "source": [
    "gridsearch CV tuning.... need to do..."
   ]
  }
 ],
 "metadata": {
  "kernelspec": {
   "display_name": "venv",
   "language": "python",
   "name": "python3"
  },
  "language_info": {
   "codemirror_mode": {
    "name": "ipython",
    "version": 3
   },
   "file_extension": ".py",
   "mimetype": "text/x-python",
   "name": "python",
   "nbconvert_exporter": "python",
   "pygments_lexer": "ipython3",
   "version": "3.12.6"
  }
 },
 "nbformat": 4,
 "nbformat_minor": 5
}
