{
 "cells": [
  {
   "cell_type": "markdown",
   "id": "8807f095",
   "metadata": {},
   "source": [
    "Step 1: Understand the problem\n",
    "Is it Regression or Classification?\n",
    "We are trying to predict whether a transaction is fradulent or not (isFraud : True or False). \n",
    "This is a Classification Problem."
   ]
  },
  {
   "cell_type": "markdown",
   "id": "9cc496ec",
   "metadata": {},
   "source": [
    "Step 2 : Setup the envionment\n",
    "Installed scikit-learn"
   ]
  },
  {
   "cell_type": "markdown",
   "id": "bcb1bec6",
   "metadata": {},
   "source": [
    "Step 3: Load cleaned dataset"
   ]
  },
  {
   "cell_type": "code",
   "execution_count": 18,
   "id": "f9405863",
   "metadata": {},
   "outputs": [],
   "source": [
    "import pandas as pd\n",
    "\n",
    "df2 = pd.read_csv(\"e:/2025/ExtensoData_Internship_Work/Projects/Task_3_EDA/data/cleaned_fraud_data_for_model_training.xlsx\")\n"
   ]
  },
  {
   "cell_type": "code",
   "execution_count": 19,
   "id": "5498f92a",
   "metadata": {},
   "outputs": [
    {
     "name": "stdout",
     "output_type": "stream",
     "text": [
      "<class 'pandas.core.frame.DataFrame'>\n",
      "RangeIndex: 641914 entries, 0 to 641913\n",
      "Data columns (total 23 columns):\n",
      " #   Column                    Non-Null Count   Dtype  \n",
      "---  ------                    --------------   -----  \n",
      " 0   accountNumber             641914 non-null  int64  \n",
      " 1   customerId                641914 non-null  int64  \n",
      " 2   creditLimit               641914 non-null  int64  \n",
      " 3   availableMoney            641914 non-null  float64\n",
      " 4   transactionDateTime       641914 non-null  object \n",
      " 5   transactionAmount         641914 non-null  float64\n",
      " 6   merchantName              641914 non-null  object \n",
      " 7   acqCountry                641914 non-null  object \n",
      " 8   merchantCountryCode       641914 non-null  object \n",
      " 9   posEntryMode              641914 non-null  float64\n",
      " 10  posConditionCode          641914 non-null  float64\n",
      " 11  merchantCategoryCode      641914 non-null  object \n",
      " 12  currentExpDate            641914 non-null  object \n",
      " 13  accountOpenDate           641914 non-null  object \n",
      " 14  dateOfLastAddressChange   641914 non-null  object \n",
      " 15  cardCVV                   641914 non-null  int64  \n",
      " 16  enteredCVV                641914 non-null  int64  \n",
      " 17  cardLast4Digits           641914 non-null  int64  \n",
      " 18  transactionType           641914 non-null  object \n",
      " 19  isFraud                   641914 non-null  bool   \n",
      " 20  currentBalance            641914 non-null  float64\n",
      " 21  cardPresent               641914 non-null  bool   \n",
      " 22  expirationDateKeyInMatch  641914 non-null  bool   \n",
      "dtypes: bool(3), float64(5), int64(6), object(9)\n",
      "memory usage: 99.8+ MB\n"
     ]
    }
   ],
   "source": [
    "df2.info()"
   ]
  },
  {
   "cell_type": "code",
   "execution_count": 20,
   "id": "923b5253",
   "metadata": {},
   "outputs": [
    {
     "name": "stdout",
     "output_type": "stream",
     "text": [
      "<class 'pandas.core.frame.DataFrame'>\n",
      "RangeIndex: 641914 entries, 0 to 641913\n",
      "Data columns (total 23 columns):\n",
      " #   Column                    Non-Null Count   Dtype         \n",
      "---  ------                    --------------   -----         \n",
      " 0   accountNumber             641914 non-null  int64         \n",
      " 1   customerId                641914 non-null  int64         \n",
      " 2   creditLimit               641914 non-null  int64         \n",
      " 3   availableMoney            641914 non-null  float64       \n",
      " 4   transactionDateTime       641914 non-null  datetime64[ns]\n",
      " 5   transactionAmount         641914 non-null  float64       \n",
      " 6   merchantName              641914 non-null  object        \n",
      " 7   acqCountry                641914 non-null  object        \n",
      " 8   merchantCountryCode       641914 non-null  object        \n",
      " 9   posEntryMode              641914 non-null  float64       \n",
      " 10  posConditionCode          641914 non-null  float64       \n",
      " 11  merchantCategoryCode      641914 non-null  object        \n",
      " 12  currentExpDate            641914 non-null  datetime64[ns]\n",
      " 13  accountOpenDate           641914 non-null  datetime64[ns]\n",
      " 14  dateOfLastAddressChange   641914 non-null  datetime64[ns]\n",
      " 15  cardCVV                   641914 non-null  int64         \n",
      " 16  enteredCVV                641914 non-null  int64         \n",
      " 17  cardLast4Digits           641914 non-null  int64         \n",
      " 18  transactionType           641914 non-null  object        \n",
      " 19  isFraud                   641914 non-null  bool          \n",
      " 20  currentBalance            641914 non-null  float64       \n",
      " 21  cardPresent               641914 non-null  bool          \n",
      " 22  expirationDateKeyInMatch  641914 non-null  bool          \n",
      "dtypes: bool(3), datetime64[ns](4), float64(5), int64(6), object(5)\n",
      "memory usage: 99.8+ MB\n",
      "None\n"
     ]
    }
   ],
   "source": [
    "# changing datetime columun to datetime format\n",
    "df2['transactionDateTime'] = pd.to_datetime(df2['transactionDateTime'])\n",
    "df2[\"accountOpenDate\"] = pd.to_datetime(df2[\"accountOpenDate\"])\n",
    "df2['currentExpDate'] = pd.to_datetime(df2['currentExpDate'])\n",
    "df2['dateOfLastAddressChange'] = pd.to_datetime(df2['dateOfLastAddressChange'])\n",
    "df2['transactionDateTime'].dtype\n",
    "print(df2.info())"
   ]
  },
  {
   "cell_type": "markdown",
   "id": "0f5e764f",
   "metadata": {},
   "source": [
    "Step 4: Preprocessing\n",
    "1. Drop unnecessary columns\n",
    "2. Convert categorial variables ( use one-hot encoding or label \n",
    "encoding)\n",
    "3. Split Features and target"
   ]
  },
  {
   "cell_type": "code",
   "execution_count": null,
   "id": "faf2416b",
   "metadata": {},
   "outputs": [],
   "source": [
    "from sklearn.model_selection import train_test_split"
   ]
  }
 ],
 "metadata": {
  "kernelspec": {
   "display_name": "venv",
   "language": "python",
   "name": "python3"
  },
  "language_info": {
   "codemirror_mode": {
    "name": "ipython",
    "version": 3
   },
   "file_extension": ".py",
   "mimetype": "text/x-python",
   "name": "python",
   "nbconvert_exporter": "python",
   "pygments_lexer": "ipython3",
   "version": "3.12.6"
  }
 },
 "nbformat": 4,
 "nbformat_minor": 5
}
