{
 "cells": [
  {
   "cell_type": "markdown",
   "id": "8807f095",
   "metadata": {},
   "source": [
    "Step 1: Understand the problem\n",
    "Is it Regression or Classification?\n",
    "We are trying to predict whether a transaction is fradulent or not (isFraud : True or False). \n",
    "This is a Classification Problem."
   ]
  },
  {
   "cell_type": "markdown",
   "id": "9cc496ec",
   "metadata": {},
   "source": [
    "Step 2 : Setup the envionment\n",
    "Installed scikit-learn"
   ]
  },
  {
   "cell_type": "markdown",
   "id": "bcb1bec6",
   "metadata": {},
   "source": [
    "Step 3: Load cleaned dataset"
   ]
  },
  {
   "cell_type": "code",
   "execution_count": 161,
   "id": "f9405863",
   "metadata": {},
   "outputs": [],
   "source": [
    "import pandas as pd\n",
    "import matplotlib.pyplot as plt\n",
    "import numpy as np\n",
    "\n",
    "df2 = pd.read_csv(\"e:/2025/ExtensoData_Internship_Work/Projects/Task_3_EDA/data/dataset_after_EDA.xlsx\")\n"
   ]
  },
  {
   "cell_type": "code",
   "execution_count": 162,
   "id": "5498f92a",
   "metadata": {},
   "outputs": [
    {
     "name": "stdout",
     "output_type": "stream",
     "text": [
      "<class 'pandas.core.frame.DataFrame'>\n",
      "RangeIndex: 641914 entries, 0 to 641913\n",
      "Data columns (total 32 columns):\n",
      " #   Column                    Non-Null Count   Dtype  \n",
      "---  ------                    --------------   -----  \n",
      " 0   accountNumber             641914 non-null  int64  \n",
      " 1   customerId                641914 non-null  int64  \n",
      " 2   creditLimit               641914 non-null  int64  \n",
      " 3   availableMoney            641914 non-null  float64\n",
      " 4   transactionDateTime       641914 non-null  object \n",
      " 5   transactionAmount         641914 non-null  float64\n",
      " 6   merchantName              641914 non-null  object \n",
      " 7   acqCountry                641914 non-null  object \n",
      " 8   merchantCountryCode       641914 non-null  object \n",
      " 9   posEntryMode              641914 non-null  float64\n",
      " 10  posConditionCode          641914 non-null  float64\n",
      " 11  merchantCategoryCode      641914 non-null  object \n",
      " 12  currentExpDate            641914 non-null  object \n",
      " 13  accountOpenDate           641914 non-null  object \n",
      " 14  dateOfLastAddressChange   641914 non-null  object \n",
      " 15  cardCVV                   641914 non-null  int64  \n",
      " 16  enteredCVV                641914 non-null  int64  \n",
      " 17  cardLast4Digits           641914 non-null  int64  \n",
      " 18  transactionType           641914 non-null  object \n",
      " 19  isFraud                   641914 non-null  bool   \n",
      " 20  currentBalance            641914 non-null  float64\n",
      " 21  cardPresent               641914 non-null  bool   \n",
      " 22  expirationDateKeyInMatch  641914 non-null  bool   \n",
      " 23  txn_hour                  641914 non-null  int64  \n",
      " 24  txn_month                 641914 non-null  int64  \n",
      " 25  txn_day                   641914 non-null  int64  \n",
      " 26  cvv_mismatch              641914 non-null  bool   \n",
      " 27  weekday                   641914 non-null  int64  \n",
      " 28  is_weekend                641914 non-null  bool   \n",
      " 29  weekday_name              641914 non-null  object \n",
      " 30  account_age_days          641914 non-null  int64  \n",
      " 31  age_bin                   641914 non-null  object \n",
      "dtypes: bool(5), float64(5), int64(11), object(11)\n",
      "memory usage: 135.3+ MB\n"
     ]
    },
    {
     "data": {
      "text/plain": [
       "(641914, 32)"
      ]
     },
     "execution_count": 162,
     "metadata": {},
     "output_type": "execute_result"
    }
   ],
   "source": [
    "df2.info()\n",
    "df2.shape"
   ]
  },
  {
   "cell_type": "code",
   "execution_count": 163,
   "id": "923b5253",
   "metadata": {},
   "outputs": [
    {
     "name": "stdout",
     "output_type": "stream",
     "text": [
      "<class 'pandas.core.frame.DataFrame'>\n",
      "RangeIndex: 641914 entries, 0 to 641913\n",
      "Data columns (total 32 columns):\n",
      " #   Column                    Non-Null Count   Dtype         \n",
      "---  ------                    --------------   -----         \n",
      " 0   accountNumber             641914 non-null  int64         \n",
      " 1   customerId                641914 non-null  int64         \n",
      " 2   creditLimit               641914 non-null  int64         \n",
      " 3   availableMoney            641914 non-null  float64       \n",
      " 4   transactionDateTime       641914 non-null  datetime64[ns]\n",
      " 5   transactionAmount         641914 non-null  float64       \n",
      " 6   merchantName              641914 non-null  object        \n",
      " 7   acqCountry                641914 non-null  object        \n",
      " 8   merchantCountryCode       641914 non-null  object        \n",
      " 9   posEntryMode              641914 non-null  float64       \n",
      " 10  posConditionCode          641914 non-null  float64       \n",
      " 11  merchantCategoryCode      641914 non-null  object        \n",
      " 12  currentExpDate            641914 non-null  datetime64[ns]\n",
      " 13  accountOpenDate           641914 non-null  datetime64[ns]\n",
      " 14  dateOfLastAddressChange   641914 non-null  datetime64[ns]\n",
      " 15  cardCVV                   641914 non-null  int64         \n",
      " 16  enteredCVV                641914 non-null  int64         \n",
      " 17  cardLast4Digits           641914 non-null  int64         \n",
      " 18  transactionType           641914 non-null  object        \n",
      " 19  isFraud                   641914 non-null  bool          \n",
      " 20  currentBalance            641914 non-null  float64       \n",
      " 21  cardPresent               641914 non-null  bool          \n",
      " 22  expirationDateKeyInMatch  641914 non-null  bool          \n",
      " 23  txn_hour                  641914 non-null  int64         \n",
      " 24  txn_month                 641914 non-null  int64         \n",
      " 25  txn_day                   641914 non-null  int64         \n",
      " 26  cvv_mismatch              641914 non-null  bool          \n",
      " 27  weekday                   641914 non-null  int64         \n",
      " 28  is_weekend                641914 non-null  bool          \n",
      " 29  weekday_name              641914 non-null  object        \n",
      " 30  account_age_days          641914 non-null  int64         \n",
      " 31  age_bin                   641914 non-null  object        \n",
      "dtypes: bool(5), datetime64[ns](4), float64(5), int64(11), object(7)\n",
      "memory usage: 135.3+ MB\n",
      "None\n"
     ]
    }
   ],
   "source": [
    "# changing datetime columun to datetime format\n",
    "df2['transactionDateTime'] = pd.to_datetime(df2['transactionDateTime'])\n",
    "df2[\"accountOpenDate\"] = pd.to_datetime(df2[\"accountOpenDate\"])\n",
    "df2['currentExpDate'] = pd.to_datetime(df2['currentExpDate'])\n",
    "df2['dateOfLastAddressChange'] = pd.to_datetime(df2['dateOfLastAddressChange'])\n",
    "df2['transactionDateTime'].dtype\n",
    "print(df2.info())"
   ]
  },
  {
   "cell_type": "markdown",
   "id": "0f5e764f",
   "metadata": {},
   "source": [
    "Step 4: Preprocessing\n",
    "1. Drop unnecessary columns or use useful features only\n",
    "2. Convert categorial variables ( use one-hot encoding or label \n",
    "encoding)\n",
    "3. Split Features and target"
   ]
  },
  {
   "cell_type": "code",
   "execution_count": 164,
   "id": "98e6cf75",
   "metadata": {},
   "outputs": [],
   "source": [
    "# ✅ Choose meaningful features only\n",
    "features = [\n",
    "    'transactionAmount', 'availableMoney', 'creditLimit', 'currentBalance',\n",
    "    'posEntryMode', 'posConditionCode', 'cardPresent','cvv_mismatch',\n",
    "    'txn_hour', 'txn_month', 'weekday', 'is_weekend',\n",
    "    'account_age_days',\n",
    "    'acqCountry', 'merchantCountryCode', 'merchantCategoryCode',\n",
    "    'transactionType'\n",
    "    # , 'txn_day','expirationDateKeyInMatch', 'age_bin'\n",
    "]\n",
    "\n",
    "X = df2[features]\n",
    "y = df2['isFraud']\n"
   ]
  },
  {
   "cell_type": "code",
   "execution_count": 165,
   "id": "46cee906",
   "metadata": {},
   "outputs": [],
   "source": [
    "# Encode categorical features\n",
    "X = pd.get_dummies(X, drop_first=True)\n",
    "\n",
    "# Optional: scale if needed\n"
   ]
  },
  {
   "cell_type": "markdown",
   "id": "191be16d",
   "metadata": {},
   "source": [
    "Step 5: Train/Test Split"
   ]
  },
  {
   "cell_type": "code",
   "execution_count": 166,
   "id": "faf2416b",
   "metadata": {},
   "outputs": [],
   "source": [
    "from sklearn.model_selection import train_test_split\n",
    "\n",
    "# Split the data: 80% training, 20% testing\n",
    "X_train, X_test, y_train, y_test = train_test_split(\n",
    "    X, y,\n",
    "    test_size=0.2,        # 20% for testing\n",
    "    random_state=42,      # Ensures reproducibility\n",
    "    stratify=y            # Preserves fraud/non-fraud ratio\n",
    ")\n"
   ]
  },
  {
   "cell_type": "markdown",
   "id": "b7c0e96b",
   "metadata": {},
   "source": [
    "Step 6: Training model using K-Nearest Neighbors Alogrithm (KNN)"
   ]
  },
  {
   "cell_type": "code",
   "execution_count": 167,
   "id": "342f7b7e",
   "metadata": {},
   "outputs": [],
   "source": [
    "# \n",
    "# knn = KNeighborsClassifier(n_neighbors= 5)\n",
    "# knn.fit(X_train, y_train)\n",
    "# print(knn.score(X_test, y_test))\n",
    "#took long time and my laptop started heatin up"
   ]
  },
  {
   "cell_type": "code",
   "execution_count": 168,
   "id": "cbd6c6f1",
   "metadata": {},
   "outputs": [],
   "source": [
    "# from sklearn.neighbors import KNeighborsClassifier\n",
    "# # Use a smaller sample to test if your code works\n",
    "# X_train_small = X_train.sample(10000, random_state=42)\n",
    "# y_train_small = y_train.loc[X_train_small.index]\n",
    "\n",
    "# X_test_small = X_test.sample(2000, random_state=42)\n",
    "# y_test_small = y_test.loc[X_test_small.index]\n",
    "\n",
    "# knn = KNeighborsClassifier(n_neighbors=5)\n",
    "# knn.fit(X_train_small, y_train_small)\n",
    "# print(knn.score(X_test_small, y_test_small))\n"
   ]
  },
  {
   "cell_type": "code",
   "execution_count": 169,
   "id": "e5509fea",
   "metadata": {},
   "outputs": [],
   "source": [
    "# from sklearn.preprocessing import StandardScaler\n",
    "\n",
    "# scaler = StandardScaler()\n",
    "# X_train_small_scaled = scaler.fit_transform(X_train_small)\n",
    "# X_test_small_scaled = scaler.transform(X_test_small)\n",
    "\n",
    "# knn = KNeighborsClassifier(n_neighbors=5)\n",
    "# knn.fit(X_train_small_scaled, y_train_small)\n",
    "# print(knn.score(X_test_small_scaled, y_test_small))\n"
   ]
  },
  {
   "cell_type": "code",
   "execution_count": 170,
   "id": "43c1fd41",
   "metadata": {},
   "outputs": [],
   "source": [
    "# from sklearn.metrics import classification_report\n",
    "\n",
    "# y_pred = knn.predict(X_test_small_scaled)\n",
    "# print(classification_report(y_test_small, y_pred))\n"
   ]
  },
  {
   "cell_type": "markdown",
   "id": "dbfff272",
   "metadata": {},
   "source": [
    "Step 7 : Trying different neighbors less than 5 to check if the computation becomes fast"
   ]
  },
  {
   "cell_type": "code",
   "execution_count": 171,
   "id": "0b48a7c8",
   "metadata": {},
   "outputs": [],
   "source": [
    "\n",
    "# knn = KNeighborsClassifier(n_neighbors= 3)\n",
    "# knn.fit(X_train, y_train)\n",
    "# print(knn.score(X_test, y_test))\n",
    "#no again the laptop heated up"
   ]
  },
  {
   "cell_type": "markdown",
   "id": "03690d0f",
   "metadata": {},
   "source": [
    "Step 7: Using Logistic Regression algorithm"
   ]
  },
  {
   "cell_type": "markdown",
   "id": "a94ce3c7",
   "metadata": {},
   "source": [
    "Need to learn first .so tomorrow"
   ]
  },
  {
   "cell_type": "code",
   "execution_count": 172,
   "id": "7f278b8a",
   "metadata": {},
   "outputs": [],
   "source": [
    "from sklearn.linear_model import LogisticRegression\n",
    "from sklearn.metrics import accuracy_score, classification_report, confusion_matrix, roc_auc_score"
   ]
  },
  {
   "cell_type": "markdown",
   "id": "98698e7a",
   "metadata": {},
   "source": [
    "Scale features"
   ]
  },
  {
   "cell_type": "code",
   "execution_count": 189,
   "id": "435551dd",
   "metadata": {},
   "outputs": [],
   "source": [
    "from sklearn.preprocessing import StandardScaler\n",
    "\n",
    "scaler = StandardScaler()\n",
    "X_train_scaled = scaler.fit_transform(X_train)\n",
    "X_test_scaled = scaler.transform(X_test)\n",
    "\n",
    "# Get actual feature names\n",
    "if isinstance(X_train_scaled, pd.DataFrame):\n",
    "    features_actual = X_train_scaled.columns.tolist()\n",
    "else:\n",
    "    features_actual = X_train.columns.tolist()\n"
   ]
  },
  {
   "cell_type": "markdown",
   "id": "d37b0127",
   "metadata": {},
   "source": [
    "Train Logistic Regression with class balancing"
   ]
  },
  {
   "cell_type": "code",
   "execution_count": 174,
   "id": "fa7ee065",
   "metadata": {},
   "outputs": [
    {
     "data": {
      "text/html": [
       "<style>#sk-container-id-8 {\n",
       "  /* Definition of color scheme common for light and dark mode */\n",
       "  --sklearn-color-text: #000;\n",
       "  --sklearn-color-text-muted: #666;\n",
       "  --sklearn-color-line: gray;\n",
       "  /* Definition of color scheme for unfitted estimators */\n",
       "  --sklearn-color-unfitted-level-0: #fff5e6;\n",
       "  --sklearn-color-unfitted-level-1: #f6e4d2;\n",
       "  --sklearn-color-unfitted-level-2: #ffe0b3;\n",
       "  --sklearn-color-unfitted-level-3: chocolate;\n",
       "  /* Definition of color scheme for fitted estimators */\n",
       "  --sklearn-color-fitted-level-0: #f0f8ff;\n",
       "  --sklearn-color-fitted-level-1: #d4ebff;\n",
       "  --sklearn-color-fitted-level-2: #b3dbfd;\n",
       "  --sklearn-color-fitted-level-3: cornflowerblue;\n",
       "\n",
       "  /* Specific color for light theme */\n",
       "  --sklearn-color-text-on-default-background: var(--sg-text-color, var(--theme-code-foreground, var(--jp-content-font-color1, black)));\n",
       "  --sklearn-color-background: var(--sg-background-color, var(--theme-background, var(--jp-layout-color0, white)));\n",
       "  --sklearn-color-border-box: var(--sg-text-color, var(--theme-code-foreground, var(--jp-content-font-color1, black)));\n",
       "  --sklearn-color-icon: #696969;\n",
       "\n",
       "  @media (prefers-color-scheme: dark) {\n",
       "    /* Redefinition of color scheme for dark theme */\n",
       "    --sklearn-color-text-on-default-background: var(--sg-text-color, var(--theme-code-foreground, var(--jp-content-font-color1, white)));\n",
       "    --sklearn-color-background: var(--sg-background-color, var(--theme-background, var(--jp-layout-color0, #111)));\n",
       "    --sklearn-color-border-box: var(--sg-text-color, var(--theme-code-foreground, var(--jp-content-font-color1, white)));\n",
       "    --sklearn-color-icon: #878787;\n",
       "  }\n",
       "}\n",
       "\n",
       "#sk-container-id-8 {\n",
       "  color: var(--sklearn-color-text);\n",
       "}\n",
       "\n",
       "#sk-container-id-8 pre {\n",
       "  padding: 0;\n",
       "}\n",
       "\n",
       "#sk-container-id-8 input.sk-hidden--visually {\n",
       "  border: 0;\n",
       "  clip: rect(1px 1px 1px 1px);\n",
       "  clip: rect(1px, 1px, 1px, 1px);\n",
       "  height: 1px;\n",
       "  margin: -1px;\n",
       "  overflow: hidden;\n",
       "  padding: 0;\n",
       "  position: absolute;\n",
       "  width: 1px;\n",
       "}\n",
       "\n",
       "#sk-container-id-8 div.sk-dashed-wrapped {\n",
       "  border: 1px dashed var(--sklearn-color-line);\n",
       "  margin: 0 0.4em 0.5em 0.4em;\n",
       "  box-sizing: border-box;\n",
       "  padding-bottom: 0.4em;\n",
       "  background-color: var(--sklearn-color-background);\n",
       "}\n",
       "\n",
       "#sk-container-id-8 div.sk-container {\n",
       "  /* jupyter's `normalize.less` sets `[hidden] { display: none; }`\n",
       "     but bootstrap.min.css set `[hidden] { display: none !important; }`\n",
       "     so we also need the `!important` here to be able to override the\n",
       "     default hidden behavior on the sphinx rendered scikit-learn.org.\n",
       "     See: https://github.com/scikit-learn/scikit-learn/issues/21755 */\n",
       "  display: inline-block !important;\n",
       "  position: relative;\n",
       "}\n",
       "\n",
       "#sk-container-id-8 div.sk-text-repr-fallback {\n",
       "  display: none;\n",
       "}\n",
       "\n",
       "div.sk-parallel-item,\n",
       "div.sk-serial,\n",
       "div.sk-item {\n",
       "  /* draw centered vertical line to link estimators */\n",
       "  background-image: linear-gradient(var(--sklearn-color-text-on-default-background), var(--sklearn-color-text-on-default-background));\n",
       "  background-size: 2px 100%;\n",
       "  background-repeat: no-repeat;\n",
       "  background-position: center center;\n",
       "}\n",
       "\n",
       "/* Parallel-specific style estimator block */\n",
       "\n",
       "#sk-container-id-8 div.sk-parallel-item::after {\n",
       "  content: \"\";\n",
       "  width: 100%;\n",
       "  border-bottom: 2px solid var(--sklearn-color-text-on-default-background);\n",
       "  flex-grow: 1;\n",
       "}\n",
       "\n",
       "#sk-container-id-8 div.sk-parallel {\n",
       "  display: flex;\n",
       "  align-items: stretch;\n",
       "  justify-content: center;\n",
       "  background-color: var(--sklearn-color-background);\n",
       "  position: relative;\n",
       "}\n",
       "\n",
       "#sk-container-id-8 div.sk-parallel-item {\n",
       "  display: flex;\n",
       "  flex-direction: column;\n",
       "}\n",
       "\n",
       "#sk-container-id-8 div.sk-parallel-item:first-child::after {\n",
       "  align-self: flex-end;\n",
       "  width: 50%;\n",
       "}\n",
       "\n",
       "#sk-container-id-8 div.sk-parallel-item:last-child::after {\n",
       "  align-self: flex-start;\n",
       "  width: 50%;\n",
       "}\n",
       "\n",
       "#sk-container-id-8 div.sk-parallel-item:only-child::after {\n",
       "  width: 0;\n",
       "}\n",
       "\n",
       "/* Serial-specific style estimator block */\n",
       "\n",
       "#sk-container-id-8 div.sk-serial {\n",
       "  display: flex;\n",
       "  flex-direction: column;\n",
       "  align-items: center;\n",
       "  background-color: var(--sklearn-color-background);\n",
       "  padding-right: 1em;\n",
       "  padding-left: 1em;\n",
       "}\n",
       "\n",
       "\n",
       "/* Toggleable style: style used for estimator/Pipeline/ColumnTransformer box that is\n",
       "clickable and can be expanded/collapsed.\n",
       "- Pipeline and ColumnTransformer use this feature and define the default style\n",
       "- Estimators will overwrite some part of the style using the `sk-estimator` class\n",
       "*/\n",
       "\n",
       "/* Pipeline and ColumnTransformer style (default) */\n",
       "\n",
       "#sk-container-id-8 div.sk-toggleable {\n",
       "  /* Default theme specific background. It is overwritten whether we have a\n",
       "  specific estimator or a Pipeline/ColumnTransformer */\n",
       "  background-color: var(--sklearn-color-background);\n",
       "}\n",
       "\n",
       "/* Toggleable label */\n",
       "#sk-container-id-8 label.sk-toggleable__label {\n",
       "  cursor: pointer;\n",
       "  display: flex;\n",
       "  width: 100%;\n",
       "  margin-bottom: 0;\n",
       "  padding: 0.5em;\n",
       "  box-sizing: border-box;\n",
       "  text-align: center;\n",
       "  align-items: start;\n",
       "  justify-content: space-between;\n",
       "  gap: 0.5em;\n",
       "}\n",
       "\n",
       "#sk-container-id-8 label.sk-toggleable__label .caption {\n",
       "  font-size: 0.6rem;\n",
       "  font-weight: lighter;\n",
       "  color: var(--sklearn-color-text-muted);\n",
       "}\n",
       "\n",
       "#sk-container-id-8 label.sk-toggleable__label-arrow:before {\n",
       "  /* Arrow on the left of the label */\n",
       "  content: \"▸\";\n",
       "  float: left;\n",
       "  margin-right: 0.25em;\n",
       "  color: var(--sklearn-color-icon);\n",
       "}\n",
       "\n",
       "#sk-container-id-8 label.sk-toggleable__label-arrow:hover:before {\n",
       "  color: var(--sklearn-color-text);\n",
       "}\n",
       "\n",
       "/* Toggleable content - dropdown */\n",
       "\n",
       "#sk-container-id-8 div.sk-toggleable__content {\n",
       "  max-height: 0;\n",
       "  max-width: 0;\n",
       "  overflow: hidden;\n",
       "  text-align: left;\n",
       "  /* unfitted */\n",
       "  background-color: var(--sklearn-color-unfitted-level-0);\n",
       "}\n",
       "\n",
       "#sk-container-id-8 div.sk-toggleable__content.fitted {\n",
       "  /* fitted */\n",
       "  background-color: var(--sklearn-color-fitted-level-0);\n",
       "}\n",
       "\n",
       "#sk-container-id-8 div.sk-toggleable__content pre {\n",
       "  margin: 0.2em;\n",
       "  border-radius: 0.25em;\n",
       "  color: var(--sklearn-color-text);\n",
       "  /* unfitted */\n",
       "  background-color: var(--sklearn-color-unfitted-level-0);\n",
       "}\n",
       "\n",
       "#sk-container-id-8 div.sk-toggleable__content.fitted pre {\n",
       "  /* unfitted */\n",
       "  background-color: var(--sklearn-color-fitted-level-0);\n",
       "}\n",
       "\n",
       "#sk-container-id-8 input.sk-toggleable__control:checked~div.sk-toggleable__content {\n",
       "  /* Expand drop-down */\n",
       "  max-height: 200px;\n",
       "  max-width: 100%;\n",
       "  overflow: auto;\n",
       "}\n",
       "\n",
       "#sk-container-id-8 input.sk-toggleable__control:checked~label.sk-toggleable__label-arrow:before {\n",
       "  content: \"▾\";\n",
       "}\n",
       "\n",
       "/* Pipeline/ColumnTransformer-specific style */\n",
       "\n",
       "#sk-container-id-8 div.sk-label input.sk-toggleable__control:checked~label.sk-toggleable__label {\n",
       "  color: var(--sklearn-color-text);\n",
       "  background-color: var(--sklearn-color-unfitted-level-2);\n",
       "}\n",
       "\n",
       "#sk-container-id-8 div.sk-label.fitted input.sk-toggleable__control:checked~label.sk-toggleable__label {\n",
       "  background-color: var(--sklearn-color-fitted-level-2);\n",
       "}\n",
       "\n",
       "/* Estimator-specific style */\n",
       "\n",
       "/* Colorize estimator box */\n",
       "#sk-container-id-8 div.sk-estimator input.sk-toggleable__control:checked~label.sk-toggleable__label {\n",
       "  /* unfitted */\n",
       "  background-color: var(--sklearn-color-unfitted-level-2);\n",
       "}\n",
       "\n",
       "#sk-container-id-8 div.sk-estimator.fitted input.sk-toggleable__control:checked~label.sk-toggleable__label {\n",
       "  /* fitted */\n",
       "  background-color: var(--sklearn-color-fitted-level-2);\n",
       "}\n",
       "\n",
       "#sk-container-id-8 div.sk-label label.sk-toggleable__label,\n",
       "#sk-container-id-8 div.sk-label label {\n",
       "  /* The background is the default theme color */\n",
       "  color: var(--sklearn-color-text-on-default-background);\n",
       "}\n",
       "\n",
       "/* On hover, darken the color of the background */\n",
       "#sk-container-id-8 div.sk-label:hover label.sk-toggleable__label {\n",
       "  color: var(--sklearn-color-text);\n",
       "  background-color: var(--sklearn-color-unfitted-level-2);\n",
       "}\n",
       "\n",
       "/* Label box, darken color on hover, fitted */\n",
       "#sk-container-id-8 div.sk-label.fitted:hover label.sk-toggleable__label.fitted {\n",
       "  color: var(--sklearn-color-text);\n",
       "  background-color: var(--sklearn-color-fitted-level-2);\n",
       "}\n",
       "\n",
       "/* Estimator label */\n",
       "\n",
       "#sk-container-id-8 div.sk-label label {\n",
       "  font-family: monospace;\n",
       "  font-weight: bold;\n",
       "  display: inline-block;\n",
       "  line-height: 1.2em;\n",
       "}\n",
       "\n",
       "#sk-container-id-8 div.sk-label-container {\n",
       "  text-align: center;\n",
       "}\n",
       "\n",
       "/* Estimator-specific */\n",
       "#sk-container-id-8 div.sk-estimator {\n",
       "  font-family: monospace;\n",
       "  border: 1px dotted var(--sklearn-color-border-box);\n",
       "  border-radius: 0.25em;\n",
       "  box-sizing: border-box;\n",
       "  margin-bottom: 0.5em;\n",
       "  /* unfitted */\n",
       "  background-color: var(--sklearn-color-unfitted-level-0);\n",
       "}\n",
       "\n",
       "#sk-container-id-8 div.sk-estimator.fitted {\n",
       "  /* fitted */\n",
       "  background-color: var(--sklearn-color-fitted-level-0);\n",
       "}\n",
       "\n",
       "/* on hover */\n",
       "#sk-container-id-8 div.sk-estimator:hover {\n",
       "  /* unfitted */\n",
       "  background-color: var(--sklearn-color-unfitted-level-2);\n",
       "}\n",
       "\n",
       "#sk-container-id-8 div.sk-estimator.fitted:hover {\n",
       "  /* fitted */\n",
       "  background-color: var(--sklearn-color-fitted-level-2);\n",
       "}\n",
       "\n",
       "/* Specification for estimator info (e.g. \"i\" and \"?\") */\n",
       "\n",
       "/* Common style for \"i\" and \"?\" */\n",
       "\n",
       ".sk-estimator-doc-link,\n",
       "a:link.sk-estimator-doc-link,\n",
       "a:visited.sk-estimator-doc-link {\n",
       "  float: right;\n",
       "  font-size: smaller;\n",
       "  line-height: 1em;\n",
       "  font-family: monospace;\n",
       "  background-color: var(--sklearn-color-background);\n",
       "  border-radius: 1em;\n",
       "  height: 1em;\n",
       "  width: 1em;\n",
       "  text-decoration: none !important;\n",
       "  margin-left: 0.5em;\n",
       "  text-align: center;\n",
       "  /* unfitted */\n",
       "  border: var(--sklearn-color-unfitted-level-1) 1pt solid;\n",
       "  color: var(--sklearn-color-unfitted-level-1);\n",
       "}\n",
       "\n",
       ".sk-estimator-doc-link.fitted,\n",
       "a:link.sk-estimator-doc-link.fitted,\n",
       "a:visited.sk-estimator-doc-link.fitted {\n",
       "  /* fitted */\n",
       "  border: var(--sklearn-color-fitted-level-1) 1pt solid;\n",
       "  color: var(--sklearn-color-fitted-level-1);\n",
       "}\n",
       "\n",
       "/* On hover */\n",
       "div.sk-estimator:hover .sk-estimator-doc-link:hover,\n",
       ".sk-estimator-doc-link:hover,\n",
       "div.sk-label-container:hover .sk-estimator-doc-link:hover,\n",
       ".sk-estimator-doc-link:hover {\n",
       "  /* unfitted */\n",
       "  background-color: var(--sklearn-color-unfitted-level-3);\n",
       "  color: var(--sklearn-color-background);\n",
       "  text-decoration: none;\n",
       "}\n",
       "\n",
       "div.sk-estimator.fitted:hover .sk-estimator-doc-link.fitted:hover,\n",
       ".sk-estimator-doc-link.fitted:hover,\n",
       "div.sk-label-container:hover .sk-estimator-doc-link.fitted:hover,\n",
       ".sk-estimator-doc-link.fitted:hover {\n",
       "  /* fitted */\n",
       "  background-color: var(--sklearn-color-fitted-level-3);\n",
       "  color: var(--sklearn-color-background);\n",
       "  text-decoration: none;\n",
       "}\n",
       "\n",
       "/* Span, style for the box shown on hovering the info icon */\n",
       ".sk-estimator-doc-link span {\n",
       "  display: none;\n",
       "  z-index: 9999;\n",
       "  position: relative;\n",
       "  font-weight: normal;\n",
       "  right: .2ex;\n",
       "  padding: .5ex;\n",
       "  margin: .5ex;\n",
       "  width: min-content;\n",
       "  min-width: 20ex;\n",
       "  max-width: 50ex;\n",
       "  color: var(--sklearn-color-text);\n",
       "  box-shadow: 2pt 2pt 4pt #999;\n",
       "  /* unfitted */\n",
       "  background: var(--sklearn-color-unfitted-level-0);\n",
       "  border: .5pt solid var(--sklearn-color-unfitted-level-3);\n",
       "}\n",
       "\n",
       ".sk-estimator-doc-link.fitted span {\n",
       "  /* fitted */\n",
       "  background: var(--sklearn-color-fitted-level-0);\n",
       "  border: var(--sklearn-color-fitted-level-3);\n",
       "}\n",
       "\n",
       ".sk-estimator-doc-link:hover span {\n",
       "  display: block;\n",
       "}\n",
       "\n",
       "/* \"?\"-specific style due to the `<a>` HTML tag */\n",
       "\n",
       "#sk-container-id-8 a.estimator_doc_link {\n",
       "  float: right;\n",
       "  font-size: 1rem;\n",
       "  line-height: 1em;\n",
       "  font-family: monospace;\n",
       "  background-color: var(--sklearn-color-background);\n",
       "  border-radius: 1rem;\n",
       "  height: 1rem;\n",
       "  width: 1rem;\n",
       "  text-decoration: none;\n",
       "  /* unfitted */\n",
       "  color: var(--sklearn-color-unfitted-level-1);\n",
       "  border: var(--sklearn-color-unfitted-level-1) 1pt solid;\n",
       "}\n",
       "\n",
       "#sk-container-id-8 a.estimator_doc_link.fitted {\n",
       "  /* fitted */\n",
       "  border: var(--sklearn-color-fitted-level-1) 1pt solid;\n",
       "  color: var(--sklearn-color-fitted-level-1);\n",
       "}\n",
       "\n",
       "/* On hover */\n",
       "#sk-container-id-8 a.estimator_doc_link:hover {\n",
       "  /* unfitted */\n",
       "  background-color: var(--sklearn-color-unfitted-level-3);\n",
       "  color: var(--sklearn-color-background);\n",
       "  text-decoration: none;\n",
       "}\n",
       "\n",
       "#sk-container-id-8 a.estimator_doc_link.fitted:hover {\n",
       "  /* fitted */\n",
       "  background-color: var(--sklearn-color-fitted-level-3);\n",
       "}\n",
       "</style><div id=\"sk-container-id-8\" class=\"sk-top-container\"><div class=\"sk-text-repr-fallback\"><pre>LogisticRegression(class_weight=&#x27;balanced&#x27;, max_iter=1000)</pre><b>In a Jupyter environment, please rerun this cell to show the HTML representation or trust the notebook. <br />On GitHub, the HTML representation is unable to render, please try loading this page with nbviewer.org.</b></div><div class=\"sk-container\" hidden><div class=\"sk-item\"><div class=\"sk-estimator fitted sk-toggleable\"><input class=\"sk-toggleable__control sk-hidden--visually\" id=\"sk-estimator-id-8\" type=\"checkbox\" checked><label for=\"sk-estimator-id-8\" class=\"sk-toggleable__label fitted sk-toggleable__label-arrow\"><div><div>LogisticRegression</div></div><div><a class=\"sk-estimator-doc-link fitted\" rel=\"noreferrer\" target=\"_blank\" href=\"https://scikit-learn.org/1.6/modules/generated/sklearn.linear_model.LogisticRegression.html\">?<span>Documentation for LogisticRegression</span></a><span class=\"sk-estimator-doc-link fitted\">i<span>Fitted</span></span></div></label><div class=\"sk-toggleable__content fitted\"><pre>LogisticRegression(class_weight=&#x27;balanced&#x27;, max_iter=1000)</pre></div> </div></div></div></div>"
      ],
      "text/plain": [
       "LogisticRegression(class_weight='balanced', max_iter=1000)"
      ]
     },
     "execution_count": 174,
     "metadata": {},
     "output_type": "execute_result"
    }
   ],
   "source": [
    "model1 = LogisticRegression(max_iter=1000, class_weight='balanced')\n",
    "model1.fit(X_train_scaled, y_train)"
   ]
  },
  {
   "cell_type": "markdown",
   "id": "b92b4c69",
   "metadata": {},
   "source": [
    "Predict the scaled model"
   ]
  },
  {
   "cell_type": "code",
   "execution_count": 175,
   "id": "cd521eb3",
   "metadata": {},
   "outputs": [],
   "source": [
    "y_predict_LG = model1.predict(X_test_scaled)"
   ]
  },
  {
   "cell_type": "markdown",
   "id": "2b1dee97",
   "metadata": {},
   "source": [
    "Evaluate performance"
   ]
  },
  {
   "cell_type": "code",
   "execution_count": 176,
   "id": "1389d99f",
   "metadata": {},
   "outputs": [
    {
     "name": "stdout",
     "output_type": "stream",
     "text": [
      "Accuracy 0.6650257432837681\n",
      "confusion_matrix: \n",
      " [[83971 42152]\n",
      " [  853  1407]]\n",
      "Classification Report: \n",
      "               precision    recall  f1-score   support\n",
      "\n",
      "       False       0.99      0.67      0.80    126123\n",
      "        True       0.03      0.62      0.06      2260\n",
      "\n",
      "    accuracy                           0.67    128383\n",
      "   macro avg       0.51      0.64      0.43    128383\n",
      "weighted avg       0.97      0.67      0.78    128383\n",
      "\n"
     ]
    }
   ],
   "source": [
    "print(\"Accuracy\", accuracy_score(y_test, y_predict_LG))\n",
    "print(\"confusion_matrix: \\n\", confusion_matrix(y_test,y_predict_LG))\n",
    "print(\"Classification Report: \\n\", classification_report(y_test, y_predict_LG))"
   ]
  },
  {
   "cell_type": "markdown",
   "id": "92802908",
   "metadata": {},
   "source": [
    "### Observations after LogisticRegression\n",
    "1. The model is detecing fraud. It correctly predicted 1,406 fraud cases out of 2,260 -> that's Recall = 0.62\n",
    "2. It wrongly predicts  42,158 normal transactions as fraud (false positives). So precision = 0.03 : out of all transactions it flagged as fraud, only 3% were actually fraud."
   ]
  },
  {
   "cell_type": "markdown",
   "id": "b0f8a2ca",
   "metadata": {},
   "source": [
    "Tuning the threshold"
   ]
  },
  {
   "cell_type": "code",
   "execution_count": 177,
   "id": "a4a9e656",
   "metadata": {},
   "outputs": [
    {
     "name": "stdout",
     "output_type": "stream",
     "text": [
      "Confusion Matrix: \n",
      "[[ 13870 112253]\n",
      " [     4   2256]]\n",
      "\n",
      "Classification Report:\n",
      "              precision    recall  f1-score   support\n",
      "\n",
      "       False       1.00      0.11      0.20    126123\n",
      "        True       0.02      1.00      0.04      2260\n",
      "\n",
      "    accuracy                           0.13    128383\n",
      "   macro avg       0.51      0.55      0.12    128383\n",
      "weighted avg       0.98      0.13      0.20    128383\n",
      "\n",
      "ROC AUC Score: 0.7046\n"
     ]
    }
   ],
   "source": [
    "# Get predicted probabilities for the positive class (fraud)\n",
    "y_probs_LG = model1.predict_proba(X_test_scaled)[:,1]\n",
    "\n",
    "#apply custom threshold (eg. 0.3)\n",
    "threshold_LG = 0.2\n",
    "y_pred_custom_LG = (y_probs_LG > threshold_LG).astype(int)\n",
    "\n",
    "#evaluate performance\n",
    "print(\"Confusion Matrix: \")\n",
    "print(confusion_matrix(y_test, y_pred_custom_LG))\n",
    "\n",
    "print(\"\\nClassification Report:\")\n",
    "print(classification_report(y_test, y_pred_custom_LG))\n",
    "\n",
    "print(f\"ROC AUC Score: {roc_auc_score(y_test, y_probs_LG):.4f}\")"
   ]
  },
  {
   "cell_type": "markdown",
   "id": "aed66395",
   "metadata": {},
   "source": [
    "Observations after threshold : 0.2\n",
    "1. Lowering the threshold means our model becomes more \"generous\" in classifying observations as fraud. Almost anything with fraud probability above 0.2 is predicted as fraud, so you catch nearly all fraud cases (high recall). But this also increases the false positives, as many non-fraud cases have predicted probabilities above 0.2. Hence, precision drops drastically. \n",
    "2. Catch around all fraud,  but many false alarms."
   ]
  },
  {
   "cell_type": "markdown",
   "id": "d178916c",
   "metadata": {},
   "source": [
    "## Random Forest classification algo"
   ]
  },
  {
   "cell_type": "code",
   "execution_count": 178,
   "id": "bd2f7bf3",
   "metadata": {},
   "outputs": [
    {
     "name": "stdout",
     "output_type": "stream",
     "text": [
      "Confusion Matrix:\n",
      "[[126123      0]\n",
      " [  2251      9]]\n",
      "\n",
      "Classification Report:\n",
      "              precision    recall  f1-score   support\n",
      "\n",
      "       False       0.98      1.00      0.99    126123\n",
      "        True       1.00      0.00      0.01      2260\n",
      "\n",
      "    accuracy                           0.98    128383\n",
      "   macro avg       0.99      0.50      0.50    128383\n",
      "weighted avg       0.98      0.98      0.97    128383\n",
      "\n",
      "ROC AUC Score: 0.6998\n"
     ]
    }
   ],
   "source": [
    "from sklearn.ensemble import RandomForestClassifier\n",
    "from sklearn.metrics import classification_report, confusion_matrix, roc_auc_score\n",
    "\n",
    "#creating random forest model with balanced class weights\n",
    "model3 = RandomForestClassifier(class_weight='balanced', random_state=42, n_estimators=100, n_jobs=-1)\n",
    "\n",
    "#train the model\n",
    "model3.fit(X_train_scaled, y_train)\n",
    "\n",
    "#predict on test data\n",
    "y_pred_forest = model3.predict(X_test_scaled)\n",
    "y_probs_forest = model3.predict_proba(X_test_scaled)[:,1]\n",
    "\n",
    "#performance evaluate\n",
    "print(\"Confusion Matrix:\")\n",
    "print(confusion_matrix(y_test, y_pred_forest))\n",
    "\n",
    "print(\"\\nClassification Report:\")\n",
    "print(classification_report(y_test, y_pred_forest))\n",
    "\n",
    "roc_auc = roc_auc_score(y_test, y_probs_forest)\n",
    "print(f\"ROC AUC Score: {roc_auc:.4f}\")"
   ]
  },
  {
   "cell_type": "markdown",
   "id": "51066505",
   "metadata": {},
   "source": [
    "Tuning the decison threshold"
   ]
  },
  {
   "cell_type": "code",
   "execution_count": 179,
   "id": "96976d2e",
   "metadata": {},
   "outputs": [
    {
     "name": "stdout",
     "output_type": "stream",
     "text": [
      "Cunfusion Matrix:\n",
      "[[126009    114]\n",
      " [  2202     58]]\n",
      "\n",
      "Classification Report: \n",
      "              precision    recall  f1-score   support\n",
      "\n",
      "       False       0.98      1.00      0.99    126123\n",
      "        True       0.34      0.03      0.05      2260\n",
      "\n",
      "    accuracy                           0.98    128383\n",
      "   macro avg       0.66      0.51      0.52    128383\n",
      "weighted avg       0.97      0.98      0.97    128383\n",
      "\n",
      "\n",
      " ROC AUC Score: 0.6998\n"
     ]
    }
   ],
   "source": [
    "threshold = 0.2\n",
    "y_pred_custom_forest = (y_probs_forest > threshold).astype(int)\n",
    "\n",
    "#evalute model performance\n",
    "print(\"Cunfusion Matrix:\")\n",
    "print(confusion_matrix(y_test, y_pred_custom_forest))\n",
    "\n",
    "print(\"\\nClassification Report: \")\n",
    "print(classification_report(y_test, y_pred_custom_forest))\n",
    "\n",
    "roc_auc = roc_auc_score(y_test,y_probs_forest)\n",
    "print(f\"\\n ROC AUC Score: {roc_auc:.4f}\")"
   ]
  },
  {
   "cell_type": "markdown",
   "id": "ea22cf81",
   "metadata": {},
   "source": [
    "How metrics change with different thresholds"
   ]
  },
  {
   "cell_type": "code",
   "execution_count": 180,
   "id": "0616f819",
   "metadata": {},
   "outputs": [
    {
     "data": {
      "image/png": "[encoded data removed]",
      "text/plain": [
       "<Figure size 800x500 with 1 Axes>"
      ]
     },
     "metadata": {},
     "output_type": "display_data"
    }
   ],
   "source": [
    "from sklearn.metrics import precision_recall_curve\n",
    "\n",
    "precisions, recalls, thresholds = precision_recall_curve(y_test, y_probs_forest)\n",
    "\n",
    "plt.figure(figsize=(8, 5))\n",
    "plt.plot(thresholds, precisions[:-1], 'b--', label='Precision')\n",
    "plt.plot(thresholds, recalls[:-1], 'g-', label='Recall')\n",
    "plt.axvline(x=threshold, color='red', linestyle='--', label=f'Threshold = {threshold}')\n",
    "plt.xlabel('Threshold')\n",
    "plt.ylabel('Score')\n",
    "plt.title('Precision and Recall vs Threshold')\n",
    "plt.legend()\n",
    "plt.grid(True)\n",
    "plt.show()"
   ]
  },
  {
   "cell_type": "markdown",
   "id": "89828347",
   "metadata": {},
   "source": [
    "Automatcially find the best threshold "
   ]
  },
  {
   "cell_type": "code",
   "execution_count": 181,
   "id": "08bd91c0",
   "metadata": {},
   "outputs": [
    {
     "name": "stdout",
     "output_type": "stream",
     "text": [
      "✅ Best Threshold = 0.080 with F1-score = 0.103\n"
     ]
    }
   ],
   "source": [
    "from sklearn.metrics import precision_recall_curve\n",
    "import numpy as np\n",
    "\n",
    "precisions, recalls, thresholds = precision_recall_curve(y_test, y_probs_forest)\n",
    "f1_scores = 2 * (precisions[:-1] * recalls[:-1]) / (precisions[:-1] + recalls[:-1] + 1e-10)\n",
    "\n",
    "best_idx = np.argmax(f1_scores)\n",
    "best_threshold_forest = thresholds[best_idx]\n",
    "print(f\"✅ Best Threshold = {best_threshold_forest:.3f} with F1-score = {f1_scores[best_idx]:.3f}\")\n"
   ]
  },
  {
   "cell_type": "markdown",
   "id": "74ebd7c4",
   "metadata": {},
   "source": [
    "re-plot the best threshold"
   ]
  },
  {
   "cell_type": "code",
   "execution_count": 182,
   "id": "24f343a8",
   "metadata": {},
   "outputs": [
    {
     "data": {
      "image/png": "[encoded data removed]",
      "text/plain": [
       "<Figure size 800x500 with 1 Axes>"
      ]
     },
     "metadata": {},
     "output_type": "display_data"
    }
   ],
   "source": [
    "plt.figure(figsize=(8, 5))\n",
    "plt.plot(thresholds, precisions[:-1], 'b--', label='Precision')\n",
    "plt.plot(thresholds, recalls[:-1], 'g-', label='Recall')\n",
    "plt.axvline(x=best_threshold_forest, color='red', linestyle='--', label=f'Best Threshold = {best_threshold_forest:.2f}')\n",
    "plt.xlabel('Threshold')\n",
    "plt.ylabel('Score')\n",
    "plt.title('Precision and Recall vs Threshold')\n",
    "plt.legend()\n",
    "plt.grid(True)\n",
    "plt.show()\n"
   ]
  },
  {
   "cell_type": "code",
   "execution_count": 183,
   "id": "bde5100e",
   "metadata": {},
   "outputs": [
    {
     "name": "stdout",
     "output_type": "stream",
     "text": [
      "Confusion Matrix:\n",
      "[[122933   3190]\n",
      " [  1974    286]]\n",
      "\n",
      "Classification Report: \n",
      "              precision    recall  f1-score   support\n",
      "\n",
      "       False       0.98      0.97      0.98    126123\n",
      "        True       0.08      0.13      0.10      2260\n",
      "\n",
      "    accuracy                           0.96    128383\n",
      "   macro avg       0.53      0.55      0.54    128383\n",
      "weighted avg       0.97      0.96      0.96    128383\n",
      "\n",
      "\n",
      " ROC AUC Score: 0.6998\n"
     ]
    }
   ],
   "source": [
    "y_pred_best = (y_probs_forest > best_threshold_forest).astype(int)\n",
    "#evalute model performance\n",
    "print(\"Confusion Matrix:\")\n",
    "print(confusion_matrix(y_test, y_pred_best))\n",
    "\n",
    "print(\"\\nClassification Report: \")\n",
    "print(classification_report(y_test, y_pred_best))\n",
    "\n",
    "roc_auc = roc_auc_score(y_test,y_probs_forest)\n",
    "print(f\"\\n ROC AUC Score: {roc_auc:.4f}\")"
   ]
  },
  {
   "cell_type": "markdown",
   "id": "7fc85100",
   "metadata": {},
   "source": [
    "Observations:\n",
    "1. The threshold tuning did help to catch more frauds than standard 0.5\n",
    "2. Still many missed frauds.\n",
    "3. Acceptable ROC AUC: The model has learned something meaningful"
   ]
  },
  {
   "cell_type": "markdown",
   "id": "8c058e05",
   "metadata": {},
   "source": [
    "Applying SMOTE with Random Forest "
   ]
  },
  {
   "cell_type": "code",
   "execution_count": 184,
   "id": "ea1b287f",
   "metadata": {},
   "outputs": [
    {
     "name": "stdout",
     "output_type": "stream",
     "text": [
      "Confusion Matrix:\n",
      "[[28435 97688]\n",
      " [  392  1868]]\n",
      "\n",
      "Classification Report:\n",
      "              precision    recall  f1-score   support\n",
      "\n",
      "       False       0.99      0.23      0.37    126123\n",
      "        True       0.02      0.83      0.04      2260\n",
      "\n",
      "    accuracy                           0.24    128383\n",
      "   macro avg       0.50      0.53      0.20    128383\n",
      "weighted avg       0.97      0.24      0.36    128383\n",
      "\n",
      "ROC AUC Score: 0.6014\n"
     ]
    }
   ],
   "source": [
    "from imblearn.over_sampling import SMOTE\n",
    "from sklearn.ensemble import RandomForestClassifier\n",
    "from sklearn.metrics import classification_report, confusion_matrix, roc_auc_score\n",
    "\n",
    "# Step 1: Apply SMOTE only on the training data\n",
    "smote = SMOTE(random_state=42)\n",
    "X_train_resampled, y_train_resampled = smote.fit_resample(X_train_scaled, y_train)\n",
    "\n",
    "# Step 2: Create the Random Forest model (you can still use class_weight='balanced' or not)\n",
    "model3 = RandomForestClassifier(class_weight='balanced', random_state=42, n_estimators=100, n_jobs=-1)\n",
    "\n",
    "# Step 3: Train the model on the resampled (balanced) data\n",
    "model3.fit(X_train_resampled, y_train_resampled)\n",
    "\n",
    "# Step 4: Predict on the original test data (no SMOTE on test set!)\n",
    "y_pred_forest = model3.predict(X_test_scaled)\n",
    "y_probs_forest = model3.predict_proba(X_test_scaled)[:,1]\n",
    "\n",
    "# Step 5: Evaluate performance\n",
    "print(\"Confusion Matrix:\")\n",
    "print(confusion_matrix(y_test, y_pred_forest))\n",
    "\n",
    "print(\"\\nClassification Report:\")\n",
    "print(classification_report(y_test, y_pred_forest))\n",
    "\n",
    "roc_auc = roc_auc_score(y_test, y_probs_forest)\n",
    "print(f\"ROC AUC Score: {roc_auc:.4f}\")\n"
   ]
  },
  {
   "cell_type": "code",
   "execution_count": 185,
   "id": "cc9bcee5",
   "metadata": {},
   "outputs": [
    {
     "name": "stdout",
     "output_type": "stream",
     "text": [
      "Number of features in training data: 39\n",
      "Number of features in features list: 17\n",
      "Number of importances: 39\n"
     ]
    }
   ],
   "source": [
    "print(\"Number of features in training data:\", X_train_scaled.shape[1])\n",
    "print(\"Number of features in features list:\", len(features))\n",
    "print(\"Number of importances:\", len(model3.feature_importances_))\n"
   ]
  },
  {
   "cell_type": "code",
   "execution_count": null,
   "id": "71d71f2d",
   "metadata": {},
   "outputs": [
    {
     "name": "stdout",
     "output_type": "stream",
     "text": [
      "['feature_0', 'feature_1', 'feature_2', 'feature_3', 'feature_4', 'feature_5', 'feature_6', 'feature_7', 'feature_8', 'feature_9', 'feature_10', 'feature_11', 'feature_12', 'feature_13', 'feature_14', 'feature_15', 'feature_16', 'feature_17', 'feature_18', 'feature_19', 'feature_20', 'feature_21', 'feature_22', 'feature_23', 'feature_24', 'feature_25', 'feature_26', 'feature_27', 'feature_28', 'feature_29', 'feature_30', 'feature_31', 'feature_32', 'feature_33', 'feature_34', 'feature_35', 'feature_36', 'feature_37', 'feature_38']\n"
     ]
    }
   ],
   "source": [
    "if isinstance(X_train_scaled, pd.DataFrame):\n",
    "    features_actual = X_train_scaled.columns.tolist()\n",
    "else:\n",
    "    features_actual = [f'feature_{i}' for i in range(X_train_scaled.shape[1])]\n",
    "\n"
   ]
  },
  {
   "cell_type": "code",
   "execution_count": 190,
   "metadata": {},
   "outputs": [
    {
     "data": {
      "image/png": "[encoded data removed]",
      "text/plain": [
       "<Figure size 1200x600 with 1 Axes>"
      ]
     },
     "metadata": {},
     "output_type": "display_data"
    },
    {
     "name": "stdout",
     "output_type": "stream",
     "text": [
      "                                      feature  importance\n",
      "4                                posEntryMode    0.286047\n",
      "0                           transactionAmount    0.122051\n",
      "2                                 creditLimit    0.090415\n",
      "5                            posConditionCode    0.083158\n",
      "10                                    weekday    0.074546\n",
      "9                                   txn_month    0.073033\n",
      "8                                    txn_hour    0.056318\n",
      "3                              currentBalance    0.052289\n",
      "12                           account_age_days    0.047184\n",
      "1                              availableMoney    0.044778\n",
      "6                                 cardPresent    0.007812\n",
      "25                  merchantCategoryCode_fuel    0.007408\n",
      "32         merchantCategoryCode_online_retail    0.006418\n",
      "11                                 is_weekend    0.006155\n",
      "23                  merchantCategoryCode_food    0.004245\n",
      "29                merchantCategoryCode_hotels    0.004197\n",
      "22              merchantCategoryCode_fastfood    0.004042\n",
      "21         merchantCategoryCode_entertainment    0.003626\n",
      "30            merchantCategoryCode_mobileapps    0.003107\n",
      "35             merchantCategoryCode_rideshare    0.003015\n",
      "31          merchantCategoryCode_online_gifts    0.002479\n",
      "34         merchantCategoryCode_personal care    0.002305\n",
      "37                   transactionType_PURCHASE    0.001971\n",
      "33  merchantCategoryCode_online_subscriptions    0.001930\n",
      "19                  merchantCategoryCode_auto    0.001840\n",
      "36         merchantCategoryCode_subscriptions    0.001743\n",
      "28                merchantCategoryCode_health    0.001403\n",
      "38                   transactionType_REVERSAL    0.001384\n",
      "7                                cvv_mismatch    0.001323\n",
      "24         merchantCategoryCode_food_delivery    0.000992\n",
      "26             merchantCategoryCode_furniture    0.000834\n",
      "18                     merchantCountryCode_US    0.000469\n",
      "15                              acqCountry_US    0.000431\n",
      "20           merchantCategoryCode_cable/phone    0.000242\n",
      "16                    merchantCountryCode_MEX    0.000194\n",
      "13                             acqCountry_MEX    0.000191\n",
      "27                   merchantCategoryCode_gym    0.000183\n",
      "14                              acqCountry_PR    0.000125\n",
      "17                     merchantCountryCode_PR    0.000118\n"
     ]
    }
   ],
   "source": [
    "import pandas as pd\n",
    "import matplotlib.pyplot as plt\n",
    "import seaborn as sns\n",
    "\n",
    "feat_imp_df = pd.DataFrame({\n",
    "    'feature': features_actual,\n",
    "    'importance': model3.feature_importances_\n",
    "}).sort_values(by='importance', ascending=False)\n",
    "\n",
    "\n",
    "# Plot feature importances\n",
    "plt.figure(figsize=(12,6))\n",
    "sns.barplot(x='importance', y='feature', data=feat_imp_df)\n",
    "plt.title('Feature Importances from Random Forest')\n",
    "plt.show()\n",
    "\n",
    "print(feat_imp_df)\n"
   ]
  },
  {
   "cell_type": "code",
   "execution_count": 191,
   "id": "d82935ff",
   "metadata": {},
   "outputs": [
    {
     "name": "stdout",
     "output_type": "stream",
     "text": [
      "Confusion Matrix:\n",
      "[[126123      0]\n",
      " [  2237     23]]\n",
      "\n",
      "Classification Report:\n",
      "              precision    recall  f1-score   support\n",
      "\n",
      "       False       0.98      1.00      0.99    126123\n",
      "        True       1.00      0.01      0.02      2260\n",
      "\n",
      "    accuracy                           0.98    128383\n",
      "   macro avg       0.99      0.51      0.51    128383\n",
      "weighted avg       0.98      0.98      0.97    128383\n",
      "\n",
      "ROC AUC Score: 0.7003\n"
     ]
    }
   ],
   "source": [
    "low_importance_features = [\n",
    "    'acqCountry_US', 'acqCountry_MEX', 'acqCountry_PR',\n",
    "    'merchantCountryCode_US', 'merchantCountryCode_MEX', 'merchantCountryCode_PR',\n",
    "    'cvv_mismatch', 'merchantCategoryCode_food_delivery',\n",
    "    'merchantCategoryCode_furniture', 'merchantCategoryCode_gym',\n",
    "    'merchantCategoryCode_auto', 'merchantCategoryCode_online_gifts',\n",
    "    'merchantCategoryCode_rideshare', 'merchantCategoryCode_subscriptions',\n",
    "    'transactionType_REVERSAL', 'transactionType_PURCHASE'\n",
    "]\n",
    "\n",
    "X_train1 = X_train.drop(columns=low_importance_features)\n",
    "X_test1 = X_test.drop(columns=low_importance_features)\n",
    "\n",
    "#rescale \n",
    "scaler = StandardScaler()\n",
    "X_train_scaled1 = scaler.fit_transform(X_train1)\n",
    "X_test_scaled1 = scaler.transform(X_test1)\n",
    "\n",
    "#retrain\n",
    "model3.fit(X_train_scaled1, y_train)\n",
    "\n",
    "\n",
    "#predict on test data\n",
    "y_pred_forest1 = model3.predict(X_test_scaled1)\n",
    "y_probs_forest1 = model3.predict_proba(X_test_scaled1)[:,1]\n",
    "\n",
    "#performance evaluate\n",
    "print(\"Confusion Matrix:\")\n",
    "print(confusion_matrix(y_test, y_pred_forest1))\n",
    "\n",
    "print(\"\\nClassification Report:\")\n",
    "print(classification_report(y_test, y_pred_forest1))\n",
    "\n",
    "roc_auc = roc_auc_score(y_test, y_probs_forest1)\n",
    "print(f\"ROC AUC Score: {roc_auc:.4f}\")"
   ]
  },
  {
   "cell_type": "markdown",
   "id": "32d2a95a",
   "metadata": {},
   "source": [
    "Observations after removing low importance features\n",
    "1. Recall for Fraud(1) dropped to 0.01 , which is extremely low\n",
    "2. F1-score for fraud is also poor: 0.02\n",
    "3. This means the model is not detecting frauds well anymore - it's predicting almost everythings as non-fraud.\n",
    "\n",
    "So I might have removed some useful features for fraud detection, or the data is too imbalanced and needs better resampling or feature engineering."
   ]
  },
  {
   "cell_type": "markdown",
   "id": "e9eb449d",
   "metadata": {},
   "source": []
  }
 ],
 "metadata": {
  "kernelspec": {
   "display_name": "venv",
   "language": "python",
   "name": "python3"
  },
  "language_info": {
   "codemirror_mode": {
    "name": "ipython",
    "version": 3
   },
   "file_extension": ".py",
   "mimetype": "text/x-python",
   "name": "python",
   "nbconvert_exporter": "python",
   "pygments_lexer": "ipython3",
   "version": "3.12.6"
  }
 },
 "nbformat": 4,
 "nbformat_minor": 5
}
